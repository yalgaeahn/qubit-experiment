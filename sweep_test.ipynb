{
 "cells": [
  {
   "cell_type": "code",
   "execution_count": 2,
   "id": "cdc901b9",
   "metadata": {},
   "outputs": [],
   "source": [
    "from laboneq.simple import *\n",
    "import numpy as np\n",
    "amplitudes = np.linspace(0,1.0,2)\n",
    "lengths = np.linspace(200e-9,400e-9,2)\n",
    "\n",
    "amp_sweep_par = SweepParameter(values = amplitudes, axis_name=\"amp\") \n",
    "basis_sweep_par = SweepParameter(values=np.array([0,1,2]),axis_name=\"basis\") # XYZ\n",
    "state_sweep_par = SweepParameter(values=np.array([0,1]),axis_name=\"state\")  # g e\n",
    "length_sweep_par = SweepParameter(values = lengths, axis_name=\"length\")"
   ]
  },
  {
   "cell_type": "code",
   "execution_count": 4,
   "id": "f256d1ec",
   "metadata": {},
   "outputs": [
    {
     "name": "stdout",
     "output_type": "stream",
     "text": [
      "True\n"
     ]
    }
   ],
   "source": [
    "\n",
    "with dsl.sweep(parameter=length_sweep_par) as length:\n",
    "    print(length==length_sweep_par)"
   ]
  },
  {
   "cell_type": "code",
   "execution_count": null,
   "id": "4b7c9ef6",
   "metadata": {},
   "outputs": [],
   "source": []
  }
 ],
 "metadata": {
  "kernelspec": {
   "display_name": "applications",
   "language": "python",
   "name": "python3"
  },
  "language_info": {
   "codemirror_mode": {
    "name": "ipython",
    "version": 3
   },
   "file_extension": ".py",
   "mimetype": "text/x-python",
   "name": "python",
   "nbconvert_exporter": "python",
   "pygments_lexer": "ipython3",
   "version": "3.12.5"
  }
 },
 "nbformat": 4,
 "nbformat_minor": 5
}
