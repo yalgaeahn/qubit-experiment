{
 "cells": [
  {
   "cell_type": "markdown",
   "id": "6df08669",
   "metadata": {},
   "source": [
    "# Initial setting "
   ]
  },
  {
   "cell_type": "markdown",
   "id": "36ed2ccf",
   "metadata": {},
   "source": [
    "## DeviceSetup"
   ]
  },
  {
   "cell_type": "code",
   "execution_count": 1,
   "id": "d6020baf",
   "metadata": {},
   "outputs": [
    {
     "data": {
      "text/plain": [
       "[\u001b[1;35mSHFQC\u001b[0m\u001b[1m(\u001b[0m\n",
       "\u001b[2;32m│   \u001b[0m\u001b[33muid\u001b[0m=\u001b[32m'test_shfqc'\u001b[0m,\n",
       "\u001b[2;32m│   \u001b[0m\u001b[33minterface\u001b[0m=\u001b[32m'1GbE'\u001b[0m,\n",
       "\u001b[2;32m│   \u001b[0m\u001b[33mconnections\u001b[0m=\u001b[1m[\u001b[0m\u001b[1m]\u001b[0m,\n",
       "\u001b[2;32m│   \u001b[0m\u001b[33mserver_uid\u001b[0m=\u001b[32m'test_server'\u001b[0m,\n",
       "\u001b[2;32m│   \u001b[0m\u001b[33maddress\u001b[0m=\u001b[32m'DEV12576'\u001b[0m,\n",
       "\u001b[2;32m│   \u001b[0m\u001b[33mdevice_options\u001b[0m=\u001b[32m'SHFQC/PLUS/QC6CH'\u001b[0m,\n",
       "\u001b[2;32m│   \u001b[0m\u001b[33mreference_clock_source\u001b[0m=\u001b[3;35mNone\u001b[0m,\n",
       "\u001b[2;32m│   \u001b[0m\u001b[33mdevice_class\u001b[0m=\u001b[1;36m0\u001b[0m\n",
       "\u001b[1m)\u001b[0m\n",
       "]"
      ]
     },
     "execution_count": 1,
     "metadata": {},
     "output_type": "execute_result"
    }
   ],
   "source": [
    "from laboneq.simple import SHFQC\n",
    "from laboneq.dsl.device import DeviceSetup, create_connection\n",
    "import numpy as np\n",
    "from copy import deepcopy\n",
    "\n",
    "host = \"10.172.11.217\"\n",
    "#instantiate ad device setup object\n",
    "setup = DeviceSetup(uid=\"test_setup\")\n",
    "#add a dataserver\n",
    "setup.add_dataserver(host=host, port=\"8004\",uid=\"test_server\")\n",
    "\n",
    "setup.add_instruments(SHFQC(uid=\"test_shfqc\",server_uid=\"test_server\", address=\"DEV12576\", device_options=\"SHFQC/PLUS/QC6CH\"))\n",
    "\n",
    "setup.instruments"
   ]
  },
  {
   "cell_type": "code",
   "execution_count": 2,
   "id": "3a7d8710",
   "metadata": {},
   "outputs": [],
   "source": [
    "for ch_idx, q_idx in enumerate([15,16,17,18,19]):# enumerate 안에 len(list) 강제하고싶음\n",
    "    #QA\n",
    "    setup.add_connections(\n",
    "        \"test_shfqc\",\n",
    "        create_connection(to_signal=f\"q{q_idx}/measure\", ports=\"QACHANNELS/0/OUTPUT\")) #signal_type=\"iq\"\n",
    "    setup.add_connections(\n",
    "        \"test_shfqc\",\n",
    "        create_connection(to_signal=f\"q{q_idx}/acquire\", ports=\"QACHANNELS/0/INPUT\" )) #signal_type=\"acquire\"\n",
    "    #SG\n",
    "    setup.add_connections(\n",
    "        \"test_shfqc\",\n",
    "        create_connection(to_signal=f\"q{q_idx}/drive\", ports=f\"SGCHANNELS/{ch_idx}/OUTPUT\")) #signal_type=\"iq\" only iq allowed for SG??\n",
    "    setup.add_connections(\n",
    "        \"test_shfqc\",\n",
    "        create_connection(to_signal=f\"q{q_idx}/drive_ef\", ports=f\"SGCHANNELS/{ch_idx}/OUTPUT\")) #signal_type=\"iq\" only iq allowed for SG??\n",
    "    setup.add_connections(\n",
    "        \"test_shfqc\",\n",
    "        create_connection(to_signal=f\"q{q_idx}/drive_cr\", ports=f\"SGCHANNELS/{ch_idx}/OUTPUT\"))#signal_type=\"iq\"\n"
   ]
  },
  {
   "cell_type": "markdown",
   "id": "9637440e",
   "metadata": {},
   "source": [
    "## Setting QuantumElement, QPU and QuantumPlaform(optional)\n",
    "1. By using `from_device_setup` function  \n",
    "    DeviceSetup object we made doesn't have Calibration\n",
    "2. By using `load_qubit_parameters` function\n",
    "    This way \n",
    "- load parameters from JSON"
   ]
  },
  {
   "cell_type": "code",
   "execution_count": 3,
   "id": "432378c3",
   "metadata": {},
   "outputs": [],
   "source": [
    "from qpu_types.transmon import TransmonQubit, TransmonQubitParameters\n",
    "from helper import load_qubit_parameters, save_qubit_parameters\n",
    "from operations import TransmonOperations\n",
    "from laboneq.dsl.quantum.qpu import QPU, QuantumPlatform\n",
    "\n",
    "\n",
    "\n",
    "_loaded_qubits = load_qubit_parameters(filename=\"latest\") \n",
    "#qubits = TransmonQubit.from_device_setup(setup) # Also can be done with load_qubit_parameters \n",
    "qubits = list(_loaded_qubits.values())\n",
    "qpu = QPU(quantum_elements=qubits, quantum_operations=TransmonOperations())\n",
    "#quantum_platform = QuantumPlatform(setup=setup, qpu=qpu)\n",
    "\n",
    "# qpu.topology.add_edge(\"bus\", \"q16\", \"q17\")\n",
    "# qpu.topology.add_edge(\"bus\", \"q17\", \"q18\")\n",
    "# qpu.topology.add_edge(\"bus\", \"q18\", \"q19\")\n",
    "# qpu.topology.plot()\n",
    "\n",
    "\n",
    "\n",
    "\n",
    "from laboneq.simple import workflow\n",
    "folder_store = workflow.logbook.FolderStore(\"./experiment_store\") \n",
    "folder_store.activate()\n",
    "#folder_store.deactivate()\n",
    "workflow.logbook.LoggingStore().activate()\n",
    "#workflow.logbook.LogbookStore().deactivate()\n"
   ]
  },
  {
   "cell_type": "markdown",
   "id": "9a1a3f5c",
   "metadata": {},
   "source": [
    "## Common parameters check"
   ]
  },
  {
   "cell_type": "code",
   "execution_count": 4,
   "id": "725b077a",
   "metadata": {},
   "outputs": [],
   "source": [
    "for _, qubit in enumerate(qubits):\n",
    "    ##################LOCAL OSCILLATOR FREQUENCY AND CHANNEL POWER ###################################\n",
    "    qubit.parameters.drive_lo_frequency = 4.8e9\n",
    "    qubit.parameters.readout_lo_frequency = 7.0e9\n",
    "    qubit.parameters.readout_range_in =  0\n",
    "    qubit.parameters.readout_range_out = -25\n",
    "    qubit.parameters.drive_range = 0 \n",
    "    \n",
    "    \n",
    "    \n",
    "    ############READOUT PARAMETERS###################################################################\n",
    "    qubit.parameters.readout_length - 2.0e-6\n",
    "    qubit.parameters.readout_pulse['function'] = 'GaussianSquare'\n",
    "    qubit.parameters.readout_pulse['sigma'] = 0.1\n",
    "    qubit.parameters.readout_pulse['width'] = None\n",
    "    qubit.parameters.readout_pulse['risefall_sigma_ratio'] = 3.0\n",
    "    qubit.parameters.readout_amplitude = 1.0  #WARNING! 이거 SWEEP 할때 오버라이딩이 안되고 여기서 SCALING 됨\n",
    "    \n",
    "    qubit.parameters.reset_delay_length = 200e-6\n",
    "    ###########SPECTROSCOPY PARAMETERS###############################################################\n",
    "    # Pulsed qubit spectroscopy drive ,  \n",
    "    qubit.parameters.spectroscopy_pulse['function'] = 'GaussianSquare'\n",
    "    qubit.parameters.spectroscopy_length = 5.0e-6\n",
    "    qubit.parameters.spectroscopy_pulse['sigma'] = 0.2\n",
    "    qubit.parameters.spectroscopy_pulse['width'] = None\n",
    "    qubit.parameters.spectroscopy_pulse['risefall_sigma_ratio'] = 3.0\n",
    "    qubit.parameters.spectroscopy_amplitude=0.01 \n",
    "    \n",
    "    \n",
    "    ###########TRANSITION PARAMETERS#####################################\n",
    "    qubit.parameters.ge_drive_amplitude_pi = 1.0\n",
    "    qubit.parameters.ge_drive_amplitude_pi2 = 0.5\n",
    "    qubit.parameters.ef_drive_amplitude_pi = 1.0\n",
    "    qubit.parameters.ef_drive_amplitude_pi2 = 0.5 # Initialization just to avoid potential scaling problem\n",
    "    \n",
    "\n",
    "qubits[3].parameters.readout_amplitude = 0.5\n",
    "qubits[4].parameters.readout_amplitude = 0.5\n",
    "qubits[2].parameters.readout_amplitude = 0.5\n"
   ]
  },
  {
   "cell_type": "code",
   "execution_count": 5,
   "id": "b777667f",
   "metadata": {},
   "outputs": [
    {
     "name": "stdout",
     "output_type": "stream",
     "text": [
      "[2025.08.18 17:03:55.362] INFO    Logging initialized from [Default inline config in laboneq.laboneq_logging] logdir is /home/kriss/JSAHN/qubit-experiment/laboneq_output/log\n",
      "[2025.08.18 17:03:55.363] INFO    VERSION: laboneq 2.57.0\n",
      "[2025.08.18 17:03:55.364] INFO    Connecting to data server at 10.172.11.217:8004\n",
      "[2025.08.18 17:03:55.370] INFO    Connected to Zurich Instruments LabOne Data Server version 25.04.1.17 at 10.172.11.217:8004\n",
      "[2025.08.18 17:03:55.371] WARNING Ignoring that Version of LabOne Data Server (25.04.1.17) and Python API (25.07.0.507) do not match.\n",
      "[2025.08.18 17:03:55.381] INFO    Configuring the device setup\n",
      "[2025.08.18 17:03:55.388] INFO    The device setup is configured\n"
     ]
    },
    {
     "data": {
      "text/plain": [
       "<laboneq.dsl.session.ConnectionState at 0x772ec33abb00>"
      ]
     },
     "execution_count": 5,
     "metadata": {},
     "output_type": "execute_result"
    }
   ],
   "source": [
    "from laboneq.simple import Session\n",
    "session = Session(setup)\n",
    "session.connect(ignore_version_mismatch=True)"
   ]
  },
  {
   "cell_type": "markdown",
   "id": "2174f935",
   "metadata": {},
   "source": [
    "# 1 Spectroscopy\n",
    "\n",
    "Problem on options\n",
    "If option is given as `experiment_workflow.options()` we cannot change options for create_experiment.\n",
    "To change options for experiment we have to give `ResonatorSpectroscopyExperimentOptions'"
   ]
  },
  {
   "cell_type": "markdown",
   "id": "23bf9472",
   "metadata": {},
   "source": [
    "## 1.1 Resonator Spectroscopy\n",
    "- Default `AcquisitioType.SPECTROSOCPY_IQ`"
   ]
  },
  {
   "cell_type": "code",
   "execution_count": null,
   "id": "8b819d1a",
   "metadata": {},
   "outputs": [],
   "source": [
    "from laboneq.simple import AcquisitionType\n",
    "from laboneq_applications.experiments import resonator_spectroscopy\n",
    "q = qubits[3]\n",
    "temporary_parameters = q.parameters.copy()\n",
    "temporary_parameters.readout_amplitude = 0.1\n",
    "temporary_parameters.readout_length = 2e-6\n",
    "###############################################################\n",
    "frequencies = q.parameters.readout_resonator_frequency + np.linspace(-5e6,+5e6,101)\n",
    "################################################################\n",
    "options = resonator_spectroscopy.experiment_workflow.options()\n",
    "options.update(True)\n",
    "#print(workflow.show_fields(options))\n",
    "\n",
    "###################################################################\n",
    "res_spec = resonator_spectroscopy.experiment_workflow(\n",
    "    session=session,\n",
    "    qpu=qpu,\n",
    "    qubit=q,\n",
    "    frequencies=frequencies,\n",
    "    options=options,\n",
    "    temporary_parameters={q.uid : temporary_parameters}\n",
    ")\n",
    "#res_spec_compiled = session.compile(resonator_spectroscopy.create_experiment(qpu=qpu,qubit=q,frequencies=frequencies,options=options))\n",
    "res_spec_result = res_spec.run()\n",
    "print(res_spec_result.tasks['analysis_workflow'].output)\n"
   ]
  },
  {
   "cell_type": "markdown",
   "id": "6687ee80",
   "metadata": {},
   "source": [
    "## 1.1 + Resonator Spectroscopy Amplitude"
   ]
  },
  {
   "cell_type": "code",
   "execution_count": null,
   "id": "e444b81f",
   "metadata": {},
   "outputs": [],
   "source": [
    "from laboneq.simple import AcquisitionType\n",
    "from laboneq_applications.experiments import resonator_spectroscopy_amplitude\n",
    "q = qubits[3]\n",
    "temporary_parameters = q.parameters.copy()\n",
    "temporary_parameters.readout_amplitude = 1.0\n",
    "temporary_parameters.readout_length = 2e-6\n",
    "###############################################################\n",
    "frequencies = q.parameters.readout_resonator_frequency + np.linspace(-2e6,+2e6,101)\n",
    "amplitudes = np.linspace(0,1.0,11)\n",
    "################################################################\n",
    "options = resonator_spectroscopy.experiment_workflow.options()\n",
    "#print(workflow.show_fields(options))\n",
    "\n",
    "###################################################################\n",
    "res_spec_amp = resonator_spectroscopy_amplitude.experiment_workflow(\n",
    "    session=session,\n",
    "    qpu=qpu,\n",
    "    qubit=q,\n",
    "    frequencies=frequencies,\n",
    "    amplitudes=amplitudes,\n",
    "    options=options,\n",
    "    temporary_parameters={q.uid : temporary_parameters}\n",
    ")\n",
    "#res_spec_amp_compiled = session.compile(resonator_spectroscopy.create_experiment(qpu=qpu,qubit=q,frequencies=frequencies,options=options))\n",
    "res_spec_amp_result = res_spec_amp.run()\n"
   ]
  },
  {
   "cell_type": "markdown",
   "id": "fcb33d19",
   "metadata": {},
   "source": [
    "## 1.2 Qubit Spectroscopy"
   ]
  },
  {
   "cell_type": "code",
   "execution_count": null,
   "id": "8cc0a903",
   "metadata": {},
   "outputs": [],
   "source": [
    "from copy import deepcopy\n",
    "from laboneq_applications.experiments import qubit_spectroscopy\n",
    "q = qubits[3]\n",
    "temporary_parameters = q.parameters.copy()\n",
    "temporary_parameters.spectroscopy_amplitude = 0.001\n",
    "temporary_parameters.spectroscopy_length = 30e-6\n",
    "###############################################################\n",
    "frequencies = q.parameters.resonance_frequency_ge +np.linspace(-2e6,2e6,201)\n",
    "################################################################\n",
    "options = qubit_spectroscopy.experiment_workflow.options()\n",
    "options.update(True)\n",
    "\n",
    "#print(workflow.show_fields(options))\n",
    "\n",
    "###################################################################\n",
    "qubit_spec = qubit_spectroscopy.experiment_workflow(\n",
    "    session=session,\n",
    "    qpu=qpu,\n",
    "    qubits=q,\n",
    "    frequencies=frequencies,\n",
    "    temporary_parameters={q.uid : temporary_parameters},\n",
    "    options=options\n",
    ")\n",
    "\n",
    "qubit_spec_result = qubit_spec.run()\n",
    "#qubit_spec_compiled = session.compile(qubit_spectroscopy.create_experiment(qpu=qpu,qubit=q,frequencies=frequencies, options=options))\n",
    "qubit_parameters = qubit_spec_result.tasks['analysis_workflow'].output\n",
    "print(qubit_parameters)\n"
   ]
  },
  {
   "cell_type": "markdown",
   "id": "35db6c35",
   "metadata": {},
   "source": [
    "## 1.2 + Qubit Spectroscopy Amplitude"
   ]
  },
  {
   "cell_type": "code",
   "execution_count": null,
   "id": "7f5f91df",
   "metadata": {},
   "outputs": [],
   "source": [
    "from copy import deepcopy\n",
    "from laboneq_applications.experiments import qubit_spectroscopy_amplitude\n",
    "q = qubits[3]\n",
    "temporary_parameters = q.parameters.copy()\n",
    "#temporary_parameters.spectroscopy_amplitude = 0.01\n",
    "#temporary_parameters.spectroscopy_length\n",
    "###############################################################\n",
    "frequencies = q.parameters.resonance_frequency_ge +np.linspace(-5e6,5e6,11)\n",
    "amplitudes = np.linspace(0.5, 1.0,11)\n",
    "################################################################\n",
    "options = qubit_spectroscopy_amplitude.experiment_workflow.options()\n",
    "\n",
    "#print(workflow.show_fields(options))\n",
    "\n",
    "###################################################################\n",
    "qubit_spec_amp = qubit_spectroscopy_amplitude.experiment_workflow(\n",
    "    session=session,\n",
    "    qpu=qpu,\n",
    "    qubits=q,\n",
    "    frequencies=frequencies,\n",
    "    amplitudes=amplitudes,\n",
    "    temporary_parameters={q.uid : temporary_parameters},\n",
    "    options=options\n",
    ")\n",
    "\n",
    "qubit_spec_amp_result = qubit_spec_amp.run()\n",
    "#qubit_spec_compiled = session.compile(qubit_spectroscopy_amplitude.create_experiment(qpu=qpu,qubit=q,frequencies=frequencies,amplitudes=amplitudes, options=options))\n",
    "print(qubit_spec_amp_result.tasks['analysis_workflow'].output)"
   ]
  },
  {
   "cell_type": "markdown",
   "id": "c95a5cce",
   "metadata": {},
   "source": [
    "# 2. Rabi Amplitude"
   ]
  },
  {
   "cell_type": "code",
   "execution_count": null,
   "id": "eb5d5211",
   "metadata": {},
   "outputs": [],
   "source": [
    "from laboneq_applications.experiments import amplitude_rabi\n",
    "q = qubits[3]\n",
    "temporary_parameters = q.parameters.copy()\n",
    "temporary_parameters.ge_drive_amplitude_pi=1.0\n",
    "#######################################################################\n",
    "amplitudes = np.linspace(0,1.0,51)\n",
    "#######################################################################\n",
    "options = amplitude_rabi.experiment_workflow.options()\n",
    "options.update(True)\n",
    "options.use_cal_traces(False)\n",
    "#print(workflow.show_fields(options))\n",
    "\n",
    "###################################################################\n",
    "rabi_amp = amplitude_rabi.experiment_workflow(\n",
    "    session=session,\n",
    "    qpu=qpu,\n",
    "    qubits=q,\n",
    "    amplitudes=amplitudes,\n",
    "    temporary_parameters={q.uid : temporary_parameters},\n",
    "    options=options\n",
    ")\n",
    "\n",
    "rabi_amp_result = rabi_amp.run()\n",
    "#qubit_spec_compiled = session.compile(amplitude_rabi.create_experiment(qpu=qpu,qubit=q,amplitudes=amplitudes, options=options))\n",
    "print(rabi_amp_result.tasks['analysis_workflow'].output)"
   ]
  },
  {
   "cell_type": "markdown",
   "id": "93b2df67",
   "metadata": {},
   "source": [
    "# 3. Ramsey\n",
    "\n",
    "# WARNING \n",
    "현재 자동으로 q17_readout_acquire_osc' on signal '/logical_signal_groups/q17/acquire' to SOFTWARE 로 설정되는거 어디서 하는지 확인해야함 , cr_Drive도 AUTO인데 뭐지.....\n",
    "\n",
    "하여튼 HARDWARE여야함"
   ]
  },
  {
   "cell_type": "code",
   "execution_count": null,
   "id": "cba49536",
   "metadata": {},
   "outputs": [],
   "source": [
    "from laboneq_applications.experiments import ramsey\n",
    "q = qubits[3]\n",
    "temporary_parameters = q.parameters.copy()\n",
    "#######################################################################\n",
    "delays = np.linspace(0,1e-6,10)\n",
    "detunings = 0.2e6\n",
    "#######################################################################\n",
    "# options = ramsey.experiment_workflow.options()\n",
    "# options.transition(\"ge\")\n",
    "# options.cal_states(\"ge\")\n",
    "# options.update(True)\n",
    "#print(workflow.show_fields(options))\n",
    "\n",
    "###################################################################\n",
    "ramsey_freq = ramsey.experiment_workflow(\n",
    "    session=session,\n",
    "    qpu=qpu,\n",
    "    qubits=q,\n",
    "    delays=delays,\n",
    "    detunings=detunings,\n",
    "    #temporary_parameters={q.uid : temporary_parameters},\n",
    "    #options=options\n",
    ")\n",
    "\n",
    "ramsey_freq_result = ramsey_freq.run()\n",
    "#ramsey_compiled = session.compile(ramsey.create_experiment(qpu=qpu,qubit=q,delays=delays,detunings=detunings, options=options))\n",
    "print(ramsey_freq_result.tasks['analysis_workflow'].output)"
   ]
  },
  {
   "cell_type": "markdown",
   "id": "c6b50257",
   "metadata": {},
   "source": [
    "# Error Amplification"
   ]
  },
  {
   "cell_type": "code",
   "execution_count": null,
   "id": "14374392",
   "metadata": {},
   "outputs": [],
   "source": [
    "from laboneq_applications.experiments import amplitude_fine\n",
    "q = qubits[3]\n",
    "temporary_parameters = q.parameters.copy()\n",
    "\n",
    "#######################################################################\n",
    "repetitions =np.arange(1,50)\n",
    "#######################################################################\n",
    "options = amplitude_fine.experiment_workflow_x180.options()\n",
    "options.update(True)\n",
    "options.use_cal_traces(True)\n",
    "#print(workflow.show_fields(options))\n",
    "\n",
    "###################################################################\n",
    "error_amp = amplitude_fine.experiment_workflow_x180(\n",
    "    session=session,\n",
    "    qpu=qpu,\n",
    "    qubits=q,\n",
    "    repetitions=repetitions,\n",
    "    temporary_parameters={q.uid : temporary_parameters},\n",
    "    options=options\n",
    ")\n",
    "\n",
    "error_amp_result = error_amp.run()\n",
    "#qubit_spec_compiled = session.compile(amplitude_rabi.create_experiment(qpu=qpu,qubit=q,amplitudes=amplitudes, options=options))\n",
    "print(error_amp_result.tasks['analysis_workflow'].output)"
   ]
  },
  {
   "cell_type": "code",
   "execution_count": null,
   "id": "58ac1e2f",
   "metadata": {},
   "outputs": [],
   "source": [
    "from laboneq_applications.experiments import amplitude_fine\n",
    "q = qubits[3]\n",
    "temporary_parameters = q.parameters.copy()\n",
    "\n",
    "#######################################################################\n",
    "repetitions =np.arange(1,50)\n",
    "#######################################################################\n",
    "options = amplitude_fine.experiment_workflow_x90.options()\n",
    "options.update(True)\n",
    "options.use_cal_traces(True)\n",
    "#print(workflow.show_fields(options))\n",
    "\n",
    "###################################################################\n",
    "error_amp_half = amplitude_fine.experiment_workflow_x90(\n",
    "    session=session,\n",
    "    qpu=qpu,\n",
    "    qubits=q,\n",
    "    repetitions=repetitions,\n",
    "    temporary_parameters={q.uid : temporary_parameters},\n",
    "    options=options\n",
    ")\n",
    "\n",
    "error_amp_half_result = error_amp_half.run()\n",
    "#qubit_spec_compiled = session.compile(amplitude_rabi.create_experiment(qpu=qpu,qubit=q,amplitudes=amplitudes, options=options))\n",
    "print(error_amp_half_result.tasks['analysis_workflow'].output)"
   ]
  },
  {
   "cell_type": "code",
   "execution_count": null,
   "id": "ed7b5687",
   "metadata": {},
   "outputs": [],
   "source": [
    "from laboneq_applications.experiments import drag_q_scaling"
   ]
  },
  {
   "cell_type": "markdown",
   "id": "770fc052",
   "metadata": {},
   "source": [
    "# Dispersive shift"
   ]
  },
  {
   "cell_type": "code",
   "execution_count": null,
   "id": "2e937ab3",
   "metadata": {},
   "outputs": [],
   "source": [
    "from laboneq_applications.experiments import dispersive_shift\n",
    "q = qubits[3]\n",
    "temporary_parameters = q.parameters.copy()\n",
    "\n",
    "#######################################################################\n",
    "frequencies=q.parameters.readout_resonator_frequency + np.linspace(-5e6,+5e6,101)\n",
    "states=[\"g\",\"e\"]\n",
    "\n",
    "#######################################################################\n",
    "options = dispersive_shift.experiment_workflow.options()\n",
    "options.update(True)\n",
    "#options.use_cal_traces(True)\n",
    "#print(workflow.show_fields(options))\n",
    "\n",
    "###################################################################\n",
    "dispersive = dispersive_shift.experiment_workflow(\n",
    "    session=session,\n",
    "    qpu=qpu,\n",
    "    qubit=q,\n",
    "    frequencies=frequencies,\n",
    "    states=states,\n",
    "    temporary_parameters={q.uid : temporary_parameters},\n",
    "    options=options\n",
    ")\n",
    "\n",
    "dispersive_result = dispersive.run()\n",
    "#qubit_spec_compiled = session.compile(amplitude_rabi.create_experiment(qpu=qpu,qubit=q,amplitudes=amplitudes, options=options))\n",
    "print(dispersive_result.tasks['analysis_workflow'].output)"
   ]
  },
  {
   "cell_type": "markdown",
   "id": "f864e6cf",
   "metadata": {},
   "source": [
    "# IQ Blobs"
   ]
  },
  {
   "cell_type": "code",
   "execution_count": null,
   "id": "48585ad8",
   "metadata": {},
   "outputs": [],
   "source": [
    "from laboneq_applications.experiments import iq_blobs\n",
    "q = qubits[3]\n",
    "temporary_parameters = q.parameters.copy()\n",
    "\n",
    "#######################################################################\n",
    "\n",
    "states=[\"g\",\"e\"]\n",
    "\n",
    "#######################################################################\n",
    "options = iq_blobs.experiment_workflow.options()\n",
    "#options.update(False)\n",
    "#options.use_cal_traces(True)\n",
    "#print(workflow.show_fields(options))\n",
    "\n",
    "###################################################################\n",
    "iq = iq_blobs.experiment_workflow(\n",
    "    session=session,\n",
    "    qpu=qpu,\n",
    "    qubits=q,\n",
    "    states=states,\n",
    "    temporary_parameters={q.uid : temporary_parameters},\n",
    "    options=options\n",
    ")\n",
    "\n",
    "iq_result = iq.run()\n",
    "#qubit_spec_compiled = session.compile(amplitude_rabi.create_experiment(qpu=qpu,qubit=q,amplitudes=amplitudes, options=options))\n"
   ]
  },
  {
   "cell_type": "code",
   "execution_count": null,
   "id": "5708e4a4",
   "metadata": {},
   "outputs": [],
   "source": [
    "from laboneq_applications.experiments import time_traces"
   ]
  },
  {
   "cell_type": "markdown",
   "id": "ae4fba34",
   "metadata": {},
   "source": [
    "# Save qubit"
   ]
  },
  {
   "cell_type": "code",
   "execution_count": null,
   "id": "e389bf1c",
   "metadata": {},
   "outputs": [],
   "source": [
    "# from helper import load_qubit_parameters, save_qubit_parameters\n",
    "# save_qubit_parameters(qubits={ qubit.uid : qubit for qubit in qubits}, save_folder=\"./qubit_parameters\", filename=\"kaist\")"
   ]
  },
  {
   "cell_type": "code",
   "execution_count": 19,
   "id": "cd2e1665",
   "metadata": {},
   "outputs": [
    {
     "data": {
      "text/plain": [
       "('drive',\n",
       " {'amplitude': 0.001,\n",
       "  'length': 3e-05,\n",
       "  'pulse': {'function': 'GaussianSquare',\n",
       "   'sigma': 0.2,\n",
       "   'width': None,\n",
       "   'risefall_sigma_ratio': 3.0}})"
      ]
     },
     "execution_count": 19,
     "metadata": {},
     "output_type": "execute_result"
    }
   ],
   "source": [
    "from laboneq_applications.tasks.parameter_updating import (\n",
    "    temporary_qpu,\n",
    "    temporary_quantum_elements_from_qpu,\n",
    "    update_qubits,\n",
    ")\n",
    "q = qubits[3]\n",
    "temporary_parameters = q.parameters.copy()\n",
    "temporary_parameters.spectroscopy_amplitude = 0.001\n",
    "temporary_parameters.spectroscopy_length = 30e-6\n",
    "temp_qpu = temporary_qpu(qpu, {q.uid : temporary_parameters})\n",
    "\n",
    "qubits = temporary_quantum_elements_from_qpu(temp_qpu, qubits)\n",
    "\n",
    "qubits[3].spectroscopy_parameters()"
   ]
  },
  {
   "cell_type": "markdown",
   "id": "20ee3de4",
   "metadata": {},
   "source": [
    "# f state"
   ]
  },
  {
   "cell_type": "code",
   "execution_count": 25,
   "id": "f3d8a503",
   "metadata": {},
   "outputs": [
    {
     "name": "stdout",
     "output_type": "stream",
     "text": [
      "[2025.08.18 17:40:26.182] INFO    \u001b[1m ────────────────────────────────────────────────────────────────────────────── \u001b[0m\n",
      "[2025.08.18 17:40:26.183] INFO    \u001b[1m \u001b[0m\u001b[1m \u001b[0m\u001b[1mWorkflow 'qubit_spectroscopy': execution started at 2025-08-18 \u001b[0m\u001b[1m             \u001b[0m\u001b[1m \u001b[0m\u001b[1m \u001b[0m\n",
      "[2025.08.18 17:40:26.183] INFO    \u001b[1m \u001b[0m\u001b[1m \u001b[0m\u001b[1m08:40:26.182159Z\u001b[0m\u001b[1m                                                            \u001b[0m\u001b[1m \u001b[0m\u001b[1m \u001b[0m\n",
      "[2025.08.18 17:40:26.183] INFO    \u001b[1m ────────────────────────────────────────────────────────────────────────────── \u001b[0m\n",
      "[2025.08.18 17:40:26.186] WARNING Type <class 'dict'> not supported by the serializer [name: qubit_spectroscopy.input.temporary_parameters].\n",
      "[2025.08.18 17:40:26.193] INFO    \u001b[1mTask 'temporary_qpu': started at 2025-08-18 08:40:26.193437Z\u001b[0m\n",
      "[2025.08.18 17:40:26.194] WARNING Type <class 'dict'> not supported by the serializer [name: temporary_qpu.input.temporary_parameters].\n",
      "[2025.08.18 17:40:26.194] INFO    \u001b[1mTask 'temporary_qpu': ended at 2025-08-18 08:40:26.194646Z\u001b[0m\n",
      "[2025.08.18 17:40:26.197] INFO    \u001b[1mTask 'temporary_quantum_elements_from_qpu': started at 2025-08-18 \u001b[0m\n",
      "[2025.08.18 17:40:26.197] INFO    \u001b[1m08:40:26.196879Z\u001b[0m\n",
      "[2025.08.18 17:40:26.197] INFO    \u001b[1mTask 'temporary_quantum_elements_from_qpu': ended at 2025-08-18 08:40:26.197733Z\u001b[0m\n",
      "[2025.08.18 17:40:26.198] INFO    \u001b[1mTask 'create_experiment': started at 2025-08-18 08:40:26.198605Z\u001b[0m\n",
      "[2025.08.18 17:40:26.204] INFO    \u001b[1mTask 'create_experiment': ended at 2025-08-18 08:40:26.204128Z\u001b[0m\n",
      "[2025.08.18 17:40:26.205] INFO    \u001b[1mTask 'compile_experiment': started at 2025-08-18 08:40:26.205533Z\u001b[0m\n",
      "[2025.08.18 17:40:26.207] INFO    Resolved modulation type of oscillator 'q18_readout_acquire_osc' on signal '/logical_signal_groups/q18/acquire' to SOFTWARE\n",
      "[2025.08.18 17:40:26.207] INFO    Resolved modulation type of oscillator 'q18_drive_ge_osc' on signal '/logical_signal_groups/q18/drive' to HARDWARE\n",
      "[2025.08.18 17:40:26.208] INFO    Resolved modulation type of oscillator 'q18_drive_ef_osc' on signal '/logical_signal_groups/q18/drive_ef' to HARDWARE\n",
      "[2025.08.18 17:40:26.208] INFO    Starting LabOne Q Compiler run...\n",
      "[2025.08.18 17:40:26.524] INFO    Schedule completed. [0.315 s]\n",
      "[2025.08.18 17:40:26.602] INFO    Code generation completed for all AWGs. [0.077 s]\n",
      "[2025.08.18 17:40:26.602] INFO    Completed compilation step 1 of 1. [0.393 s]\n",
      "[2025.08.18 17:40:26.604] INFO     ─────────────────────────────────────────────────────────────────── \n",
      "[2025.08.18 17:40:26.604] INFO     \u001b[1m \u001b[0m\u001b[1mDevice       \u001b[0m\u001b[1m \u001b[0m \u001b[1m \u001b[0m\u001b[1mAWG\u001b[0m\u001b[1m \u001b[0m \u001b[1m \u001b[0m\u001b[1mSeqC LOC\u001b[0m\u001b[1m \u001b[0m \u001b[1m \u001b[0m\u001b[1mCT entries\u001b[0m\u001b[1m \u001b[0m \u001b[1m \u001b[0m\u001b[1mWaveforms\u001b[0m\u001b[1m \u001b[0m \u001b[1m \u001b[0m\u001b[1mSamples\u001b[0m\u001b[1m \u001b[0m \n",
      "[2025.08.18 17:40:26.605] INFO     ─────────────────────────────────────────────────────────────────── \n",
      "[2025.08.18 17:40:26.605] INFO      test_shfqc        0         10            0           1      8000  \n",
      "[2025.08.18 17:40:26.605] INFO      test_shfqc_sg     3         28            3           2      8128  \n",
      "[2025.08.18 17:40:26.605] INFO     ─────────────────────────────────────────────────────────────────── \n",
      "[2025.08.18 17:40:26.606] INFO     \u001b[1m \u001b[0m\u001b[1mTOTAL        \u001b[0m\u001b[1m \u001b[0m \u001b[1m \u001b[0m\u001b[1m   \u001b[0m\u001b[1m \u001b[0m \u001b[1m \u001b[0m\u001b[1m      38\u001b[0m\u001b[1m \u001b[0m \u001b[1m \u001b[0m\u001b[1m         3\u001b[0m\u001b[1m \u001b[0m \u001b[1m \u001b[0m\u001b[1m         \u001b[0m\u001b[1m \u001b[0m \u001b[1m \u001b[0m\u001b[1m  16128\u001b[0m\u001b[1m \u001b[0m \n",
      "[2025.08.18 17:40:26.606] INFO     ─────────────────────────────────────────────────────────────────── \n",
      "[2025.08.18 17:40:26.610] INFO    Finished LabOne Q Compiler run.\n",
      "[2025.08.18 17:40:26.610] INFO    \u001b[1mTask 'compile_experiment': ended at 2025-08-18 08:40:26.610460Z\u001b[0m\n",
      "[2025.08.18 17:40:26.616] INFO    \u001b[1mTask 'run_experiment': started at 2025-08-18 08:40:26.616247Z\u001b[0m\n",
      "[2025.08.18 17:40:26.617] INFO    Connecting to data server at 10.172.11.217:8004\n",
      "[2025.08.18 17:40:26.624] INFO    Connected to Zurich Instruments LabOne Data Server version 25.04.1.17 at 10.172.11.217:8004\n",
      "[2025.08.18 17:40:26.624] WARNING Ignoring that Version of LabOne Data Server (25.04.1.17) and Python API (25.07.0.507) do not match.\n",
      "[2025.08.18 17:40:26.627] INFO    Configuring the device setup\n",
      "[2025.08.18 17:40:26.636] INFO    The device setup is configured\n",
      "[2025.08.18 17:40:26.917] INFO    Starting near-time execution...\n",
      "[2025.08.18 17:40:26.985] INFO    Estimated RT execution time: 104.72 s.\n",
      "[2025.08.18 17:42:11.752] INFO    Finished near-time execution.\n",
      "[2025.08.18 17:42:11.833] INFO    \u001b[1mTask 'run_experiment': ended at 2025-08-18 08:42:11.832844Z\u001b[0m\n",
      "[2025.08.18 17:42:11.834] INFO    \u001b[1m ────────────────────────────────────────────────────────────────────────────── \u001b[0m\n",
      "[2025.08.18 17:42:11.834] INFO    \u001b[1m \u001b[0m\u001b[1m \u001b[0m\u001b[1mWorkflow 'analysis_workflow': execution started at 2025-08-18 \u001b[0m\u001b[1m              \u001b[0m\u001b[1m \u001b[0m\u001b[1m \u001b[0m\n",
      "[2025.08.18 17:42:11.835] INFO    \u001b[1m \u001b[0m\u001b[1m \u001b[0m\u001b[1m08:42:11.834356Z\u001b[0m\u001b[1m                                                            \u001b[0m\u001b[1m \u001b[0m\u001b[1m \u001b[0m\n",
      "[2025.08.18 17:42:11.835] INFO    \u001b[1m ────────────────────────────────────────────────────────────────────────────── \u001b[0m\n",
      "[2025.08.18 17:42:11.837] INFO    \u001b[1mTask 'calculate_signal_magnitude_and_phase': started at 2025-08-18 \u001b[0m\n",
      "[2025.08.18 17:42:11.837] INFO    \u001b[1m08:42:11.836910Z\u001b[0m\n",
      "[2025.08.18 17:42:11.837] INFO    \u001b[1mTask 'calculate_signal_magnitude_and_phase': ended at 2025-08-18 \u001b[0m\n",
      "[2025.08.18 17:42:11.837] INFO    \u001b[1m08:42:11.837641Z\u001b[0m\n",
      "[2025.08.18 17:42:11.838] WARNING Type <class 'dict'> not supported by the serializer [name: calculate_signal_magnitude_and_phase.output.q18].\n",
      "[2025.08.18 17:42:11.838] INFO    \u001b[1mTask 'fit_data': started at 2025-08-18 08:42:11.838437Z\u001b[0m\n",
      "[2025.08.18 17:42:11.838] WARNING Type <class 'dict'> not supported by the serializer [name: fit_data.input.processed_data_dict].\n",
      "[2025.08.18 17:42:11.849] INFO    \u001b[1mTask 'fit_data': ended at 2025-08-18 08:42:11.849399Z\u001b[0m\n",
      "[2025.08.18 17:42:11.850] WARNING Type <class 'lmfit.model.ModelResult'> not supported by the serializer [name: fit_data.output.q18].\n",
      "[2025.08.18 17:42:11.850] INFO    \u001b[1mTask 'extract_qubit_parameters': started at 2025-08-18 08:42:11.850534Z\u001b[0m\n",
      "[2025.08.18 17:42:11.850] WARNING Type <class 'dict'> not supported by the serializer [name: extract_qubit_parameters.input.fit_results].\n",
      "[2025.08.18 17:42:11.851] INFO    \u001b[1mTask 'extract_qubit_parameters': ended at 2025-08-18 08:42:11.851699Z\u001b[0m\n",
      "[2025.08.18 17:42:11.852] WARNING Type <class 'dict'> not supported by the serializer [name: extract_qubit_parameters.output.new_parameter_values].\n",
      "[2025.08.18 17:42:11.852] INFO    \u001b[1mTask 'plot_raw_complex_data_1d': started at 2025-08-18 08:42:11.852362Z\u001b[0m\n",
      "[2025.08.18 17:42:11.860] INFO    \u001b[1mArtifact: 'Raw_data_q18' of type 'Figure' logged at 2025-08-18 08:42:11.860695Z\u001b[0m\n",
      "[2025.08.18 17:42:11.944] INFO    \u001b[1mTask 'plot_raw_complex_data_1d': ended at 2025-08-18 08:42:11.944646Z\u001b[0m\n",
      "[2025.08.18 17:42:11.945] INFO    \u001b[1mTask 'plot_qubit_spectroscopy': started at 2025-08-18 08:42:11.945558Z\u001b[0m\n",
      "[2025.08.18 17:42:11.946] WARNING Type <class 'dict'> not supported by the serializer [name: plot_qubit_spectroscopy.input.processed_data_dict].\n",
      "[2025.08.18 17:42:11.946] WARNING Type <class 'dict'> not supported by the serializer [name: plot_qubit_spectroscopy.input.fit_results].\n",
      "[2025.08.18 17:42:11.946] WARNING Type <class 'dict'> not supported by the serializer [name: plot_qubit_spectroscopy.input.qubit_parameters].\n",
      "[2025.08.18 17:42:11.952] INFO    \u001b[1mArtifact: 'Qubit_Spectroscopy_q18' of type 'Figure' logged at 2025-08-18 \u001b[0m\n",
      "[2025.08.18 17:42:11.952] INFO    \u001b[1m08:42:11.952232Z\u001b[0m\n",
      "[2025.08.18 17:42:12.014] INFO    \u001b[1mTask 'plot_qubit_spectroscopy': ended at 2025-08-18 08:42:12.014751Z\u001b[0m\n",
      "[2025.08.18 17:42:12.015] INFO    \u001b[1m ────────────────────────────────────────────────────────────────────────────── \u001b[0m\n",
      "[2025.08.18 17:42:12.016] INFO    \u001b[1m \u001b[0m\u001b[1m \u001b[0m\u001b[1mWorkflow 'analysis_workflow': execution ended at 2025-08-18 08:42:12.015498Z\u001b[0m\u001b[1m \u001b[0m\u001b[1m \u001b[0m\n",
      "[2025.08.18 17:42:12.016] INFO    \u001b[1m ────────────────────────────────────────────────────────────────────────────── \u001b[0m\n",
      "[2025.08.18 17:42:12.017] WARNING Type <class 'dict'> not supported by the serializer [name: analysis_workflow.output.new_parameter_values].\n",
      "[2025.08.18 17:42:12.017] INFO    \u001b[1m ────────────────────────────────────────────────────────────────────────────── \u001b[0m\n",
      "[2025.08.18 17:42:12.017] INFO    \u001b[1m \u001b[0m\u001b[1m \u001b[0m\u001b[1mWorkflow 'qubit_spectroscopy': execution ended at 2025-08-18 \u001b[0m\u001b[1m               \u001b[0m\u001b[1m \u001b[0m\u001b[1m \u001b[0m\n",
      "[2025.08.18 17:42:12.017] INFO    \u001b[1m \u001b[0m\u001b[1m \u001b[0m\u001b[1m08:42:12.017368Z\u001b[0m\u001b[1m                                                            \u001b[0m\u001b[1m \u001b[0m\u001b[1m \u001b[0m\n",
      "[2025.08.18 17:42:12.018] INFO    \u001b[1m ────────────────────────────────────────────────────────────────────────────── \u001b[0m\n",
      "[2025.08.18 17:42:12.019] INFO    Resolved modulation type of oscillator 'q18_readout_acquire_osc' on signal '/logical_signal_groups/q18/acquire' to SOFTWARE\n",
      "[2025.08.18 17:42:12.020] INFO    Resolved modulation type of oscillator 'q18_drive_ge_osc' on signal '/logical_signal_groups/q18/drive' to HARDWARE\n",
      "[2025.08.18 17:42:12.020] INFO    Resolved modulation type of oscillator 'q18_drive_ef_osc' on signal '/logical_signal_groups/q18/drive_ef' to HARDWARE\n",
      "[2025.08.18 17:42:12.020] INFO    Starting LabOne Q Compiler run...\n",
      "[2025.08.18 17:42:12.298] INFO    Schedule completed. [0.276 s]\n",
      "[2025.08.18 17:42:12.378] INFO    Code generation completed for all AWGs. [0.079 s]\n",
      "[2025.08.18 17:42:12.379] INFO    Completed compilation step 1 of 1. [0.357 s]\n",
      "[2025.08.18 17:42:12.381] INFO     ─────────────────────────────────────────────────────────────────── \n",
      "[2025.08.18 17:42:12.381] INFO     \u001b[1m \u001b[0m\u001b[1mDevice       \u001b[0m\u001b[1m \u001b[0m \u001b[1m \u001b[0m\u001b[1mAWG\u001b[0m\u001b[1m \u001b[0m \u001b[1m \u001b[0m\u001b[1mSeqC LOC\u001b[0m\u001b[1m \u001b[0m \u001b[1m \u001b[0m\u001b[1mCT entries\u001b[0m\u001b[1m \u001b[0m \u001b[1m \u001b[0m\u001b[1mWaveforms\u001b[0m\u001b[1m \u001b[0m \u001b[1m \u001b[0m\u001b[1mSamples\u001b[0m\u001b[1m \u001b[0m \n",
      "[2025.08.18 17:42:12.381] INFO     ─────────────────────────────────────────────────────────────────── \n",
      "[2025.08.18 17:42:12.382] INFO      test_shfqc        0         10            0           1      8000  \n",
      "[2025.08.18 17:42:12.382] INFO      test_shfqc_sg     3         28            3           2    120128  \n",
      "[2025.08.18 17:42:12.382] INFO     ─────────────────────────────────────────────────────────────────── \n",
      "[2025.08.18 17:42:12.382] INFO     \u001b[1m \u001b[0m\u001b[1mTOTAL        \u001b[0m\u001b[1m \u001b[0m \u001b[1m \u001b[0m\u001b[1m   \u001b[0m\u001b[1m \u001b[0m \u001b[1m \u001b[0m\u001b[1m      38\u001b[0m\u001b[1m \u001b[0m \u001b[1m \u001b[0m\u001b[1m         3\u001b[0m\u001b[1m \u001b[0m \u001b[1m \u001b[0m\u001b[1m         \u001b[0m\u001b[1m \u001b[0m \u001b[1m \u001b[0m\u001b[1m 128128\u001b[0m\u001b[1m \u001b[0m \n",
      "[2025.08.18 17:42:12.383] INFO     ─────────────────────────────────────────────────────────────────── \n",
      "[2025.08.18 17:42:12.386] INFO    Finished LabOne Q Compiler run.\n"
     ]
    }
   ],
   "source": [
    "from experiments import qubit_spectroscopy\n",
    "from copy import deepcopy\n",
    "\n",
    "q = qubits[3]\n",
    "temporary_parameters = q.parameters.copy()\n",
    "temporary_parameters.spectroscopy_amplitude = 0.01\n",
    "temporary_parameters.spectroscopy_length = 2e-6\n",
    "###############################################################\n",
    "frequencies = q.parameters.resonance_frequency_ge+np.linspace(-300e6 , 0e6,501)  #4.3685e\n",
    "################################################################\n",
    "\n",
    "options = qubit_spectroscopy.experiment_workflow.options()\n",
    "options.update(False)\n",
    "\n",
    "#print(workflow.show_fields(options))\n",
    "\n",
    "###################################################################\n",
    "qubit_spec = qubit_spectroscopy.experiment_workflow(\n",
    "    session=session,\n",
    "    qpu=qpu,\n",
    "    qubits=q,\n",
    "    frequencies=frequencies,\n",
    "    temporary_parameters={q.uid : temporary_parameters},\n",
    "    options=options\n",
    ")\n",
    "\n",
    "qubit_spec_result = qubit_spec.run()\n",
    "\n",
    "qubit_spec_compiled = session.compile(qubit_spectroscopy.create_experiment(qpu=qpu,qubits=q,frequencies=frequencies))\n",
    "#qubit_parameters = qubit_spec_result.tasks['analysis_workflow'].output\n",
    "#print(qubit_parameters)\n",
    "\n",
    "\n",
    "\n",
    "\n",
    "\n",
    "\n"
   ]
  },
  {
   "cell_type": "markdown",
   "id": "cc23fa97",
   "metadata": {},
   "source": []
  },
  {
   "cell_type": "code",
   "execution_count": 21,
   "id": "90e0c8f2",
   "metadata": {},
   "outputs": [
    {
     "name": "stdout",
     "output_type": "stream",
     "text": [
      "[2025.08.18 17:25:59.599] INFO    Recompiling the experiment due to missing extra information in the compiled experiment. Compile with `OUTPUT_EXTRAS=True` and `MAX_EVENTS_TO_PUBLISH=1000` to bypass this step with a small impact on the compilation time.\n",
      "[2025.08.18 17:25:59.601] INFO    Resolved modulation type of oscillator 'q18_readout_acquire_osc' on signal '/logical_signal_groups/q18/acquire' to SOFTWARE\n",
      "[2025.08.18 17:25:59.602] INFO    Resolved modulation type of oscillator 'q18_drive_ge_osc' on signal '/logical_signal_groups/q18/drive' to HARDWARE\n",
      "[2025.08.18 17:25:59.602] INFO    Resolved modulation type of oscillator 'q18_drive_ef_osc' on signal '/logical_signal_groups/q18/drive_ef' to HARDWARE\n",
      "[2025.08.18 17:25:59.602] INFO    Starting LabOne Q Compiler run...\n",
      "[2025.08.18 17:25:59.636] INFO    Schedule completed. [0.033 s]\n",
      "[2025.08.18 17:25:59.655] INFO    Code generation completed for all AWGs. [0.019 s]\n",
      "[2025.08.18 17:25:59.656] INFO    Completed compilation step 1 of 1. [0.053 s]\n",
      "[2025.08.18 17:25:59.658] INFO    Finished LabOne Q Compiler run.\n"
     ]
    },
    {
     "data": {
      "text/html": [
       "\n",
       "        <iframe\n",
       "            width=\"100%\"\n",
       "            height=\"700\"\n",
       "            src=\"http://127.0.0.1:35957/psv.html\"\n",
       "            frameborder=\"0\"\n",
       "            allowfullscreen\n",
       "            \n",
       "        ></iframe>\n",
       "        "
      ],
      "text/plain": [
       "<IPython.lib.display.IFrame at 0x772e40fe7920>"
      ]
     },
     "metadata": {},
     "output_type": "display_data"
    }
   ],
   "source": [
    "\n",
    "from laboneq.simple import show_pulse_sheet\n",
    "from laboneq.contrib.example_helpers.plotting.plot_helpers import plot_simulation\n",
    "show_pulse_sheet(\"first_comp\", qubit_spec_compiled, interactive=True)\n",
    "#plot_simulation(qubit_spec_compiled, length=2e-6)\n",
    "\n",
    "\n"
   ]
  },
  {
   "cell_type": "code",
   "execution_count": null,
   "id": "e6a2b057",
   "metadata": {},
   "outputs": [],
   "source": []
  }
 ],
 "metadata": {
  "kernelspec": {
   "display_name": ".venv",
   "language": "python",
   "name": "python3"
  },
  "language_info": {
   "codemirror_mode": {
    "name": "ipython",
    "version": 3
   },
   "file_extension": ".py",
   "mimetype": "text/x-python",
   "name": "python",
   "nbconvert_exporter": "python",
   "pygments_lexer": "ipython3",
   "version": "3.12.3"
  }
 },
 "nbformat": 4,
 "nbformat_minor": 5
}
