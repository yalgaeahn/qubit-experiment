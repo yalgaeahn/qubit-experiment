{
 "cells": [
  {
   "cell_type": "markdown",
   "id": "c3e05bb4",
   "metadata": {},
   "source": [
    "# Digital Demodulation of RAW signal\n",
    "\n",
    "All the notation & argument naming follows Blais review paper\n",
    "\n",
    "$$\n",
    "\\begin{align}\n",
    "\\hat{V}_{I}(t) & = V_{\\text{IF}}\\Big[ \\hat{X}_{f}(t)\\cos(\\omega_{\\text{IF}}t)-\\hat{P_{f}}(t)\\sin(\\omega_{\\text{IF}}t)\\Big] + \\hat{V}_{\\text{noise},t}(t) \\\\ \\\\\n",
    "\\hat{V}_{Q}(t) & = -V_{\\text{IF}}\\Big[ \\hat{P}_{f}(t)\\cos(\\omega_{\\text{IF}}t)+\\hat{X_{f}}(t)\\sin(\\omega_{\\text{IF}}t)\\Big] + \\hat{V}_{\\text{noise},t}(t)\n",
    "\n",
    "\\end{align}\n",
    "$$\n",
    "\n",
    "$$\n",
    "\\begin{equation}\n",
    "\\hat{X}_f = \\frac{\\hat{a}^\\dagger_f + \\hat{a}_f}{2}, \n",
    "\\quad \n",
    "\\hat{P}_f = \\frac{i(\\hat{a}^\\dagger_f - \\hat{a}_f)}{2},\n",
    "\\end{equation}\n",
    "$$\n",
    "\n",
    "$$\n",
    "\\begin{bmatrix}\n",
    "X_{f}(t) \\\\\n",
    "P_{f}(t)\n",
    "\\end{bmatrix}\n",
    "= R^{-1}(t)\n",
    "\\begin{bmatrix}\n",
    "V_{I}(t) \\\\\n",
    "V_{Q}(t)\n",
    "\\end{bmatrix} \n",
    "\n",
    "$$"
   ]
  },
  {
   "cell_type": "code",
   "execution_count": 1,
   "id": "820d66ad",
   "metadata": {},
   "outputs": [],
   "source": [
    "import numpy as np\n",
    "from pprint import pprint\n",
    "\n",
    "\n",
    "from laboneq.contrib.example_helpers.generate_descriptor import generate_descriptor\n",
    "#from laboneq.contrib.example_helpers.generate_device_setup import generate_device_setup\n",
    "from laboneq.dsl.device import DeviceSetup\n",
    "\n",
    "\n",
    "\n",
    "\n",
    "descriptor = generate_descriptor(\n",
    "    #pqsc=[\"\"], # 장비 여러개 사용시\n",
    "    shfqc_6=[\"DEV12256\"],\n",
    "    number_data_qubits=1,\n",
    "    multiplex=True,\n",
    "    number_multiplex=1,\n",
    "    include_cr_lines=True,\n",
    "    include_ef_lines=True,\n",
    "    get_zsync=False,  # Only set to True when using real device\n",
    "    save = False,\n",
    "    filename=\"KAIST\",\n",
    "    ip_address=\"192.168.0.83\"\n",
    ")\n",
    "\n",
    "\n",
    "#descriptor\n",
    "setup = DeviceSetup.from_descriptor(yaml_text=descriptor, server_host=\"192.168.0.83\")\n",
    "#setup\n",
    "setup.instruments[0].device_options = 'SHFQC/PLUS/QC6CH'\n",
    "#setup.instruments"
   ]
  },
  {
   "cell_type": "code",
   "execution_count": 2,
   "id": "1c9e0bbb",
   "metadata": {},
   "outputs": [],
   "source": [
    "from qpu_types import TransmonQubit, TransmonQubitParameters\n",
    "from helper import load_qubit_parameters, save_qubit_parameters\n",
    "from operations import TransmonOperations\n",
    "from laboneq.dsl.quantum.qpu import QPU, QuantumPlatform\n",
    "\n",
    "\n",
    "#1 Create Initial QuantumElement\n",
    "qubits = TransmonQubit.from_device_setup(setup) # Also can be done with load_qubit_parameters \n",
    "\n",
    "#2 Load existing QuantumElement\n",
    "#_loaded_qubits = load_qubit_parameters(filename=\"20250909-2310_KAIST_TG_0909\") \n",
    "#qubits = list(_loaded_qubits.values())\n",
    "\n",
    "\n",
    "qpu = QPU(quantum_elements=qubits, quantum_operations=TransmonOperations())\n",
    "#quantum_platform = QuantumPlatform(setup=setup, qpu=qpu)\n",
    "\n",
    "# qpu.topology.add_edge(\"bus\", \"q16\", \"q17\")\n",
    "# qpu.topology.add_edge(\"bus\", \"q17\", \"q18\")\n",
    "# qpu.topology.add_edge(\"bus\", \"q18\", \"q19\")\n",
    "# qpu.topology.plot()\n",
    "\n",
    "\n",
    "from laboneq.simple import workflow\n",
    "folder_store = workflow.logbook.FolderStore(\"./experiment_store\") \n",
    "folder_store.activate()\n",
    "#folder_store.deactivate()\n",
    "#workflow.logbook.LoggingStore().activate()\n",
    "#workflow.logbook.LogbookStore().deactivate()\n"
   ]
  },
  {
   "cell_type": "code",
   "execution_count": 3,
   "id": "45ac4651",
   "metadata": {},
   "outputs": [],
   "source": [
    "qubits[0].parameters.resonance_frequency_ge = 5.65e9\n",
    "qubits[0].parameters.drive_lo_frequency = 5.6e9\n",
    "\n",
    "qubits[0].parameters.readout_resonator_frequency = 7.12e9\n",
    "qubits[0].parameters.readout_lo_frequency =7.0e9"
   ]
  },
  {
   "cell_type": "code",
   "execution_count": 4,
   "id": "ed682525",
   "metadata": {},
   "outputs": [
    {
     "name": "stdout",
     "output_type": "stream",
     "text": [
      "[2025.09.10 16:37:20.829] INFO    Logging initialized from [Default inline config in laboneq.laboneq_logging] logdir is /Users/yalgaeahn/JSAHN/qubit-experiment/examples/laboneq_output/log\n",
      "[2025.09.10 16:37:20.830] INFO    VERSION: laboneq 2.58.0\n",
      "[2025.09.10 16:37:20.831] INFO    Connecting to data server at 192.168.0.83:8004\n",
      "[2025.09.10 16:37:20.832] INFO    Connected to Zurich Instruments LabOne Data Server version 25.07.0.507 at 192.168.0.83:8004\n",
      "[2025.09.10 16:37:20.833] INFO    Configuring the device setup\n",
      "[2025.09.10 16:37:20.834] INFO    The device setup is configured\n"
     ]
    },
    {
     "data": {
      "text/plain": [
       "<laboneq.dsl.session.ConnectionState at 0x11e84ddc0>"
      ]
     },
     "execution_count": 4,
     "metadata": {},
     "output_type": "execute_result"
    }
   ],
   "source": [
    "from laboneq.simple import Session\n",
    "session = Session(setup)\n",
    "session.connect(ignore_version_mismatch=True, do_emulation=True)\n",
    "#session.disconnect()"
   ]
  },
  {
   "cell_type": "markdown",
   "id": "b899b46d",
   "metadata": {},
   "source": [
    "# IQ Traj\n",
    "\n",
    "To plot trajectory \n",
    "\n",
    "AcquisitionType has to be RAW and AveragingMode has to be cyclic\n"
   ]
  },
  {
   "cell_type": "code",
   "execution_count": 6,
   "id": "e0040ee1",
   "metadata": {},
   "outputs": [
    {
     "name": "stdout",
     "output_type": "stream",
     "text": [
      "DRIVE range (dBm) : 10, READOUT range (dBm) : 5\n",
      "[2025.09.10 16:37:37.405] INFO    \u001b[1m ────────────────────────────────────────────────────────────────────────────── \u001b[0m\n",
      "[2025.09.10 16:37:37.406] INFO    \u001b[1m \u001b[0m\u001b[1m \u001b[0m\u001b[1mWorkflow 'iq_traj': execution started at 2025-09-10 07:37:37.405586Z\u001b[0m\u001b[1m        \u001b[0m\u001b[1m \u001b[0m\u001b[1m \u001b[0m\n",
      "[2025.09.10 16:37:37.406] INFO    \u001b[1m ────────────────────────────────────────────────────────────────────────────── \u001b[0m\n",
      "[2025.09.10 16:37:37.412] INFO    \u001b[1mTask 'temporary_qpu': started at 2025-09-10 07:37:37.412473Z\u001b[0m\n",
      "[2025.09.10 16:37:37.413] INFO    \u001b[1mTask 'temporary_qpu': ended at 2025-09-10 07:37:37.413114Z\u001b[0m\n",
      "[2025.09.10 16:37:37.414] INFO    \u001b[1mTask 'temporary_quantum_elements_from_qpu': started at 2025-09-10 \u001b[0m\n",
      "[2025.09.10 16:37:37.414] INFO    \u001b[1m07:37:37.414157Z\u001b[0m\n",
      "[2025.09.10 16:37:37.415] INFO    \u001b[1mTask 'temporary_quantum_elements_from_qpu': ended at 2025-09-10 07:37:37.414964Z\u001b[0m\n",
      "[2025.09.10 16:37:37.415] INFO    \u001b[1mTask 'create_experiment': started at 2025-09-10 07:37:37.415839Z\u001b[0m\n",
      "[2025.09.10 16:37:37.420] INFO    \u001b[1mTask 'create_experiment': ended at 2025-09-10 07:37:37.419963Z\u001b[0m\n",
      "[2025.09.10 16:37:37.421] INFO    \u001b[1mTask 'compile_experiment': started at 2025-09-10 07:37:37.421436Z\u001b[0m\n",
      "[2025.09.10 16:37:37.422] INFO    Resolved modulation type of oscillator 'q0_readout_acquire_osc' on signal 'q0/acquire' to SOFTWARE\n",
      "[2025.09.10 16:37:37.423] INFO    Resolved modulation type of oscillator 'q0_drive_ge_osc' on signal 'q0/drive' to HARDWARE\n",
      "[2025.09.10 16:37:37.423] INFO    Starting LabOne Q Compiler run...\n",
      "[2025.09.10 16:37:37.424] INFO    Schedule completed. [0.000 s]\n",
      "[2025.09.10 16:37:37.427] INFO    Code generation completed for all AWGs. [0.002 s]\n",
      "[2025.09.10 16:37:37.427] INFO    Completed compilation step 1 of 1. [0.003 s]\n",
      "[2025.09.10 16:37:37.428] INFO     ─────────────────────────────────────────────────────────────────────── \n",
      "[2025.09.10 16:37:37.429] INFO     \u001b[1m \u001b[0m\u001b[1mDevice           \u001b[0m\u001b[1m \u001b[0m \u001b[1m \u001b[0m\u001b[1mAWG\u001b[0m\u001b[1m \u001b[0m \u001b[1m \u001b[0m\u001b[1mSeqC LOC\u001b[0m\u001b[1m \u001b[0m \u001b[1m \u001b[0m\u001b[1mCT entries\u001b[0m\u001b[1m \u001b[0m \u001b[1m \u001b[0m\u001b[1mWaveforms\u001b[0m\u001b[1m \u001b[0m \u001b[1m \u001b[0m\u001b[1mSamples\u001b[0m\u001b[1m \u001b[0m \n",
      "[2025.09.10 16:37:37.429] INFO     ─────────────────────────────────────────────────────────────────────── \n",
      "[2025.09.10 16:37:37.429] INFO      SHFQC_DEV12256        0          9            0           1      8000  \n",
      "[2025.09.10 16:37:37.429] INFO      SHFQC_DEV12256_sg     0         12            2           1       224  \n",
      "[2025.09.10 16:37:37.429] INFO     ─────────────────────────────────────────────────────────────────────── \n",
      "[2025.09.10 16:37:37.430] INFO     \u001b[1m \u001b[0m\u001b[1mTOTAL            \u001b[0m\u001b[1m \u001b[0m \u001b[1m \u001b[0m\u001b[1m   \u001b[0m\u001b[1m \u001b[0m \u001b[1m \u001b[0m\u001b[1m      21\u001b[0m\u001b[1m \u001b[0m \u001b[1m \u001b[0m\u001b[1m         2\u001b[0m\u001b[1m \u001b[0m \u001b[1m \u001b[0m\u001b[1m         \u001b[0m\u001b[1m \u001b[0m \u001b[1m \u001b[0m\u001b[1m   8224\u001b[0m\u001b[1m \u001b[0m \n",
      "[2025.09.10 16:37:37.430] INFO     ─────────────────────────────────────────────────────────────────────── \n",
      "[2025.09.10 16:37:37.433] INFO    Finished LabOne Q Compiler run.\n",
      "[2025.09.10 16:37:37.433] INFO    \u001b[1mTask 'compile_experiment': ended at 2025-09-10 07:37:37.433701Z\u001b[0m\n",
      "[2025.09.10 16:37:37.439] INFO    \u001b[1mTask 'run_experiment': started at 2025-09-10 07:37:37.439150Z\u001b[0m\n",
      "[2025.09.10 16:37:37.440] INFO    Connecting to data server at 192.168.0.83:8004\n",
      "[2025.09.10 16:37:37.440] INFO    Connected to Zurich Instruments LabOne Data Server version 25.07.0.507 at 192.168.0.83:8004\n",
      "[2025.09.10 16:37:37.441] INFO    Configuring the device setup\n",
      "[2025.09.10 16:37:37.442] INFO    The device setup is configured\n",
      "[2025.09.10 16:37:37.446] INFO    Starting near-time execution...\n",
      "[2025.09.10 16:37:37.459] INFO    Finished near-time execution.\n",
      "[2025.09.10 16:37:37.463] INFO    \u001b[1mTask 'run_experiment': ended at 2025-09-10 07:37:37.463325Z\u001b[0m\n",
      "[2025.09.10 16:37:37.465] INFO    \u001b[1m ────────────────────────────────────────────────────────────────────────────── \u001b[0m\n",
      "[2025.09.10 16:37:37.465] INFO    \u001b[1m \u001b[0m\u001b[1m \u001b[0m\u001b[1mWorkflow 'iq_traj': execution ended at 2025-09-10 07:37:37.465242Z\u001b[0m\u001b[1m          \u001b[0m\u001b[1m \u001b[0m\u001b[1m \u001b[0m\n",
      "[2025.09.10 16:37:37.465] INFO    \u001b[1m ────────────────────────────────────────────────────────────────────────────── \u001b[0m\n"
     ]
    }
   ],
   "source": [
    "from experiments import iq_traj\n",
    "#######################################################################\n",
    "q = qubits[0]\n",
    "\n",
    "print(f\"DRIVE range (dBm) : {q.parameters.drive_range}, READOUT range (dBm) : {q.parameters.readout_range_out}\")\n",
    "#######################################################################\n",
    "options = iq_traj.experiment_workflow.options()\n",
    "options.count(1024*2)\n",
    "options.do_analysis(False)\n",
    "\n",
    "#print(workflow.show_fields(options))\n",
    "\n",
    "###################################################################\n",
    "iq = iq_traj.experiment_workflow(\n",
    "    session=session,\n",
    "    qpu=qpu,\n",
    "    qubits=q,\n",
    "    options=options,\n",
    "    states='ge'\n",
    ")\n",
    "\n",
    "iq_result = iq.run()\n",
    "#qubit_spec_compiled = session.compile(amplitude_rabi.create_experiment(qpu=qpu,qubit=q,amplitudes=amplitudes, options=options))\n",
    "#print(iq_result.tasks['analysis_workflow'].output)"
   ]
  },
  {
   "cell_type": "code",
   "execution_count": 26,
   "id": "92e7ab7a",
   "metadata": {},
   "outputs": [
    {
     "name": "stdout",
     "output_type": "stream",
     "text": [
      "[2025.09.10 16:42:13.168] INFO    Recompiling the experiment due to missing extra information in the compiled experiment. Compile with `OUTPUT_EXTRAS=True` and `MAX_EVENTS_TO_PUBLISH=10000` to bypass this step with a small impact on the compilation time.\n",
      "[2025.09.10 16:42:13.172] INFO    Resolved modulation type of oscillator 'q0_readout_acquire_osc' on signal 'q0/acquire' to SOFTWARE\n",
      "[2025.09.10 16:42:13.173] INFO    Resolved modulation type of oscillator 'q0_drive_ge_osc' on signal 'q0/drive' to HARDWARE\n",
      "[2025.09.10 16:42:13.173] INFO    Starting LabOne Q Compiler run...\n",
      "[2025.09.10 16:42:13.196] INFO    Schedule completed. [0.021 s]\n",
      "[2025.09.10 16:42:13.199] INFO    Code generation completed for all AWGs. [0.003 s]\n",
      "[2025.09.10 16:42:13.200] INFO    Completed compilation step 1 of 1. [0.025 s]\n",
      "[2025.09.10 16:42:13.203] INFO    Finished LabOne Q Compiler run.\n"
     ]
    },
    {
     "data": {
      "text/html": [
       "\n",
       "        <iframe\n",
       "            width=\"100%\"\n",
       "            height=\"700\"\n",
       "            src=\"http://127.0.0.1:50399/psv.html\"\n",
       "            frameborder=\"0\"\n",
       "            allowfullscreen\n",
       "            \n",
       "        ></iframe>\n",
       "        "
      ],
      "text/plain": [
       "<IPython.lib.display.IFrame at 0x13c29aa50>"
      ]
     },
     "metadata": {},
     "output_type": "display_data"
    }
   ],
   "source": [
    "from laboneq.simple import show_pulse_sheet\n",
    "from laboneq.contrib.example_helpers.plotting.plot_helpers import plot_simulation\n",
    "\n",
    "show_pulse_sheet(compiled_experiment=iq_result.tasks[\"compile_experiment\"].output,name='test', interactive=True, max_events_to_publish=10000)\n",
    "#plot_simulation(compiled_experiment=rip_result.tasks[\"compile_experiment\"].output)"
   ]
  },
  {
   "cell_type": "markdown",
   "id": "166a8807",
   "metadata": {},
   "source": [
    "- For $2\\mu s$ acquire we have  2000ns/0.5ns=4000 sample"
   ]
  },
  {
   "cell_type": "code",
   "execution_count": 7,
   "id": "91899d34",
   "metadata": {},
   "outputs": [
    {
     "name": "stdout",
     "output_type": "stream",
     "text": [
      "('acquire',\n",
      " {'discrimination_thresholds': None,\n",
      "  'kernels': None,\n",
      "  'kernels_type': 'default',\n",
      "  'length': 2e-06})\n",
      "('measure',\n",
      " {'amplitude': 1.0,\n",
      "  'length': 2e-06,\n",
      "  'pulse': {'function': 'GaussianSquare',\n",
      "            'risefall_sigma_ratio': 3.0,\n",
      "            'sigma': 0.2}})\n"
     ]
    },
    {
     "data": {
      "text/plain": [
       "2e-08"
      ]
     },
     "execution_count": 7,
     "metadata": {},
     "output_type": "execute_result"
    }
   ],
   "source": [
    "from pprint import pprint\n",
    "pprint(qubits[0].readout_integration_parameters())\n",
    "pprint(qubits[0].readout_parameters())\n",
    "\n",
    "qubits[0].parameters.readout_integration_delay"
   ]
  },
  {
   "cell_type": "code",
   "execution_count": 8,
   "id": "420a9590",
   "metadata": {},
   "outputs": [
    {
     "data": {
      "text/plain": [
       "\u001b[1;35mAttributeWrapper\u001b[0m\u001b[1m(\u001b[0m\n",
       "\u001b[2;32m│   \u001b[0m\u001b[33mcal_trace\u001b[0m=\u001b[1;35mAttributeWrapper\u001b[0m\u001b[1m(\u001b[0m\n",
       "\u001b[2;32m│   │   \u001b[0m\u001b[33me\u001b[0m=\u001b[1;35mAcquiredResult\u001b[0m\u001b[1m(\u001b[0m\n",
       "\u001b[2;32m│   │   │   \u001b[0m\u001b[33mhandle\u001b[0m=\u001b[32m'q0/cal_trace/e'\u001b[0m,\n",
       "\u001b[2;32m│   │   │   \u001b[0m\u001b[33maxis_name\u001b[0m=\u001b[1m[\u001b[0m\n",
       "\u001b[2;32m│   │   │   │   \u001b[0m\u001b[32m'samples'\u001b[0m\n",
       "\u001b[2;32m│   │   │   \u001b[0m\u001b[1m]\u001b[0m,\n",
       "\u001b[2;32m│   │   │   \u001b[0m\u001b[33maxis\u001b[0m=\u001b[1m[\u001b[0m\n",
       "\u001b[2;32m│   │   │   │   \u001b[0m\u001b[1;35marray\u001b[0m\u001b[1m(\u001b[0m\u001b[1m[\u001b[0m\u001b[1;36m0.000e+00\u001b[0m, \u001b[1;36m1.000e+00\u001b[0m, \u001b[1;36m2.000e+00\u001b[0m, \u001b[33m...\u001b[0m, \u001b[1;36m3.997e+03\u001b[0m, \u001b[1;36m3.998e+03\u001b[0m,\n",
       "\u001b[2;32m│      \u001b[0m\u001b[1;36m3.999e+03\u001b[0m\u001b[1m]\u001b[0m, \u001b[33mshape\u001b[0m=\u001b[1m(\u001b[0m\u001b[1;36m4000\u001b[0m,\u001b[1m)\u001b[0m\u001b[1m)\u001b[0m\n",
       "\u001b[2;32m│   │   │   \u001b[0m\u001b[1m]\u001b[0m,\n",
       "\u001b[2;32m│   │   │   \u001b[0m\u001b[33mdata\u001b[0m=\u001b[1;35marray\u001b[0m\u001b[1m(\u001b[0m\u001b[1m[\u001b[0m\u001b[1;36m10.+0.000e+00j\u001b[0m, \u001b[1;36m10.+1.000e+00j\u001b[0m, \u001b[1;36m10.+2.000e+00j\u001b[0m, \u001b[33m...\u001b[0m,\n",
       "\u001b[2;32m│      \u001b[0m\u001b[1;36m10.+3.997e+03j\u001b[0m, \u001b[1;36m10.+3.998e+03j\u001b[0m, \u001b[1;36m10.+3.999e+03j\u001b[0m\u001b[1m]\u001b[0m, \u001b[33mshape\u001b[0m=\u001b[1m(\u001b[0m\u001b[1;36m4000\u001b[0m,\u001b[1m)\u001b[0m\u001b[1m)\u001b[0m,\n",
       "\u001b[2;32m│   │   │   \u001b[0m\u001b[33mlast_nt_step\u001b[0m=\u001b[1m[\u001b[0m\u001b[1m]\u001b[0m\n",
       "\u001b[2;32m│   │   \u001b[0m\u001b[1m)\u001b[0m,\n",
       "\u001b[2;32m│   │   \u001b[0m\u001b[33mg\u001b[0m=\u001b[1;35mAcquiredResult\u001b[0m\u001b[1m(\u001b[0m\n",
       "\u001b[2;32m│   │   │   \u001b[0m\u001b[33mhandle\u001b[0m=\u001b[32m'q0/cal_trace/g'\u001b[0m,\n",
       "\u001b[2;32m│   │   │   \u001b[0m\u001b[33maxis_name\u001b[0m=\u001b[1m[\u001b[0m\n",
       "\u001b[2;32m│   │   │   │   \u001b[0m\u001b[32m'samples'\u001b[0m\n",
       "\u001b[2;32m│   │   │   \u001b[0m\u001b[1m]\u001b[0m,\n",
       "\u001b[2;32m│   │   │   \u001b[0m\u001b[33maxis\u001b[0m=\u001b[1m[\u001b[0m\n",
       "\u001b[2;32m│   │   │   │   \u001b[0m\u001b[1;35marray\u001b[0m\u001b[1m(\u001b[0m\u001b[1m[\u001b[0m\u001b[1;36m0.000e+00\u001b[0m, \u001b[1;36m1.000e+00\u001b[0m, \u001b[1;36m2.000e+00\u001b[0m, \u001b[33m...\u001b[0m, \u001b[1;36m3.997e+03\u001b[0m, \u001b[1;36m3.998e+03\u001b[0m,\n",
       "\u001b[2;32m│      \u001b[0m\u001b[1;36m3.999e+03\u001b[0m\u001b[1m]\u001b[0m, \u001b[33mshape\u001b[0m=\u001b[1m(\u001b[0m\u001b[1;36m4000\u001b[0m,\u001b[1m)\u001b[0m\u001b[1m)\u001b[0m\n",
       "\u001b[2;32m│   │   │   \u001b[0m\u001b[1m]\u001b[0m,\n",
       "\u001b[2;32m│   │   │   \u001b[0m\u001b[33mdata\u001b[0m=\u001b[1;35marray\u001b[0m\u001b[1m(\u001b[0m\u001b[1m[\u001b[0m\u001b[1;36m0.+0.000e+00j\u001b[0m, \u001b[1;36m0.+1.000e+00j\u001b[0m, \u001b[1;36m0.+2.000e+00j\u001b[0m, \u001b[33m...\u001b[0m, \u001b[1;36m0.+3.997e+03j\u001b[0m,\n",
       "\u001b[2;32m│      \u001b[0m\u001b[1;36m0.+3.998e+03j\u001b[0m, \u001b[1;36m0.+3.999e+03j\u001b[0m\u001b[1m]\u001b[0m, \u001b[33mshape\u001b[0m=\u001b[1m(\u001b[0m\u001b[1;36m4000\u001b[0m,\u001b[1m)\u001b[0m\u001b[1m)\u001b[0m,\n",
       "\u001b[2;32m│   │   │   \u001b[0m\u001b[33mlast_nt_step\u001b[0m=\u001b[1m[\u001b[0m\u001b[1m]\u001b[0m\n",
       "\u001b[2;32m│   │   \u001b[0m\u001b[1m)\u001b[0m\n",
       "\u001b[2;32m│   \u001b[0m\u001b[1m)\u001b[0m\n",
       "\u001b[1m)\u001b[0m\n"
      ]
     },
     "execution_count": 8,
     "metadata": {},
     "output_type": "execute_result"
    }
   ],
   "source": [
    "iq_result.output.data['q0']"
   ]
  },
  {
   "cell_type": "code",
   "execution_count": 13,
   "id": "cbc857d4",
   "metadata": {},
   "outputs": [],
   "source": [
    "e_raw = iq_result.output.data['q0']['cal_trace']['e'].data\n",
    "I_e = e_raw.real\n",
    "Q_e = e_raw.imag\n",
    "\n",
    "g_raw = iq_result.output.data['q0']['cal_trace']['g'].data\n",
    "axis = iq_result.output.data['q0']['cal_trace']['g'].axis[0]\n",
    "I_g = g_raw.real\n",
    "Q_g = g_raw.imag"
   ]
  },
  {
   "cell_type": "markdown",
   "id": "0988d241",
   "metadata": {},
   "source": [
    "# Helper function for RAW data processing\n",
    "Helper function should be designed \n",
    "\n",
    "Processing starts with raw complex data  (I_component, Q_component) \n",
    "\n",
    "1. separate I, Q signal\n",
    "\n",
    "2. demoulate signal with IF frequency, IF_freq = target_freq - LO_freq  \n",
    "    ex) IF = Transmon.drive_frequency_ge\n",
    "\n",
    "\n",
    "\n"
   ]
  },
  {
   "cell_type": "code",
   "execution_count": 14,
   "id": "049fa871",
   "metadata": {},
   "outputs": [],
   "source": [
    "def IF_demodulation(I_data, Q_data, IF_freq):\n",
    "\n",
    "    I_data = np.array(I_data)\n",
    "    Q_data = np.array(Q_data)\n",
    "\n",
    "    coswt = np.cos(2 * np.pi * IF_freq * np.arange(len(I_data))/2 * 1e-9) # reason of 2 ; 2GHz sampling rate\n",
    "    sinwt = np.sin(2 * np.pi * IF_freq * np.arange(len(Q_data))/2 * 1e-9) \n",
    "\n",
    "    # demodulate the data\n",
    "    I_demod = I_data * coswt + Q_data * sinwt\n",
    "    Q_demod = -I_data * sinwt + Q_data * coswt\n",
    "\n",
    "    return I_demod, Q_demod"
   ]
  },
  {
   "cell_type": "code",
   "execution_count": 15,
   "id": "a1ff3966",
   "metadata": {},
   "outputs": [],
   "source": [
    "readout_IF_freq = qubits[0].parameters.readout_frequency"
   ]
  },
  {
   "cell_type": "code",
   "execution_count": 27,
   "id": "3c9803d3",
   "metadata": {},
   "outputs": [],
   "source": [
    "X_g, P_g = IF_demodulation(I_g, Q_g, readout_IF_freq)\n",
    "X_e, P_e = IF_demodulation(I_e, Q_e, readout_IF_freq)"
   ]
  },
  {
   "cell_type": "code",
   "execution_count": 25,
   "id": "d9637f32",
   "metadata": {},
   "outputs": [
    {
     "data": {
      "text/plain": [
       "[<matplotlib.lines.Line2D at 0x13b333e90>]"
      ]
     },
     "execution_count": 25,
     "metadata": {},
     "output_type": "execute_result"
    },
    {
     "data": {
      "image/png": "[encoded data removed]",
      "text/plain": [
       "<Figure size 640x480 with 1 Axes>"
      ]
     },
     "metadata": {},
     "output_type": "display_data"
    }
   ],
   "source": [
    "import matplotlib.pyplot as plt\n",
    "plt.plot(X_g)\n",
    "plt.plot(P_g)\n",
    "plt.plot(X_g,P_g)"
   ]
  },
  {
   "cell_type": "markdown",
   "id": "cf0f40e0",
   "metadata": {},
   "source": [
    "# Future Works on IQ related module\n",
    "\n",
    "- iq_traj module should be integrated with iq_blobs\n",
    "\n",
    "IQ blobs features\n",
    "- double gaussian fitting for an thermal photon analysis\n",
    "- confusion matrix \n",
    "- discrimination error\n"
   ]
  },
  {
   "cell_type": "code",
   "execution_count": null,
   "id": "4ebd8674",
   "metadata": {},
   "outputs": [],
   "source": []
  }
 ],
 "metadata": {
  "kernelspec": {
   "display_name": ".venv (3.12.9)",
   "language": "python",
   "name": "python3"
  },
  "language_info": {
   "codemirror_mode": {
    "name": "ipython",
    "version": 3
   },
   "file_extension": ".py",
   "mimetype": "text/x-python",
   "name": "python",
   "nbconvert_exporter": "python",
   "pygments_lexer": "ipython3",
   "version": "3.12.9"
  }
 },
 "nbformat": 4,
 "nbformat_minor": 5
}
