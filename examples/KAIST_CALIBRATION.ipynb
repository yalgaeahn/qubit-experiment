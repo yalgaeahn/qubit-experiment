{
 "cells": [
  {
   "cell_type": "markdown",
   "id": "51ad07e9",
   "metadata": {},
   "source": [
    "# Initialization"
   ]
  },
  {
   "cell_type": "code",
   "execution_count": null,
   "id": "d8d65935",
   "metadata": {},
   "outputs": [],
   "source": [
    "import numpy as np\n",
    "from pprint import pprint\n",
    "\n",
    "\n",
    "from laboneq.contrib.example_helpers.generate_descriptor import generate_descriptor\n",
    "#from laboneq.contrib.example_helpers.generate_device_setup import generate_device_setup\n",
    "from laboneq.dsl.device import DeviceSetup\n",
    "\n",
    "\n",
    "\n",
    "\n",
    "descriptor = generate_descriptor(\n",
    "    #pqsc=[\"\"], # 장비 여러개 사용시\n",
    "    shfqc_6=[\"DEV12256\"],\n",
    "    number_data_qubits=1,\n",
    "    multiplex=True,\n",
    "    number_multiplex=1,\n",
    "    include_cr_lines=True,\n",
    "    include_ef_lines=True,\n",
    "    get_zsync=False,  # Only set to True when using real device\n",
    "    save = True,\n",
    "    filename=\"MJ_KAIST\"\n",
    ")\n",
    "\n",
    "\n",
    "#descriptor\n",
    "setup = DeviceSetup.from_descriptor(yaml_text=descriptor, server_host=\"192.168.0.83\")\n",
    "#setup\n"
   ]
  },
  {
   "cell_type": "code",
   "execution_count": 2,
   "id": "e4cfc0c7",
   "metadata": {},
   "outputs": [
    {
     "name": "stdout",
     "output_type": "stream",
     "text": [
      "[2025.09.03 17:31:20.368] INFO    Logging initialized from [Default inline config in laboneq.laboneq_logging] logdir is /Users/yalgaeahn/JSAHN/qubit-experiment/laboneq_output/log\n",
      "[2025.09.03 17:31:20.369] INFO    VERSION: laboneq 2.58.0\n",
      "[2025.09.03 17:31:20.370] INFO    Connecting to data server at 192.168.0.83:8004\n",
      "[2025.09.03 17:31:20.370] INFO    Connected to Zurich Instruments LabOne Data Server version 25.07.0.507 at 192.168.0.83:8004\n",
      "[2025.09.03 17:31:20.372] INFO    Configuring the device setup\n",
      "[2025.09.03 17:31:20.373] INFO    The device setup is configured\n",
      "[2025.09.03 17:31:20.369] INFO    VERSION: laboneq 2.58.0\n",
      "[2025.09.03 17:31:20.370] INFO    Connecting to data server at 192.168.0.83:8004\n",
      "[2025.09.03 17:31:20.370] INFO    Connected to Zurich Instruments LabOne Data Server version 25.07.0.507 at 192.168.0.83:8004\n",
      "[2025.09.03 17:31:20.372] INFO    Configuring the device setup\n",
      "[2025.09.03 17:31:20.373] INFO    The device setup is configured\n"
     ]
    },
    {
     "data": {
      "text/plain": [
       "<laboneq.dsl.session.ConnectionState at 0x11862dd60>"
      ]
     },
     "execution_count": 2,
     "metadata": {},
     "output_type": "execute_result"
    }
   ],
   "source": [
    "from laboneq.simple import Session\n",
    "session = Session(setup)\n",
    "session.connect(ignore_version_mismatch=True, do_emulation=True)\n",
    "#session.disconnect()"
   ]
  },
  {
   "cell_type": "code",
   "execution_count": 3,
   "id": "b06dadc3",
   "metadata": {},
   "outputs": [],
   "source": [
    "from qpu_types.transmon import TransmonQubit, TransmonQubitParameters\n",
    "from helper import load_qubit_parameters, save_qubit_parameters\n",
    "from operations import TransmonOperations\n",
    "from laboneq.dsl.quantum.qpu import QPU, QuantumPlatform\n",
    "\n",
    "\n",
    "\n",
    "#_loaded_qubits = load_qubit_parameters(filename=\"latest\") \n",
    "#qubits = TransmonQubit.from_device_setup(setup) # Also can be done with load_qubit_parameters \n",
    "#qubits = list(_loaded_qubits.values())\n",
    "\n",
    "qubits = []\n",
    "for i in range(1):\n",
    "    q = TransmonQubit.from_logical_signal_group(\n",
    "        f\"q{i}\",\n",
    "        setup.logical_signal_groups[f\"q{i}\"],\n",
    "        parameters=TransmonQubitParameters()\n",
    "    )\n",
    "    qubits.append(q)\n",
    "\n",
    "\n",
    "\n",
    "qpu = QPU(quantum_elements=qubits, quantum_operations=TransmonOperations())\n",
    "#quantum_platform = QuantumPlatform(setup=setup, qpu=qpu)\n",
    "\n",
    "# qpu.topology.add_edge(\"bus\", \"q16\", \"q17\")\n",
    "# qpu.topology.add_edge(\"bus\", \"q17\", \"q18\")\n",
    "# qpu.topology.add_edge(\"bus\", \"q18\", \"q19\")\n",
    "# qpu.topology.plot()\n",
    "\n",
    "\n",
    "\n",
    "\n",
    "from laboneq.simple import workflow\n",
    "folder_store = workflow.logbook.FolderStore(\"./experiment_store\") \n",
    "folder_store.activate()\n",
    "#folder_store.deactivate()\n",
    "workflow.logbook.LoggingStore().activate()\n",
    "#workflow.logbook.LogbookStore().deactivate()\n"
   ]
  },
  {
   "cell_type": "code",
   "execution_count": 4,
   "id": "8b1d7603",
   "metadata": {},
   "outputs": [],
   "source": [
    "for q in qubits:\n",
    "    q.parameters.ge_drive_pulse[\"sigma\"] = 0.25\n",
    "    q.parameters.readout_amplitude = 1.0\n",
    "    q.parameters.reset_delay_length = 20e-6\n",
    "    q.parameters.readout_range_out = -20\n",
    "    q.parameters.readout_lo_frequency = 7.6e9\n",
    "    # Set LO close to resonance to keep baseband frequency within NCO range\n",
    "    q.parameters.drive_lo_frequency = 4.4e9\n",
    "    q.parameters.drive_range = 10\n",
    "\n",
    "qubits[0].parameters.resonance_frequency_ge = 4.4e9\n",
    "qubits[0].parameters.resonance_frequency_ef = 4.2e9\n",
    "qubits[0].parameters.readout_resonator_frequency = 7.6e9\n",
    "\n"
   ]
  },
  {
   "cell_type": "markdown",
   "id": "2ed0face",
   "metadata": {},
   "source": [
    "# 1. Spectroscopy"
   ]
  },
  {
   "cell_type": "markdown",
   "id": "148b02dd",
   "metadata": {},
   "source": [
    "### 1.1 Resonator spectroscopy with amplitude sweep\n",
    "\n",
    "* CW spectroscopy can be done for wide range scan \n",
    "* amplitude, frequency 2D sweep 을 통해  power에 따른 broadening 및 SNR 경향 관찰"
   ]
  },
  {
   "cell_type": "code",
   "execution_count": null,
   "id": "8ce8bb94",
   "metadata": {},
   "outputs": [],
   "source": [
    "from experiments import resonator_spectroscopy_amplitude\n",
    "\n",
    "####################################################################################\n",
    "q=qubits[0]\n",
    "print(q.readout_parameters)\n",
    "frequencies = q.parameters.readout_resonator_frequency + np.linspace(-20e6,20e6,501)\n",
    "amplitudes = np.linspace(0, 1.0, 21)\n",
    "#####################################################################################\n",
    "options = resonator_spectroscopy_amplitude.experiment_workflow.options()\n",
    "#workflow.show_fields(options)\n",
    "options.update(True)\n",
    "options.use_cw(True)\n",
    "options.do_analysis(False)\n",
    "######################################################################################\n",
    "# Build and run resonator_spectroscopy_amplitude wormflow\n",
    "res_spec_amp = resonator_spectroscopy_amplitude.experiment_workflow(\n",
    "    session=session,\n",
    "    qpu=qpu,\n",
    "    qubit=q,\n",
    "    frequencies=frequencies,\n",
    "    amplitudes=amplitudes,\n",
    "    options=options\n",
    ")\n",
    "res_spec_amp_result=res_spec_amp.run()\n"
   ]
  },
  {
   "cell_type": "markdown",
   "id": "c7d77091",
   "metadata": {},
   "source": [
    "### 1.2 Resonator Spectroscopy\n",
    "* CW not recommended "
   ]
  },
  {
   "cell_type": "code",
   "execution_count": 26,
   "id": "47031bea",
   "metadata": {},
   "outputs": [
    {
     "name": "stdout",
     "output_type": "stream",
     "text": [
      "('measure', {'amplitude': 1.0, 'length': 2e-06, 'pulse': {'function': 'const'}})\n",
      "[2025.09.03 18:33:14.849] INFO    \u001b[1m ────────────────────────────────────────────────────────────────────────────── \u001b[0m\n",
      "[2025.09.03 18:33:14.850] INFO    \u001b[1m \u001b[0m\u001b[1m \u001b[0m\u001b[1mWorkflow 'resonator_spectroscopy': execution started at 2025-09-03 \u001b[0m\u001b[1m         \u001b[0m\u001b[1m \u001b[0m\u001b[1m \u001b[0m\n",
      "[2025.09.03 18:33:14.850] INFO    \u001b[1m \u001b[0m\u001b[1m \u001b[0m\u001b[1m09:33:14.849143Z\u001b[0m\u001b[1m                                                            \u001b[0m\u001b[1m \u001b[0m\u001b[1m \u001b[0m\n",
      "[2025.09.03 18:33:14.851] INFO    \u001b[1m ────────────────────────────────────────────────────────────────────────────── \u001b[0m\n",
      "[2025.09.03 18:33:14.862] INFO    \u001b[1mTask 'temporary_qpu': started at 2025-09-03 09:33:14.862695Z\u001b[0m\n",
      "[2025.09.03 18:33:14.863] INFO    \u001b[1mTask 'temporary_qpu': ended at 2025-09-03 09:33:14.863813Z\u001b[0m\n",
      "[2025.09.03 18:33:14.865] INFO    \u001b[1mTask 'temporary_quantum_elements_from_qpu': started at 2025-09-03 \u001b[0m\n",
      "[2025.09.03 18:33:14.866] INFO    \u001b[1m09:33:14.865607Z\u001b[0m\n",
      "[2025.09.03 18:33:14.866] INFO    \u001b[1mTask 'temporary_quantum_elements_from_qpu': ended at 2025-09-03 09:33:14.866462Z\u001b[0m\n",
      "[2025.09.03 18:33:14.868] INFO    \u001b[1mTask 'create_experiment': started at 2025-09-03 09:33:14.868648Z\u001b[0m\n",
      "[2025.09.03 18:33:14.874] INFO    \u001b[1mTask 'create_experiment': ended at 2025-09-03 09:33:14.874383Z\u001b[0m\n",
      "[2025.09.03 18:33:14.876] INFO    \u001b[1mTask 'compile_experiment': started at 2025-09-03 09:33:14.875912Z\u001b[0m\n",
      "[2025.09.03 18:33:14.877] INFO    Resolved modulation type of oscillator 'q0_drive_ge_osc' on signal 'q0/drive' to HARDWARE\n",
      "[2025.09.03 18:33:14.877] INFO    Resolved modulation type of oscillator 'q0_drive_ef_osc' on signal 'q0/drive_ef' to HARDWARE\n",
      "[2025.09.03 18:33:14.878] INFO    Starting LabOne Q Compiler run...\n",
      "[2025.09.03 18:33:14.922] INFO    Schedule completed. [0.043 s]\n",
      "[2025.09.03 18:33:14.952] INFO    Code generation completed for all AWGs. [0.030 s]\n",
      "[2025.09.03 18:33:14.953] INFO    Completed compilation step 1 of 1. [0.074 s]\n",
      "[2025.09.03 18:33:14.954] INFO     ─────────────────────────────────────────────────────────────────────── \n",
      "[2025.09.03 18:33:14.954] INFO     \u001b[1m \u001b[0m\u001b[1mDevice           \u001b[0m\u001b[1m \u001b[0m \u001b[1m \u001b[0m\u001b[1mAWG\u001b[0m\u001b[1m \u001b[0m \u001b[1m \u001b[0m\u001b[1mSeqC LOC\u001b[0m\u001b[1m \u001b[0m \u001b[1m \u001b[0m\u001b[1mCT entries\u001b[0m\u001b[1m \u001b[0m \u001b[1m \u001b[0m\u001b[1mWaveforms\u001b[0m\u001b[1m \u001b[0m \u001b[1m \u001b[0m\u001b[1mSamples\u001b[0m\u001b[1m \u001b[0m \n",
      "[2025.09.03 18:33:14.955] INFO     ─────────────────────────────────────────────────────────────────────── \n",
      "[2025.09.03 18:33:14.955] INFO      SHFQC_DEV12256        0         21            0           0         0  \n",
      "[2025.09.03 18:33:14.955] INFO      SHFQC_DEV12256_sg     0          9            1           0         0  \n",
      "[2025.09.03 18:33:14.955] INFO     ─────────────────────────────────────────────────────────────────────── \n",
      "[2025.09.03 18:33:14.956] INFO     \u001b[1m \u001b[0m\u001b[1mTOTAL            \u001b[0m\u001b[1m \u001b[0m \u001b[1m \u001b[0m\u001b[1m   \u001b[0m\u001b[1m \u001b[0m \u001b[1m \u001b[0m\u001b[1m      30\u001b[0m\u001b[1m \u001b[0m \u001b[1m \u001b[0m\u001b[1m         1\u001b[0m\u001b[1m \u001b[0m \u001b[1m \u001b[0m\u001b[1m         \u001b[0m\u001b[1m \u001b[0m \u001b[1m \u001b[0m\u001b[1m      0\u001b[0m\u001b[1m \u001b[0m \n",
      "[2025.09.03 18:33:14.956] INFO     ─────────────────────────────────────────────────────────────────────── \n",
      "[2025.09.03 18:33:14.958] INFO    Finished LabOne Q Compiler run.\n",
      "[2025.09.03 18:33:14.959] INFO    \u001b[1mTask 'compile_experiment': ended at 2025-09-03 09:33:14.959027Z\u001b[0m\n",
      "[2025.09.03 18:33:14.963] INFO    \u001b[1mTask 'run_experiment': started at 2025-09-03 09:33:14.963132Z\u001b[0m\n",
      "[2025.09.03 18:33:14.964] INFO    Connecting to data server at 192.168.0.83:8004\n",
      "[2025.09.03 18:33:14.964] INFO    Connected to Zurich Instruments LabOne Data Server version 25.07.0.507 at 192.168.0.83:8004\n",
      "[2025.09.03 18:33:14.966] INFO    Configuring the device setup\n",
      "[2025.09.03 18:33:14.966] INFO    The device setup is configured\n",
      "[2025.09.03 18:33:14.969] INFO    Starting near-time execution...\n",
      "[2025.09.03 18:33:14.994] INFO    Finished near-time execution.\n",
      "[2025.09.03 18:33:14.998] INFO    \u001b[1mTask 'run_experiment': ended at 2025-09-03 09:33:14.997968Z\u001b[0m\n",
      "[2025.09.03 18:33:14.999] INFO    \u001b[1m ────────────────────────────────────────────────────────────────────────────── \u001b[0m\n",
      "[2025.09.03 18:33:14.999] INFO    \u001b[1m \u001b[0m\u001b[1m \u001b[0m\u001b[1mWorkflow 'analysis_workflow': execution started at 2025-09-03 \u001b[0m\u001b[1m              \u001b[0m\u001b[1m \u001b[0m\u001b[1m \u001b[0m\n",
      "[2025.09.03 18:33:14.999] INFO    \u001b[1m \u001b[0m\u001b[1m \u001b[0m\u001b[1m09:33:14.999372Z\u001b[0m\u001b[1m                                                            \u001b[0m\u001b[1m \u001b[0m\u001b[1m \u001b[0m\n",
      "[2025.09.03 18:33:15.000] INFO    \u001b[1m ────────────────────────────────────────────────────────────────────────────── \u001b[0m\n",
      "[2025.09.03 18:33:15.002] INFO    \u001b[1mTask 'calculate_signal_magnitude_and_phase': started at 2025-09-03 \u001b[0m\n",
      "[2025.09.03 18:33:15.002] INFO    \u001b[1m09:33:15.002325Z\u001b[0m\n",
      "[2025.09.03 18:33:15.003] INFO    \u001b[1mTask 'calculate_signal_magnitude_and_phase': ended at 2025-09-03 \u001b[0m\n",
      "[2025.09.03 18:33:15.003] INFO    \u001b[1m09:33:15.002990Z\u001b[0m\n",
      "[2025.09.03 18:33:15.004] INFO    \u001b[1mTask 'fit_data': started at 2025-09-03 09:33:15.004115Z\u001b[0m\n",
      "[2025.09.03 18:33:15.005] INFO    \u001b[1mTask 'fit_data': ended at 2025-09-03 09:33:15.005185Z\u001b[0m\n",
      "[2025.09.03 18:33:15.005] INFO    \u001b[1mTask 'extract_qubit_parameters': started at 2025-09-03 09:33:15.005652Z\u001b[0m\n",
      "[2025.09.03 18:33:15.006] INFO    \u001b[1mTask 'extract_qubit_parameters': ended at 2025-09-03 09:33:15.006544Z\u001b[0m\n",
      "[2025.09.03 18:33:15.006] WARNING Type <class 'dict'> has unsupported keys or values. Keys must be strings and values must have one of the following types: [NoneType, int, float, complex, bool, str, dict, list, tuple, integer, ndarray] [name: extract_qubit_parameters.output.new_parameter_values].\n",
      "[2025.09.03 18:33:15.007] INFO    \u001b[1mTask 'plot_raw_complex_data_1d': started at 2025-09-03 09:33:15.007204Z\u001b[0m\n",
      "[2025.09.03 18:33:15.013] INFO    \u001b[1mArtifact: 'Raw_data_q0' of type 'Figure' logged at 2025-09-03 09:33:15.013475Z\u001b[0m\n",
      "[2025.09.03 18:33:15.060] INFO    \u001b[1mTask 'plot_raw_complex_data_1d': ended at 2025-09-03 09:33:15.060523Z\u001b[0m\n",
      "[2025.09.03 18:33:15.061] INFO    \u001b[1mTask 'plot_magnitude_phase': started at 2025-09-03 09:33:15.061234Z\u001b[0m\n",
      "[2025.09.03 18:33:15.061] WARNING Type <class 'dict'> has unsupported keys or values. Keys must be strings and values must have one of the following types: [NoneType, int, float, complex, bool, str, dict, list, tuple, integer, ndarray] [name: plot_magnitude_phase.input.qubit_parameters].\n",
      "[2025.09.03 18:33:15.068] INFO    \u001b[1mArtifact: 'Magnitude_Phase_q0' of type 'Figure' logged at 2025-09-03 \u001b[0m\n",
      "[2025.09.03 18:33:15.068] INFO    \u001b[1m09:33:15.068341Z\u001b[0m\n",
      "[2025.09.03 18:33:15.124] INFO    \u001b[1mTask 'plot_magnitude_phase': ended at 2025-09-03 09:33:15.124565Z\u001b[0m\n",
      "[2025.09.03 18:33:15.125] INFO    \u001b[1mTask 'plot_real_imaginary': started at 2025-09-03 09:33:15.125346Z\u001b[0m\n",
      "[2025.09.03 18:33:15.128] INFO    \u001b[1mArtifact: 'Real_Imaginary_q0' of type 'Figure' logged at 2025-09-03 \u001b[0m\n",
      "[2025.09.03 18:33:15.128] INFO    \u001b[1m09:33:15.128568Z\u001b[0m\n",
      "[2025.09.03 18:33:15.159] INFO    \u001b[1mTask 'plot_real_imaginary': ended at 2025-09-03 09:33:15.159718Z\u001b[0m\n",
      "[2025.09.03 18:33:15.160] INFO    \u001b[1m ────────────────────────────────────────────────────────────────────────────── \u001b[0m\n",
      "[2025.09.03 18:33:15.160] INFO    \u001b[1m \u001b[0m\u001b[1m \u001b[0m\u001b[1mWorkflow 'analysis_workflow': execution ended at 2025-09-03 09:33:15.160446Z\u001b[0m\u001b[1m \u001b[0m\u001b[1m \u001b[0m\n",
      "[2025.09.03 18:33:15.161] INFO    \u001b[1m ────────────────────────────────────────────────────────────────────────────── \u001b[0m\n",
      "[2025.09.03 18:33:15.161] WARNING Type <class 'dict'> has unsupported keys or values. Keys must be strings and values must have one of the following types: [NoneType, int, float, complex, bool, str, dict, list, tuple, integer, ndarray] [name: analysis_workflow.output.new_parameter_values].\n",
      "[2025.09.03 18:33:15.161] INFO    \u001b[1m ────────────────────────────────────────────────────────────────────────────── \u001b[0m\n",
      "[2025.09.03 18:33:15.162] INFO    \u001b[1m \u001b[0m\u001b[1m \u001b[0m\u001b[1mWorkflow 'resonator_spectroscopy': execution ended at 2025-09-03 \u001b[0m\u001b[1m           \u001b[0m\u001b[1m \u001b[0m\u001b[1m \u001b[0m\n",
      "[2025.09.03 18:33:15.162] INFO    \u001b[1m \u001b[0m\u001b[1m \u001b[0m\u001b[1m09:33:15.161826Z\u001b[0m\u001b[1m                                                            \u001b[0m\u001b[1m \u001b[0m\u001b[1m \u001b[0m\n",
      "[2025.09.03 18:33:15.162] INFO    \u001b[1m ────────────────────────────────────────────────────────────────────────────── \u001b[0m\n",
      "{'new_parameter_values': {'q0': {'readout_resonator_frequency': 7560000000.0+/-0}},\n",
      " 'old_parameter_values': {'q0': {'readout_resonator_frequency': 7580000000.0}}}\n"
     ]
    }
   ],
   "source": [
    "from experiments import resonator_spectroscopy\n",
    "\n",
    "####################################################################################\n",
    "q=qubits[0]\n",
    "print(q.readout_parameters())\n",
    "frequencies = q.parameters.readout_resonator_frequency + np.linspace(-20e6,20e6,501)\n",
    "#####################################################################################\n",
    "options = resonator_spectroscopy.experiment_workflow.options()\n",
    "#workflow.show_fields(options)\n",
    "options.update(False)\n",
    "options.use_cw(True) #qop.measure 대신 \n",
    "options.do_analysis(True)\n",
    "######################################################################################\n",
    "# Build and run resonator_spectroscopy_amplitude wormflow\n",
    "res_spec = resonator_spectroscopy.experiment_workflow(\n",
    "    session=session,\n",
    "    qpu=qpu,\n",
    "    qubit=q,\n",
    "    frequencies=frequencies,\n",
    "    options=options\n",
    ")\n",
    "res_spec_result = res_spec.run()\n",
    "res_spec_analysis_result = res_spec_result.tasks[\"analysis_workflow\"]\n",
    "pprint(res_spec_analysis_result.output)"
   ]
  },
  {
   "cell_type": "code",
   "execution_count": null,
   "id": "8b3604dc",
   "metadata": {},
   "outputs": [],
   "source": []
  },
  {
   "cell_type": "code",
   "execution_count": 28,
   "id": "cd189ac9",
   "metadata": {},
   "outputs": [
    {
     "name": "stdout",
     "output_type": "stream",
     "text": [
      "[2025.09.03 18:33:26.220] INFO    Recompiling the experiment due to missing extra information in the compiled experiment. Compile with `OUTPUT_EXTRAS=True` and `MAX_EVENTS_TO_PUBLISH=1000` to bypass this step with a small impact on the compilation time.\n",
      "[2025.09.03 18:33:26.222] INFO    Resolved modulation type of oscillator 'q0_drive_ge_osc' on signal 'q0/drive' to HARDWARE\n",
      "[2025.09.03 18:33:26.223] INFO    Resolved modulation type of oscillator 'q0_drive_ef_osc' on signal 'q0/drive_ef' to HARDWARE\n",
      "[2025.09.03 18:33:26.224] INFO    Starting LabOne Q Compiler run...\n",
      "[2025.09.03 18:33:26.336] INFO    Schedule completed. [0.111 s]\n",
      "[2025.09.03 18:33:26.366] INFO    Code generation completed for all AWGs. [0.029 s]\n",
      "[2025.09.03 18:33:26.367] INFO    Completed compilation step 1 of 1. [0.142 s]\n",
      "[2025.09.03 18:33:26.369] INFO    Finished LabOne Q Compiler run.\n",
      "[2025.09.03 18:33:26.369] INFO    Recompiling the experiment due to missing extra information in the compiled experiment. Compile with `OUTPUT_EXTRAS=True` and `MAX_EVENTS_TO_PUBLISH=1000` to bypass this step with a small impact on the compilation time.\n",
      "[2025.09.03 18:33:26.370] INFO    Resolved modulation type of oscillator 'q0_drive_ge_osc' on signal 'q0/drive' to HARDWARE\n",
      "[2025.09.03 18:33:26.370] INFO    Resolved modulation type of oscillator 'q0_drive_ef_osc' on signal 'q0/drive_ef' to HARDWARE\n",
      "[2025.09.03 18:33:26.370] INFO    Starting LabOne Q Compiler run...\n",
      "[2025.09.03 18:33:26.506] INFO    Schedule completed. [0.134 s]\n",
      "[2025.09.03 18:33:26.535] INFO    Code generation completed for all AWGs. [0.029 s]\n",
      "[2025.09.03 18:33:26.535] INFO    Completed compilation step 1 of 1. [0.164 s]\n",
      "[2025.09.03 18:33:26.537] INFO    Finished LabOne Q Compiler run.\n"
     ]
    },
    {
     "data": {
      "text/html": [
       "\n",
       "        <iframe\n",
       "            width=\"100%\"\n",
       "            height=\"700\"\n",
       "            src=\"http://127.0.0.1:59599/psv.html\"\n",
       "            frameborder=\"0\"\n",
       "            allowfullscreen\n",
       "            \n",
       "        ></iframe>\n",
       "        "
      ],
      "text/plain": [
       "<IPython.lib.display.IFrame at 0x16614d760>"
      ]
     },
     "metadata": {},
     "output_type": "display_data"
    }
   ],
   "source": [
    "from laboneq.simple import show_pulse_sheet\n",
    "from laboneq.contrib.example_helpers.plotting.plot_helpers import plot_simulation\n",
    "\n",
    "show_pulse_sheet(compiled_experiment=res_spec_result.tasks[\"compile_experiment\"].output,name='test', interactive=True)\n",
    "#plot_simulation(compiled_experiment=res_spec_result.tasks[\"compile_experiment\"].output)"
   ]
  },
  {
   "cell_type": "markdown",
   "id": "4fd45bd4",
   "metadata": {},
   "source": [
    "### 2.1 Qubit Spectroscopy with Amplitude Sweep\n",
    "* Current qubit spectroscopy modules do not support CW \n",
    "* Recommended to use long enough spectroscopy drive (pulsed) to see steady state signals"
   ]
  },
  {
   "cell_type": "code",
   "execution_count": null,
   "id": "62199137",
   "metadata": {},
   "outputs": [],
   "source": [
    "from experiments import qubit_spectroscopy_amplitude\n",
    "\n",
    "###############################################################\n",
    "q = qubits[0]\n",
    "frequencies = q.parameters.resonance_frequency_ge + np.linspace(-20e6, 20e6, 41)\n",
    "amplitudes = np.linspace(0.2, 1.0, 9)\n",
    "print(f\"DRIVE range (dBm) : {q.parameters.drive_range}, READOUT range (dBm) : {q.parameters.readout_range_out}\")\n",
    "\n",
    "pprint(q.readout_parameters())\n",
    "pprint(q.spectroscopy_parameters())\n",
    "################################################################\n",
    "options = qubit_spectroscopy_amplitude.experiment_workflow.options()\n",
    "# workflow.show_fields(options)\n",
    "###################################################################\n",
    "qubit_spec_amp = qubit_spectroscopy_amplitude.experiment_workflow(\n",
    "    session=session,\n",
    "    qpu=qpu,\n",
    "    qubits=q,\n",
    "    frequencies=frequencies,\n",
    "    amplitudes=amplitudes,\n",
    "    options=options\n",
    ")\n",
    "\n",
    "qubit_spec_amp_result = qubit_spec_amp.run()\n",
    "qubit_spec_amp_result"
   ]
  },
  {
   "cell_type": "markdown",
   "id": "0701bc68",
   "metadata": {},
   "source": [
    "### 2.2 Qubit Spectroscopy \n"
   ]
  },
  {
   "cell_type": "code",
   "execution_count": null,
   "id": "57fcc7d7",
   "metadata": {},
   "outputs": [],
   "source": [
    "from experiments import qubit_spectroscopy\n",
    "\n",
    "###############################################################\n",
    "q = qubits[0]\n",
    "frequencies = q.parameters.resonance_frequency_ge + np.linspace(-20e6, 20e6, 41)\n",
    "print(f\"DRIVE range (dBm) : {q.parameters.drive_range}, READOUT range (dBm) : {q.parameters.readout_range_out}\")\n",
    "pprint(q.readout_parameters())\n",
    "pprint(q.spectroscopy_parameters())\n",
    "################################################################\n",
    "options = qubit_spectroscopy.experiment_workflow.options()\n",
    "# workflow.show_fields(options)\n",
    "###################################################################\n",
    "qubit_spec = qubit_spectroscopy.experiment_workflow(\n",
    "    session=session,\n",
    "    qpu=qpu,\n",
    "    qubits=q,\n",
    "    frequencies=frequencies,\n",
    "    options=options\n",
    ")\n",
    "\n",
    "qubit_spec_result = qubit_spec.run()\n",
    "qubit_spec_result"
   ]
  },
  {
   "cell_type": "markdown",
   "id": "8abd09fa",
   "metadata": {},
   "source": [
    "# 2. Rabi"
   ]
  },
  {
   "cell_type": "markdown",
   "id": "6288aa20",
   "metadata": {},
   "source": [
    "## 2.1 Rabi Amplitude "
   ]
  },
  {
   "cell_type": "code",
   "execution_count": null,
   "id": "0a1a5ade",
   "metadata": {},
   "outputs": [],
   "source": [
    "from laboneq_applications.experiments import amplitude_rabi\n",
    "q = qubits[0]\n",
    "#######################################################################\n",
    "amplitudes = np.linspace(0,1.0,21)\n",
    "print(f\"DRIVE range (dBm) : {q.parameters.drive_range}, READOUT range (dBm) : {q.parameters.readout_range_out}\")\n",
    "#######################################################################\n",
    "options = amplitude_rabi.experiment_workflow.options()\n",
    "options.update(True)\n",
    "options.use_cal_traces(False)\n",
    "#print(workflow.show_fields(options))\n",
    "\n",
    "###################################################################\n",
    "rabi_amp = amplitude_rabi.experiment_workflow(\n",
    "    session=session,\n",
    "    qpu=qpu,\n",
    "    qubits=q,\n",
    "    amplitudes=amplitudes,\n",
    "    options=options\n",
    ")\n",
    "\n",
    "rabi_amp_result = rabi_amp.run()\n",
    "#qubit_spec_compiled = session.compile(amplitude_rabi.create_experiment(qpu=qpu,qubit=q,amplitudes=amplitudes, options=options))\n",
    "print(rabi_amp_result.tasks['analysis_workflow'].output)"
   ]
  },
  {
   "cell_type": "markdown",
   "id": "42c0eaef",
   "metadata": {},
   "source": [
    "## 2.2 (optional) Rabi Amplitude Chevron "
   ]
  },
  {
   "cell_type": "code",
   "execution_count": null,
   "id": "3e3f5381",
   "metadata": {},
   "outputs": [],
   "source": [
    "from experiments import amplitude_rabi_chevron\n",
    "\n",
    "#######################################################################\n",
    "q = qubits[0]\n",
    "amplitudes = np.linspace(0,1.0,21)\n",
    "frequencies = q.parameters.resonance_frequency_ge + np.linspace(-1e6, 1e6, 51)\n",
    "print(f\"DRIVE range (dBm) : {q.parameters.drive_range}, READOUT range (dBm) : {q.parameters.readout_range_out}\")\n",
    "#######################################################################\n",
    "options = amplitude_rabi_chevron.experiment_workflow.options()\n",
    "\n",
    "#print(workflow.show_fields(options))\n",
    "\n",
    "###################################################################\n",
    "rabi_amp_chev = amplitude_rabi_chevron.experiment_workflow(\n",
    "    session=session,\n",
    "    qpu=qpu,\n",
    "    qubits=q,\n",
    "    frequencies=frequencies,\n",
    "    amplitudes=amplitudes,\n",
    "    options=options\n",
    ")\n",
    "\n",
    "rabi_amp_chev_result = rabi_amp_chev.run()\n",
    "#qubit_spec_compiled = session.compile(amplitude_rabi.create_experiment(qpu=qpu,qubit=q,amplitudes=amplitudes, options=options))\n",
    "print(rabi_amp_chev_result.tasks['analysis_workflow'].output)\n"
   ]
  },
  {
   "cell_type": "markdown",
   "id": "f070f628",
   "metadata": {},
   "source": [
    "## 2.3 (optional) Rabi Length"
   ]
  },
  {
   "cell_type": "code",
   "execution_count": null,
   "id": "2d9ae4ff",
   "metadata": {},
   "outputs": [],
   "source": [
    "from experiments import time_rabi"
   ]
  },
  {
   "cell_type": "markdown",
   "id": "711e7708",
   "metadata": {},
   "source": [
    "## 2.2 (optional) Rabi Length Chevron"
   ]
  },
  {
   "cell_type": "code",
   "execution_count": null,
   "id": "546dedad",
   "metadata": {},
   "outputs": [],
   "source": [
    "from experiments import time_rabi_chevron"
   ]
  },
  {
   "cell_type": "markdown",
   "id": "c29623b2",
   "metadata": {},
   "source": [
    "# 3. Ramsey"
   ]
  },
  {
   "cell_type": "code",
   "execution_count": null,
   "id": "7261340b",
   "metadata": {},
   "outputs": [
    {
     "name": "stdout",
     "output_type": "stream",
     "text": [
      "('measure', {'amplitude': 1.0, 'length': 2e-06, 'pulse': {'function': 'const'}})\n",
      "('drive',\n",
      " {'amplitude': 1,\n",
      "  'length': 5e-06,\n",
      "  'pulse': {'can_compress': True, 'function': 'const'}})\n",
      "[2025.09.03 17:37:56.784] INFO    \u001b[1m ────────────────────────────────────────────────────────────────────────────── \u001b[0m\n",
      "[2025.09.03 17:37:56.785] INFO    \u001b[1m \u001b[0m\u001b[1m \u001b[0m\u001b[1mWorkflow 'ramsey': execution started at 2025-09-03 08:37:56.782839Z\u001b[0m\u001b[1m         \u001b[0m\u001b[1m \u001b[0m\u001b[1m \u001b[0m\n",
      "[2025.09.03 17:37:56.786] INFO    \u001b[1m ────────────────────────────────────────────────────────────────────────────── \u001b[0m\n",
      "[2025.09.03 17:37:56.793] INFO    \u001b[1mTask 'temporary_qpu': started at 2025-09-03 08:37:56.792904Z\u001b[0m\n",
      "[2025.09.03 17:37:56.794] INFO    \u001b[1mTask 'temporary_qpu': ended at 2025-09-03 08:37:56.794502Z\u001b[0m\n",
      "[2025.09.03 17:37:56.798] INFO    \u001b[1mTask 'temporary_quantum_elements_from_qpu': started at 2025-09-03 \u001b[0m\n",
      "[2025.09.03 17:37:56.798] INFO    \u001b[1m08:37:56.797880Z\u001b[0m\n",
      "[2025.09.03 17:37:56.799] INFO    \u001b[1mTask 'temporary_quantum_elements_from_qpu': ended at 2025-09-03 08:37:56.799709Z\u001b[0m\n",
      "[2025.09.03 17:37:56.801] INFO    \u001b[1mTask 'create_experiment': started at 2025-09-03 08:37:56.801078Z\u001b[0m\n",
      "[2025.09.03 17:37:56.803] INFO    \u001b[1mTask 'create_experiment': ended at 2025-09-03 08:37:56.802925Z\u001b[0m\n",
      "[2025.09.03 17:37:56.806] INFO    \u001b[1mTask 'compile_experiment': started at 2025-09-03 08:37:56.805873Z\u001b[0m\n",
      "[2025.09.03 17:37:56.808] INFO    Resolved modulation type of oscillator 'q0_readout_acquire_osc' on signal 'q0/acquire' to SOFTWARE\n",
      "[2025.09.03 17:37:56.808] INFO    Resolved modulation type of oscillator 'q0_drive_ge_osc' on signal 'q0/drive' to HARDWARE\n",
      "[2025.09.03 17:37:56.809] INFO    Resolved modulation type of oscillator 'q0_drive_ef_osc' on signal 'q0/drive_ef' to HARDWARE\n",
      "[2025.09.03 17:37:56.809] INFO    Starting LabOne Q Compiler run...\n",
      "[2025.09.03 17:37:56.816] INFO    Schedule completed. [0.006 s]\n",
      "[2025.09.03 17:37:56.827] INFO    Code generation completed for all AWGs. [0.010 s]\n",
      "[2025.09.03 17:37:56.827] INFO    Completed compilation step 1 of 1. [0.017 s]\n",
      "[2025.09.03 17:37:56.829] INFO     ─────────────────────────────────────────────────────────────────────── \n",
      "[2025.09.03 17:37:56.830] INFO     \u001b[1m \u001b[0m\u001b[1mDevice           \u001b[0m\u001b[1m \u001b[0m \u001b[1m \u001b[0m\u001b[1mAWG\u001b[0m\u001b[1m \u001b[0m \u001b[1m \u001b[0m\u001b[1mSeqC LOC\u001b[0m\u001b[1m \u001b[0m \u001b[1m \u001b[0m\u001b[1mCT entries\u001b[0m\u001b[1m \u001b[0m \u001b[1m \u001b[0m\u001b[1mWaveforms\u001b[0m\u001b[1m \u001b[0m \u001b[1m \u001b[0m\u001b[1mSamples\u001b[0m\u001b[1m \u001b[0m \n",
      "[2025.09.03 17:37:56.830] INFO     ─────────────────────────────────────────────────────────────────────── \n",
      "[2025.09.03 17:37:56.830] INFO      SHFQC_DEV12256        0         39            0           1      8000  \n",
      "[2025.09.03 17:37:56.831] INFO      SHFQC_DEV12256_sg     0        104           21          19      4512  \n",
      "[2025.09.03 17:37:56.831] INFO     ─────────────────────────────────────────────────────────────────────── \n",
      "[2025.09.03 17:37:56.831] INFO     \u001b[1m \u001b[0m\u001b[1mTOTAL            \u001b[0m\u001b[1m \u001b[0m \u001b[1m \u001b[0m\u001b[1m   \u001b[0m\u001b[1m \u001b[0m \u001b[1m \u001b[0m\u001b[1m     143\u001b[0m\u001b[1m \u001b[0m \u001b[1m \u001b[0m\u001b[1m        21\u001b[0m\u001b[1m \u001b[0m \u001b[1m \u001b[0m\u001b[1m         \u001b[0m\u001b[1m \u001b[0m \u001b[1m \u001b[0m\u001b[1m  12512\u001b[0m\u001b[1m \u001b[0m \n",
      "[2025.09.03 17:37:56.831] INFO     ─────────────────────────────────────────────────────────────────────── \n",
      "[2025.09.03 17:37:56.835] INFO    Finished LabOne Q Compiler run.\n",
      "[2025.09.03 17:37:56.836] INFO    \u001b[1mTask 'compile_experiment': ended at 2025-09-03 08:37:56.836068Z\u001b[0m\n",
      "[2025.09.03 17:37:56.842] INFO    \u001b[1mTask 'run_experiment': started at 2025-09-03 08:37:56.842498Z\u001b[0m\n",
      "[2025.09.03 17:37:56.843] INFO    Connecting to data server at 192.168.0.83:8004\n",
      "[2025.09.03 17:37:56.844] INFO    Connected to Zurich Instruments LabOne Data Server version 25.07.0.507 at 192.168.0.83:8004\n",
      "[2025.09.03 17:37:56.845] INFO    Configuring the device setup\n",
      "[2025.09.03 17:37:56.846] INFO    The device setup is configured\n",
      "[2025.09.03 17:37:56.850] INFO    Starting near-time execution...\n",
      "[2025.09.03 17:37:56.865] INFO    Finished near-time execution.\n",
      "[2025.09.03 17:37:56.869] INFO    \u001b[1mTask 'run_experiment': ended at 2025-09-03 08:37:56.869791Z\u001b[0m\n",
      "[2025.09.03 17:37:56.871] INFO    \u001b[1m ────────────────────────────────────────────────────────────────────────────── \u001b[0m\n",
      "[2025.09.03 17:37:56.871] INFO    \u001b[1m \u001b[0m\u001b[1m \u001b[0m\u001b[1mWorkflow 'analysis_workflow': execution started at 2025-09-03 \u001b[0m\u001b[1m              \u001b[0m\u001b[1m \u001b[0m\u001b[1m \u001b[0m\n",
      "[2025.09.03 17:37:56.871] INFO    \u001b[1m \u001b[0m\u001b[1m \u001b[0m\u001b[1m08:37:56.871172Z\u001b[0m\u001b[1m                                                            \u001b[0m\u001b[1m \u001b[0m\u001b[1m \u001b[0m\n",
      "[2025.09.03 17:37:56.872] INFO    \u001b[1m ────────────────────────────────────────────────────────────────────────────── \u001b[0m\n",
      "[2025.09.03 17:37:56.873] INFO    \u001b[1mTask 'calculate_qubit_population': started at 2025-09-03 08:37:56.873371Z\u001b[0m\n",
      "[2025.09.03 17:37:56.874] INFO    \u001b[1mTask 'calculate_qubit_population': ended at 2025-09-03 08:37:56.874119Z\u001b[0m\n",
      "[2025.09.03 17:37:56.875] INFO    \u001b[1mTask 'fit_data': started at 2025-09-03 08:37:56.874933Z\u001b[0m\n",
      "[2025.09.03 17:37:57.019] INFO    \u001b[1mTask 'fit_data': ended at 2025-09-03 08:37:57.019191Z\u001b[0m\n",
      "[2025.09.03 17:37:57.019] WARNING Type <class 'lmfit.model.ModelResult'> not supported by the serializer [name: fit_data.output.q0].\n",
      "[2025.09.03 17:37:57.020] INFO    \u001b[1mTask 'extract_qubit_parameters': started at 2025-09-03 08:37:57.020274Z\u001b[0m\n",
      "[2025.09.03 17:37:57.020] WARNING Type <class 'dict'> has unsupported keys or values. Keys must be strings and values must have one of the following types: [NoneType, int, float, complex, bool, str, dict, list, tuple, integer, ndarray] [name: extract_qubit_parameters.input.fit_results].\n",
      "[2025.09.03 17:37:57.021] INFO    \u001b[1mTask 'extract_qubit_parameters': ended at 2025-09-03 08:37:57.021231Z\u001b[0m\n",
      "[2025.09.03 17:37:57.021] WARNING Type <class 'dict'> has unsupported keys or values. Keys must be strings and values must have one of the following types: [NoneType, int, float, complex, bool, str, dict, list, tuple, integer, ndarray] [name: extract_qubit_parameters.output.new_parameter_values].\n",
      "[2025.09.03 17:37:57.022] INFO    \u001b[1mTask 'plot_raw_complex_data_1d': started at 2025-09-03 08:37:57.022040Z\u001b[0m\n",
      "[2025.09.03 17:37:57.033] INFO    \u001b[1mArtifact: 'Raw_data_q0' of type 'Figure' logged at 2025-09-03 08:37:57.033259Z\u001b[0m\n",
      "[2025.09.03 17:37:57.095] INFO    \u001b[1mTask 'plot_raw_complex_data_1d': ended at 2025-09-03 08:37:57.095649Z\u001b[0m\n",
      "[2025.09.03 17:37:57.096] INFO    \u001b[1mTask 'plot_population': started at 2025-09-03 08:37:57.096428Z\u001b[0m\n",
      "[2025.09.03 17:37:57.096] WARNING Type <class 'dict'> has unsupported keys or values. Keys must be strings and values must have one of the following types: [NoneType, int, float, complex, bool, str, dict, list, tuple, integer, ndarray] [name: plot_population.input.fit_results].\n",
      "[2025.09.03 17:37:57.097] WARNING Type <class 'dict'> has unsupported keys or values. Keys must be strings and values must have one of the following types: [NoneType, int, float, complex, bool, str, dict, list, tuple, integer, ndarray] [name: plot_population.input.qubit_parameters].\n",
      "[2025.09.03 17:37:57.101] INFO    \u001b[1mArtifact: 'Ramsey_q0' of type 'Figure' logged at 2025-09-03 08:37:57.101773Z\u001b[0m\n",
      "[2025.09.03 17:37:57.149] INFO    \u001b[1mTask 'plot_population': ended at 2025-09-03 08:37:57.149387Z\u001b[0m\n",
      "[2025.09.03 17:37:57.150] INFO    \u001b[1m ────────────────────────────────────────────────────────────────────────────── \u001b[0m\n",
      "[2025.09.03 17:37:57.150] INFO    \u001b[1m \u001b[0m\u001b[1m \u001b[0m\u001b[1mWorkflow 'analysis_workflow': execution ended at 2025-09-03 08:37:57.150146Z\u001b[0m\u001b[1m \u001b[0m\u001b[1m \u001b[0m\n",
      "[2025.09.03 17:37:57.150] INFO    \u001b[1m ────────────────────────────────────────────────────────────────────────────── \u001b[0m\n",
      "[2025.09.03 17:37:57.151] WARNING Type <class 'dict'> has unsupported keys or values. Keys must be strings and values must have one of the following types: [NoneType, int, float, complex, bool, str, dict, list, tuple, integer, ndarray] [name: analysis_workflow.output.new_parameter_values].\n",
      "[2025.09.03 17:37:57.152] INFO    \u001b[1m ────────────────────────────────────────────────────────────────────────────── \u001b[0m\n",
      "[2025.09.03 17:37:57.152] INFO    \u001b[1m \u001b[0m\u001b[1m \u001b[0m\u001b[1mWorkflow 'ramsey': execution ended at 2025-09-03 08:37:57.152126Z\u001b[0m\u001b[1m           \u001b[0m\u001b[1m \u001b[0m\u001b[1m \u001b[0m\n",
      "[2025.09.03 17:37:57.155] INFO    \u001b[1m ────────────────────────────────────────────────────────────────────────────── \u001b[0m\n",
      "{'old_parameter_values': {'q0': {'resonance_frequency_ge': 4400000000.0, 'ge_T2_star': 0}}, 'new_parameter_values': {'q0': {'resonance_frequency_ge': 4399602759.352964+/-0, 'ge_T2_star': 0.00027702914881388985+/-0}}}\n"
     ]
    }
   ],
   "source": [
    "from experiments import ramsey\n",
    "\n",
    "q = qubits[0]\n",
    "#######################################################################\n",
    "delays = np.linspace(0,1e-6,10)\n",
    "detunings = 0.2e6\n",
    "pprint(q.readout_parameters())\n",
    "pprint(q.spectroscopy_parameters())\n",
    "#######################################################################\n",
    "options = ramsey.experiment_workflow.options()\n",
    "options.update(False)\n",
    "# Build and run Ramsey workflow (no explicit command table options required)\n",
    "ramsey_wf = ramsey.experiment_workflow(\n",
    "    session=session,\n",
    "    qpu=qpu,\n",
    "    qubits=q,\n",
    "    delays=delays,\n",
    "    detunings=detunings,\n",
    "    options=options\n",
    ")\n",
    "ramsey_result = ramsey_wf.run()\n",
    "#qubit_spec_compiled = session.compile(amplitude_rabi.create_experiment(qpu=qpu,qubit=q,amplitudes=amplitudes, options=options))\n",
    "print(ramsey_result.tasks['analysis_workflow'].output)"
   ]
  },
  {
   "cell_type": "markdown",
   "id": "0aef89c7",
   "metadata": {},
   "source": [
    "# Basic Readout optimization\n",
    "Here we optimize SNR via\n",
    "\n",
    "* `readout_length`\n",
    "* `readout-amplitude`\n",
    "\n",
    "* `readout_integration_length`\n",
    "* `readout_integration_delay`\n",
    "* `readout_integration_weight`"
   ]
  },
  {
   "cell_type": "code",
   "execution_count": 12,
   "id": "c9050e61",
   "metadata": {},
   "outputs": [],
   "source": [
    "from experiments import dispersive_shift"
   ]
  },
  {
   "cell_type": "code",
   "execution_count": 7,
   "id": "99a971d2",
   "metadata": {},
   "outputs": [],
   "source": [
    "from experiments import time_traces"
   ]
  },
  {
   "cell_type": "code",
   "execution_count": 9,
   "id": "f1b52bd7",
   "metadata": {},
   "outputs": [],
   "source": [
    "from experiments import signal_propagation_delay"
   ]
  },
  {
   "cell_type": "markdown",
   "id": "893c53db",
   "metadata": {},
   "source": [
    "# Save Qubit Parameters"
   ]
  },
  {
   "cell_type": "code",
   "execution_count": null,
   "id": "da0ae4f3",
   "metadata": {},
   "outputs": [],
   "source": [
    "from helper import load_qubit_parameters, save_qubit_parameters\n",
    "save_qubit_parameters(qubits={ qubit.uid : qubit for qubit in qubits}, save_folder=\"./qubit_parameters\", filename=\"kaist\")"
   ]
  }
 ],
 "metadata": {
  "kernelspec": {
   "display_name": "Python 3",
   "language": "python",
   "name": "python3"
  },
  "language_info": {
   "codemirror_mode": {
    "name": "ipython",
    "version": 3
   },
   "file_extension": ".py",
   "mimetype": "text/x-python",
   "name": "python",
   "nbconvert_exporter": "python",
   "pygments_lexer": "ipython3",
   "version": "3.12.9"
  }
 },
 "nbformat": 4,
 "nbformat_minor": 5
}
