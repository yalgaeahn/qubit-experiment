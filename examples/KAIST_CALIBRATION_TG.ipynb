{
 "cells": [
  {
   "cell_type": "markdown",
   "id": "51ad07e9",
   "metadata": {},
   "source": [
    "# Initialization"
   ]
  },
  {
   "cell_type": "code",
   "execution_count": 1,
   "id": "d8d65935",
   "metadata": {},
   "outputs": [],
   "source": [
    "import numpy as np\n",
    "from pprint import pprint\n",
    "\n",
    "\n",
    "from laboneq.contrib.example_helpers.generate_descriptor import generate_descriptor\n",
    "#from laboneq.contrib.example_helpers.generate_device_setup import generate_device_setup\n",
    "from laboneq.dsl.device import DeviceSetup\n",
    "\n",
    "\n",
    "\n",
    "\n",
    "descriptor = generate_descriptor(\n",
    "    #pqsc=[\"\"], # 장비 여러개 사용시\n",
    "    shfqc_6=[\"DEV12256\"],\n",
    "    number_data_qubits=3,\n",
    "    multiplex=True,\n",
    "    number_multiplex=3,\n",
    "    include_cr_lines=True,\n",
    "    include_ef_lines=True,\n",
    "    get_zsync=False,  # Only set to True when using real device\n",
    "    save = True,\n",
    "    filename=\"JW_KAIST\",\n",
    "    ip_address=\"192.168.0.83\"\n",
    ")\n",
    "\n",
    "\n",
    "#descriptor\n",
    "setup = DeviceSetup.from_descriptor(yaml_text=descriptor, server_host=\"192.168.0.83\")\n",
    "#setup\n",
    "setup.instruments[0].device_options = 'SHFQC/PLUS/QC6CH'\n",
    "#setup.instruments"
   ]
  },
  {
   "cell_type": "code",
   "execution_count": 2,
   "id": "e4cfc0c7",
   "metadata": {},
   "outputs": [
    {
     "name": "stdout",
     "output_type": "stream",
     "text": [
      "[2025.09.09 10:57:30.831] INFO    Logging initialized from [Default inline config in laboneq.laboneq_logging] logdir is /Users/yalgaeahn/JSAHN/qubit-experiment/examples/laboneq_output/log\n",
      "[2025.09.09 10:57:30.832] INFO    VERSION: laboneq 2.58.0\n",
      "[2025.09.09 10:57:30.833] INFO    Connecting to data server at 192.168.0.83:8004\n",
      "[2025.09.09 10:57:30.863] INFO    Connected to Zurich Instruments LabOne Data Server version 25.07.0.507 at 192.168.0.83:8004\n",
      "[2025.09.09 10:57:30.904] INFO    Configuring the device setup\n",
      "[2025.09.09 10:57:30.934] INFO    The device setup is configured\n"
     ]
    },
    {
     "data": {
      "text/plain": [
       "<laboneq.dsl.session.ConnectionState at 0x1058516a0>"
      ]
     },
     "execution_count": 2,
     "metadata": {},
     "output_type": "execute_result"
    }
   ],
   "source": [
    "from laboneq.simple import Session\n",
    "session = Session(setup)\n",
    "session.connect(ignore_version_mismatch=True, do_emulation=False)\n",
    "#session.disconnect()"
   ]
  },
  {
   "cell_type": "code",
   "execution_count": 3,
   "id": "b06dadc3",
   "metadata": {},
   "outputs": [],
   "source": [
    "from qpu_types import TransmonQubit, TransmonQubitParameters\n",
    "from helper import load_qubit_parameters, save_qubit_parameters\n",
    "from operations import TransmonOperations\n",
    "from laboneq.dsl.quantum.qpu import QPU, QuantumPlatform\n",
    "\n",
    "\n",
    "\n",
    "_loaded_qubits = load_qubit_parameters(filename=\"latest\") \n",
    "#qubits = TransmonQubit.from_device_setup(setup) # Also can be done with load_qubit_parameters \n",
    "qubits = list(_loaded_qubits.values())\n",
    "\n",
    "qubits = []\n",
    "for i in range(3):\n",
    "    q = TransmonQubit.from_logical_signal_group(\n",
    "        f\"q{i}\",\n",
    "        setup.logical_signal_groups[f\"q{i}\"],\n",
    "        parameters=TransmonQubitParameters()\n",
    "    )\n",
    "    qubits.append(q)\n",
    "\n",
    "\n",
    "\n",
    "qpu = QPU(quantum_elements=qubits, quantum_operations=TransmonOperations())\n",
    "#quantum_platform = QuantumPlatform(setup=setup, qpu=qpu)\n",
    "\n",
    "# qpu.topology.add_edge(\"bus\", \"q16\", \"q17\")\n",
    "# qpu.topology.add_edge(\"bus\", \"q17\", \"q18\")\n",
    "# qpu.topology.add_edge(\"bus\", \"q18\", \"q19\")\n",
    "# qpu.topology.plot()\n",
    "\n",
    "\n",
    "\n",
    "\n",
    "from laboneq.simple import workflow\n",
    "folder_store = workflow.logbook.FolderStore(\"./experiment_store\") \n",
    "folder_store.activate()\n",
    "#folder_store.deactivate()\n",
    "workflow.logbook.LoggingStore().activate()\n",
    "#workflow.logbook.LogbookStore().deactivate()\n"
   ]
  },
  {
   "cell_type": "markdown",
   "id": "de930f9a",
   "metadata": {},
   "source": [
    "BF 7"
   ]
  },
  {
   "cell_type": "markdown",
   "id": "d111acae",
   "metadata": {},
   "source": []
  },
  {
   "cell_type": "code",
   "execution_count": 4,
   "id": "8b1d7603",
   "metadata": {},
   "outputs": [],
   "source": [
    "# 0 : 15 , 1 : 16 , 2 : 17, 3 : 18, 4 : 19\n",
    "for q in qubits:\n",
    "    #q.parameters.ge_drive_pulse[\"sigma\"] = 0.25\n",
    "    q.parameters.readout_amplitude = 1.0\n",
    "    q.parameters.reset_delay_length = 20e-6\n",
    "\n",
    "    q.parameters.readout_range_out = -10\n",
    "    q.parameters.readout_range_in = 0\n",
    "    q.parameters.drive_range = 10\n",
    "\n",
    "    q.parameters.readout_lo_frequency = 7.6e9\n",
    "    q.parameters.drive_lo_frequency = 4.8e9\n",
    "\n",
    "    q.parameters.spectroscopy_length = 10e-6\n",
    "\n",
    "    q.parameters.ge_drive_length =64e-9\n",
    "    q.parameters.readout_integration_delay = None#####\n",
    "\n",
    " \n",
    "qubits[0].parameters.resonance_frequency_ge = 4.8048e9\n",
    "qubits[0].parameters.readout_resonator_frequency = 7.6267e9\n",
    "\n",
    "qubits[1].parameters.resonance_frequency_ge = 4.5615e9\n",
    "qubits[1].parameters.readout_resonator_frequency = 7.3094e9\n",
    "\n",
    "qubits[2].parameters.drive_lo_frequency = 5.6e9\n",
    "qubits[2].parameters.resonance_targ_frequency = 5.6e9\n",
    "# qubits[2].parameters.resonance_frequency_ge = 4.716e9\n",
    "# qubits[3].parameters.resonance_frequency_ge = 4.664e9\n",
    "# qubits[4].parameters.resonance_frequency_ge = 4.779e9\n",
    "\n",
    "# qubits[2].parameters.readout_resonator_frequency = 6.9226e9\n",
    "# qubits[3].parameters.readout_resonator_frequency = 6.8433e9\n",
    "# qubits[4].parameters.readout_resonator_frequency = 6.7739e9\n",
    "\n"
   ]
  },
  {
   "cell_type": "markdown",
   "id": "131bbaf6",
   "metadata": {},
   "source": [
    "3 oscillator to be calibrated\n",
    "- `drive_local_osc`\n",
    "- `readout_local_osc`\n",
    "- `readout_acquire_osc`"
   ]
  },
  {
   "cell_type": "code",
   "execution_count": 5,
   "id": "e495926e",
   "metadata": {},
   "outputs": [],
   "source": [
    "from laboneq.dsl.calibration import Calibration, Oscillator, SignalCalibration\n",
    "\n",
    "sibal= SignalCalibration()\n",
    "sibal.delay_signal"
   ]
  },
  {
   "cell_type": "code",
   "execution_count": 6,
   "id": "dbfc30b8",
   "metadata": {},
   "outputs": [],
   "source": [
    "from experiments import signal_propagation_delay\n",
    "options = signal_propagation_delay.experiment_workflow.options()\n",
    "#workflow.show_fields(options)"
   ]
  },
  {
   "cell_type": "markdown",
   "id": "81b32a58",
   "metadata": {},
   "source": [
    "Correcting propagation delay. \n",
    "\n",
    "$\\Delta \\phi =-2\\pi f t$ $\\implies$ $\\tau = \\frac{1}{\\Delta f}$"
   ]
  },
  {
   "cell_type": "code",
   "execution_count": 7,
   "id": "2a058718",
   "metadata": {},
   "outputs": [
    {
     "name": "stdout",
     "output_type": "stream",
     "text": [
      "('measure',\n",
      " {'amplitude': 1.0,\n",
      "  'length': 2e-06,\n",
      "  'pulse': {'function': 'GaussianSquare',\n",
      "            'risefall_sigma_ratio': 3.0,\n",
      "            'sigma': 0.2}})\n",
      "DRIVE range (dBm) : 10, READOUT range (dBm) : -10\n",
      "[2025.09.09 10:57:30.980] INFO    \u001b[1m ────────────────────────────────────────────────────────────────────────────── \u001b[0m\n",
      "[2025.09.09 10:57:30.980] INFO    \u001b[1m \u001b[0m\u001b[1m \u001b[0m\u001b[1mWorkflow 'experiment_workflow': execution started at 2025-09-09 \u001b[0m\u001b[1m            \u001b[0m\u001b[1m \u001b[0m\u001b[1m \u001b[0m\n",
      "[2025.09.09 10:57:30.980] INFO    \u001b[1m \u001b[0m\u001b[1m \u001b[0m\u001b[1m01:57:30.979783Z\u001b[0m\u001b[1m                                                            \u001b[0m\u001b[1m \u001b[0m\u001b[1m \u001b[0m\n",
      "[2025.09.09 10:57:30.980] INFO    \u001b[1m ────────────────────────────────────────────────────────────────────────────── \u001b[0m\n",
      "[2025.09.09 10:57:30.988] INFO    \u001b[1mTask 'create_experiment': started at 2025-09-09 01:57:30.988675Z\u001b[0m\n",
      "[2025.09.09 10:57:30.993] INFO    \u001b[1mTask 'create_experiment': ended at 2025-09-09 01:57:30.993174Z\u001b[0m\n",
      "[2025.09.09 10:57:30.995] INFO    \u001b[1mTask 'compile_experiment': started at 2025-09-09 01:57:30.995102Z\u001b[0m\n",
      "[2025.09.09 10:57:30.996] INFO    Resolved modulation type of oscillator 'q0_readout_acquire_osc' on signal 'q0/acquire' to SOFTWARE\n",
      "[2025.09.09 10:57:30.996] INFO    Resolved modulation type of oscillator 'q0_drive_ge_osc' on signal 'q0/drive' to HARDWARE\n",
      "[2025.09.09 10:57:30.997] INFO    Starting LabOne Q Compiler run...\n",
      "[2025.09.09 10:57:30.998] INFO    Schedule completed. [0.000 s]\n",
      "[2025.09.09 10:57:30.999] INFO    Code generation completed for all AWGs. [0.001 s]\n",
      "[2025.09.09 10:57:30.999] INFO    Completed compilation step 1 of 51. [0.002 s]\n",
      "[2025.09.09 10:57:31.000] INFO    Skipping compilation for next step(s)...\n",
      "[2025.09.09 10:57:31.001] INFO     ─────────────────────────────────────────────────────────────────────── \n",
      "[2025.09.09 10:57:31.001] INFO     \u001b[1m \u001b[0m\u001b[1mDevice           \u001b[0m\u001b[1m \u001b[0m \u001b[1m \u001b[0m\u001b[1mAWG\u001b[0m\u001b[1m \u001b[0m \u001b[1m \u001b[0m\u001b[1mSeqC LOC\u001b[0m\u001b[1m \u001b[0m \u001b[1m \u001b[0m\u001b[1mCT entries\u001b[0m\u001b[1m \u001b[0m \u001b[1m \u001b[0m\u001b[1mWaveforms\u001b[0m\u001b[1m \u001b[0m \u001b[1m \u001b[0m\u001b[1mSamples\u001b[0m\u001b[1m \u001b[0m \n",
      "[2025.09.09 10:57:31.002] INFO     ─────────────────────────────────────────────────────────────────────── \n",
      "[2025.09.09 10:57:31.002] INFO      SHFQC_DEV12256        0          7            0           1      8000  \n",
      "[2025.09.09 10:57:31.002] INFO      SHFQC_DEV12256_sg     0          4            1           0         0  \n",
      "[2025.09.09 10:57:31.002] INFO     ─────────────────────────────────────────────────────────────────────── \n",
      "[2025.09.09 10:57:31.002] INFO     \u001b[1m \u001b[0m\u001b[1mTOTAL            \u001b[0m\u001b[1m \u001b[0m \u001b[1m \u001b[0m\u001b[1m   \u001b[0m\u001b[1m \u001b[0m \u001b[1m \u001b[0m\u001b[1m      11\u001b[0m\u001b[1m \u001b[0m \u001b[1m \u001b[0m\u001b[1m         1\u001b[0m\u001b[1m \u001b[0m \u001b[1m \u001b[0m\u001b[1m         \u001b[0m\u001b[1m \u001b[0m \u001b[1m \u001b[0m\u001b[1m   8000\u001b[0m\u001b[1m \u001b[0m \n",
      "[2025.09.09 10:57:31.002] INFO     ─────────────────────────────────────────────────────────────────────── \n",
      "[2025.09.09 10:57:31.005] INFO    Finished LabOne Q Compiler run.\n",
      "[2025.09.09 10:57:31.006] INFO    \u001b[1mTask 'compile_experiment': ended at 2025-09-09 01:57:31.006063Z\u001b[0m\n",
      "[2025.09.09 10:57:31.012] INFO    \u001b[1mTask 'run_experiment': started at 2025-09-09 01:57:31.012659Z\u001b[0m\n",
      "[2025.09.09 10:57:31.474] INFO    Starting near-time execution...\n",
      "[2025.09.09 10:57:31.740] CRITICAL Maximum delay via SHFQC/QA:dev12256:qa0's node is 131070.00 ns - for larger values, use the delay_signal property.\n"
     ]
    },
    {
     "name": "stderr",
     "output_type": "stream",
     "text": [
      "[2025.09.09 10:57:31.740] CRITICAL Maximum delay via SHFQC/QA:dev12256:qa0's node is 131070.00 ns - for larger values, use the delay_signal property.\n"
     ]
    },
    {
     "name": "stdout",
     "output_type": "stream",
     "text": [
      "[2025.09.09 10:57:31.851] ERROR   \u001b[1mTask 'run_experiment': failed at 2025-09-09 01:57:31.851487Z with: \u001b[0m\n"
     ]
    },
    {
     "name": "stderr",
     "output_type": "stream",
     "text": [
      "[2025.09.09 10:57:31.851] ERROR   \u001b[1mTask 'run_experiment': failed at 2025-09-09 01:57:31.851487Z with: \u001b[0m\n"
     ]
    },
    {
     "name": "stdout",
     "output_type": "stream",
     "text": [
      "[2025.09.09 10:57:31.852] ERROR   \u001b[1mLabOneQControllerException(\"Maximum delay via SHFQC/QA:dev12256:qa0's node is \u001b[0m\n"
     ]
    },
    {
     "name": "stderr",
     "output_type": "stream",
     "text": [
      "[2025.09.09 10:57:31.852] ERROR   \u001b[1mLabOneQControllerException(\"Maximum delay via SHFQC/QA:dev12256:qa0's node is \u001b[0m\n"
     ]
    },
    {
     "name": "stdout",
     "output_type": "stream",
     "text": [
      "[2025.09.09 10:57:31.853] ERROR   \u001b[1m131070.00 ns - for larger values, use the delay_signal property.\")\u001b[0m\n"
     ]
    },
    {
     "name": "stderr",
     "output_type": "stream",
     "text": [
      "[2025.09.09 10:57:31.853] ERROR   \u001b[1m131070.00 ns - for larger values, use the delay_signal property.\")\u001b[0m\n"
     ]
    },
    {
     "name": "stdout",
     "output_type": "stream",
     "text": [
      "[2025.09.09 10:57:31.854] INFO    \u001b[1mTask 'run_experiment': ended at 2025-09-09 01:57:31.854213Z\u001b[0m\n",
      "[2025.09.09 10:57:31.855] INFO    \u001b[1m ────────────────────────────────────────────────────────────────────────────── \u001b[0m\n",
      "[2025.09.09 10:57:31.855] INFO    \u001b[1m \u001b[0m\u001b[1m \u001b[0m\u001b[1mWorkflow 'experiment_workflow': execution ended at 2025-09-09 \u001b[0m\u001b[1m              \u001b[0m\u001b[1m \u001b[0m\u001b[1m \u001b[0m\n",
      "[2025.09.09 10:57:31.855] INFO    \u001b[1m \u001b[0m\u001b[1m \u001b[0m\u001b[1m01:57:31.855004Z\u001b[0m\u001b[1m                                                            \u001b[0m\u001b[1m \u001b[0m\u001b[1m \u001b[0m\n",
      "[2025.09.09 10:57:31.856] INFO    \u001b[1m ────────────────────────────────────────────────────────────────────────────── \u001b[0m\n"
     ]
    },
    {
     "ename": "LabOneQControllerException",
     "evalue": "Maximum delay via SHFQC/QA:dev12256:qa0's node is 131070.00 ns - for larger values, use the delay_signal property.",
     "output_type": "error",
     "traceback": [
      "\u001b[31m---------------------------------------------------------------------------\u001b[39m",
      "\u001b[31mLabOneQControllerException\u001b[39m                Traceback (most recent call last)",
      "\u001b[36mCell\u001b[39m\u001b[36m \u001b[39m\u001b[32mIn[7]\u001b[39m\u001b[32m, line 23\u001b[39m\n\u001b[32m     13\u001b[39m \u001b[38;5;66;03m######################################################################################\u001b[39;00m\n\u001b[32m     14\u001b[39m \u001b[38;5;66;03m# Build and run resonator_spectroscopy_amplitude wormflow\u001b[39;00m\n\u001b[32m     15\u001b[39m prop_delay = signal_propagation_delay.experiment_workflow(\n\u001b[32m     16\u001b[39m     session=session,\n\u001b[32m     17\u001b[39m     qpu=qpu,\n\u001b[32m   (...)\u001b[39m\u001b[32m     21\u001b[39m     options=options\n\u001b[32m     22\u001b[39m )\n\u001b[32m---> \u001b[39m\u001b[32m23\u001b[39m prop_delay_result=\u001b[43mprop_delay\u001b[49m\u001b[43m.\u001b[49m\u001b[43mrun\u001b[49m\u001b[43m(\u001b[49m\u001b[43m)\u001b[49m\n\u001b[32m     24\u001b[39m prop_delay_analysis_result = prop_delay_result.tasks[\u001b[33m\"\u001b[39m\u001b[33manalysis_workflow\u001b[39m\u001b[33m\"\u001b[39m]\n\u001b[32m     25\u001b[39m pprint(prop_delay_analysis_result.output)\n",
      "\u001b[36mFile \u001b[39m\u001b[32m~/JSAHN/qubit-experiment/.venv/lib/python3.12/site-packages/laboneq/workflow/core.py:218\u001b[39m, in \u001b[36mWorkflow.run\u001b[39m\u001b[34m(self, until)\u001b[39m\n\u001b[32m    214\u001b[39m \u001b[38;5;28;01mfor\u001b[39;00m logstore \u001b[38;5;129;01min\u001b[39;00m \u001b[38;5;28mself\u001b[39m._logstores():\n\u001b[32m    215\u001b[39m     state.add_recorder(\n\u001b[32m    216\u001b[39m         logstore.create_logbook(\u001b[38;5;28mself\u001b[39m, start_time=state.start_time)\n\u001b[32m    217\u001b[39m     )\n\u001b[32m--> \u001b[39m\u001b[32m218\u001b[39m \u001b[38;5;28;01mreturn\u001b[39;00m \u001b[38;5;28;43mself\u001b[39;49m\u001b[43m.\u001b[49m\u001b[43m_execute\u001b[49m\u001b[43m(\u001b[49m\u001b[43mstate\u001b[49m\u001b[43m)\u001b[49m\n",
      "\u001b[36mFile \u001b[39m\u001b[32m~/JSAHN/qubit-experiment/.venv/lib/python3.12/site-packages/laboneq/workflow/core.py:128\u001b[39m, in \u001b[36mWorkflow._execute\u001b[39m\u001b[34m(self, state)\u001b[39m\n\u001b[32m    126\u001b[39m \u001b[38;5;28;01mtry\u001b[39;00m:\n\u001b[32m    127\u001b[39m     \u001b[38;5;28;01mwith\u001b[39;00m executor.ExecutorStateContext.scoped(state):\n\u001b[32m--> \u001b[39m\u001b[32m128\u001b[39m         \u001b[38;5;28;43mself\u001b[39;49m\u001b[43m.\u001b[49m\u001b[43m_root\u001b[49m\u001b[43m.\u001b[49m\u001b[43mexecute\u001b[49m\u001b[43m(\u001b[49m\u001b[43mstate\u001b[49m\u001b[43m)\u001b[49m\n\u001b[32m    129\u001b[39m \u001b[38;5;28;01mexcept\u001b[39;00m \u001b[38;5;167;01mException\u001b[39;00m:\n\u001b[32m    130\u001b[39m     \u001b[38;5;28;01mif\u001b[39;00m \u001b[38;5;28mself\u001b[39m._recovery \u001b[38;5;129;01mis\u001b[39;00m \u001b[38;5;129;01mnot\u001b[39;00m \u001b[38;5;28;01mNone\u001b[39;00m:\n",
      "\u001b[36mFile \u001b[39m\u001b[32m~/JSAHN/qubit-experiment/.venv/lib/python3.12/site-packages/laboneq/workflow/blocks/workflow_block.py:159\u001b[39m, in \u001b[36mWorkflowBlock.execute\u001b[39m\u001b[34m(self, executor)\u001b[39m\n\u001b[32m    154\u001b[39m     \u001b[38;5;28;01mif\u001b[39;00m executor.get_block_status(block) \u001b[38;5;129;01min\u001b[39;00m (\n\u001b[32m    155\u001b[39m         ExecutionStatus.FINISHED,\n\u001b[32m    156\u001b[39m         ExecutionStatus.SKIPPED,\n\u001b[32m    157\u001b[39m     ):\n\u001b[32m    158\u001b[39m         \u001b[38;5;28;01mcontinue\u001b[39;00m\n\u001b[32m--> \u001b[39m\u001b[32m159\u001b[39m     \u001b[43mblock\u001b[49m\u001b[43m.\u001b[49m\u001b[43mexecute\u001b[49m\u001b[43m(\u001b[49m\u001b[43mexecutor\u001b[49m\u001b[43m)\u001b[49m\n\u001b[32m    160\u001b[39m body_loop_finished = \u001b[38;5;28;01mTrue\u001b[39;00m\n\u001b[32m    161\u001b[39m executor.set_block_status(\u001b[38;5;28mself\u001b[39m, ExecutionStatus.FINISHED)\n",
      "\u001b[36mFile \u001b[39m\u001b[32m~/JSAHN/qubit-experiment/.venv/lib/python3.12/site-packages/laboneq/workflow/blocks/task_block.py:61\u001b[39m, in \u001b[36mTaskBlock.execute\u001b[39m\u001b[34m(self, executor)\u001b[39m\n\u001b[32m     59\u001b[39m     \u001b[38;5;28mself\u001b[39m._exucute_hidden(executor)\n\u001b[32m     60\u001b[39m \u001b[38;5;28;01melse\u001b[39;00m:\n\u001b[32m---> \u001b[39m\u001b[32m61\u001b[39m     \u001b[38;5;28;43mself\u001b[39;49m\u001b[43m.\u001b[49m\u001b[43m_execute_visible\u001b[49m\u001b[43m(\u001b[49m\u001b[43mexecutor\u001b[49m\u001b[43m)\u001b[49m\n",
      "\u001b[36mFile \u001b[39m\u001b[32m~/JSAHN/qubit-experiment/.venv/lib/python3.12/site-packages/laboneq/workflow/blocks/task_block.py:91\u001b[39m, in \u001b[36mTaskBlock._execute_visible\u001b[39m\u001b[34m(self, executor)\u001b[39m\n\u001b[32m     89\u001b[39m executor.set_block_status(\u001b[38;5;28mself\u001b[39m, ExecutionStatus.IN_PROGRESS)\n\u001b[32m     90\u001b[39m \u001b[38;5;28;01mtry\u001b[39;00m:\n\u001b[32m---> \u001b[39m\u001b[32m91\u001b[39m     task._output = \u001b[38;5;28;43mself\u001b[39;49m\u001b[43m.\u001b[49m\u001b[43mtask\u001b[49m\u001b[43m.\u001b[49m\u001b[43mfunc\u001b[49m\u001b[43m(\u001b[49m\u001b[43m*\u001b[49m\u001b[43m*\u001b[49m\u001b[43mparams\u001b[49m\u001b[43m)\u001b[49m\n\u001b[32m     92\u001b[39m \u001b[38;5;28;01mexcept\u001b[39;00m \u001b[38;5;167;01mException\u001b[39;00m \u001b[38;5;28;01mas\u001b[39;00m error:\n\u001b[32m     93\u001b[39m     task._end_time = utc_now()\n",
      "\u001b[36mFile \u001b[39m\u001b[32m~/JSAHN/qubit-experiment/.venv/lib/python3.12/site-packages/laboneq/workflow/tasks/run_experiment.py:100\u001b[39m, in \u001b[36mrun_experiment\u001b[39m\u001b[34m(session, compiled_experiment, options)\u001b[39m\n\u001b[32m     90\u001b[39m     warnings.warn(\n\u001b[32m     91\u001b[39m         \u001b[33m\"\u001b[39m\u001b[33mThe \u001b[39m\u001b[33m'\u001b[39m\u001b[33mreturn_legacy_results\u001b[39m\u001b[33m'\u001b[39m\u001b[33m option is deprecated.\u001b[39m\u001b[33m\"\u001b[39m\n\u001b[32m     92\u001b[39m         \u001b[33m\"\u001b[39m\u001b[33m Use the \u001b[39m\u001b[33m'\u001b[39m\u001b[33minclude_results_metadata\u001b[39m\u001b[33m'\u001b[39m\u001b[33m option instead.\u001b[39m\u001b[33m\"\u001b[39m,\n\u001b[32m     93\u001b[39m         \u001b[38;5;167;01mFutureWarning\u001b[39;00m,\n\u001b[32m     94\u001b[39m         stacklevel=\u001b[32m2\u001b[39m,\n\u001b[32m     95\u001b[39m     )\n\u001b[32m     97\u001b[39m include_results_metadata = (\n\u001b[32m     98\u001b[39m     opts.include_results_metadata \u001b[38;5;129;01mor\u001b[39;00m opts.return_legacy_results\n\u001b[32m     99\u001b[39m )\n\u001b[32m--> \u001b[39m\u001b[32m100\u001b[39m results = \u001b[43msession\u001b[49m\u001b[43m.\u001b[49m\u001b[43mrun\u001b[49m\u001b[43m(\u001b[49m\n\u001b[32m    101\u001b[39m \u001b[43m    \u001b[49m\u001b[43mcompiled_experiment\u001b[49m\u001b[43m,\u001b[49m\n\u001b[32m    102\u001b[39m \u001b[43m    \u001b[49m\u001b[43minclude_results_metadata\u001b[49m\u001b[43m=\u001b[49m\u001b[43minclude_results_metadata\u001b[49m\u001b[43m,\u001b[49m\n\u001b[32m    103\u001b[39m \u001b[43m\u001b[49m\u001b[43m)\u001b[49m\n\u001b[32m    104\u001b[39m \u001b[38;5;28;01mreturn\u001b[39;00m results\n",
      "\u001b[36mFile \u001b[39m\u001b[32m~/JSAHN/qubit-experiment/.venv/lib/python3.12/site-packages/laboneq/dsl/session.py:475\u001b[39m, in \u001b[36mSession.run\u001b[39m\u001b[34m(self, experiment, include_results_metadata)\u001b[39m\n\u001b[32m    471\u001b[39m \u001b[38;5;28;01mtry\u001b[39;00m:\n\u001b[32m    472\u001b[39m     handle = controller.submit_compiled(\n\u001b[32m    473\u001b[39m         \u001b[38;5;28mself\u001b[39m.compiled_experiment.scheduled_experiment\n\u001b[32m    474\u001b[39m     )\n\u001b[32m--> \u001b[39m\u001b[32m475\u001b[39m     \u001b[43mcontroller\u001b[49m\u001b[43m.\u001b[49m\u001b[43mwait_submission\u001b[49m\u001b[43m(\u001b[49m\u001b[43mhandle\u001b[49m\u001b[43m)\u001b[49m\n\u001b[32m    476\u001b[39m     controller.stop_workers()\n\u001b[32m    477\u001b[39m \u001b[38;5;28;01mfinally\u001b[39;00m:\n",
      "\u001b[36mFile \u001b[39m\u001b[32m~/JSAHN/qubit-experiment/.venv/lib/python3.12/site-packages/laboneq/controller/controller.py:356\u001b[39m, in \u001b[36mController.wait_submission\u001b[39m\u001b[34m(self, submission)\u001b[39m\n\u001b[32m    355\u001b[39m \u001b[38;5;28;01mdef\u001b[39;00m\u001b[38;5;250m \u001b[39m\u001b[34mwait_submission\u001b[39m(\u001b[38;5;28mself\u001b[39m, submission: ControllerSubmission):\n\u001b[32m--> \u001b[39m\u001b[32m356\u001b[39m     \u001b[38;5;28;43mself\u001b[39;49m\u001b[43m.\u001b[49m\u001b[43m_event_loop\u001b[49m\u001b[43m.\u001b[49m\u001b[43mrun\u001b[49m\u001b[43m(\u001b[49m\u001b[38;5;28;43mself\u001b[39;49m\u001b[43m.\u001b[49m\u001b[43m_wait_submission_async\u001b[49m\u001b[43m,\u001b[49m\u001b[43m \u001b[49m\u001b[43msubmission\u001b[49m\u001b[43m=\u001b[49m\u001b[43msubmission\u001b[49m\u001b[43m)\u001b[49m\n",
      "\u001b[36mFile \u001b[39m\u001b[32m~/JSAHN/qubit-experiment/.venv/lib/python3.12/site-packages/laboneq/core/utilities/async_helpers.py:39\u001b[39m, in \u001b[36mEventLoopHolder.run\u001b[39m\u001b[34m(self, func, *args, **kwargs)\u001b[39m\n\u001b[32m     37\u001b[39m \u001b[38;5;28mself\u001b[39m._ensure_event_loop()\n\u001b[32m     38\u001b[39m \u001b[38;5;28;01mwith\u001b[39;00m \u001b[38;5;28mself\u001b[39m._override_sigint_handler():\n\u001b[32m---> \u001b[39m\u001b[32m39\u001b[39m     \u001b[38;5;28;01mreturn\u001b[39;00m \u001b[38;5;28;43mself\u001b[39;49m\u001b[43m.\u001b[49m\u001b[43m_wait_with_yielding\u001b[49m\u001b[43m(\u001b[49m\n\u001b[32m     40\u001b[39m \u001b[43m        \u001b[49m\u001b[43masyncio\u001b[49m\u001b[43m.\u001b[49m\u001b[43mrun_coroutine_threadsafe\u001b[49m\u001b[43m(\u001b[49m\u001b[43mfunc\u001b[49m\u001b[43m(\u001b[49m\u001b[43m*\u001b[49m\u001b[43margs\u001b[49m\u001b[43m,\u001b[49m\u001b[43m \u001b[49m\u001b[43m*\u001b[49m\u001b[43m*\u001b[49m\u001b[43mkwargs\u001b[49m\u001b[43m)\u001b[49m\u001b[43m,\u001b[49m\u001b[43m \u001b[49m\u001b[38;5;28;43mself\u001b[39;49m\u001b[43m.\u001b[49m\u001b[43m_loop\u001b[49m\u001b[43m)\u001b[49m\n\u001b[32m     41\u001b[39m \u001b[43m    \u001b[49m\u001b[43m)\u001b[49m\n",
      "\u001b[36mFile \u001b[39m\u001b[32m~/JSAHN/qubit-experiment/.venv/lib/python3.12/site-packages/laboneq/core/utilities/async_helpers.py:80\u001b[39m, in \u001b[36mEventLoopHolder._wait_with_yielding\u001b[39m\u001b[34m(self, future)\u001b[39m\n\u001b[32m     76\u001b[39m \u001b[38;5;28;01mwhile\u001b[39;00m \u001b[38;5;28;01mTrue\u001b[39;00m:\n\u001b[32m     77\u001b[39m     \u001b[38;5;28;01mtry\u001b[39;00m:\n\u001b[32m     78\u001b[39m         \u001b[38;5;66;03m# Exit future wait every 0.1s to handle SIGINT, balancing\u001b[39;00m\n\u001b[32m     79\u001b[39m         \u001b[38;5;66;03m# responsiveness and CPU load.\u001b[39;00m\n\u001b[32m---> \u001b[39m\u001b[32m80\u001b[39m         \u001b[38;5;28;01mreturn\u001b[39;00m \u001b[43mfuture\u001b[49m\u001b[43m.\u001b[49m\u001b[43mresult\u001b[49m\u001b[43m(\u001b[49m\u001b[43mtimeout\u001b[49m\u001b[43m=\u001b[49m\u001b[32;43m0.1\u001b[39;49m\u001b[43m)\u001b[49m  \u001b[38;5;66;03m# @IgnoreException\u001b[39;00m\n\u001b[32m     81\u001b[39m     \u001b[38;5;28;01mexcept\u001b[39;00m concurrent.futures.TimeoutError:  \u001b[38;5;66;03m# noqa: PERF203\u001b[39;00m\n\u001b[32m     82\u001b[39m         \u001b[38;5;28;01mpass\u001b[39;00m\n",
      "\u001b[36mFile \u001b[39m\u001b[32m/Library/Frameworks/Python.framework/Versions/3.12/lib/python3.12/concurrent/futures/_base.py:456\u001b[39m, in \u001b[36mFuture.result\u001b[39m\u001b[34m(self, timeout)\u001b[39m\n\u001b[32m    454\u001b[39m     \u001b[38;5;28;01mraise\u001b[39;00m CancelledError()\n\u001b[32m    455\u001b[39m \u001b[38;5;28;01melif\u001b[39;00m \u001b[38;5;28mself\u001b[39m._state == FINISHED:\n\u001b[32m--> \u001b[39m\u001b[32m456\u001b[39m     \u001b[38;5;28;01mreturn\u001b[39;00m \u001b[38;5;28;43mself\u001b[39;49m\u001b[43m.\u001b[49m\u001b[43m__get_result\u001b[49m\u001b[43m(\u001b[49m\u001b[43m)\u001b[49m\n\u001b[32m    457\u001b[39m \u001b[38;5;28;01melse\u001b[39;00m:\n\u001b[32m    458\u001b[39m     \u001b[38;5;28;01mraise\u001b[39;00m \u001b[38;5;167;01mTimeoutError\u001b[39;00m()\n",
      "\u001b[36mFile \u001b[39m\u001b[32m/Library/Frameworks/Python.framework/Versions/3.12/lib/python3.12/concurrent/futures/_base.py:401\u001b[39m, in \u001b[36mFuture.__get_result\u001b[39m\u001b[34m(self)\u001b[39m\n\u001b[32m    399\u001b[39m \u001b[38;5;28;01mif\u001b[39;00m \u001b[38;5;28mself\u001b[39m._exception:\n\u001b[32m    400\u001b[39m     \u001b[38;5;28;01mtry\u001b[39;00m:\n\u001b[32m--> \u001b[39m\u001b[32m401\u001b[39m         \u001b[38;5;28;01mraise\u001b[39;00m \u001b[38;5;28mself\u001b[39m._exception\n\u001b[32m    402\u001b[39m     \u001b[38;5;28;01mfinally\u001b[39;00m:\n\u001b[32m    403\u001b[39m         \u001b[38;5;66;03m# Break a reference cycle with the exception in self._exception\u001b[39;00m\n\u001b[32m    404\u001b[39m         \u001b[38;5;28mself\u001b[39m = \u001b[38;5;28;01mNone\u001b[39;00m\n",
      "\u001b[36mFile \u001b[39m\u001b[32m~/JSAHN/qubit-experiment/.venv/lib/python3.12/site-packages/laboneq/controller/controller.py:377\u001b[39m, in \u001b[36mController._wait_submission_async\u001b[39m\u001b[34m(self, submission)\u001b[39m\n\u001b[32m    376\u001b[39m \u001b[38;5;28;01masync\u001b[39;00m \u001b[38;5;28;01mdef\u001b[39;00m\u001b[38;5;250m \u001b[39m\u001b[34m_wait_submission_async\u001b[39m(\u001b[38;5;28mself\u001b[39m, submission: ControllerSubmission):\n\u001b[32m--> \u001b[39m\u001b[32m377\u001b[39m     \u001b[38;5;28;01mawait\u001b[39;00m submission.completion_future\n\u001b[32m    378\u001b[39m     \u001b[38;5;28;01mawait\u001b[39;00m submission.temp_run_future\n",
      "\u001b[36mFile \u001b[39m\u001b[32m~/JSAHN/qubit-experiment/.venv/lib/python3.12/site-packages/laboneq/controller/controller.py:386\u001b[39m, in \u001b[36mController._run_one_experiment\u001b[39m\u001b[34m(self, submission)\u001b[39m\n\u001b[32m    384\u001b[39m \u001b[38;5;28;01masync\u001b[39;00m \u001b[38;5;28;01mdef\u001b[39;00m\u001b[38;5;250m \u001b[39m\u001b[34m_run_one_experiment\u001b[39m(\u001b[38;5;28mself\u001b[39m, submission: ControllerSubmission):\n\u001b[32m    385\u001b[39m     \u001b[38;5;28;01mtry\u001b[39;00m:\n\u001b[32m--> \u001b[39m\u001b[32m386\u001b[39m         \u001b[38;5;28;01mawait\u001b[39;00m \u001b[38;5;28mself\u001b[39m._execute_compiled_async(submission=submission)\n\u001b[32m    387\u001b[39m     \u001b[38;5;28;01mexcept\u001b[39;00m \u001b[38;5;167;01mBaseException\u001b[39;00m \u001b[38;5;28;01mas\u001b[39;00m e:\n\u001b[32m    388\u001b[39m         submission.completion_future.set_exception(e)\n",
      "\u001b[36mFile \u001b[39m\u001b[32m~/JSAHN/qubit-experiment/.venv/lib/python3.12/site-packages/laboneq/controller/controller.py:427\u001b[39m, in \u001b[36mController._execute_compiled_async\u001b[39m\u001b[34m(self, submission)\u001b[39m\n\u001b[32m    425\u001b[39m _logger.info(\u001b[33m\"\u001b[39m\u001b[33mStarting near-time execution...\u001b[39m\u001b[33m\"\u001b[39m)\n\u001b[32m    426\u001b[39m \u001b[38;5;28;01mtry\u001b[39;00m:\n\u001b[32m--> \u001b[39m\u001b[32m427\u001b[39m     \u001b[38;5;28;01mawait\u001b[39;00m NearTimeRunner(\n\u001b[32m    428\u001b[39m         controller=\u001b[38;5;28mself\u001b[39m,\n\u001b[32m    429\u001b[39m         parent_session_ref=\u001b[38;5;28mself\u001b[39m._parent_session_ref,\n\u001b[32m    430\u001b[39m         execution_context=execution_context,\n\u001b[32m    431\u001b[39m         recipe_data=recipe_data,\n\u001b[32m    432\u001b[39m     ).run(recipe_data.execution)\n\u001b[32m    433\u001b[39m \u001b[38;5;28;01mexcept\u001b[39;00m AbortExecution:\n\u001b[32m    434\u001b[39m     \u001b[38;5;66;03m# eat the exception\u001b[39;00m\n\u001b[32m    435\u001b[39m     \u001b[38;5;28;01mpass\u001b[39;00m\n",
      "\u001b[36mFile \u001b[39m\u001b[32m~/JSAHN/qubit-experiment/.venv/lib/python3.12/site-packages/laboneq/executor/executor.py:546\u001b[39m, in \u001b[36mAsyncExecutorBase.run\u001b[39m\u001b[34m(self, root_sequence)\u001b[39m\n\u001b[32m    544\u001b[39m scope = ExecutionScope(\u001b[38;5;28;01mNone\u001b[39;00m, \u001b[38;5;28mself\u001b[39m)\n\u001b[32m    545\u001b[39m \u001b[38;5;28;01mfor\u001b[39;00m notification \u001b[38;5;129;01min\u001b[39;00m root_sequence.run(scope):\n\u001b[32m--> \u001b[39m\u001b[32m546\u001b[39m     \u001b[38;5;28;01mawait\u001b[39;00m \u001b[38;5;28mself\u001b[39m._handlers_map[notification.statement_type](**notification.args)\n",
      "\u001b[36mFile \u001b[39m\u001b[32m~/JSAHN/qubit-experiment/.venv/lib/python3.12/site-packages/laboneq/controller/near_time_runner.py:127\u001b[39m, in \u001b[36mNearTimeRunner.rt_entry_handler\u001b[39m\u001b[34m(self, count, uid, averaging_mode, acquisition_type)\u001b[39m\n\u001b[32m    120\u001b[39m \u001b[38;5;28;01masync\u001b[39;00m \u001b[38;5;28;01mdef\u001b[39;00m\u001b[38;5;250m \u001b[39m\u001b[34mrt_entry_handler\u001b[39m(\n\u001b[32m    121\u001b[39m     \u001b[38;5;28mself\u001b[39m,\n\u001b[32m    122\u001b[39m     count: \u001b[38;5;28mint\u001b[39m,\n\u001b[32m   (...)\u001b[39m\u001b[32m    125\u001b[39m     acquisition_type: AcquisitionType,\n\u001b[32m    126\u001b[39m ):\n\u001b[32m--> \u001b[39m\u001b[32m127\u001b[39m     \u001b[38;5;28;01mawait\u001b[39;00m \u001b[38;5;28mself\u001b[39m.controller._prepare_nt_step(\n\u001b[32m    128\u001b[39m         recipe_data=\u001b[38;5;28mself\u001b[39m.recipe_data,\n\u001b[32m    129\u001b[39m         sweep_params_tracker=\u001b[38;5;28mself\u001b[39m.sweep_params_tracker,\n\u001b[32m    130\u001b[39m         user_set_nodes=\u001b[38;5;28mself\u001b[39m.user_set_nodes,\n\u001b[32m    131\u001b[39m         nt_step=\u001b[38;5;28mself\u001b[39m.nt_step(),\n\u001b[32m    132\u001b[39m     )\n\u001b[32m    133\u001b[39m     \u001b[38;5;28mself\u001b[39m.sweep_params_tracker.clear_for_next_step()\n\u001b[32m    134\u001b[39m     \u001b[38;5;28mself\u001b[39m.user_set_nodes = NodeCollector()\n",
      "\u001b[36mFile \u001b[39m\u001b[32m~/JSAHN/qubit-experiment/.venv/lib/python3.12/site-packages/laboneq/controller/controller.py:170\u001b[39m, in \u001b[36mController._prepare_nt_step\u001b[39m\u001b[34m(self, recipe_data, sweep_params_tracker, user_set_nodes, nt_step)\u001b[39m\n\u001b[32m    168\u001b[39m \u001b[38;5;28;01mfor\u001b[39;00m param, value \u001b[38;5;129;01min\u001b[39;00m sweep_params_tracker.updated_params():\n\u001b[32m    169\u001b[39m     recipe_data.attribute_value_tracker.update(param, value)\n\u001b[32m--> \u001b[39m\u001b[32m170\u001b[39m \u001b[38;5;28;01mawait\u001b[39;00m \u001b[38;5;28mself\u001b[39m._devices.for_each(\n\u001b[32m    171\u001b[39m     DeviceBase.set_nt_step_nodes, recipe_data, user_set_nodes\n\u001b[32m    172\u001b[39m )\n\u001b[32m    173\u001b[39m recipe_data.attribute_value_tracker.reset_updated()\n\u001b[32m    175\u001b[39m \u001b[38;5;66;03m# Feedback\u001b[39;00m\n",
      "\u001b[36mFile \u001b[39m\u001b[32m~/JSAHN/qubit-experiment/.venv/lib/python3.12/site-packages/laboneq/controller/devices/device_collection.py:329\u001b[39m, in \u001b[36mDeviceCollection.for_each\u001b[39m\u001b[34m(self, device_method, *args, **kwargs)\u001b[39m\n\u001b[32m    322\u001b[39m \u001b[38;5;28;01masync\u001b[39;00m \u001b[38;5;28;01mdef\u001b[39;00m\u001b[38;5;250m \u001b[39m\u001b[34mfor_each\u001b[39m(\n\u001b[32m    323\u001b[39m     \u001b[38;5;28mself\u001b[39m,\n\u001b[32m    324\u001b[39m     device_method: Callable[..., Coroutine[Any, Any, \u001b[38;5;28;01mNone\u001b[39;00m]],\n\u001b[32m    325\u001b[39m     *args,\n\u001b[32m    326\u001b[39m     **kwargs,\n\u001b[32m    327\u001b[39m ):\n\u001b[32m    328\u001b[39m \u001b[38;5;250m    \u001b[39m\u001b[33;03m\"\"\"Call an async method on all devices of a given class in parallel.\"\"\"\u001b[39;00m\n\u001b[32m--> \u001b[39m\u001b[32m329\u001b[39m     \u001b[38;5;28;01mawait\u001b[39;00m for_each(\u001b[38;5;28mself\u001b[39m._devices.values(), device_method, *args, **kwargs)\n",
      "\u001b[36mFile \u001b[39m\u001b[32m~/JSAHN/qubit-experiment/.venv/lib/python3.12/site-packages/laboneq/controller/utilities/for_each.py:45\u001b[39m, in \u001b[36mfor_each\u001b[39m\u001b[34m(targets, method, *args, **kwargs)\u001b[39m\n\u001b[32m     35\u001b[39m \u001b[38;5;28;01masync\u001b[39;00m \u001b[38;5;28;01mdef\u001b[39;00m\u001b[38;5;250m \u001b[39m\u001b[34mfor_each\u001b[39m(\n\u001b[32m     36\u001b[39m     targets: Iterable[Any],\n\u001b[32m     37\u001b[39m     method: Callable[..., Coroutine[Any, Any, Ret]],\n\u001b[32m     38\u001b[39m     *args,\n\u001b[32m     39\u001b[39m     **kwargs,\n\u001b[32m     40\u001b[39m ) -> \u001b[38;5;28mlist\u001b[39m[Ret]:\n\u001b[32m     41\u001b[39m \u001b[38;5;250m    \u001b[39m\u001b[33;03m\"\"\"Call an async method on each object returned by the targets iterator,\u001b[39;00m\n\u001b[32m     42\u001b[39m \u001b[33;03m    if the object’s class matches the class that defines the method. Gather\u001b[39;00m\n\u001b[32m     43\u001b[39m \u001b[33;03m    the results and return them as a list.\u001b[39;00m\n\u001b[32m     44\u001b[39m \u001b[33;03m    \"\"\"\u001b[39;00m\n\u001b[32m---> \u001b[39m\u001b[32m45\u001b[39m     \u001b[38;5;28;01mreturn\u001b[39;00m \u001b[38;5;28;01mawait\u001b[39;00m _gather(*for_each_sync(targets, method, *args, **kwargs))\n",
      "\u001b[36mFile \u001b[39m\u001b[32m~/JSAHN/qubit-experiment/.venv/lib/python3.12/site-packages/laboneq/controller/devices/async_support.py:444\u001b[39m, in \u001b[36m_gather\u001b[39m\u001b[34m(return_exceptions, *args)\u001b[39m\n\u001b[32m    442\u001b[39m         \u001b[38;5;28;01mraise\u001b[39;00m failures[\u001b[32m0\u001b[39m]\n\u001b[32m    443\u001b[39m     \u001b[38;5;28;01mreturn\u001b[39;00m results\n\u001b[32m--> \u001b[39m\u001b[32m444\u001b[39m \u001b[38;5;28;01mreturn\u001b[39;00m \u001b[38;5;28;01mawait\u001b[39;00m asyncio.gather(*args, return_exceptions=return_exceptions)\n",
      "\u001b[36mFile \u001b[39m\u001b[32m~/JSAHN/qubit-experiment/.venv/lib/python3.12/site-packages/laboneq/controller/devices/device_zi.py:612\u001b[39m, in \u001b[36mDeviceBase.set_nt_step_nodes\u001b[39m\u001b[34m(self, recipe_data, user_set_nodes)\u001b[39m\n\u001b[32m    608\u001b[39m \u001b[38;5;28;01masync\u001b[39;00m \u001b[38;5;28;01mdef\u001b[39;00m\u001b[38;5;250m \u001b[39m\u001b[34mset_nt_step_nodes\u001b[39m(\n\u001b[32m    609\u001b[39m     \u001b[38;5;28mself\u001b[39m, recipe_data: RecipeData, user_set_nodes: NodeCollector\n\u001b[32m    610\u001b[39m ):\n\u001b[32m    611\u001b[39m     attributes = recipe_data.attribute_value_tracker.device_view(\u001b[38;5;28mself\u001b[39m.uid)\n\u001b[32m--> \u001b[39m\u001b[32m612\u001b[39m     \u001b[38;5;28;01mawait\u001b[39;00m _gather(\n\u001b[32m    613\u001b[39m         \u001b[38;5;28mself\u001b[39m._set_user_nodes(user_set_nodes),\n\u001b[32m    614\u001b[39m         \u001b[38;5;28mself\u001b[39m._set_oscs(recipe_data, attributes),\n\u001b[32m    615\u001b[39m         \u001b[38;5;28mself\u001b[39m._set_nt_step_nodes(recipe_data, attributes),\n\u001b[32m    616\u001b[39m     )\n",
      "\u001b[36mFile \u001b[39m\u001b[32m~/JSAHN/qubit-experiment/.venv/lib/python3.12/site-packages/laboneq/controller/devices/async_support.py:444\u001b[39m, in \u001b[36m_gather\u001b[39m\u001b[34m(return_exceptions, *args)\u001b[39m\n\u001b[32m    442\u001b[39m         \u001b[38;5;28;01mraise\u001b[39;00m failures[\u001b[32m0\u001b[39m]\n\u001b[32m    443\u001b[39m     \u001b[38;5;28;01mreturn\u001b[39;00m results\n\u001b[32m--> \u001b[39m\u001b[32m444\u001b[39m \u001b[38;5;28;01mreturn\u001b[39;00m \u001b[38;5;28;01mawait\u001b[39;00m asyncio.gather(*args, return_exceptions=return_exceptions)\n",
      "\u001b[36mFile \u001b[39m\u001b[32m~/JSAHN/qubit-experiment/.venv/lib/python3.12/site-packages/laboneq/controller/devices/device_shfqa.py:407\u001b[39m, in \u001b[36mDeviceSHFQA._set_nt_step_nodes\u001b[39m\u001b[34m(self, recipe_data, attributes)\u001b[39m\n\u001b[32m    404\u001b[39m \u001b[38;5;28;01masync\u001b[39;00m \u001b[38;5;28;01mdef\u001b[39;00m\u001b[38;5;250m \u001b[39m\u001b[34m_set_nt_step_nodes\u001b[39m(\n\u001b[32m    405\u001b[39m     \u001b[38;5;28mself\u001b[39m, recipe_data: RecipeData, attributes: DeviceAttributesView\n\u001b[32m    406\u001b[39m ):\n\u001b[32m--> \u001b[39m\u001b[32m407\u001b[39m     \u001b[38;5;28;01mawait\u001b[39;00m for_each(\n\u001b[32m    408\u001b[39m         \u001b[38;5;28mself\u001b[39m.all_channels(),\n\u001b[32m    409\u001b[39m         ChannelBase.set_nt_step_nodes,\n\u001b[32m    410\u001b[39m         recipe_data=recipe_data,\n\u001b[32m    411\u001b[39m         attributes=attributes,\n\u001b[32m    412\u001b[39m     )\n",
      "\u001b[36mFile \u001b[39m\u001b[32m~/JSAHN/qubit-experiment/.venv/lib/python3.12/site-packages/laboneq/controller/utilities/for_each.py:45\u001b[39m, in \u001b[36mfor_each\u001b[39m\u001b[34m(targets, method, *args, **kwargs)\u001b[39m\n\u001b[32m     35\u001b[39m \u001b[38;5;28;01masync\u001b[39;00m \u001b[38;5;28;01mdef\u001b[39;00m\u001b[38;5;250m \u001b[39m\u001b[34mfor_each\u001b[39m(\n\u001b[32m     36\u001b[39m     targets: Iterable[Any],\n\u001b[32m     37\u001b[39m     method: Callable[..., Coroutine[Any, Any, Ret]],\n\u001b[32m     38\u001b[39m     *args,\n\u001b[32m     39\u001b[39m     **kwargs,\n\u001b[32m     40\u001b[39m ) -> \u001b[38;5;28mlist\u001b[39m[Ret]:\n\u001b[32m     41\u001b[39m \u001b[38;5;250m    \u001b[39m\u001b[33;03m\"\"\"Call an async method on each object returned by the targets iterator,\u001b[39;00m\n\u001b[32m     42\u001b[39m \u001b[33;03m    if the object’s class matches the class that defines the method. Gather\u001b[39;00m\n\u001b[32m     43\u001b[39m \u001b[33;03m    the results and return them as a list.\u001b[39;00m\n\u001b[32m     44\u001b[39m \u001b[33;03m    \"\"\"\u001b[39;00m\n\u001b[32m---> \u001b[39m\u001b[32m45\u001b[39m     \u001b[38;5;28;01mreturn\u001b[39;00m \u001b[38;5;28;01mawait\u001b[39;00m _gather(*for_each_sync(targets, method, *args, **kwargs))\n",
      "\u001b[36mFile \u001b[39m\u001b[32m~/JSAHN/qubit-experiment/.venv/lib/python3.12/site-packages/laboneq/controller/devices/async_support.py:444\u001b[39m, in \u001b[36m_gather\u001b[39m\u001b[34m(return_exceptions, *args)\u001b[39m\n\u001b[32m    442\u001b[39m         \u001b[38;5;28;01mraise\u001b[39;00m failures[\u001b[32m0\u001b[39m]\n\u001b[32m    443\u001b[39m     \u001b[38;5;28;01mreturn\u001b[39;00m results\n\u001b[32m--> \u001b[39m\u001b[32m444\u001b[39m \u001b[38;5;28;01mreturn\u001b[39;00m \u001b[38;5;28;01mawait\u001b[39;00m asyncio.gather(*args, return_exceptions=return_exceptions)\n",
      "\u001b[36mFile \u001b[39m\u001b[32m~/JSAHN/qubit-experiment/.venv/lib/python3.12/site-packages/laboneq/controller/devices/qachannel.py:308\u001b[39m, in \u001b[36mQAChannel.set_nt_step_nodes\u001b[39m\u001b[34m(self, recipe_data, attributes)\u001b[39m\n\u001b[32m    304\u001b[39m     nc.add(output_delay_path, output_delay_rounded)\n\u001b[32m    306\u001b[39m \u001b[38;5;28;01mif\u001b[39;00m set_input:\n\u001b[32m    307\u001b[39m     measurement_delay_rounded = (\n\u001b[32m--> \u001b[39m\u001b[32m308\u001b[39m         \u001b[43mdelay_to_rounded_samples\u001b[49m\u001b[43m(\u001b[49m\n\u001b[32m    309\u001b[39m \u001b[43m            \u001b[49m\u001b[43mch_repr\u001b[49m\u001b[43m=\u001b[49m\u001b[38;5;28;43mself\u001b[39;49m\u001b[43m.\u001b[49m\u001b[43m_unit_repr\u001b[49m\u001b[43m,\u001b[49m\n\u001b[32m    310\u001b[39m \u001b[43m            \u001b[49m\u001b[43mdelay\u001b[49m\u001b[43m=\u001b[49m\u001b[43mmeasurement_delay\u001b[49m\u001b[43m,\u001b[49m\n\u001b[32m    311\u001b[39m \u001b[43m            \u001b[49m\u001b[43msample_frequency_hz\u001b[49m\u001b[43m=\u001b[49m\u001b[43mSAMPLE_FREQUENCY_HZ\u001b[49m\u001b[43m,\u001b[49m\n\u001b[32m    312\u001b[39m \u001b[43m            \u001b[49m\u001b[43mgranularity_samples\u001b[49m\u001b[43m=\u001b[49m\u001b[43mDELAY_NODE_GRANULARITY_SAMPLES\u001b[49m\u001b[43m,\u001b[49m\n\u001b[32m    313\u001b[39m \u001b[43m            \u001b[49m\u001b[43mmax_node_delay_samples\u001b[49m\u001b[43m=\u001b[49m\u001b[43mmax_integrator_delay\u001b[49m\u001b[43m,\u001b[49m\n\u001b[32m    314\u001b[39m \u001b[43m        \u001b[49m\u001b[43m)\u001b[49m\n\u001b[32m    315\u001b[39m         / SAMPLE_FREQUENCY_HZ\n\u001b[32m    316\u001b[39m     )\n\u001b[32m    317\u001b[39m     \u001b[38;5;28;01mif\u001b[39;00m acquisition_type == AcquisitionType.RAW:\n\u001b[32m    318\u001b[39m         nc.extend(\n\u001b[32m    319\u001b[39m             \u001b[38;5;66;03m# Scopes do not actually belong to the QA channel, but\u001b[39;00m\n\u001b[32m    320\u001b[39m             \u001b[38;5;66;03m# that's how it was implemented in the past.\u001b[39;00m\n\u001b[32m   (...)\u001b[39m\u001b[32m    325\u001b[39m             )\n\u001b[32m    326\u001b[39m         )\n",
      "\u001b[36mFile \u001b[39m\u001b[32m~/JSAHN/qubit-experiment/.venv/lib/python3.12/site-packages/laboneq/controller/devices/device_zi.py:125\u001b[39m, in \u001b[36mdelay_to_rounded_samples\u001b[39m\u001b[34m(ch_repr, delay, sample_frequency_hz, granularity_samples, max_node_delay_samples)\u001b[39m\n\u001b[32m    120\u001b[39m delay_rounded = (\n\u001b[32m    121\u001b[39m     math.ceil(delay_samples / granularity_samples + \u001b[32m0.5\u001b[39m) - \u001b[32m1\u001b[39m\n\u001b[32m    122\u001b[39m ) * granularity_samples\n\u001b[32m    124\u001b[39m \u001b[38;5;28;01mif\u001b[39;00m delay_rounded > max_node_delay_samples:\n\u001b[32m--> \u001b[39m\u001b[32m125\u001b[39m     \u001b[38;5;28;01mraise\u001b[39;00m LabOneQControllerException(\n\u001b[32m    126\u001b[39m         \u001b[33mf\u001b[39m\u001b[33m\"\u001b[39m\u001b[33mMaximum delay via \u001b[39m\u001b[38;5;132;01m{\u001b[39;00mch_repr\u001b[38;5;132;01m}\u001b[39;00m\u001b[33m'\u001b[39m\u001b[33ms node is \u001b[39m\u001b[33m\"\u001b[39m\n\u001b[32m    127\u001b[39m         + \u001b[33mf\u001b[39m\u001b[33m\"\u001b[39m\u001b[38;5;132;01m{\u001b[39;00mmax_node_delay_samples\u001b[38;5;250m \u001b[39m/\u001b[38;5;250m \u001b[39msample_frequency_hz\u001b[38;5;250m \u001b[39m*\u001b[38;5;250m \u001b[39m\u001b[32m1e9\u001b[39m\u001b[38;5;132;01m:\u001b[39;00m\u001b[33m.2f\u001b[39m\u001b[38;5;132;01m}\u001b[39;00m\u001b[33m ns - for larger \u001b[39m\u001b[33m\"\u001b[39m\n\u001b[32m    128\u001b[39m         + \u001b[33m\"\u001b[39m\u001b[33mvalues, use the delay_signal property.\u001b[39m\u001b[33m\"\u001b[39m\n\u001b[32m    129\u001b[39m     )\n\u001b[32m    130\u001b[39m \u001b[38;5;28;01mif\u001b[39;00m \u001b[38;5;28mabs\u001b[39m(delay_samples - delay_rounded) > \u001b[32m1\u001b[39m:\n\u001b[32m    131\u001b[39m     _logger.debug(\n\u001b[32m    132\u001b[39m         \u001b[33m\"\u001b[39m\u001b[33mNode delay \u001b[39m\u001b[38;5;132;01m%.2f\u001b[39;00m\u001b[33m ns of \u001b[39m\u001b[38;5;132;01m%s\u001b[39;00m\u001b[33m will be rounded to \u001b[39m\u001b[33m\"\u001b[39m\n\u001b[32m    133\u001b[39m         \u001b[33m\"\u001b[39m\u001b[38;5;132;01m%.2f\u001b[39;00m\u001b[33m ns, a multiple of \u001b[39m\u001b[38;5;132;01m%.0f\u001b[39;00m\u001b[33m samples.\u001b[39m\u001b[33m\"\u001b[39m,\n\u001b[32m   (...)\u001b[39m\u001b[32m    137\u001b[39m         granularity_samples,\n\u001b[32m    138\u001b[39m     )\n",
      "\u001b[31mLabOneQControllerException\u001b[39m: Maximum delay via SHFQC/QA:dev12256:qa0's node is 131070.00 ns - for larger values, use the delay_signal property."
     ]
    }
   ],
   "source": [
    "from experiments import signal_propagation_delay\n",
    "####################################################################################\n",
    "qubits[0].parameters.readout_amplitude =1.0\n",
    "q=qubits[0]\n",
    "delays=np.linspace(0e-9, 200e9, 51)\n",
    "measure_delays = 40e-6\n",
    "pprint(q.readout_parameters())\n",
    "print(f\"DRIVE range (dBm) : {q.parameters.drive_range}, READOUT range (dBm) : {q.parameters.readout_range_out}\")\n",
    "#####################################################################################\n",
    "options = signal_propagation_delay.experiment_workflow.options()\n",
    "#workflow.show_fields(options)\n",
    "options.update(False)\n",
    "######################################################################################\n",
    "# Build and run resonator_spectroscopy_amplitude wormflow\n",
    "prop_delay = signal_propagation_delay.experiment_workflow(\n",
    "    session=session,\n",
    "    qpu=qpu,\n",
    "    qubit=q,\n",
    "    delays=delays,\n",
    "    measure_delay=measure_delays,\n",
    "    options=options\n",
    ")\n",
    "prop_delay_result=prop_delay.run()\n",
    "prop_delay_analysis_result = prop_delay_result.tasks[\"analysis_workflow\"]\n",
    "pprint(prop_delay_analysis_result.output)"
   ]
  },
  {
   "cell_type": "code",
   "execution_count": null,
   "id": "af7ca1bd",
   "metadata": {},
   "outputs": [],
   "source": [
    "prop_delay_analysis_result.tasks[\"plot_data\"].output['q0']"
   ]
  },
  {
   "cell_type": "markdown",
   "id": "2ed0face",
   "metadata": {},
   "source": [
    "# 1. Spectroscopy"
   ]
  },
  {
   "cell_type": "code",
   "execution_count": null,
   "id": "f45f486b",
   "metadata": {},
   "outputs": [],
   "source": [
    "\n",
    "qubits[1].parameters.drive_range = 10\n",
    "qubits[1].parameters.readout_range_out= -10"
   ]
  },
  {
   "cell_type": "code",
   "execution_count": null,
   "id": "f996eab5",
   "metadata": {},
   "outputs": [],
   "source": [
    "from helper import adjust_amplitude_for_output_range, calculate_power\n",
    "adjust_amplitude_for_output_range(initial_output_dbm=0, initial_amplitude= 0.002, new_output_dbm=-5)\n",
    "calculate_power(output_dbm=0, amplitude=0.001,attenuation=[])"
   ]
  },
  {
   "cell_type": "markdown",
   "id": "148b02dd",
   "metadata": {},
   "source": [
    "### 1.1 Resonator spectroscopy with amplitude sweep\n",
    "\n",
    "STRATEGY\n",
    "1. CW spectroscpy for wide range scan\n",
    "    * CW spectroscopy can be done for wide range scan \n",
    "    * amplitude, frequency 2D sweep 을 통해  power에 따른 broadening 및 SNR 경향 관찰\n",
    "    * $\\Delta F$ : frequency span,  $\\Delta f_r$\n",
    "    * Pick $\\Delta F / \\Delta f_r$ 1~2"
   ]
  },
  {
   "cell_type": "code",
   "execution_count": null,
   "id": "8ce8bb94",
   "metadata": {},
   "outputs": [],
   "source": [
    "from experiments import resonator_spectroscopy_amplitude\n",
    "\n",
    "####################################################################################\n",
    "qubits[1].parameters.readout_amplitude =1.0\n",
    "q=qubits[1]\n",
    "pprint(q.readout_parameters())\n",
    "print(f\"DRIVE range (dBm) : {q.parameters.drive_range}, READOUT range (dBm) : {q.parameters.readout_range_out}\")\n",
    "frequencies = q.parameters.readout_resonator_frequency + np.linspace(-5e6,5e6,101)\n",
    "amplitudes = np.linspace(0.0, 1.0, 21) #This works as scaling factor!!!!!!!!!!!!\n",
    "#####################################################################################\n",
    "options = resonator_spectroscopy_amplitude.experiment_workflow.options()\n",
    "#workflow.show_fields(options)\n",
    "options.update(False)\n",
    "options.use_cw(False)\n",
    "options.do_analysis(True)\n",
    "######################################################################################\n",
    "# Build and run resonator_spectroscopy_amplitude wormflow\n",
    "res_spec_amp = resonator_spectroscopy_amplitude.experiment_workflow(\n",
    "    session=session,\n",
    "    qpu=qpu,\n",
    "    qubit=q,\n",
    "    frequencies=frequencies,\n",
    "    amplitudes=amplitudes,\n",
    "    options=options\n",
    ")\n",
    "res_spec_amp_result=res_spec_amp.run()\n"
   ]
  },
  {
   "cell_type": "code",
   "execution_count": null,
   "id": "da34e01b",
   "metadata": {},
   "outputs": [],
   "source": [
    "res_spec_amp_result.tasks[\"analysis_workflow\"].tasks[\"plot_signal_magnitude_and_phase_2d\"].output[\"q0\"]"
   ]
  },
  {
   "cell_type": "markdown",
   "id": "c7d77091",
   "metadata": {},
   "source": [
    "### 1.2 Resonator Spectroscopy\n",
    "* CW not recommended "
   ]
  },
  {
   "cell_type": "code",
   "execution_count": null,
   "id": "6809b17c",
   "metadata": {},
   "outputs": [],
   "source": [
    "qubits[0].parameters.readout_integration_delay \n",
    "qubits[0].parameters.readout_integration_kernels_type"
   ]
  },
  {
   "cell_type": "code",
   "execution_count": null,
   "id": "6d0a1058",
   "metadata": {},
   "outputs": [],
   "source": [
    "qubits[0].readout_integration_parameters()"
   ]
  },
  {
   "cell_type": "code",
   "execution_count": null,
   "id": "47031bea",
   "metadata": {},
   "outputs": [],
   "source": [
    "from experiments import resonator_spectroscopy\n",
    "\n",
    "####################################################################################\n",
    "q=qubits[1]\n",
    "q.parameters.readout_amplitude = 1.0\n",
    "print(q.readout_parameters())\n",
    "print(f\"DRIVE range (dBm) : {q.parameters.drive_range}, READOUT range (dBm) : {q.parameters.readout_range_out}\")\n",
    "#frequencies = q.parameters.readout_resonator_frequency + np.linspace(-10e6,10e6,501)\n",
    "frequencies = q.parameters.readout_resonator_frequency + np.linspace(-10e6,10e6,1001)\n",
    "#####################################################################################\n",
    "options = resonator_spectroscopy.experiment_workflow.options()\n",
    "#workflow.show_fields(options)\n",
    "options.count(1024)\n",
    "options.update(True)\n",
    "options.use_cw(False) #qop.measure \n",
    "options.fit_complex_resonator(False)\n",
    "options.fit_lorentzian(True)\n",
    "######################################################################################\n",
    "# Build and run resonator_spectroscopy_amplitude wormflow\n",
    "res_spec = resonator_spectroscopy.experiment_workflow(\n",
    "    session=session,\n",
    "    qpu=qpu,\n",
    "    qubit=q,\n",
    "    frequencies=frequencies,\n",
    "    options=options\n",
    ")\n",
    "res_spec_result = res_spec.run()\n",
    "res_spec_analysis_result = res_spec_result.tasks[\"analysis_workflow\"]\n",
    "pprint(res_spec_analysis_result.output)"
   ]
  },
  {
   "cell_type": "code",
   "execution_count": null,
   "id": "0efce858",
   "metadata": {},
   "outputs": [],
   "source": [
    "res_spec_analysis_result.tasks['plot_magnitude_phase'].output"
   ]
  },
  {
   "cell_type": "code",
   "execution_count": null,
   "id": "e22c6270",
   "metadata": {},
   "outputs": [],
   "source": [
    "# res_spec_result.tasks[\"analysis_workflow\"].tasks[\"plot_real_imaginary\"].output"
   ]
  },
  {
   "cell_type": "code",
   "execution_count": null,
   "id": "cd189ac9",
   "metadata": {},
   "outputs": [],
   "source": [
    "from laboneq.simple import show_pulse_sheet\n",
    "from laboneq.contrib.example_helpers.plotting.plot_helpers import plot_simulation\n",
    "\n",
    "#show_pulse_sheet(compiled_experiment=res_spec_result.tasks[\"compile_experiment\"].output,name='test', interactive=True)\n",
    "#plot_simulation(compiled_experiment=res_spec_result.tasks[\"compile_experiment\"].output)"
   ]
  },
  {
   "cell_type": "markdown",
   "id": "4fd45bd4",
   "metadata": {},
   "source": [
    "### 2.1 Qubit Spectroscopy with Amplitude Sweep\n",
    "* Current qubit spectroscopy modules do not support CW \n",
    "* Recommended to use long enough spectroscopy drive (pulsed) to see steady state signals"
   ]
  },
  {
   "cell_type": "code",
   "execution_count": null,
   "id": "62199137",
   "metadata": {},
   "outputs": [],
   "source": [
    "from experiments import qubit_spectroscopy_amplitude\n",
    "\n",
    "###############################################################\n",
    "q = qubits[1]\n",
    "frequencies = q.parameters.resonance_frequency_ge + np.linspace(-2e6, 2e6, 101)\n",
    "amplitudes = np.linspace(0.01, 1.0, 11)\n",
    "print(f\"DRIVE range (dBm) : {q.parameters.drive_range}, READOUT range (dBm) : {q.parameters.readout_range_out}\")\n",
    "\n",
    "pprint(q.readout_parameters())\n",
    "pprint(q.spectroscopy_parameters())\n",
    "################################################################\n",
    "options = qubit_spectroscopy_amplitude.experiment_workflow.options()\n",
    "options.update(False)\n",
    "# workflow.show_fields(options)\n",
    "###################################################################\n",
    "qubit_spec_amp = qubit_spectroscopy_amplitude.experiment_workflow(\n",
    "    session=session,\n",
    "    qpu=qpu,\n",
    "    qubits=q,\n",
    "    frequencies=frequencies,\n",
    "    amplitudes=amplitudes,\n",
    "    options=options\n",
    ")\n",
    "\n",
    "qubit_spec_amp_result = qubit_spec_amp.run()\n",
    "qubit_spec_amp_result"
   ]
  },
  {
   "cell_type": "markdown",
   "id": "0701bc68",
   "metadata": {},
   "source": [
    "### 2.2 Qubit Spectroscopy \n"
   ]
  },
  {
   "cell_type": "code",
   "execution_count": null,
   "id": "57fcc7d7",
   "metadata": {},
   "outputs": [],
   "source": [
    "from experiments import qubit_spectroscopy\n",
    "\n",
    "qubits[1].parameters.resonance_frequency_ge = 4.5615e9\n",
    "###############################################################\n",
    "q = qubits[1]\n",
    "q.parameters.spectroscopy_amplitude = 1.0\n",
    "q.parameters.readout_amplitude = 1.0\n",
    "frequencies = q.parameters.resonance_frequency_ge + np.linspace(-3e6, 3e6, 51)\n",
    "print(f\"DRIVE range (dBm) : {q.parameters.drive_range}, READOUT range (dBm) : {q.parameters.readout_range_out}\")\n",
    "pprint(q.readout_parameters())\n",
    "pprint(q.spectroscopy_parameters())\n",
    "################################################################\n",
    "options = qubit_spectroscopy.experiment_workflow.options()\n",
    "options.update(True)\n",
    "options.count(1024*4)\n",
    "# workflow.show_fields(options)\n",
    "###################################################################\n",
    "qubit_spec = qubit_spectroscopy.experiment_workflow(\n",
    "    session=session,\n",
    "    qpu=qpu,\n",
    "    qubits=q,\n",
    "    frequencies=frequencies,\n",
    "    options=options\n",
    ")\n",
    "\n",
    "qubit_spec_result = qubit_spec.run()\n",
    "qubit_spec_result"
   ]
  },
  {
   "cell_type": "markdown",
   "id": "8abd09fa",
   "metadata": {},
   "source": [
    "# 2. Rabi"
   ]
  },
  {
   "cell_type": "markdown",
   "id": "6288aa20",
   "metadata": {},
   "source": [
    "## 2.1 Rabi Amplitude "
   ]
  },
  {
   "cell_type": "code",
   "execution_count": null,
   "id": "f21835f5",
   "metadata": {},
   "outputs": [],
   "source": [
    "qubits[1].parameters.ge_drive_amplitude_pi = 1.0"
   ]
  },
  {
   "cell_type": "code",
   "execution_count": null,
   "id": "1c8aea9f",
   "metadata": {},
   "outputs": [],
   "source": [
    "qubits[1].parameters.drive_range = 10"
   ]
  },
  {
   "cell_type": "code",
   "execution_count": null,
   "id": "0a1a5ade",
   "metadata": {},
   "outputs": [],
   "source": [
    "from laboneq_applications.experiments import amplitude_rabi\n",
    "q = qubits[1]\n",
    "\n",
    "#######################################################################\n",
    "amplitudes = np.linspace(0.02, 1.0,101)\n",
    "print(q.parameters.ge_drive_amplitude_pi)\n",
    "print(f\"DRIVE range (dBm) : {q.parameters.drive_range}, READOUT range (dBm) : {q.parameters.readout_range_out}\")\n",
    "#######################################################################\n",
    "options = amplitude_rabi.experiment_workflow.options()\n",
    "options.update(True)\n",
    "options.use_cal_traces(True)\n",
    "options.do_pca(False)\n",
    "#print(workflow.show_fields(options))\n",
    "\n",
    "###################################################################\n",
    "rabi_amp = amplitude_rabi.experiment_workflow(\n",
    "    session=session,\n",
    "    qpu=qpu,\n",
    "    qubits=q,\n",
    "    amplitudes=amplitudes,\n",
    "    options=options\n",
    ")\n",
    "\n",
    "rabi_amp_result = rabi_amp.run()\n",
    "#qubit_spec_compiled = session.compile(amplitude_rabi.create_experiment(qpu=qpu,qubit=q,amplitudes=amplitudes, options=options))\n",
    "print(rabi_amp_result.tasks['analysis_workflow'].output)"
   ]
  },
  {
   "cell_type": "markdown",
   "id": "42c0eaef",
   "metadata": {},
   "source": [
    "## 2.2 (optional) Rabi Amplitude Chevron "
   ]
  },
  {
   "cell_type": "code",
   "execution_count": null,
   "id": "3e3f5381",
   "metadata": {},
   "outputs": [],
   "source": [
    "from experiments import amplitude_rabi_chevron\n",
    "\n",
    "#######################################################################\n",
    "q = qubits[0]\n",
    "amplitudes = np.linspace(0,1.0,11)\n",
    "frequencies = q.parameters.resonance_frequency_ge + np.linspace(-3e6, 3e6, 51)\n",
    "print(f\"DRIVE range (dBm) : {q.parameters.drive_range}, READOUT range (dBm) : {q.parameters.readout_range_out}\")\n",
    "#######################################################################\n",
    "options = amplitude_rabi_chevron.experiment_workflow.options()\n",
    "\n",
    "#print(workflow.show_fields(options))\n",
    "\n",
    "###################################################################\n",
    "rabi_amp_chev = amplitude_rabi_chevron.experiment_workflow(\n",
    "    session=session,\n",
    "    qpu=qpu,\n",
    "    qubits=q,\n",
    "    frequencies=frequencies,\n",
    "    amplitudes=amplitudes,\n",
    "    options=options\n",
    ")\n",
    "\n",
    "rabi_amp_chev_result = rabi_amp_chev.run()\n",
    "#qubit_spec_compiled = session.compile(amplitude_rabi.create_experiment(qpu=qpu,qubit=q,amplitudes=amplitudes, options=options))\n",
    "print(rabi_amp_chev_result.tasks['analysis_workflow'].output)\n"
   ]
  },
  {
   "cell_type": "markdown",
   "id": "f070f628",
   "metadata": {},
   "source": [
    "## 2.3 (optional) Rabi Length\n",
    "- Not working yet"
   ]
  },
  {
   "cell_type": "code",
   "execution_count": null,
   "id": "2d9ae4ff",
   "metadata": {},
   "outputs": [],
   "source": [
    "# from experiments import time_rabi\n",
    "# #######################################################################\n",
    "# q = qubits[2]\n",
    "# q.parameters.ge_drive_amplitude_pi = 0.3\n",
    "# lengths = np.linspace(0.0, 240e-9, 21 ),\n",
    "# print(f\"DRIVE range (dBm) : {q.parameters.drive_range}, READOUT range (dBm) : {q.parameters.readout_range_out}\")\n",
    "# #######################################################################\n",
    "# options = time_rabi.experiment_workflow.options()\n",
    "\n",
    "# #print(workflow.show_fields(options))\n",
    "\n",
    "# ###################################################################\n",
    "# rabi_length = time_rabi.experiment_workflow(\n",
    "#     session=session,\n",
    "#     qpu=qpu,\n",
    "#     qubits=q,\n",
    "#     lengths=lengths,\n",
    "#     options=options\n",
    "# )\n",
    "\n",
    "# rabi_length_result = rabi_length.run()\n",
    "# #qubit_spec_compiled = session.compile(amplitude_rabi.create_experiment(qpu=qpu,qubit=q,amplitudes=amplitudes, options=options))\n",
    "# print(rabi_length_result.tasks['analysis_workflow'].output)\n"
   ]
  },
  {
   "cell_type": "markdown",
   "id": "711e7708",
   "metadata": {},
   "source": [
    "## 2.2 (optional) Rabi Length Chevron"
   ]
  },
  {
   "cell_type": "code",
   "execution_count": null,
   "id": "546dedad",
   "metadata": {},
   "outputs": [],
   "source": [
    "# from experiments import time_rabi_chevron\n",
    "# #######################################################################\n",
    "# q = qubits[4]\n",
    "\n",
    "# frequencies = q.parameters.resonance_frequency_ge + np.linspace(-5e6, 5e6, 21)\n",
    "# lengths = np.linspace(0.0, 240e-9, 21 ),\n",
    "# print(f\"DRIVE range (dBm) : {q.parameters.drive_range}, READOUT range (dBm) : {q.parameters.readout_range_out}\")\n",
    "# #######################################################################\n",
    "# options = time_rabi_chevron.experiment_workflow.options()\n",
    "\n",
    "# #print(workflow.show_fields(options))\n",
    "\n",
    "# ###################################################################\n",
    "# rabi_length_chev = time_rabi_chevron.experiment_workflow(\n",
    "#     session=session,\n",
    "#     qpu=qpu,\n",
    "#     qubits=q,\n",
    "#     frequencies=frequencies,\n",
    "#     lengths=lengths,\n",
    "#     options=options\n",
    "# )\n",
    "\n",
    "# rabi_length_chev_result = rabi_length_chev.run()\n",
    "# #qubit_spec_compiled = session.compile(amplitude_rabi.create_experiment(qpu=qpu,qubit=q,amplitudes=amplitudes, options=options))\n",
    "# print(rabi_length_chev_result.tasks['analysis_workflow'].output)\n"
   ]
  },
  {
   "cell_type": "markdown",
   "id": "c29623b2",
   "metadata": {},
   "source": [
    "# 3. Ramsey"
   ]
  },
  {
   "cell_type": "code",
   "execution_count": null,
   "id": "7261340b",
   "metadata": {},
   "outputs": [],
   "source": [
    "from experiments import ramsey\n",
    "\n",
    "q = qubits[1]\n",
    "#######################################################################\n",
    "delays = np.linspace(0,6e-6,301)\n",
    "detunings = 0.7e6\n",
    "pprint(q.readout_parameters())\n",
    "#######################################################################\n",
    "options = ramsey.experiment_workflow.options()\n",
    "options.update(True)\n",
    "options.count(1024)\n",
    "options.use_cal_traces(True)\n",
    "# Build and run Ramsey workflow (no explicit command table options required)\n",
    "ramsey_wf = ramsey.experiment_workflow(\n",
    "    session=session,\n",
    "    qpu=qpu,\n",
    "    qubits=q,\n",
    "    delays=delays,\n",
    "    detunings=detunings,\n",
    "    options=options\n",
    ")\n",
    "ramsey_result = ramsey_wf.run()\n",
    "#qubit_spec_compiled = session.compile(amplitude_rabi.create_experiment(qpu=qpu,qubit=q,amplitudes=amplitudes, options=options))\n",
    "print(ramsey_result.tasks['analysis_workflow'].output)"
   ]
  },
  {
   "cell_type": "code",
   "execution_count": null,
   "id": "f7e17768",
   "metadata": {},
   "outputs": [],
   "source": [
    "from laboneq_applications.experiments import amplitude_fine\n",
    "q = qubits[1]\n",
    "temporary_parameters = q.parameters.copy()\n",
    "\n",
    "#######################################################################\n",
    "repetitions =np.arange(1,10)\n",
    "#######################################################################\n",
    "options = amplitude_fine.experiment_workflow_x180.options()\n",
    "options.update(False)\n",
    "options.use_cal_traces(True)\n",
    "options.do_pca(False)\n",
    "\n",
    "#print(workflow.show_fields(options))\n",
    "\n",
    "###################################################################\n",
    "error_amp = amplitude_fine.experiment_workflow_x180(\n",
    "    session=session,\n",
    "    qpu=qpu,\n",
    "    qubits=q,\n",
    "    repetitions=repetitions,\n",
    "    temporary_parameters={q.uid : temporary_parameters},\n",
    "    options=options\n",
    ")\n",
    "\n",
    "error_amp_result = error_amp.run()\n",
    "#qubit_spec_compiled = session.compile(amplitude_rabi.create_experiment(qpu=qpu,qubit=q,amplitudes=amplitudes, options=options))\n",
    "print(error_amp_result.tasks['analysis_workflow'].output)"
   ]
  },
  {
   "cell_type": "code",
   "execution_count": null,
   "id": "7e075ddf",
   "metadata": {},
   "outputs": [],
   "source": [
    "from laboneq_applications.experiments import amplitude_fine\n",
    "q = qubits[1]\n",
    "temporary_parameters = q.parameters.copy()\n",
    "\n",
    "#######################################################################\n",
    "repetitions =np.arange(1,10)\n",
    "#######################################################################\n",
    "options = amplitude_fine.experiment_workflow_x90.options()\n",
    "options.update(False)\n",
    "options.use_cal_traces(True)\n",
    "options.do_pca(False)\n",
    "\n",
    "#print(workflow.show_fields(options))\n",
    "\n",
    "###################################################################\n",
    "error_amp_half = amplitude_fine.experiment_workflow_x90(\n",
    "    session=session,\n",
    "    qpu=qpu,\n",
    "    qubits=q,\n",
    "    repetitions=repetitions,\n",
    "    temporary_parameters={q.uid : temporary_parameters},\n",
    "    options=options\n",
    ")\n",
    "\n",
    "error_amp_half_result = error_amp_half.run()\n",
    "#qubit_spec_compiled = session.compile(amplitude_rabi.create_experiment(qpu=qpu,qubit=q,amplitudes=amplitudes, options=options))\n",
    "print(error_amp_half_result.tasks['analysis_workflow'].output)"
   ]
  },
  {
   "cell_type": "code",
   "execution_count": null,
   "id": "d60a4906",
   "metadata": {},
   "outputs": [],
   "source": [
    "from laboneq_applications.experiments import drag_q_scaling\n",
    "q = qubits[1]\n",
    "temporary_parameters = q.parameters.copy()\n",
    "\n",
    "#######################################################################\n",
    "q_scalings = np.linspace(-0.1,0.1,51)\n",
    "#######################################################################\n",
    "options = drag_q_scaling.experiment_workflow.options()\n",
    "options.update(True)\n",
    "\n",
    "\n",
    "\n",
    "#print(workflow.show_fields(options))\n",
    "\n",
    "###################################################################\n",
    "drag = drag_q_scaling.experiment_workflow(\n",
    "    session=session,\n",
    "    qpu=qpu,\n",
    "    qubits=q,\n",
    "    q_scalings=q_scalings,\n",
    "    options=options\n",
    ")\n",
    "\n",
    "drag_result = drag.run()\n",
    "#qubit_spec_compiled = session.compile(amplitude_rabi.create_experiment(qpu=qpu,qubit=q,amplitudes=amplitudes, options=options))\n",
    "print(drag_result.tasks['analysis_workflow'].output)"
   ]
  },
  {
   "cell_type": "markdown",
   "id": "08e59977",
   "metadata": {},
   "source": [
    "# RIP"
   ]
  },
  {
   "cell_type": "code",
   "execution_count": 8,
   "id": "5eab386f",
   "metadata": {},
   "outputs": [
    {
     "name": "stdout",
     "output_type": "stream",
     "text": [
      "[2025.09.09 10:57:34.255] INFO    \u001b[1m ────────────────────────────────────────────────────────────────────────────── \u001b[0m\n",
      "[2025.09.09 10:57:34.255] INFO    \u001b[1m \u001b[0m\u001b[1m \u001b[0m\u001b[1mWorkflow 'rip': execution started at 2025-09-09 01:57:34.254879Z\u001b[0m\u001b[1m            \u001b[0m\u001b[1m \u001b[0m\u001b[1m \u001b[0m\n",
      "[2025.09.09 10:57:34.255] INFO    \u001b[1m ────────────────────────────────────────────────────────────────────────────── \u001b[0m\n",
      "[2025.09.09 10:57:34.263] INFO    \u001b[1mTask 'temporary_qpu': started at 2025-09-09 01:57:34.262868Z\u001b[0m\n",
      "[2025.09.09 10:57:34.263] INFO    \u001b[1mTask 'temporary_qpu': ended at 2025-09-09 01:57:34.263641Z\u001b[0m\n",
      "[2025.09.09 10:57:34.265] INFO    \u001b[1mTask 'temporary_quantum_elements_from_qpu': started at 2025-09-09 \u001b[0m\n",
      "[2025.09.09 10:57:34.265] INFO    \u001b[1m01:57:34.265184Z\u001b[0m\n",
      "[2025.09.09 10:57:34.266] INFO    \u001b[1mTask 'temporary_quantum_elements_from_qpu': ended at 2025-09-09 01:57:34.265902Z\u001b[0m\n",
      "[2025.09.09 10:57:34.266] INFO    \u001b[1mTask 'create_experiment': started at 2025-09-09 01:57:34.266857Z\u001b[0m\n",
      "[2025.09.09 10:57:34.272] ERROR   \u001b[1mTask 'create_experiment': failed at 2025-09-09 01:57:34.272474Z with: \u001b[0m\n"
     ]
    },
    {
     "name": "stderr",
     "output_type": "stream",
     "text": [
      "[2025.09.09 10:57:34.272] ERROR   \u001b[1mTask 'create_experiment': failed at 2025-09-09 01:57:34.272474Z with: \u001b[0m\n"
     ]
    },
    {
     "name": "stdout",
     "output_type": "stream",
     "text": [
      "[2025.09.09 10:57:34.273] ERROR   \u001b[1mUnboundLocalError(\"cannot access local variable 'swp_delays' where it is not \u001b[0m\n"
     ]
    },
    {
     "name": "stderr",
     "output_type": "stream",
     "text": [
      "[2025.09.09 10:57:34.273] ERROR   \u001b[1mUnboundLocalError(\"cannot access local variable 'swp_delays' where it is not \u001b[0m\n"
     ]
    },
    {
     "name": "stdout",
     "output_type": "stream",
     "text": [
      "[2025.09.09 10:57:34.273] ERROR   \u001b[1massociated with a value\")\u001b[0m\n"
     ]
    },
    {
     "name": "stderr",
     "output_type": "stream",
     "text": [
      "[2025.09.09 10:57:34.273] ERROR   \u001b[1massociated with a value\")\u001b[0m\n"
     ]
    },
    {
     "name": "stdout",
     "output_type": "stream",
     "text": [
      "[2025.09.09 10:57:34.274] INFO    \u001b[1mTask 'create_experiment': ended at 2025-09-09 01:57:34.274272Z\u001b[0m\n",
      "[2025.09.09 10:57:34.275] INFO    \u001b[1m ────────────────────────────────────────────────────────────────────────────── \u001b[0m\n",
      "[2025.09.09 10:57:34.275] INFO    \u001b[1m \u001b[0m\u001b[1m \u001b[0m\u001b[1mWorkflow 'rip': execution ended at 2025-09-09 01:57:34.275396Z\u001b[0m\u001b[1m              \u001b[0m\u001b[1m \u001b[0m\u001b[1m \u001b[0m\n",
      "[2025.09.09 10:57:34.276] INFO    \u001b[1m ────────────────────────────────────────────────────────────────────────────── \u001b[0m\n"
     ]
    },
    {
     "ename": "UnboundLocalError",
     "evalue": "cannot access local variable 'swp_delays' where it is not associated with a value",
     "output_type": "error",
     "traceback": [
      "\u001b[31m---------------------------------------------------------------------------\u001b[39m",
      "\u001b[31mUnboundLocalError\u001b[39m                         Traceback (most recent call last)",
      "\u001b[36mCell\u001b[39m\u001b[36m \u001b[39m\u001b[32mIn[8]\u001b[39m\u001b[32m, line 30\u001b[39m\n\u001b[32m     14\u001b[39m \u001b[38;5;66;03m#print(workflow.show_fields(options))\u001b[39;00m\n\u001b[32m     15\u001b[39m \n\u001b[32m     16\u001b[39m \u001b[38;5;66;03m###################################################################\u001b[39;00m\n\u001b[32m     17\u001b[39m rip_drive = rip.experiment_workflow(\n\u001b[32m     18\u001b[39m     session=session,\n\u001b[32m     19\u001b[39m     qpu=qpu,\n\u001b[32m   (...)\u001b[39m\u001b[32m     27\u001b[39m     options=options\n\u001b[32m     28\u001b[39m )\n\u001b[32m---> \u001b[39m\u001b[32m30\u001b[39m rip_result = \u001b[43mrip_drive\u001b[49m\u001b[43m.\u001b[49m\u001b[43mrun\u001b[49m\u001b[43m(\u001b[49m\u001b[43m)\u001b[49m\n\u001b[32m     31\u001b[39m \u001b[38;5;66;03m#qubit_spec_compiled = session.compile(amplitude_rabi.create_experiment(qpu=qpu,qubit=q,amplitudes=amplitudes, options=options))\u001b[39;00m\n\u001b[32m     32\u001b[39m \u001b[38;5;66;03m#print(drag_result.tasks['analysis_workflow'].output)\u001b[39;00m\n",
      "\u001b[36mFile \u001b[39m\u001b[32m~/JSAHN/qubit-experiment/.venv/lib/python3.12/site-packages/laboneq/workflow/core.py:218\u001b[39m, in \u001b[36mWorkflow.run\u001b[39m\u001b[34m(self, until)\u001b[39m\n\u001b[32m    214\u001b[39m \u001b[38;5;28;01mfor\u001b[39;00m logstore \u001b[38;5;129;01min\u001b[39;00m \u001b[38;5;28mself\u001b[39m._logstores():\n\u001b[32m    215\u001b[39m     state.add_recorder(\n\u001b[32m    216\u001b[39m         logstore.create_logbook(\u001b[38;5;28mself\u001b[39m, start_time=state.start_time)\n\u001b[32m    217\u001b[39m     )\n\u001b[32m--> \u001b[39m\u001b[32m218\u001b[39m \u001b[38;5;28;01mreturn\u001b[39;00m \u001b[38;5;28;43mself\u001b[39;49m\u001b[43m.\u001b[49m\u001b[43m_execute\u001b[49m\u001b[43m(\u001b[49m\u001b[43mstate\u001b[49m\u001b[43m)\u001b[49m\n",
      "\u001b[36mFile \u001b[39m\u001b[32m~/JSAHN/qubit-experiment/.venv/lib/python3.12/site-packages/laboneq/workflow/core.py:128\u001b[39m, in \u001b[36mWorkflow._execute\u001b[39m\u001b[34m(self, state)\u001b[39m\n\u001b[32m    126\u001b[39m \u001b[38;5;28;01mtry\u001b[39;00m:\n\u001b[32m    127\u001b[39m     \u001b[38;5;28;01mwith\u001b[39;00m executor.ExecutorStateContext.scoped(state):\n\u001b[32m--> \u001b[39m\u001b[32m128\u001b[39m         \u001b[38;5;28;43mself\u001b[39;49m\u001b[43m.\u001b[49m\u001b[43m_root\u001b[49m\u001b[43m.\u001b[49m\u001b[43mexecute\u001b[49m\u001b[43m(\u001b[49m\u001b[43mstate\u001b[49m\u001b[43m)\u001b[49m\n\u001b[32m    129\u001b[39m \u001b[38;5;28;01mexcept\u001b[39;00m \u001b[38;5;167;01mException\u001b[39;00m:\n\u001b[32m    130\u001b[39m     \u001b[38;5;28;01mif\u001b[39;00m \u001b[38;5;28mself\u001b[39m._recovery \u001b[38;5;129;01mis\u001b[39;00m \u001b[38;5;129;01mnot\u001b[39;00m \u001b[38;5;28;01mNone\u001b[39;00m:\n",
      "\u001b[36mFile \u001b[39m\u001b[32m~/JSAHN/qubit-experiment/.venv/lib/python3.12/site-packages/laboneq/workflow/blocks/workflow_block.py:159\u001b[39m, in \u001b[36mWorkflowBlock.execute\u001b[39m\u001b[34m(self, executor)\u001b[39m\n\u001b[32m    154\u001b[39m     \u001b[38;5;28;01mif\u001b[39;00m executor.get_block_status(block) \u001b[38;5;129;01min\u001b[39;00m (\n\u001b[32m    155\u001b[39m         ExecutionStatus.FINISHED,\n\u001b[32m    156\u001b[39m         ExecutionStatus.SKIPPED,\n\u001b[32m    157\u001b[39m     ):\n\u001b[32m    158\u001b[39m         \u001b[38;5;28;01mcontinue\u001b[39;00m\n\u001b[32m--> \u001b[39m\u001b[32m159\u001b[39m     \u001b[43mblock\u001b[49m\u001b[43m.\u001b[49m\u001b[43mexecute\u001b[49m\u001b[43m(\u001b[49m\u001b[43mexecutor\u001b[49m\u001b[43m)\u001b[49m\n\u001b[32m    160\u001b[39m body_loop_finished = \u001b[38;5;28;01mTrue\u001b[39;00m\n\u001b[32m    161\u001b[39m executor.set_block_status(\u001b[38;5;28mself\u001b[39m, ExecutionStatus.FINISHED)\n",
      "\u001b[36mFile \u001b[39m\u001b[32m~/JSAHN/qubit-experiment/.venv/lib/python3.12/site-packages/laboneq/workflow/blocks/task_block.py:61\u001b[39m, in \u001b[36mTaskBlock.execute\u001b[39m\u001b[34m(self, executor)\u001b[39m\n\u001b[32m     59\u001b[39m     \u001b[38;5;28mself\u001b[39m._exucute_hidden(executor)\n\u001b[32m     60\u001b[39m \u001b[38;5;28;01melse\u001b[39;00m:\n\u001b[32m---> \u001b[39m\u001b[32m61\u001b[39m     \u001b[38;5;28;43mself\u001b[39;49m\u001b[43m.\u001b[49m\u001b[43m_execute_visible\u001b[49m\u001b[43m(\u001b[49m\u001b[43mexecutor\u001b[49m\u001b[43m)\u001b[49m\n",
      "\u001b[36mFile \u001b[39m\u001b[32m~/JSAHN/qubit-experiment/.venv/lib/python3.12/site-packages/laboneq/workflow/blocks/task_block.py:91\u001b[39m, in \u001b[36mTaskBlock._execute_visible\u001b[39m\u001b[34m(self, executor)\u001b[39m\n\u001b[32m     89\u001b[39m executor.set_block_status(\u001b[38;5;28mself\u001b[39m, ExecutionStatus.IN_PROGRESS)\n\u001b[32m     90\u001b[39m \u001b[38;5;28;01mtry\u001b[39;00m:\n\u001b[32m---> \u001b[39m\u001b[32m91\u001b[39m     task._output = \u001b[38;5;28;43mself\u001b[39;49m\u001b[43m.\u001b[49m\u001b[43mtask\u001b[49m\u001b[43m.\u001b[49m\u001b[43mfunc\u001b[49m\u001b[43m(\u001b[49m\u001b[43m*\u001b[49m\u001b[43m*\u001b[49m\u001b[43mparams\u001b[49m\u001b[43m)\u001b[49m\n\u001b[32m     92\u001b[39m \u001b[38;5;28;01mexcept\u001b[39;00m \u001b[38;5;167;01mException\u001b[39;00m \u001b[38;5;28;01mas\u001b[39;00m error:\n\u001b[32m     93\u001b[39m     task._end_time = utc_now()\n",
      "\u001b[36mFile \u001b[39m\u001b[32m~/JSAHN/qubit-experiment/.venv/lib/python3.12/site-packages/laboneq/dsl/experiment/build_experiment.py:201\u001b[39m, in \u001b[36mqubit_experiment.<locals>.build_qubit_experiment\u001b[39m\u001b[34m(*args, **kw)\u001b[39m\n\u001b[32m    199\u001b[39m \u001b[38;5;129m@functools\u001b[39m.wraps(exp_func)\n\u001b[32m    200\u001b[39m \u001b[38;5;28;01mdef\u001b[39;00m\u001b[38;5;250m \u001b[39m\u001b[34mbuild_qubit_experiment\u001b[39m(*args, **kw) -> Experiment:\n\u001b[32m--> \u001b[39m\u001b[32m201\u001b[39m     \u001b[38;5;28;01mreturn\u001b[39;00m \u001b[43mbuilder\u001b[49m\u001b[43m(\u001b[49m\u001b[43m*\u001b[49m\u001b[43margs\u001b[49m\u001b[43m,\u001b[49m\u001b[43m \u001b[49m\u001b[43m*\u001b[49m\u001b[43m*\u001b[49m\u001b[43mkw\u001b[49m\u001b[43m)\u001b[49m\n",
      "\u001b[36mFile \u001b[39m\u001b[32m~/JSAHN/qubit-experiment/.venv/lib/python3.12/site-packages/laboneq/dsl/experiment/build_experiment.py:126\u001b[39m, in \u001b[36mExperimentBuilder.__call__\u001b[39m\u001b[34m(self, *args, **kw)\u001b[39m\n\u001b[32m    124\u001b[39m     exp_calibration.calibration_items.update(calibration)\n\u001b[32m    125\u001b[39m     \u001b[38;5;28;01mif\u001b[39;00m \u001b[38;5;28mself\u001b[39m.context:\n\u001b[32m--> \u001b[39m\u001b[32m126\u001b[39m         \u001b[38;5;28;43mself\u001b[39;49m\u001b[43m.\u001b[49m\u001b[43mexp_func\u001b[49m\u001b[43m(\u001b[49m\u001b[43m*\u001b[49m\u001b[43margs\u001b[49m\u001b[43m,\u001b[49m\u001b[43m \u001b[49m\u001b[43m*\u001b[49m\u001b[43m*\u001b[49m\u001b[43mkw\u001b[49m\u001b[43m)\u001b[49m\n\u001b[32m    128\u001b[39m \u001b[38;5;28;01mif\u001b[39;00m \u001b[38;5;129;01mnot\u001b[39;00m \u001b[38;5;28mself\u001b[39m.context:\n\u001b[32m    129\u001b[39m     \u001b[38;5;28mself\u001b[39m.exp_func(exp, *args, **kw)\n",
      "\u001b[36mFile \u001b[39m\u001b[32m~/JSAHN/qubit-experiment/experiments/rip.py:261\u001b[39m, in \u001b[36mcreate_experiment\u001b[39m\u001b[34m(qpu, ctrl, targ, bus, ctrl_state, delays, detunings, frequencies, amplitude, options)\u001b[39m\n\u001b[32m    259\u001b[39m \u001b[38;5;28;01mfor\u001b[39;00m i, q \u001b[38;5;129;01min\u001b[39;00m \u001b[38;5;28menumerate\u001b[39m(targ):\n\u001b[32m    260\u001b[39m     q_delays = delays[i]\n\u001b[32m--> \u001b[39m\u001b[32m261\u001b[39m     \u001b[43mswp_delays\u001b[49m += [\n\u001b[32m    262\u001b[39m         SweepParameter(\n\u001b[32m    263\u001b[39m             uid=\u001b[33mf\u001b[39m\u001b[33m\"\u001b[39m\u001b[33mwait_time_\u001b[39m\u001b[38;5;132;01m{\u001b[39;00mq.uid\u001b[38;5;132;01m}\u001b[39;00m\u001b[33m\"\u001b[39m,\n\u001b[32m    264\u001b[39m             values=q_delays,\n\u001b[32m    265\u001b[39m         ),\n\u001b[32m    266\u001b[39m     ]\n\u001b[32m    267\u001b[39m     swp_phases += [\n\u001b[32m    268\u001b[39m         SweepParameter(\n\u001b[32m    269\u001b[39m             uid=\u001b[33mf\u001b[39m\u001b[33m\"\u001b[39m\u001b[33mx90_phases_\u001b[39m\u001b[38;5;132;01m{\u001b[39;00mq.uid\u001b[38;5;132;01m}\u001b[39;00m\u001b[33m\"\u001b[39m,\n\u001b[32m   (...)\u001b[39m\u001b[32m    277\u001b[39m         ),\n\u001b[32m    278\u001b[39m     ]\n\u001b[32m    280\u001b[39m \u001b[38;5;66;03m# We will fix the length of the measure section to the longest section among\u001b[39;00m\n\u001b[32m    281\u001b[39m \u001b[38;5;66;03m# the qubits to allow the qubits to have different readout and/or\u001b[39;00m\n\u001b[32m    282\u001b[39m \u001b[38;5;66;03m# integration lengths.\u001b[39;00m\n",
      "\u001b[31mUnboundLocalError\u001b[39m: cannot access local variable 'swp_delays' where it is not associated with a value"
     ]
    }
   ],
   "source": [
    "from experiments import rip\n",
    "\n",
    "q = qubits[1]\n",
    "temporary_parameters = q.parameters.copy()\n",
    "\n",
    "#######################################################################\n",
    "\n",
    "#######################################################################\n",
    "options = rip.experiment_workflow.options()\n",
    "options.update(False)\n",
    "\n",
    "\n",
    "\n",
    "#print(workflow.show_fields(options))\n",
    "\n",
    "###################################################################\n",
    "rip_drive = rip.experiment_workflow(\n",
    "    session=session,\n",
    "    qpu=qpu,\n",
    "    ctrl=qubits[1],\n",
    "    targ=qubits[0],\n",
    "    bus=qubits[2],\n",
    "    ctrl_state=\"g\",\n",
    "    delays=np.linspace(200e-9, 300e-9,11),\n",
    "    detunings=0.0,\n",
    "    frequencies=qubits[2].parameters.resonance_targ_frequency + np.linspace(-10e6,10e6,11),\n",
    "    options=options\n",
    ")\n",
    "\n",
    "rip_result = rip_drive.run()\n",
    "#qubit_spec_compiled = session.compile(amplitude_rabi.create_experiment(qpu=qpu,qubit=q,amplitudes=amplitudes, options=options))\n",
    "#print(drag_result.tasks['analysis_workflow'].output)"
   ]
  },
  {
   "cell_type": "code",
   "execution_count": 10,
   "id": "5057bd0b",
   "metadata": {},
   "outputs": [
    {
     "data": {
      "text/plain": [
       "np.float64(2e-07)"
      ]
     },
     "execution_count": 10,
     "metadata": {},
     "output_type": "execute_result"
    }
   ],
   "source": [
    "delays=np.linspace(200e-9, 300e-9,11)\n",
    "\n",
    "delays[0]"
   ]
  },
  {
   "cell_type": "markdown",
   "id": "0aef89c7",
   "metadata": {},
   "source": [
    "# Basic Readout optimization\n",
    "Here we optimize SNR via\n",
    "\n",
    "* `readout_length`\n",
    "* `readout-amplitude`\n",
    "\n",
    "* `readout_integration_length`\n",
    "* `readout_integration_delay`\n",
    "* `readout_integration_weight`"
   ]
  },
  {
   "cell_type": "code",
   "execution_count": null,
   "id": "c9050e61",
   "metadata": {},
   "outputs": [],
   "source": [
    "from experiments import dispersive_shift"
   ]
  },
  {
   "cell_type": "code",
   "execution_count": null,
   "id": "99a971d2",
   "metadata": {},
   "outputs": [],
   "source": [
    "from experiments import time_traces"
   ]
  },
  {
   "cell_type": "markdown",
   "id": "893c53db",
   "metadata": {},
   "source": [
    "# Save Qubit Parameters"
   ]
  },
  {
   "cell_type": "code",
   "execution_count": null,
   "id": "da0ae4f3",
   "metadata": {},
   "outputs": [],
   "source": [
    "from helper import load_qubit_parameters, save_qubit_parameters\n",
    "save_qubit_parameters(qubits={ qubit.uid : qubit for qubit in qubits}, save_folder=\"./qubit_parameters\", filename=\"KAIST_TG\")"
   ]
  },
  {
   "cell_type": "code",
   "execution_count": null,
   "id": "6827222c",
   "metadata": {},
   "outputs": [],
   "source": []
  }
 ],
 "metadata": {
  "kernelspec": {
   "display_name": ".venv (3.12.9)",
   "language": "python",
   "name": "python3"
  },
  "language_info": {
   "codemirror_mode": {
    "name": "ipython",
    "version": 3
   },
   "file_extension": ".py",
   "mimetype": "text/x-python",
   "name": "python",
   "nbconvert_exporter": "python",
   "pygments_lexer": "ipython3",
   "version": "3.12.9"
  }
 },
 "nbformat": 4,
 "nbformat_minor": 5
}
