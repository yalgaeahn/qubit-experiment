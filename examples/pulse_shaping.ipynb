{
 "cells": [
  {
   "cell_type": "markdown",
   "id": "8c85546a",
   "metadata": {},
   "source": [
    "# Gaussian pulse edge truncation \n",
    "\n",
    "Use `generate_sampled_pulse()`"
   ]
  },
  {
   "cell_type": "code",
   "execution_count": 9,
   "id": "ad480e5d",
   "metadata": {},
   "outputs": [],
   "source": [
    "import matplotlib.pyplot as plt"
   ]
  },
  {
   "cell_type": "code",
   "execution_count": 10,
   "id": "1eb46fc1",
   "metadata": {},
   "outputs": [
    {
     "data": {
      "image/png": "[encoded data removed]",
      "text/plain": [
       "<Figure size 640x480 with 1 Axes>"
      ]
     },
     "metadata": {},
     "output_type": "display_data"
    }
   ],
   "source": [
    "from laboneq.simple import SHFQC\n",
    "from laboneq.dsl.device import DeviceSetup, create_connection\n",
    "import numpy as np\n",
    "from copy import deepcopy\n",
    "\n",
    "host = \"10.172.11.217\"\n",
    "#instantiate ad device setup object\n",
    "setup = DeviceSetup(uid=\"test_setup\")\n",
    "#add a dataserver\n",
    "setup.add_dataserver(host=host, port=\"8004\",uid=\"test_server\")\n",
    "\n",
    "setup.add_instruments(SHFQC(uid=\"test_shfqc\",server_uid=\"test_server\", address=\"DEV12576\", device_options=\"SHFQC/PLUS/QC6CH\"))\n",
    "\n",
    "setup.instruments\n",
    "for ch_idx, q_idx in enumerate([15,16,17,18,19]):# enumerate 안에 len(list) 강제하고싶음\n",
    "    #QA\n",
    "    setup.add_connections(\n",
    "        \"test_shfqc\",\n",
    "        create_connection(to_signal=f\"q{q_idx}/measure\", ports=\"QACHANNELS/0/OUTPUT\")) #signal_type=\"iq\"\n",
    "    setup.add_connections(\n",
    "        \"test_shfqc\",\n",
    "        create_connection(to_signal=f\"q{q_idx}/acquire\", ports=\"QACHANNELS/0/INPUT\" )) #signal_type=\"acquire\"\n",
    "    #SG\n",
    "    setup.add_connections(\n",
    "        \"test_shfqc\",\n",
    "        create_connection(to_signal=f\"q{q_idx}/drive\", ports=f\"SGCHANNELS/{ch_idx}/OUTPUT\")) #signal_type=\"iq\" only iq allowed for SG??\n",
    "    setup.add_connections(\n",
    "        \"test_shfqc\",\n",
    "        create_connection(to_signal=f\"q{q_idx}/drive_ef\", ports=f\"SGCHANNELS/{ch_idx}/OUTPUT\")) #signal_type=\"iq\" only iq allowed for SG??\n",
    "    setup.add_connections(\n",
    "        \"test_shfqc\",\n",
    "        create_connection(to_signal=f\"q{q_idx}/drive_cr\", ports=f\"SGCHANNELS/{ch_idx}/OUTPUT\"))#signal_type=\"iq\"\n",
    "    \n",
    "    from operations import TransmonOperations\n",
    "from qpu_types.transmon import TransmonQubit, TransmonQubitParameters\n",
    "from helper import load_qubit_parameters, save_qubit_parameters\n",
    "\n",
    "\n",
    "from laboneq.dsl.quantum.qpu import QPU, QuantumPlatform\n",
    "from laboneq.dsl.quantum.qpu import QuantumElement\n",
    "\n",
    "# # #TODO load_qubit_parameters should return list with TransmonQubit, currently it's a dict \n",
    "_loaded_qubits = load_qubit_parameters(filename=\"latest\") \n",
    "loaded_qubits = list(_loaded_qubits.values())\n",
    "# save_qubit_parameters(qubits={ qubit.uid : qubit for qubit in qubits}, save_folder=\"./qubit_parameters\")\n",
    "#qubits = TransmonQubit.from_device_setup(setup) # Also can be done with load_qubit_parameters \n",
    "qubits = loaded_qubits\n",
    "quantum_operations = TransmonOperations()\n",
    "################################################################################################\n",
    "qpu = QPU(quantum_elements=qubits, quantum_operations=quantum_operations)\n",
    "qpu.topology.add_edge(\"bus\", \"q16\", \"q17\")\n",
    "qpu.topology.add_edge(\"bus\", \"q17\", \"q18\")\n",
    "qpu.topology.add_edge(\"bus\", \"q18\", \"q19\")\n",
    "qpu.topology.plot()\n",
    "\n",
    "# Create a demonstration QuantumPlatform for a transmon QPU:\n",
    "quantum_platform = QuantumPlatform(setup=setup, qpu=qpu)\n",
    "\n",
    "\n",
    "from laboneq.simple import workflow\n",
    "from pathlib import Path\n",
    "\n",
    "\n",
    "# Two Types of store in workflow!\n",
    " \n",
    "folder_store = workflow.logbook.FolderStore(\"./experiment_store\") \n",
    "#folder_store.activate()\n",
    "folder_store.deactivate()\n",
    "workflow.logbook.LoggingStore().deactivate()\n",
    "#workflow.logbook.LogbookStore().deactivate()\n",
    "\n"
   ]
  },
  {
   "cell_type": "code",
   "execution_count": 11,
   "id": "98a49ded",
   "metadata": {},
   "outputs": [],
   "source": [
    "for _, qubit in enumerate(qubits):\n",
    "    ##################LOCAL OSCILLATOR FREQUENCY AND CHANNEL POWER ###################################\n",
    "    qubit.parameters.drive_lo_frequency = 4.8e9\n",
    "    qubit.parameters.readout_lo_frequency = 7.0e9\n",
    "    qubit.parameters.readout_range_in =  0\n",
    "    qubit.parameters.readout_range_out = -25\n",
    "    qubit.parameters.drive_range = 0 \n",
    "    \n",
    "    \n",
    "    \n",
    "    ############READOUT PARAMETERS###################################################################\n",
    "    qubit.parameters.readout_length - 2.0e-6\n",
    "    qubit.parameters.readout_pulse['function'] = 'GaussianSquare'\n",
    "    qubit.parameters.readout_pulse['sigma'] = 0.25\n",
    "    qubit.parameters.readout_pulse['width'] = None\n",
    "    qubit.parameters.readout_pulse['risefall_sigma_ratio'] = 3.0\n",
    "    qubit.parameters.readout_amplitude = 1.0  #WARNING! 이거 SWEEP 할때 오버라이딩이 안되고 여기서 SCALING 됨\n",
    "    \n",
    "    qubit.parameters.reset_delay_length = 200e-6\n",
    "    ###########SPECTROSCOPY PARAMETERS###############################################################\n",
    "    # Pulsed qubit spectroscopy drive ,  \n",
    "    qubit.parameters.spectroscopy_pulse['function'] = 'GaussianSquare'\n",
    "    qubit.parameters.spectroscopy_length = 5.0e-6\n",
    "    qubit.parameters.spectroscopy_pulse['sigma'] = 0.2\n",
    "    qubit.parameters.spectroscopy_pulse['width'] = None\n",
    "    qubit.parameters.spectroscopy_pulse['risefall_sigma_ratio'] = 3.0\n",
    "    qubit.parameters.spectroscopy_amplitude=0.01 \n",
    "    \n",
    "    \n",
    "    ###########TRANSITION PARAMETERS#####################################\n",
    "    qubit.parameters.ge_drive_amplitude_pi = 1.0\n",
    "    qubit.parameters.ge_drive_amplitude_pi2 = 0.5\n",
    "    qubit.parameters.ef_drive_amplitude_pi = 1.0\n",
    "    qubit.parameters.ef_drive_amplitude_pi2 = 0.5 # Initialization just to avoid potential scaling problem\n",
    "    \n",
    "\n",
    "qubits[3].parameters.readout_amplitude = 0.5\n",
    "qubits[4].parameters.readout_amplitude = 0.5\n",
    "qubits[2].parameters.readout_amplitude = 0.5\n"
   ]
  },
  {
   "cell_type": "code",
   "execution_count": 15,
   "id": "d1449b23",
   "metadata": {},
   "outputs": [],
   "source": [
    "from operations import create_pulse\n",
    "q = qubits[2]\n",
    "measure_line, ro_params = q.readout_parameters()\n",
    "acquire_line, ro_int_params = q.readout_integration_parameters()\n",
    "ro_params[\"length\"]=2e-6\n",
    "ro_pulse = create_pulse(parameters = ro_params[\"pulse\"], overrides = {\"amplitude\":0.9,\"length\" : 200e-6, 'risefall_sigma_ratio':3.0}, name=\"readout_pulse\")\n",
    "kernels = q.get_integration_kernels()"
   ]
  },
  {
   "cell_type": "code",
   "execution_count": 16,
   "id": "6bf84fcc",
   "metadata": {},
   "outputs": [
    {
     "data": {
      "text/plain": [
       "{'amplitude': 0.5,\n",
       " 'length': 2e-06,\n",
       " 'pulse': {'function': 'GaussianSquare',\n",
       "  'sigma': 0.25,\n",
       "  'width': None,\n",
       "  'risefall_sigma_ratio': 3.0}}"
      ]
     },
     "execution_count": 16,
     "metadata": {},
     "output_type": "execute_result"
    }
   ],
   "source": [
    "ro_params"
   ]
  },
  {
   "cell_type": "code",
   "execution_count": 17,
   "id": "c2d82fa2",
   "metadata": {},
   "outputs": [
    {
     "data": {
      "text/plain": [
       "[<matplotlib.lines.Line2D at 0x16438dcd0>]"
      ]
     },
     "execution_count": 17,
     "metadata": {},
     "output_type": "execute_result"
    },
    {
     "data": {
      "image/png": "[encoded data removed]",
      "text/plain": [
       "<Figure size 640x480 with 1 Axes>"
      ]
     },
     "metadata": {},
     "output_type": "display_data"
    }
   ],
   "source": [
    "time, wfm = ro_pulse.generate_sampled_pulse()\n",
    "plt.plot(time*1e6, wfm.real)"
   ]
  },
  {
   "cell_type": "code",
   "execution_count": null,
   "id": "8b5cc688",
   "metadata": {},
   "outputs": [],
   "source": []
  },
  {
   "cell_type": "code",
   "execution_count": null,
   "id": "bfbfcd41",
   "metadata": {},
   "outputs": [],
   "source": []
  },
  {
   "cell_type": "code",
   "execution_count": null,
   "id": "6392f72d",
   "metadata": {},
   "outputs": [],
   "source": []
  },
  {
   "cell_type": "code",
   "execution_count": null,
   "id": "52eac257",
   "metadata": {},
   "outputs": [],
   "source": []
  },
  {
   "cell_type": "code",
   "execution_count": null,
   "id": "799b7423",
   "metadata": {},
   "outputs": [],
   "source": []
  }
 ],
 "metadata": {
  "kernelspec": {
   "display_name": ".venv (3.12.9)",
   "language": "python",
   "name": "python3"
  },
  "language_info": {
   "codemirror_mode": {
    "name": "ipython",
    "version": 3
   },
   "file_extension": ".py",
   "mimetype": "text/x-python",
   "name": "python",
   "nbconvert_exporter": "python",
   "pygments_lexer": "ipython3",
   "version": "3.12.9"
  }
 },
 "nbformat": 4,
 "nbformat_minor": 5
}
