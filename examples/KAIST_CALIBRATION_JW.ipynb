{
 "cells": [
  {
   "cell_type": "markdown",
   "id": "51ad07e9",
   "metadata": {},
   "source": [
    "# Initialization"
   ]
  },
  {
   "cell_type": "code",
   "execution_count": 1,
   "id": "d8d65935",
   "metadata": {},
   "outputs": [],
   "source": [
    "import numpy as np\n",
    "from pprint import pprint\n",
    "\n",
    "\n",
    "from laboneq.contrib.example_helpers.generate_descriptor import generate_descriptor\n",
    "#from laboneq.contrib.example_helpers.generate_device_setup import generate_device_setup\n",
    "from laboneq.dsl.device import DeviceSetup\n",
    "\n",
    "\n",
    "\n",
    "\n",
    "descriptor = generate_descriptor(\n",
    "    #pqsc=[\"\"], # 장비 여러개 사용시\n",
    "    shfqc_6=[\"DEV12256\"],\n",
    "    number_data_qubits=1,\n",
    "    multiplex=True,\n",
    "    number_multiplex=1,\n",
    "    include_cr_lines=True,\n",
    "    include_ef_lines=True,\n",
    "    get_zsync=False,  # Only set to True when using real device\n",
    "    save = True,\n",
    "    filename=\"JW_KAIST\",\n",
    "    ip_address=\"192.168.0.83\"\n",
    ")\n",
    "\n",
    "\n",
    "#descriptor\n",
    "setup = DeviceSetup.from_descriptor(yaml_text=descriptor, server_host=\"192.168.0.83\")\n",
    "#setup\n",
    "setup.instruments[0].device_options = 'SHFQC/PLUS/QC6CH'\n",
    "#setup.instruments"
   ]
  },
  {
   "cell_type": "code",
   "execution_count": 2,
   "id": "e4cfc0c7",
   "metadata": {},
   "outputs": [
    {
     "name": "stdout",
     "output_type": "stream",
     "text": [
      "[2025.09.08 12:48:11.393] INFO    Logging initialized from [Default inline config in laboneq.laboneq_logging] logdir is /Users/yalgaeahn/JSAHN/qubit-experiment/examples/laboneq_output/log\n",
      "[2025.09.08 12:48:11.395] INFO    VERSION: laboneq 2.58.0\n",
      "[2025.09.08 12:48:11.395] INFO    Connecting to data server at 192.168.0.83:8004\n",
      "[2025.09.08 12:48:11.424] INFO    Connected to Zurich Instruments LabOne Data Server version 25.07.0.507 at 192.168.0.83:8004\n",
      "[2025.09.08 12:48:11.465] INFO    Configuring the device setup\n",
      "[2025.09.08 12:48:11.493] INFO    The device setup is configured\n"
     ]
    },
    {
     "data": {
      "text/plain": [
       "<laboneq.dsl.session.ConnectionState at 0x11a16baa0>"
      ]
     },
     "execution_count": 2,
     "metadata": {},
     "output_type": "execute_result"
    }
   ],
   "source": [
    "from laboneq.simple import Session\n",
    "session = Session(setup)\n",
    "session.connect(ignore_version_mismatch=True, do_emulation=False)\n",
    "#session.disconnect()"
   ]
  },
  {
   "cell_type": "code",
   "execution_count": 3,
   "id": "b06dadc3",
   "metadata": {},
   "outputs": [],
   "source": [
    "from qpu_types import TransmonQubit, TransmonQubitParameters\n",
    "from helper import load_qubit_parameters, save_qubit_parameters\n",
    "from operations import TransmonOperations\n",
    "from laboneq.dsl.quantum.qpu import QPU, QuantumPlatform\n",
    "\n",
    "\n",
    "\n",
    "#_loaded_qubits = load_qubit_parameters(filename=\"latest\") \n",
    "qubits = TransmonQubit.from_device_setup(setup) # Also can be done with load_qubit_parameters \n",
    "#qubits = list(_loaded_qubits.values())\n",
    "\n",
    "qubits = []\n",
    "for i in range(1):\n",
    "    q = TransmonQubit.from_logical_signal_group(\n",
    "        f\"q{i}\",\n",
    "        setup.logical_signal_groups[f\"q{i}\"],\n",
    "        parameters=TransmonQubitParameters()\n",
    "    )\n",
    "    qubits.append(q)\n",
    "\n",
    "\n",
    "\n",
    "qpu = QPU(quantum_elements=qubits, quantum_operations=TransmonOperations())\n",
    "#quantum_platform = QuantumPlatform(setup=setup, qpu=qpu)\n",
    "\n",
    "# qpu.topology.add_edge(\"bus\", \"q16\", \"q17\")\n",
    "# qpu.topology.add_edge(\"bus\", \"q17\", \"q18\")\n",
    "# qpu.topology.add_edge(\"bus\", \"q18\", \"q19\")\n",
    "# qpu.topology.plot()\n",
    "\n",
    "\n",
    "\n",
    "\n",
    "from laboneq.simple import workflow\n",
    "folder_store = workflow.logbook.FolderStore(\"./experiment_store\") \n",
    "folder_store.activate()\n",
    "#folder_store.deactivate()\n",
    "workflow.logbook.LoggingStore().activate()\n",
    "#workflow.logbook.LogbookStore().deactivate()\n"
   ]
  },
  {
   "cell_type": "markdown",
   "id": "de930f9a",
   "metadata": {},
   "source": [
    "BF 7"
   ]
  },
  {
   "cell_type": "code",
   "execution_count": 4,
   "id": "94c01da1",
   "metadata": {},
   "outputs": [
    {
     "data": {
      "text/plain": [
       "2e-08"
      ]
     },
     "execution_count": 4,
     "metadata": {},
     "output_type": "execute_result"
    }
   ],
   "source": [
    "qubits[0].parameters.readout_integration_delay"
   ]
  },
  {
   "cell_type": "markdown",
   "id": "d111acae",
   "metadata": {},
   "source": []
  },
  {
   "cell_type": "code",
   "execution_count": 5,
   "id": "8b1d7603",
   "metadata": {},
   "outputs": [],
   "source": [
    "# 0 : 15 , 1 : 16 , 2 : 17, 3 : 18, 4 : 19\n",
    "for q in qubits:\n",
    "    #q.parameters.ge_drive_pulse[\"sigma\"] = 0.25\n",
    "    q.parameters.readout_amplitude = 1.0\n",
    "    q.parameters.reset_delay_length = 20e-6\n",
    "\n",
    "    q.parameters.readout_range_out = 10\n",
    "    q.parameters.readout_range_in = 0\n",
    "    q.parameters.drive_range = -30\n",
    "\n",
    "    q.parameters.readout_lo_frequency = 7.8e9\n",
    "    q.parameters.drive_lo_frequency = 4.2e9\n",
    "\n",
    "    q.parameters.spectroscopy_length = 10e-6\n",
    "\n",
    "    q.parameters.ge_drive_length =64e-9\n",
    "    q.parameters.readout_integration_delay = 6.8e-9 #####\n",
    "\n",
    " \n",
    "qubits[0].parameters.resonance_frequency_ge = 4.383e9\n",
    "qubits[0].parameters.readout_resonator_frequency = 7.6643e9\n",
    "# qubits[2].parameters.resonance_frequency_ge = 4.716e9\n",
    "# qubits[3].parameters.resonance_frequency_ge = 4.664e9\n",
    "# qubits[4].parameters.resonance_frequency_ge = 4.779e9\n",
    "\n",
    "# qubits[2].parameters.readout_resonator_frequency = 6.9226e9\n",
    "# qubits[3].parameters.readout_resonator_frequency = 6.8433e9\n",
    "# qubits[4].parameters.readout_resonator_frequency = 6.7739e9\n",
    "\n"
   ]
  },
  {
   "cell_type": "markdown",
   "id": "131bbaf6",
   "metadata": {},
   "source": [
    "3 oscillator to be calibrated\n",
    "- `drive_local_osc`\n",
    "- `readout_local_osc`\n",
    "- `readout_acquire_osc`"
   ]
  },
  {
   "cell_type": "code",
   "execution_count": null,
   "id": "e495926e",
   "metadata": {},
   "outputs": [],
   "source": [
    "from laboneq.dsl.calibration import Calibration, Oscillator, SignalCalibration"
   ]
  },
  {
   "cell_type": "code",
   "execution_count": null,
   "id": "dbfc30b8",
   "metadata": {},
   "outputs": [],
   "source": [
    "from experiments import signal_propagation_delay\n",
    "options = signal_propagation_delay.experiment_workflow.options()\n",
    "#workflow.show_fields(options)"
   ]
  },
  {
   "cell_type": "markdown",
   "id": "81b32a58",
   "metadata": {},
   "source": [
    "Correcting propagation delay. \n",
    "\n",
    "$\\Delta \\phi =-2\\pi f t$ $\\implies$ $\\tau = \\frac{1}{\\Delta f}$"
   ]
  },
  {
   "cell_type": "code",
   "execution_count": null,
   "id": "2a058718",
   "metadata": {},
   "outputs": [
    {
     "name": "stdout",
     "output_type": "stream",
     "text": [
      "('measure',\n",
      " {'amplitude': 1.0,\n",
      "  'length': 2e-06,\n",
      "  'pulse': {'function': 'GaussianSquare',\n",
      "            'risefall_sigma_ratio': 3.0,\n",
      "            'sigma': 0.2}})\n",
      "DRIVE range (dBm) : -30, READOUT range (dBm) : 10\n",
      "[2025.09.08 12:50:04.931] INFO    \u001b[1m ────────────────────────────────────────────────────────────────────────────── \u001b[0m\n",
      "[2025.09.08 12:50:04.932] INFO    \u001b[1m \u001b[0m\u001b[1m \u001b[0m\u001b[1mWorkflow 'experiment_workflow': execution started at 2025-09-08 \u001b[0m\u001b[1m            \u001b[0m\u001b[1m \u001b[0m\u001b[1m \u001b[0m\n",
      "[2025.09.08 12:50:04.932] INFO    \u001b[1m \u001b[0m\u001b[1m \u001b[0m\u001b[1m03:50:04.931614Z\u001b[0m\u001b[1m                                                            \u001b[0m\u001b[1m \u001b[0m\u001b[1m \u001b[0m\n",
      "[2025.09.08 12:50:04.933] INFO    \u001b[1m ────────────────────────────────────────────────────────────────────────────── \u001b[0m\n",
      "[2025.09.08 12:50:04.945] INFO    \u001b[1mTask 'create_experiment': started at 2025-09-08 03:50:04.944800Z\u001b[0m\n",
      "[2025.09.08 12:50:04.951] INFO    \u001b[1mTask 'create_experiment': ended at 2025-09-08 03:50:04.951501Z\u001b[0m\n",
      "[2025.09.08 12:50:04.953] INFO    \u001b[1mTask 'compile_experiment': started at 2025-09-08 03:50:04.953401Z\u001b[0m\n",
      "[2025.09.08 12:50:04.954] INFO    Resolved modulation type of oscillator 'q0_readout_acquire_osc' on signal 'q0/acquire' to SOFTWARE\n",
      "[2025.09.08 12:50:04.955] INFO    Resolved modulation type of oscillator 'q0_drive_ge_osc' on signal 'q0/drive' to HARDWARE\n",
      "[2025.09.08 12:50:04.955] INFO    Starting LabOne Q Compiler run...\n",
      "[2025.09.08 12:50:04.957] INFO    Schedule completed. [0.000 s]\n",
      "[2025.09.08 12:50:04.959] INFO    Code generation completed for all AWGs. [0.002 s]\n",
      "[2025.09.08 12:50:04.959] INFO    Completed compilation step 1 of 501. [0.003 s]\n",
      "[2025.09.08 12:50:04.959] INFO    Skipping compilation for next step(s)...\n",
      "[2025.09.08 12:50:04.963] INFO     ─────────────────────────────────────────────────────────────────────── \n",
      "[2025.09.08 12:50:04.964] INFO     \u001b[1m \u001b[0m\u001b[1mDevice           \u001b[0m\u001b[1m \u001b[0m \u001b[1m \u001b[0m\u001b[1mAWG\u001b[0m\u001b[1m \u001b[0m \u001b[1m \u001b[0m\u001b[1mSeqC LOC\u001b[0m\u001b[1m \u001b[0m \u001b[1m \u001b[0m\u001b[1mCT entries\u001b[0m\u001b[1m \u001b[0m \u001b[1m \u001b[0m\u001b[1mWaveforms\u001b[0m\u001b[1m \u001b[0m \u001b[1m \u001b[0m\u001b[1mSamples\u001b[0m\u001b[1m \u001b[0m \n",
      "[2025.09.08 12:50:04.964] INFO     ─────────────────────────────────────────────────────────────────────── \n",
      "[2025.09.08 12:50:04.964] INFO      SHFQC_DEV12256        0          7            0           1      8000  \n",
      "[2025.09.08 12:50:04.965] INFO      SHFQC_DEV12256_sg     0          4            1           0         0  \n",
      "[2025.09.08 12:50:04.965] INFO     ─────────────────────────────────────────────────────────────────────── \n",
      "[2025.09.08 12:50:04.965] INFO     \u001b[1m \u001b[0m\u001b[1mTOTAL            \u001b[0m\u001b[1m \u001b[0m \u001b[1m \u001b[0m\u001b[1m   \u001b[0m\u001b[1m \u001b[0m \u001b[1m \u001b[0m\u001b[1m      11\u001b[0m\u001b[1m \u001b[0m \u001b[1m \u001b[0m\u001b[1m         1\u001b[0m\u001b[1m \u001b[0m \u001b[1m \u001b[0m\u001b[1m         \u001b[0m\u001b[1m \u001b[0m \u001b[1m \u001b[0m\u001b[1m   8000\u001b[0m\u001b[1m \u001b[0m \n",
      "[2025.09.08 12:50:04.965] INFO     ─────────────────────────────────────────────────────────────────────── \n",
      "[2025.09.08 12:50:04.968] INFO    Finished LabOne Q Compiler run.\n",
      "[2025.09.08 12:50:04.969] INFO    \u001b[1mTask 'compile_experiment': ended at 2025-09-08 03:50:04.969285Z\u001b[0m\n",
      "[2025.09.08 12:50:04.976] INFO    \u001b[1mTask 'run_experiment': started at 2025-09-08 03:50:04.975940Z\u001b[0m\n",
      "[2025.09.08 12:50:04.977] INFO    Connecting to data server at 192.168.0.83:8004\n",
      "[2025.09.08 12:50:05.007] INFO    Connected to Zurich Instruments LabOne Data Server version 25.07.0.507 at 192.168.0.83:8004\n",
      "[2025.09.08 12:50:05.016] INFO    Configuring the device setup\n",
      "[2025.09.08 12:50:05.042] INFO    The device setup is configured\n",
      "[2025.09.08 12:50:05.514] INFO    Starting near-time execution...\n",
      "[2025.09.08 12:52:27.545] INFO    Finished near-time execution.\n",
      "[2025.09.08 12:52:29.110] INFO    \u001b[1mTask 'run_experiment': ended at 2025-09-08 03:52:29.110794Z\u001b[0m\n",
      "[2025.09.08 12:52:29.112] INFO    \u001b[1m ────────────────────────────────────────────────────────────────────────────── \u001b[0m\n",
      "[2025.09.08 12:52:29.113] INFO    \u001b[1m \u001b[0m\u001b[1m \u001b[0m\u001b[1mWorkflow 'analysis_workflow': execution started at 2025-09-08 \u001b[0m\u001b[1m              \u001b[0m\u001b[1m \u001b[0m\u001b[1m \u001b[0m\n",
      "[2025.09.08 12:52:29.113] INFO    \u001b[1m \u001b[0m\u001b[1m \u001b[0m\u001b[1m03:52:29.112793Z\u001b[0m\u001b[1m                                                            \u001b[0m\u001b[1m \u001b[0m\u001b[1m \u001b[0m\n",
      "[2025.09.08 12:52:29.113] INFO    \u001b[1m ────────────────────────────────────────────────────────────────────────────── \u001b[0m\n",
      "[2025.09.08 12:52:29.115] INFO    \u001b[1mTask 'extract_qubit_parameters': started at 2025-09-08 03:52:29.115213Z\u001b[0m\n",
      "[2025.09.08 12:52:29.116] INFO    \u001b[1mTask 'extract_qubit_parameters': ended at 2025-09-08 03:52:29.116151Z\u001b[0m\n",
      "[2025.09.08 12:52:29.116] INFO    \u001b[1mTask 'plot_data': started at 2025-09-08 03:52:29.116603Z\u001b[0m\n",
      "[2025.09.08 12:52:29.121] INFO    \u001b[1mArtifact: 'Signal_Propagation_Delayq0' of type 'Figure' logged at 2025-09-08 \u001b[0m\n",
      "[2025.09.08 12:52:29.121] INFO    \u001b[1m03:52:29.121490Z\u001b[0m\n",
      "[2025.09.08 12:52:29.159] INFO    \u001b[1mTask 'plot_data': ended at 2025-09-08 03:52:29.158907Z\u001b[0m\n",
      "[2025.09.08 12:52:29.159] INFO    \u001b[1m ────────────────────────────────────────────────────────────────────────────── \u001b[0m\n",
      "[2025.09.08 12:52:29.159] INFO    \u001b[1m \u001b[0m\u001b[1m \u001b[0m\u001b[1mWorkflow 'analysis_workflow': execution ended at 2025-09-08 03:52:29.159609Z\u001b[0m\u001b[1m \u001b[0m\u001b[1m \u001b[0m\n",
      "[2025.09.08 12:52:29.160] INFO    \u001b[1m ────────────────────────────────────────────────────────────────────────────── \u001b[0m\n",
      "[2025.09.08 12:52:29.160] INFO    \u001b[1m ────────────────────────────────────────────────────────────────────────────── \u001b[0m\n",
      "[2025.09.08 12:52:29.160] INFO    \u001b[1m \u001b[0m\u001b[1m \u001b[0m\u001b[1mWorkflow 'experiment_workflow': execution ended at 2025-09-08 \u001b[0m\u001b[1m              \u001b[0m\u001b[1m \u001b[0m\u001b[1m \u001b[0m\n",
      "[2025.09.08 12:52:29.161] INFO    \u001b[1m \u001b[0m\u001b[1m \u001b[0m\u001b[1m03:52:29.160606Z\u001b[0m\u001b[1m                                                            \u001b[0m\u001b[1m \u001b[0m\u001b[1m \u001b[0m\n",
      "[2025.09.08 12:52:29.161] INFO    \u001b[1m ────────────────────────────────────────────────────────────────────────────── \u001b[0m\n",
      "None\n"
     ]
    }
   ],
   "source": [
    "from experiments import signal_propagation_delay\n",
    "####################################################################################\n",
    "qubits[0].parameters.readout_amplitude =1.0\n",
    "q=qubits[0]\n",
    "delays=np.linspace(0e-9, 500e-9, 101)\n",
    "measure_delays = 40e-6\n",
    "pprint(q.readout_parameters())\n",
    "print(f\"DRIVE range (dBm) : {q.parameters.drive_range}, READOUT range (dBm) : {q.parameters.readout_range_out}\")\n",
    "#####################################################################################\n",
    "options = signal_propagation_delay.experiment_workflow.options()\n",
    "#workflow.show_fields(options)\n",
    "options.update(False)\n",
    "######################################################################################\n",
    "# Build and run resonator_spectroscopy_amplitude wormflow\n",
    "prop_delay = signal_propagation_delay.experiment_workflow(\n",
    "    session=session,\n",
    "    qpu=qpu,\n",
    "    qubit=q,\n",
    "    delays=delays,\n",
    "    measure_delay=measure_delays,\n",
    "    options=options\n",
    ")\n",
    "prop_delay_result=prop_delay.run()\n",
    "prop_delay_analysis_result = prop_delay_result.tasks[\"analysis_workflow\"]\n",
    "pprint(prop_delay_analysis_result.output)"
   ]
  },
  {
   "cell_type": "code",
   "execution_count": null,
   "id": "af7ca1bd",
   "metadata": {},
   "outputs": [],
   "source": [
    "prop_delay_analysis_result.tasks[\"plot_data\"].output['q0']"
   ]
  },
  {
   "cell_type": "markdown",
   "id": "2ed0face",
   "metadata": {},
   "source": [
    "# 1. Spectroscopy"
   ]
  },
  {
   "cell_type": "code",
   "execution_count": null,
   "id": "f996eab5",
   "metadata": {},
   "outputs": [],
   "source": [
    "from helper import adjust_amplitude_for_output_range, calculate_power\n",
    "adjust_amplitude_for_output_range(initial_output_dbm=0, initial_amplitude= 0.002, new_output_dbm=-5)\n",
    "calculate_power(output_dbm=0, amplitude=0.001,attenuation=[])"
   ]
  },
  {
   "cell_type": "markdown",
   "id": "148b02dd",
   "metadata": {},
   "source": [
    "### 1.1 Resonator spectroscopy with amplitude sweep\n",
    "\n",
    "STRATEGY\n",
    "1. CW spectroscpy for wide range scan\n",
    "    * CW spectroscopy can be done for wide range scan \n",
    "    * amplitude, frequency 2D sweep 을 통해  power에 따른 broadening 및 SNR 경향 관찰\n",
    "    * $\\Delta F$ : frequency span,  $\\Delta f_r$\n",
    "    * Pick $\\Delta F / \\Delta f_r$ 1~2"
   ]
  },
  {
   "cell_type": "code",
   "execution_count": null,
   "id": "8ce8bb94",
   "metadata": {},
   "outputs": [],
   "source": [
    "from experiments import resonator_spectroscopy_amplitude\n",
    "\n",
    "####################################################################################\n",
    "qubits[0].parameters.readout_amplitude =1.0\n",
    "q=qubits[0]\n",
    "pprint(q.readout_parameters())\n",
    "print(f\"DRIVE range (dBm) : {q.parameters.drive_range}, READOUT range (dBm) : {q.parameters.readout_range_out}\")\n",
    "frequencies = q.parameters.readout_resonator_frequency + np.linspace(-5e6,5e6,201)\n",
    "amplitudes = np.linspace(0.0, 1.0, 21) #This works as scaling factor!!!!!!!!!!!!\n",
    "#####################################################################################\n",
    "options = resonator_spectroscopy_amplitude.experiment_workflow.options()\n",
    "#workflow.show_fields(options)\n",
    "options.update(False)\n",
    "options.use_cw(True)\n",
    "options.do_analysis(True)\n",
    "######################################################################################\n",
    "# Build and run resonator_spectroscopy_amplitude wormflow\n",
    "res_spec_amp = resonator_spectroscopy_amplitude.experiment_workflow(\n",
    "    session=session,\n",
    "    qpu=qpu,\n",
    "    qubit=q,\n",
    "    frequencies=frequencies,\n",
    "    amplitudes=amplitudes,\n",
    "    options=options\n",
    ")\n",
    "res_spec_amp_result=res_spec_amp.run()\n"
   ]
  },
  {
   "cell_type": "code",
   "execution_count": null,
   "id": "da34e01b",
   "metadata": {},
   "outputs": [],
   "source": [
    "res_spec_amp_result.tasks[\"analysis_workflow\"].tasks[\"plot_signal_magnitude_and_phase_2d\"].output[\"q0\"]"
   ]
  },
  {
   "cell_type": "markdown",
   "id": "c7d77091",
   "metadata": {},
   "source": [
    "### 1.2 Resonator Spectroscopy\n",
    "* CW not recommended "
   ]
  },
  {
   "cell_type": "code",
   "execution_count": 7,
   "id": "47031bea",
   "metadata": {},
   "outputs": [
    {
     "name": "stdout",
     "output_type": "stream",
     "text": [
      "('measure', {'amplitude': 0.3, 'length': 2e-06, 'pulse': {'function': 'GaussianSquare', 'sigma': 0.2, 'risefall_sigma_ratio': 3.0}})\n",
      "DRIVE range (dBm) : -30, READOUT range (dBm) : 10\n",
      "[2025.09.08 12:48:51.125] INFO    \u001b[1m ────────────────────────────────────────────────────────────────────────────── \u001b[0m\n",
      "[2025.09.08 12:48:51.125] INFO    \u001b[1m \u001b[0m\u001b[1m \u001b[0m\u001b[1mWorkflow 'resonator_spectroscopy': execution started at 2025-09-08 \u001b[0m\u001b[1m         \u001b[0m\u001b[1m \u001b[0m\u001b[1m \u001b[0m\n",
      "[2025.09.08 12:48:51.125] INFO    \u001b[1m \u001b[0m\u001b[1m \u001b[0m\u001b[1m03:48:51.124818Z\u001b[0m\u001b[1m                                                            \u001b[0m\u001b[1m \u001b[0m\u001b[1m \u001b[0m\n",
      "[2025.09.08 12:48:51.125] INFO    \u001b[1m ────────────────────────────────────────────────────────────────────────────── \u001b[0m\n",
      "[2025.09.08 12:48:51.132] INFO    \u001b[1mTask 'temporary_qpu': started at 2025-09-08 03:48:51.132585Z\u001b[0m\n",
      "[2025.09.08 12:48:51.133] INFO    \u001b[1mTask 'temporary_qpu': ended at 2025-09-08 03:48:51.133215Z\u001b[0m\n",
      "[2025.09.08 12:48:51.134] INFO    \u001b[1mTask 'temporary_quantum_elements_from_qpu': started at 2025-09-08 \u001b[0m\n",
      "[2025.09.08 12:48:51.134] INFO    \u001b[1m03:48:51.134158Z\u001b[0m\n",
      "[2025.09.08 12:48:51.135] INFO    \u001b[1mTask 'temporary_quantum_elements_from_qpu': ended at 2025-09-08 03:48:51.134859Z\u001b[0m\n",
      "[2025.09.08 12:48:51.135] INFO    \u001b[1mTask 'create_experiment': started at 2025-09-08 03:48:51.135850Z\u001b[0m\n",
      "[2025.09.08 12:48:51.140] INFO    \u001b[1mTask 'create_experiment': ended at 2025-09-08 03:48:51.140747Z\u001b[0m\n",
      "[2025.09.08 12:48:51.143] INFO    \u001b[1mTask 'compile_experiment': started at 2025-09-08 03:48:51.143674Z\u001b[0m\n",
      "[2025.09.08 12:48:51.145] INFO    Resolved modulation type of oscillator 'q0_drive_ge_osc' on signal 'q0/drive' to HARDWARE\n",
      "[2025.09.08 12:48:51.145] INFO    Starting LabOne Q Compiler run...\n",
      "[2025.09.08 12:48:51.352] INFO    Schedule completed. [0.206 s]\n",
      "[2025.09.08 12:48:51.431] INFO    Code generation completed for all AWGs. [0.079 s]\n",
      "[2025.09.08 12:48:51.432] INFO    Completed compilation step 1 of 1. [0.285 s]\n",
      "[2025.09.08 12:48:51.433] INFO     ─────────────────────────────────────────────────────────────────────── \n",
      "[2025.09.08 12:48:51.433] INFO     \u001b[1m \u001b[0m\u001b[1mDevice           \u001b[0m\u001b[1m \u001b[0m \u001b[1m \u001b[0m\u001b[1mAWG\u001b[0m\u001b[1m \u001b[0m \u001b[1m \u001b[0m\u001b[1mSeqC LOC\u001b[0m\u001b[1m \u001b[0m \u001b[1m \u001b[0m\u001b[1mCT entries\u001b[0m\u001b[1m \u001b[0m \u001b[1m \u001b[0m\u001b[1mWaveforms\u001b[0m\u001b[1m \u001b[0m \u001b[1m \u001b[0m\u001b[1mSamples\u001b[0m\u001b[1m \u001b[0m \n",
      "[2025.09.08 12:48:51.434] INFO     ─────────────────────────────────────────────────────────────────────── \n",
      "[2025.09.08 12:48:51.434] INFO      SHFQC_DEV12256        0         21            0           1      8000  \n",
      "[2025.09.08 12:48:51.434] INFO      SHFQC_DEV12256_sg     0          9            1           0         0  \n",
      "[2025.09.08 12:48:51.434] INFO     ─────────────────────────────────────────────────────────────────────── \n",
      "[2025.09.08 12:48:51.435] INFO     \u001b[1m \u001b[0m\u001b[1mTOTAL            \u001b[0m\u001b[1m \u001b[0m \u001b[1m \u001b[0m\u001b[1m   \u001b[0m\u001b[1m \u001b[0m \u001b[1m \u001b[0m\u001b[1m      30\u001b[0m\u001b[1m \u001b[0m \u001b[1m \u001b[0m\u001b[1m         1\u001b[0m\u001b[1m \u001b[0m \u001b[1m \u001b[0m\u001b[1m         \u001b[0m\u001b[1m \u001b[0m \u001b[1m \u001b[0m\u001b[1m   8000\u001b[0m\u001b[1m \u001b[0m \n",
      "[2025.09.08 12:48:51.435] INFO     ─────────────────────────────────────────────────────────────────────── \n",
      "[2025.09.08 12:48:51.439] INFO    Finished LabOne Q Compiler run.\n",
      "[2025.09.08 12:48:51.439] INFO    \u001b[1mTask 'compile_experiment': ended at 2025-09-08 03:48:51.439332Z\u001b[0m\n",
      "[2025.09.08 12:48:51.445] INFO    \u001b[1mTask 'run_experiment': started at 2025-09-08 03:48:51.445745Z\u001b[0m\n",
      "[2025.09.08 12:48:51.447] INFO    Connecting to data server at 192.168.0.83:8004\n",
      "[2025.09.08 12:48:51.478] INFO    Connected to Zurich Instruments LabOne Data Server version 25.07.0.507 at 192.168.0.83:8004\n",
      "[2025.09.08 12:48:51.490] INFO    Configuring the device setup\n",
      "[2025.09.08 12:48:51.529] INFO    The device setup is configured\n",
      "[2025.09.08 12:48:52.053] INFO    Starting near-time execution...\n",
      "[2025.09.08 12:48:55.426] INFO    Finished near-time execution.\n",
      "[2025.09.08 12:48:55.509] INFO    \u001b[1mTask 'run_experiment': ended at 2025-09-08 03:48:55.509158Z\u001b[0m\n",
      "[2025.09.08 12:48:55.511] INFO    \u001b[1m ────────────────────────────────────────────────────────────────────────────── \u001b[0m\n",
      "[2025.09.08 12:48:55.511] INFO    \u001b[1m \u001b[0m\u001b[1m \u001b[0m\u001b[1mWorkflow 'analysis_workflow': execution started at 2025-09-08 \u001b[0m\u001b[1m              \u001b[0m\u001b[1m \u001b[0m\u001b[1m \u001b[0m\n",
      "[2025.09.08 12:48:55.512] INFO    \u001b[1m \u001b[0m\u001b[1m \u001b[0m\u001b[1m03:48:55.511156Z\u001b[0m\u001b[1m                                                            \u001b[0m\u001b[1m \u001b[0m\u001b[1m \u001b[0m\n",
      "[2025.09.08 12:48:55.512] INFO    \u001b[1m ────────────────────────────────────────────────────────────────────────────── \u001b[0m\n",
      "[2025.09.08 12:48:55.515] INFO    \u001b[1mTask 'calculate_signal_magnitude_and_phase': started at 2025-09-08 \u001b[0m\n",
      "[2025.09.08 12:48:55.515] INFO    \u001b[1m03:48:55.515244Z\u001b[0m\n",
      "[2025.09.08 12:48:55.516] INFO    \u001b[1mTask 'calculate_signal_magnitude_and_phase': ended at 2025-09-08 \u001b[0m\n",
      "[2025.09.08 12:48:55.516] INFO    \u001b[1m03:48:55.516404Z\u001b[0m\n",
      "[2025.09.08 12:48:55.518] INFO    \u001b[1mTask 'fit_data': started at 2025-09-08 03:48:55.518130Z\u001b[0m\n",
      "[2025.09.08 12:48:55.525] INFO    \u001b[1mTask 'fit_data': ended at 2025-09-08 03:48:55.525617Z\u001b[0m\n",
      "[2025.09.08 12:48:55.526] WARNING Type <class 'lmfit.model.ModelResult'> not supported by the serializer [name: fit_data.output].\n",
      "[2025.09.08 12:48:55.526] INFO    \u001b[1mTask 'extract_qubit_parameters': started at 2025-09-08 03:48:55.526802Z\u001b[0m\n",
      "[2025.09.08 12:48:55.527] WARNING Type <class 'lmfit.model.ModelResult'> not supported by the serializer [name: extract_qubit_parameters.input.fit_result].\n",
      "[2025.09.08 12:48:55.528] INFO    \u001b[1mTask 'extract_qubit_parameters': ended at 2025-09-08 03:48:55.528415Z\u001b[0m\n",
      "[2025.09.08 12:48:55.528] WARNING Type <class 'dict'> has unsupported keys or values. Keys must be strings and values must have one of the following types: [NoneType, int, float, complex, bool, str, dict, list, tuple, integer, ndarray] [name: extract_qubit_parameters.output.new_parameter_values].\n",
      "[2025.09.08 12:48:55.529] INFO    \u001b[1mTask 'plot_raw_complex_data_1d': started at 2025-09-08 03:48:55.529423Z\u001b[0m\n",
      "[2025.09.08 12:48:55.558] INFO    \u001b[1mArtifact: 'Raw_data_q0' of type 'Figure' logged at 2025-09-08 03:48:55.558064Z\u001b[0m\n",
      "[2025.09.08 12:48:55.704] INFO    \u001b[1mTask 'plot_raw_complex_data_1d': ended at 2025-09-08 03:48:55.704821Z\u001b[0m\n",
      "[2025.09.08 12:48:55.705] INFO    \u001b[1mTask 'plot_magnitude_phase': started at 2025-09-08 03:48:55.705595Z\u001b[0m\n",
      "[2025.09.08 12:48:55.705] WARNING Type <class 'lmfit.model.ModelResult'> not supported by the serializer [name: plot_magnitude_phase.input.fit_result].\n",
      "[2025.09.08 12:48:55.706] WARNING Type <class 'dict'> has unsupported keys or values. Keys must be strings and values must have one of the following types: [NoneType, int, float, complex, bool, str, dict, list, tuple, integer, ndarray] [name: plot_magnitude_phase.input.qubit_parameters].\n",
      "[2025.09.08 12:48:55.713] INFO    \u001b[1mArtifact: 'Magnitude_Phase_q0' of type 'Figure' logged at 2025-09-08 \u001b[0m\n",
      "[2025.09.08 12:48:55.713] INFO    \u001b[1m03:48:55.713388Z\u001b[0m\n",
      "[2025.09.08 12:48:55.776] INFO    \u001b[1mTask 'plot_magnitude_phase': ended at 2025-09-08 03:48:55.776083Z\u001b[0m\n",
      "[2025.09.08 12:48:55.776] INFO    \u001b[1mTask 'plot_real_imaginary': started at 2025-09-08 03:48:55.776746Z\u001b[0m\n",
      "[2025.09.08 12:48:55.777] WARNING Type <class 'lmfit.model.ModelResult'> not supported by the serializer [name: plot_real_imaginary.input.fit_result].\n",
      "[2025.09.08 12:48:55.781] INFO    \u001b[1mArtifact: 'Real_Imaginary_q0' of type 'Figure' logged at 2025-09-08 \u001b[0m\n",
      "[2025.09.08 12:48:55.781] INFO    \u001b[1m03:48:55.780931Z\u001b[0m\n",
      "[2025.09.08 12:48:55.818] INFO    \u001b[1mTask 'plot_real_imaginary': ended at 2025-09-08 03:48:55.818628Z\u001b[0m\n",
      "[2025.09.08 12:48:55.819] INFO    \u001b[1m ────────────────────────────────────────────────────────────────────────────── \u001b[0m\n",
      "[2025.09.08 12:48:55.819] INFO    \u001b[1m \u001b[0m\u001b[1m \u001b[0m\u001b[1mWorkflow 'analysis_workflow': execution ended at 2025-09-08 03:48:55.819257Z\u001b[0m\u001b[1m \u001b[0m\u001b[1m \u001b[0m\n",
      "[2025.09.08 12:48:55.819] INFO    \u001b[1m ────────────────────────────────────────────────────────────────────────────── \u001b[0m\n",
      "[2025.09.08 12:48:55.820] WARNING Type <class 'dict'> has unsupported keys or values. Keys must be strings and values must have one of the following types: [NoneType, int, float, complex, bool, str, dict, list, tuple, integer, ndarray] [name: analysis_workflow.output.new_parameter_values].\n",
      "[2025.09.08 12:48:55.820] INFO    \u001b[1m ────────────────────────────────────────────────────────────────────────────── \u001b[0m\n",
      "[2025.09.08 12:48:55.820] INFO    \u001b[1m \u001b[0m\u001b[1m \u001b[0m\u001b[1mWorkflow 'resonator_spectroscopy': execution ended at 2025-09-08 \u001b[0m\u001b[1m           \u001b[0m\u001b[1m \u001b[0m\u001b[1m \u001b[0m\n",
      "[2025.09.08 12:48:55.821] INFO    \u001b[1m \u001b[0m\u001b[1m \u001b[0m\u001b[1m03:48:55.820546Z\u001b[0m\u001b[1m                                                            \u001b[0m\u001b[1m \u001b[0m\u001b[1m \u001b[0m\n",
      "[2025.09.08 12:48:55.821] INFO    \u001b[1m ────────────────────────────────────────────────────────────────────────────── \u001b[0m\n",
      "{'new_parameter_values': {'q0': {'readout_resonator_frequency': 7664061465.263262+/-26379.16137403329}},\n",
      " 'old_parameter_values': {'q0': {'readout_resonator_frequency': 7664300000.0}}}\n"
     ]
    }
   ],
   "source": [
    "from experiments import resonator_spectroscopy\n",
    "\n",
    "####################################################################################\n",
    "q=qubits[0]\n",
    "q.parameters.readout_amplitude = 0.3\n",
    "print(q.readout_parameters())\n",
    "print(f\"DRIVE range (dBm) : {q.parameters.drive_range}, READOUT range (dBm) : {q.parameters.readout_range_out}\")\n",
    "#frequencies = q.parameters.readout_resonator_frequency + np.linspace(-10e6,10e6,501)\n",
    "frequencies = q.parameters.readout_resonator_frequency + np.linspace(-10e6,10e6,1001)\n",
    "#####################################################################################\n",
    "options = resonator_spectroscopy.experiment_workflow.options()\n",
    "#workflow.show_fields(options)\n",
    "options.count(1024)\n",
    "options.update(False)\n",
    "options.use_cw(False) #qop.measure \n",
    "options.fit_complex_resonator(False)\n",
    "options.fit_lorentzian(True)\n",
    "######################################################################################\n",
    "# Build and run resonator_spectroscopy_amplitude wormflow\n",
    "res_spec = resonator_spectroscopy.experiment_workflow(\n",
    "    session=session,\n",
    "    qpu=qpu,\n",
    "    qubit=q,\n",
    "    frequencies=frequencies,\n",
    "    options=options\n",
    ")\n",
    "res_spec_result = res_spec.run()\n",
    "res_spec_analysis_result = res_spec_result.tasks[\"analysis_workflow\"]\n",
    "pprint(res_spec_analysis_result.output)"
   ]
  },
  {
   "cell_type": "code",
   "execution_count": null,
   "id": "0efce858",
   "metadata": {},
   "outputs": [],
   "source": [
    "res_spec_analysis_result.tasks['plot_magnitude_phase'].output"
   ]
  },
  {
   "cell_type": "code",
   "execution_count": null,
   "id": "e22c6270",
   "metadata": {},
   "outputs": [],
   "source": [
    "# res_spec_result.tasks[\"analysis_workflow\"].tasks[\"plot_real_imaginary\"].output"
   ]
  },
  {
   "cell_type": "code",
   "execution_count": null,
   "id": "cd189ac9",
   "metadata": {},
   "outputs": [],
   "source": [
    "from laboneq.simple import show_pulse_sheet\n",
    "from laboneq.contrib.example_helpers.plotting.plot_helpers import plot_simulation\n",
    "\n",
    "#show_pulse_sheet(compiled_experiment=res_spec_result.tasks[\"compile_experiment\"].output,name='test', interactive=True)\n",
    "#plot_simulation(compiled_experiment=res_spec_result.tasks[\"compile_experiment\"].output)"
   ]
  },
  {
   "cell_type": "markdown",
   "id": "4fd45bd4",
   "metadata": {},
   "source": [
    "### 2.1 Qubit Spectroscopy with Amplitude Sweep\n",
    "* Current qubit spectroscopy modules do not support CW \n",
    "* Recommended to use long enough spectroscopy drive (pulsed) to see steady state signals"
   ]
  },
  {
   "cell_type": "code",
   "execution_count": null,
   "id": "a7a33119",
   "metadata": {},
   "outputs": [],
   "source": [
    "qubits[2].parameters.drive_range = -5\n",
    "qubits[2].parameters.drive"
   ]
  },
  {
   "cell_type": "code",
   "execution_count": null,
   "id": "62199137",
   "metadata": {},
   "outputs": [],
   "source": [
    "from experiments import qubit_spectroscopy_amplitude\n",
    "\n",
    "###############################################################\n",
    "q = qubits[4]\n",
    "frequencies = q.parameters.resonance_frequency_ge + np.linspace(-2e6, 2e6, 101)\n",
    "amplitudes = np.linspace(0.01, 0.002, 11)\n",
    "print(f\"DRIVE range (dBm) : {q.parameters.drive_range}, READOUT range (dBm) : {q.parameters.readout_range_out}\")\n",
    "\n",
    "pprint(q.readout_parameters())\n",
    "pprint(q.spectroscopy_parameters())\n",
    "################################################################\n",
    "options = qubit_spectroscopy_amplitude.experiment_workflow.options()\n",
    "options.update(False)\n",
    "# workflow.show_fields(options)\n",
    "###################################################################\n",
    "qubit_spec_amp = qubit_spectroscopy_amplitude.experiment_workflow(\n",
    "    session=session,\n",
    "    qpu=qpu,\n",
    "    qubits=q,\n",
    "    frequencies=frequencies,\n",
    "    amplitudes=amplitudes,\n",
    "    options=options\n",
    ")\n",
    "\n",
    "qubit_spec_amp_result = qubit_spec_amp.run()\n",
    "qubit_spec_amp_result"
   ]
  },
  {
   "cell_type": "markdown",
   "id": "0701bc68",
   "metadata": {},
   "source": [
    "### 2.2 Qubit Spectroscopy \n"
   ]
  },
  {
   "cell_type": "code",
   "execution_count": null,
   "id": "57fcc7d7",
   "metadata": {},
   "outputs": [],
   "source": [
    "from experiments import qubit_spectroscopy\n",
    "\n",
    "q\n",
    "###############################################################\n",
    "q = qubits[4]\n",
    "q.parameters.spectroscopy_amplitude = 0.002\n",
    "q.parameters.readout_amplitude = 0.6\n",
    "frequencies = q.parameters.resonance_frequency_ge + np.linspace(-3e6, 3e6, 501)\n",
    "print(f\"DRIVE range (dBm) : {q.parameters.drive_range}, READOUT range (dBm) : {q.parameters.readout_range_out}\")\n",
    "pprint(q.readout_parameters())\n",
    "pprint(q.spectroscopy_parameters())\n",
    "################################################################\n",
    "options = qubit_spectroscopy.experiment_workflow.options()\n",
    "options.update(False)\n",
    "# workflow.show_fields(options)\n",
    "###################################################################\n",
    "qubit_spec = qubit_spectroscopy.experiment_workflow(\n",
    "    session=session,\n",
    "    qpu=qpu,\n",
    "    qubits=q,\n",
    "    frequencies=frequencies,\n",
    "    options=options\n",
    ")\n",
    "\n",
    "qubit_spec_result = qubit_spec.run()\n",
    "qubit_spec_result"
   ]
  },
  {
   "cell_type": "markdown",
   "id": "8abd09fa",
   "metadata": {},
   "source": [
    "# 2. Rabi"
   ]
  },
  {
   "cell_type": "markdown",
   "id": "6288aa20",
   "metadata": {},
   "source": [
    "## 2.1 Rabi Amplitude "
   ]
  },
  {
   "cell_type": "code",
   "execution_count": null,
   "id": "f21835f5",
   "metadata": {},
   "outputs": [],
   "source": [
    "qubits[4].parameters.ge_drive_amplitude_pi = 0.2571\n",
    "qubits[4].parameters.ge_drive_amplitude_pi2 = 0.1222"
   ]
  },
  {
   "cell_type": "code",
   "execution_count": null,
   "id": "0a1a5ade",
   "metadata": {},
   "outputs": [],
   "source": [
    "from laboneq_applications.experiments import amplitude_rabi\n",
    "q = qubits[4]\n",
    "\n",
    "#######################################################################\n",
    "amplitudes = np.linspace(0.02, 1.0,501)\n",
    "print(q.parameters.ge_drive_amplitude_pi)\n",
    "print(f\"DRIVE range (dBm) : {q.parameters.drive_range}, READOUT range (dBm) : {q.parameters.readout_range_out}\")\n",
    "#######################################################################\n",
    "options = amplitude_rabi.experiment_workflow.options()\n",
    "options.update(False)\n",
    "options.use_cal_traces(False)\n",
    "#print(workflow.show_fields(options))\n",
    "\n",
    "###################################################################\n",
    "rabi_amp = amplitude_rabi.experiment_workflow(\n",
    "    session=session,\n",
    "    qpu=qpu,\n",
    "    qubits=q,\n",
    "    amplitudes=amplitudes,\n",
    "    options=options\n",
    ")\n",
    "\n",
    "rabi_amp_result = rabi_amp.run()\n",
    "#qubit_spec_compiled = session.compile(amplitude_rabi.create_experiment(qpu=qpu,qubit=q,amplitudes=amplitudes, options=options))\n",
    "print(rabi_amp_result.tasks['analysis_workflow'].output)"
   ]
  },
  {
   "cell_type": "markdown",
   "id": "42c0eaef",
   "metadata": {},
   "source": [
    "## 2.2 (optional) Rabi Amplitude Chevron "
   ]
  },
  {
   "cell_type": "code",
   "execution_count": null,
   "id": "3e3f5381",
   "metadata": {},
   "outputs": [],
   "source": [
    "from experiments import amplitude_rabi_chevron\n",
    "\n",
    "#######################################################################\n",
    "q = qubits[4]\n",
    "amplitudes = np.linspace(0,0.5,11)\n",
    "frequencies = q.parameters.resonance_frequency_ge + np.linspace(-3e6, 3e6, 51)\n",
    "print(f\"DRIVE range (dBm) : {q.parameters.drive_range}, READOUT range (dBm) : {q.parameters.readout_range_out}\")\n",
    "#######################################################################\n",
    "options = amplitude_rabi_chevron.experiment_workflow.options()\n",
    "\n",
    "#print(workflow.show_fields(options))\n",
    "\n",
    "###################################################################\n",
    "rabi_amp_chev = amplitude_rabi_chevron.experiment_workflow(\n",
    "    session=session,\n",
    "    qpu=qpu,\n",
    "    qubits=q,\n",
    "    frequencies=frequencies,\n",
    "    amplitudes=amplitudes,\n",
    "    options=options\n",
    ")\n",
    "\n",
    "rabi_amp_chev_result = rabi_amp_chev.run()\n",
    "#qubit_spec_compiled = session.compile(amplitude_rabi.create_experiment(qpu=qpu,qubit=q,amplitudes=amplitudes, options=options))\n",
    "print(rabi_amp_chev_result.tasks['analysis_workflow'].output)\n"
   ]
  },
  {
   "cell_type": "markdown",
   "id": "f070f628",
   "metadata": {},
   "source": [
    "## 2.3 (optional) Rabi Length\n",
    "- Not working yet"
   ]
  },
  {
   "cell_type": "code",
   "execution_count": null,
   "id": "2d9ae4ff",
   "metadata": {},
   "outputs": [],
   "source": [
    "# from experiments import time_rabi\n",
    "# #######################################################################\n",
    "# q = qubits[2]\n",
    "# q.parameters.ge_drive_amplitude_pi = 0.3\n",
    "# lengths = np.linspace(0.0, 240e-9, 21 ),\n",
    "# print(f\"DRIVE range (dBm) : {q.parameters.drive_range}, READOUT range (dBm) : {q.parameters.readout_range_out}\")\n",
    "# #######################################################################\n",
    "# options = time_rabi.experiment_workflow.options()\n",
    "\n",
    "# #print(workflow.show_fields(options))\n",
    "\n",
    "# ###################################################################\n",
    "# rabi_length = time_rabi.experiment_workflow(\n",
    "#     session=session,\n",
    "#     qpu=qpu,\n",
    "#     qubits=q,\n",
    "#     lengths=lengths,\n",
    "#     options=options\n",
    "# )\n",
    "\n",
    "# rabi_length_result = rabi_length.run()\n",
    "# #qubit_spec_compiled = session.compile(amplitude_rabi.create_experiment(qpu=qpu,qubit=q,amplitudes=amplitudes, options=options))\n",
    "# print(rabi_length_result.tasks['analysis_workflow'].output)\n"
   ]
  },
  {
   "cell_type": "markdown",
   "id": "711e7708",
   "metadata": {},
   "source": [
    "## 2.2 (optional) Rabi Length Chevron"
   ]
  },
  {
   "cell_type": "code",
   "execution_count": null,
   "id": "546dedad",
   "metadata": {},
   "outputs": [],
   "source": [
    "# from experiments import time_rabi_chevron\n",
    "# #######################################################################\n",
    "# q = qubits[4]\n",
    "\n",
    "# frequencies = q.parameters.resonance_frequency_ge + np.linspace(-5e6, 5e6, 21)\n",
    "# lengths = np.linspace(0.0, 240e-9, 21 ),\n",
    "# print(f\"DRIVE range (dBm) : {q.parameters.drive_range}, READOUT range (dBm) : {q.parameters.readout_range_out}\")\n",
    "# #######################################################################\n",
    "# options = time_rabi_chevron.experiment_workflow.options()\n",
    "\n",
    "# #print(workflow.show_fields(options))\n",
    "\n",
    "# ###################################################################\n",
    "# rabi_length_chev = time_rabi_chevron.experiment_workflow(\n",
    "#     session=session,\n",
    "#     qpu=qpu,\n",
    "#     qubits=q,\n",
    "#     frequencies=frequencies,\n",
    "#     lengths=lengths,\n",
    "#     options=options\n",
    "# )\n",
    "\n",
    "# rabi_length_chev_result = rabi_length_chev.run()\n",
    "# #qubit_spec_compiled = session.compile(amplitude_rabi.create_experiment(qpu=qpu,qubit=q,amplitudes=amplitudes, options=options))\n",
    "# print(rabi_length_chev_result.tasks['analysis_workflow'].output)\n"
   ]
  },
  {
   "cell_type": "markdown",
   "id": "c29623b2",
   "metadata": {},
   "source": [
    "# 3. Ramsey"
   ]
  },
  {
   "cell_type": "code",
   "execution_count": null,
   "id": "7261340b",
   "metadata": {},
   "outputs": [],
   "source": [
    "from experiments import ramsey\n",
    "\n",
    "q = qubits[4]\n",
    "#######################################################################\n",
    "delays = np.linspace(0,20e-6,301)\n",
    "detunings = 0.4e6\n",
    "pprint(q.readout_parameters())\n",
    "#######################################################################\n",
    "options = ramsey.experiment_workflow.options()\n",
    "options.update(True)\n",
    "options.count(1024)\n",
    "options.use_cal_traces(True)\n",
    "# Build and run Ramsey workflow (no explicit command table options required)\n",
    "ramsey_wf = ramsey.experiment_workflow(\n",
    "    session=session,\n",
    "    qpu=qpu,\n",
    "    qubits=q,\n",
    "    delays=delays,\n",
    "    detunings=detunings,\n",
    "    options=options\n",
    ")\n",
    "ramsey_result = ramsey_wf.run()\n",
    "#qubit_spec_compiled = session.compile(amplitude_rabi.create_experiment(qpu=qpu,qubit=q,amplitudes=amplitudes, options=options))\n",
    "print(ramsey_result.tasks['analysis_workflow'].output)"
   ]
  },
  {
   "cell_type": "code",
   "execution_count": null,
   "id": "b292e98f",
   "metadata": {},
   "outputs": [],
   "source": [
    "from laboneq_applications.experiments import amplitude_fine\n",
    "q = qubits[4]\n",
    "temporary_parameters = q.parameters.copy()\n",
    "\n",
    "#######################################################################\n",
    "repetitions =np.arange(1,50)\n",
    "#######################################################################\n",
    "options = amplitude_fine.experiment_workflow_x180.options()\n",
    "workflow.show_fields(options)"
   ]
  },
  {
   "cell_type": "code",
   "execution_count": null,
   "id": "f7e17768",
   "metadata": {},
   "outputs": [],
   "source": [
    "from laboneq_applications.experiments import amplitude_fine\n",
    "q = qubits[4]\n",
    "temporary_parameters = q.parameters.copy()\n",
    "\n",
    "#######################################################################\n",
    "repetitions =np.arange(1,50)\n",
    "#######################################################################\n",
    "options = amplitude_fine.experiment_workflow_x180.options()\n",
    "options.update(True)\n",
    "options.use_cal_traces(False)\n",
    "options.do_pca(False)\n",
    "\n",
    "#print(workflow.show_fields(options))\n",
    "\n",
    "###################################################################\n",
    "error_amp = amplitude_fine.experiment_workflow_x180(\n",
    "    session=session,\n",
    "    qpu=qpu,\n",
    "    qubits=q,\n",
    "    repetitions=repetitions,\n",
    "    temporary_parameters={q.uid : temporary_parameters},\n",
    "    options=options\n",
    ")\n",
    "\n",
    "error_amp_result = error_amp.run()\n",
    "#qubit_spec_compiled = session.compile(amplitude_rabi.create_experiment(qpu=qpu,qubit=q,amplitudes=amplitudes, options=options))\n",
    "print(error_amp_result.tasks['analysis_workflow'].output)"
   ]
  },
  {
   "cell_type": "markdown",
   "id": "0aef89c7",
   "metadata": {},
   "source": [
    "# Basic Readout optimization\n",
    "Here we optimize SNR via\n",
    "\n",
    "* `readout_length`\n",
    "* `readout-amplitude`\n",
    "\n",
    "* `readout_integration_length`\n",
    "* `readout_integration_delay`\n",
    "* `readout_integration_weight`"
   ]
  },
  {
   "cell_type": "code",
   "execution_count": null,
   "id": "c9050e61",
   "metadata": {},
   "outputs": [],
   "source": [
    "from experiments import dispersive_shift"
   ]
  },
  {
   "cell_type": "code",
   "execution_count": null,
   "id": "99a971d2",
   "metadata": {},
   "outputs": [],
   "source": [
    "from experiments import time_traces"
   ]
  },
  {
   "cell_type": "code",
   "execution_count": null,
   "id": "f1b52bd7",
   "metadata": {},
   "outputs": [],
   "source": [
    "from experiments import signal_propagation_delay"
   ]
  },
  {
   "cell_type": "markdown",
   "id": "893c53db",
   "metadata": {},
   "source": [
    "# Save Qubit Parameters"
   ]
  },
  {
   "cell_type": "code",
   "execution_count": null,
   "id": "da0ae4f3",
   "metadata": {},
   "outputs": [],
   "source": [
    "from helper import load_qubit_parameters, save_qubit_parameters\n",
    "save_qubit_parameters(qubits={ qubit.uid : qubit for qubit in qubits}, save_folder=\"./qubit_parameters\", filename=\"KRISS\")"
   ]
  },
  {
   "cell_type": "code",
   "execution_count": null,
   "id": "6827222c",
   "metadata": {},
   "outputs": [],
   "source": []
  }
 ],
 "metadata": {
  "kernelspec": {
   "display_name": ".venv (3.12.9)",
   "language": "python",
   "name": "python3"
  },
  "language_info": {
   "codemirror_mode": {
    "name": "ipython",
    "version": 3
   },
   "file_extension": ".py",
   "mimetype": "text/x-python",
   "name": "python",
   "nbconvert_exporter": "python",
   "pygments_lexer": "ipython3",
   "version": "3.12.9"
  }
 },
 "nbformat": 4,
 "nbformat_minor": 5
}
