{
 "cells": [
  {
   "cell_type": "markdown",
   "id": "829d6566",
   "metadata": {},
   "source": [
    "# Instructions"
   ]
  },
  {
   "cell_type": "markdown",
   "id": "30f9b52f",
   "metadata": {},
   "source": [
    "## 1. Device Setup"
   ]
  },
  {
   "cell_type": "code",
   "execution_count": 1,
   "id": "853d15be",
   "metadata": {},
   "outputs": [
    {
     "data": {
      "text/plain": [
       "[\u001b[1;35mSHFQC\u001b[0m\u001b[1m(\u001b[0m\n",
       "\u001b[2;32m│   \u001b[0m\u001b[33muid\u001b[0m=\u001b[32m'test_shfqc'\u001b[0m,\n",
       "\u001b[2;32m│   \u001b[0m\u001b[33minterface\u001b[0m=\u001b[32m'1GbE'\u001b[0m,\n",
       "\u001b[2;32m│   \u001b[0m\u001b[33mconnections\u001b[0m=\u001b[1m[\u001b[0m\u001b[1m]\u001b[0m,\n",
       "\u001b[2;32m│   \u001b[0m\u001b[33mserver_uid\u001b[0m=\u001b[32m'test_server'\u001b[0m,\n",
       "\u001b[2;32m│   \u001b[0m\u001b[33maddress\u001b[0m=\u001b[32m'DEV12576'\u001b[0m,\n",
       "\u001b[2;32m│   \u001b[0m\u001b[33mdevice_options\u001b[0m=\u001b[32m'SHFQC/PLUS/QC6CH'\u001b[0m,\n",
       "\u001b[2;32m│   \u001b[0m\u001b[33mreference_clock_source\u001b[0m=\u001b[3;35mNone\u001b[0m,\n",
       "\u001b[2;32m│   \u001b[0m\u001b[33mdevice_class\u001b[0m=\u001b[1;36m0\u001b[0m\n",
       "\u001b[1m)\u001b[0m\n",
       "]"
      ]
     },
     "execution_count": 1,
     "metadata": {},
     "output_type": "execute_result"
    }
   ],
   "source": [
    "from laboneq.simple import SHFQC\n",
    "from laboneq.dsl.device import DeviceSetup, create_connection\n",
    "import numpy as np\n",
    "from copy import deepcopy\n",
    "\n",
    "host = \"10.172.11.217\"\n",
    "#instantiate ad device setup object\n",
    "setup = DeviceSetup(uid=\"test_setup\")\n",
    "#add a dataserver\n",
    "setup.add_dataserver(host=host, port=\"8004\",uid=\"test_server\")\n",
    "\n",
    "setup.add_instruments(SHFQC(uid=\"test_shfqc\",server_uid=\"test_server\", address=\"DEV12576\", device_options=\"SHFQC/PLUS/QC6CH\"))\n",
    "\n",
    "setup.instruments"
   ]
  },
  {
   "cell_type": "code",
   "execution_count": 2,
   "id": "03cdd090",
   "metadata": {},
   "outputs": [],
   "source": [
    "for ch_idx, q_idx in enumerate([15,16,17,18,19]):# enumerate 안에 len(list) 강제하고싶음\n",
    "    #QA\n",
    "    setup.add_connections(\n",
    "        \"test_shfqc\",\n",
    "        create_connection(to_signal=f\"q{q_idx}/measure\", ports=\"QACHANNELS/0/OUTPUT\")) #signal_type=\"iq\"\n",
    "    setup.add_connections(\n",
    "        \"test_shfqc\",\n",
    "        create_connection(to_signal=f\"q{q_idx}/acquire\", ports=\"QACHANNELS/0/INPUT\" )) #signal_type=\"acquire\"\n",
    "    #SG\n",
    "    setup.add_connections(\n",
    "        \"test_shfqc\",\n",
    "        create_connection(to_signal=f\"q{q_idx}/drive\", ports=f\"SGCHANNELS/{ch_idx}/OUTPUT\")) #signal_type=\"iq\" only iq allowed for SG??\n",
    "    setup.add_connections(\n",
    "        \"test_shfqc\",\n",
    "        create_connection(to_signal=f\"q{q_idx}/drive_ef\", ports=f\"SGCHANNELS/{ch_idx}/OUTPUT\")) #signal_type=\"iq\" only iq allowed for SG??\n",
    "    setup.add_connections(\n",
    "        \"test_shfqc\",\n",
    "        create_connection(to_signal=f\"q{q_idx}/drive_cr\", ports=f\"SGCHANNELS/{ch_idx}/OUTPUT\"))#signal_type=\"iq\"\n"
   ]
  },
  {
   "cell_type": "code",
   "execution_count": 3,
   "id": "b1e5c3d8",
   "metadata": {},
   "outputs": [
    {
     "data": {
      "image/png": "[encoded data removed]",
      "text/plain": [
       "<Figure size 640x480 with 1 Axes>"
      ]
     },
     "metadata": {},
     "output_type": "display_data"
    }
   ],
   "source": [
    "from operations import TransmonOperations\n",
    "from qpu_types.transmon import TransmonQubit, TransmonQubitParameters\n",
    "from helper import load_qubit_parameters, save_qubit_parameters\n",
    "\n",
    "\n",
    "from laboneq.dsl.quantum.qpu import QPU, QuantumPlatform\n",
    "from laboneq.dsl.quantum.qpu import QuantumElement\n",
    "\n",
    "# # #TODO load_qubit_parameters should return list with TransmonQubit, currently it's a dict \n",
    "_loaded_qubits = load_qubit_parameters(filename=\"latest\") \n",
    "loaded_qubits = list(_loaded_qubits.values())\n",
    "# save_qubit_parameters(qubits={ qubit.uid : qubit for qubit in qubits}, save_folder=\"./qubit_parameters\")\n",
    "#qubits = TransmonQubit.from_device_setup(setup) # Also can be done with load_qubit_parameters \n",
    "qubits = loaded_qubits\n",
    "quantum_operations = TransmonOperations()\n",
    "################################################################################################\n",
    "qpu = QPU(quantum_elements=qubits, quantum_operations=quantum_operations)\n",
    "qpu.topology.add_edge(\"bus\", \"q16\", \"q17\")\n",
    "qpu.topology.add_edge(\"bus\", \"q17\", \"q18\")\n",
    "qpu.topology.add_edge(\"bus\", \"q18\", \"q19\")\n",
    "qpu.topology.plot()\n",
    "\n",
    "# Create a demonstration QuantumPlatform for a transmon QPU:\n",
    "quantum_platform = QuantumPlatform(setup=setup, qpu=qpu)\n",
    "\n",
    "\n",
    "from laboneq.simple import workflow\n",
    "from pathlib import Path\n",
    "\n",
    "\n",
    "# Two Types of store in workflow!\n",
    " \n",
    "folder_store = workflow.logbook.FolderStore(\"./experiment_store\") \n",
    "#folder_store.activate()\n",
    "folder_store.deactivate()\n",
    "workflow.logbook.LoggingStore().deactivate()\n",
    "#workflow.logbook.LogbookStore().deactivate()\n"
   ]
  },
  {
   "cell_type": "markdown",
   "id": "89555dd3",
   "metadata": {},
   "source": [
    "### Initial Setting"
   ]
  },
  {
   "cell_type": "code",
   "execution_count": 4,
   "id": "c528b637",
   "metadata": {},
   "outputs": [],
   "source": [
    "for _, qubit in enumerate(qubits):\n",
    "    ##################LOCAL OSCILLATOR FREQUENCY AND CHANNEL POWER ###################################\n",
    "    qubit.parameters.drive_lo_frequency = 4.8e9\n",
    "    qubit.parameters.readout_lo_frequency = 7.0e9\n",
    "    qubit.parameters.readout_range_in =  0\n",
    "    qubit.parameters.readout_range_out = -25\n",
    "    qubit.parameters.drive_range = 0 \n",
    "    \n",
    "    \n",
    "    \n",
    "    ############READOUT PARAMETERS###################################################################\n",
    "    qubit.parameters.readout_length - 2.0e-6\n",
    "    qubit.parameters.readout_pulse['function'] = 'GaussianSquare'\n",
    "    qubit.parameters.readout_pulse['sigma'] = 0.1\n",
    "    qubit.parameters.readout_pulse['width'] = None\n",
    "    qubit.parameters.readout_pulse['risefall_sigma_ratio'] = 3.0\n",
    "    qubit.parameters.readout_amplitude = 1.0  #WARNING! 이거 SWEEP 할때 오버라이딩이 안되고 여기서 SCALING 됨\n",
    "    \n",
    "    qubit.parameters.reset_delay_length = 200e-6\n",
    "    ###########SPECTROSCOPY PARAMETERS###############################################################\n",
    "    # Pulsed qubit spectroscopy drive ,  \n",
    "    qubit.parameters.spectroscopy_pulse['function'] = 'GaussianSquare'\n",
    "    qubit.parameters.spectroscopy_length = 5.0e-6\n",
    "    qubit.parameters.spectroscopy_pulse['sigma'] = 0.2\n",
    "    qubit.parameters.spectroscopy_pulse['width'] = None\n",
    "    qubit.parameters.spectroscopy_pulse['risefall_sigma_ratio'] = 3.0\n",
    "    qubit.parameters.spectroscopy_amplitude=0.01 \n",
    "    \n",
    "    \n",
    "    ###########TRANSITION PARAMETERS#####################################\n",
    "    qubit.parameters.ge_drive_amplitude_pi = 1.0\n",
    "    qubit.parameters.ge_drive_amplitude_pi2 = 0.5\n",
    "    qubit.parameters.ef_drive_amplitude_pi = 1.0\n",
    "    qubit.parameters.ef_drive_amplitude_pi2 = 0.5 # Initialization just to avoid potential scaling problem\n",
    "    \n",
    "\n",
    "qubits[3].parameters.readout_amplitude = 0.5\n",
    "qubits[4].parameters.readout_amplitude = 0.5\n",
    "qubits[2].parameters.readout_amplitude = 0.5\n"
   ]
  },
  {
   "cell_type": "code",
   "execution_count": 5,
   "id": "a9807cf8",
   "metadata": {},
   "outputs": [
    {
     "name": "stdout",
     "output_type": "stream",
     "text": [
      "[2025.08.12 20:07:10.603] INFO    Logging initialized from [Default inline config in laboneq.laboneq_logging] logdir is /Users/yalgaeahn/JSAHN/qubit-experiment/laboneq_output/log\n",
      "[2025.08.12 20:07:10.605] INFO    VERSION: laboneq 2.57.0\n",
      "[2025.08.12 20:07:10.606] INFO    Connecting to data server at 10.172.11.217:8004\n",
      "[2025.08.12 20:07:10.606] INFO    Connected to Zurich Instruments LabOne Data Server version 25.07.0.507 at 10.172.11.217:8004\n",
      "[2025.08.12 20:07:10.608] INFO    Configuring the device setup\n",
      "[2025.08.12 20:07:10.609] INFO    The device setup is configured\n"
     ]
    },
    {
     "data": {
      "text/plain": [
       "<laboneq.dsl.session.ConnectionState at 0x115c0fc50>"
      ]
     },
     "execution_count": 5,
     "metadata": {},
     "output_type": "execute_result"
    }
   ],
   "source": [
    "from laboneq.simple import Session\n",
    "session = Session(setup)\n",
    "session.connect(do_emulation=True)"
   ]
  },
  {
   "cell_type": "markdown",
   "id": "4ec4df2a",
   "metadata": {},
   "source": [
    "# Run Experiments"
   ]
  },
  {
   "cell_type": "code",
   "execution_count": 7,
   "id": "75242ff2",
   "metadata": {},
   "outputs": [
    {
     "ename": "UnannotatedAttributeError",
     "evalue": "The following `attr.ib`s lack a type annotation: do_raw_data_plotting, do_plotting_magnitude_phase.",
     "output_type": "error",
     "traceback": [
      "\u001b[31m---------------------------------------------------------------------------\u001b[39m",
      "\u001b[31mUnannotatedAttributeError\u001b[39m                 Traceback (most recent call last)",
      "\u001b[36mCell\u001b[39m\u001b[36m \u001b[39m\u001b[32mIn[7]\u001b[39m\u001b[32m, line 1\u001b[39m\n\u001b[32m----> \u001b[39m\u001b[32m1\u001b[39m \u001b[38;5;28;01mfrom\u001b[39;00m\u001b[38;5;250m \u001b[39m\u001b[34;01mexperiments\u001b[39;00m\u001b[38;5;250m \u001b[39m\u001b[38;5;28;01mimport\u001b[39;00m direct_cr_hamiltonian_tomography\n\u001b[32m      6\u001b[39m options = direct_cr_hamiltonian_tomography.experiment_workflow.options()\n\u001b[32m      7\u001b[39m options.risefall(\u001b[32m50e-9\u001b[39m)\n",
      "\u001b[36mFile \u001b[39m\u001b[32m~/JSAHN/qubit-experiment/experiments/direct_cr_hamiltonian_tomography.py:37\u001b[39m\n\u001b[32m     35\u001b[39m     \u001b[38;5;28;01mfrom\u001b[39;00m\u001b[38;5;250m \u001b[39m\u001b[34;01mlaboneq_applications\u001b[39;00m\u001b[34;01m.\u001b[39;00m\u001b[34;01mtyping\u001b[39;00m\u001b[38;5;250m \u001b[39m\u001b[38;5;28;01mimport\u001b[39;00m QuantumElements, QubitSweepPoints\n\u001b[32m     36\u001b[39m \u001b[38;5;66;03m##########################################################################\u001b[39;00m\n\u001b[32m---> \u001b[39m\u001b[32m37\u001b[39m \u001b[38;5;28;01mfrom\u001b[39;00m\u001b[38;5;250m \u001b[39m\u001b[34;01manalysis\u001b[39;00m\u001b[38;5;250m \u001b[39m\u001b[38;5;28;01mimport\u001b[39;00m hamiltonian_tomography\n\u001b[32m     39\u001b[39m \u001b[38;5;66;03m#######################EXPERIMENT####################################\u001b[39;00m\n\u001b[32m     43\u001b[39m \u001b[38;5;129m@workflow\u001b[39m.task_options(base_class=BaseExperimentOptions)\n\u001b[32m     44\u001b[39m \u001b[38;5;28;01mclass\u001b[39;00m\u001b[38;5;250m \u001b[39m\u001b[34;01mDirectCRHamiltonianTomographyOptions\u001b[39;00m:\n",
      "\u001b[36mFile \u001b[39m\u001b[32m~/JSAHN/qubit-experiment/analysis/hamiltonian_tomography.py:35\u001b[39m\n\u001b[32m     31\u001b[39m     \u001b[38;5;28;01mfrom\u001b[39;00m\u001b[38;5;250m \u001b[39m\u001b[34;01mlaboneq\u001b[39;00m\u001b[34;01m.\u001b[39;00m\u001b[34;01mworkflow\u001b[39;00m\u001b[34;01m.\u001b[39;00m\u001b[34;01mtasks\u001b[39;00m\u001b[34;01m.\u001b[39;00m\u001b[34;01mrun_experiment\u001b[39;00m\u001b[38;5;250m \u001b[39m\u001b[38;5;28;01mimport\u001b[39;00m RunExperimentResults\n\u001b[32m     32\u001b[39m     \u001b[38;5;28;01mfrom\u001b[39;00m\u001b[38;5;250m \u001b[39m\u001b[34;01mlaboneq_applications\u001b[39;00m\u001b[34;01m.\u001b[39;00m\u001b[34;01mtyping\u001b[39;00m\u001b[38;5;250m \u001b[39m\u001b[38;5;28;01mimport\u001b[39;00m QuantumElements, QubitSweepPoints\n\u001b[32m---> \u001b[39m\u001b[32m35\u001b[39m \u001b[38;5;129;43m@workflow\u001b[39;49m\u001b[43m.\u001b[49m\u001b[43mworkflow_options\u001b[49m\n\u001b[32m     36\u001b[39m \u001b[38;5;28;43;01mclass\u001b[39;49;00m\u001b[38;5;250;43m \u001b[39;49m\u001b[34;43;01mHamiltonianTomography2DAnalysisOptions\u001b[39;49;00m\u001b[43m:\u001b[49m\n\u001b[32m     37\u001b[39m \u001b[38;5;250;43m    \u001b[39;49m\u001b[33;43;03m\"\"\"Options for CR Hamiltonian tomography plotting.\u001b[39;49;00m\n\u001b[32m     38\u001b[39m \n\u001b[32m     39\u001b[39m \u001b[33;43;03m    Attributes:\u001b[39;49;00m\n\u001b[32m     40\u001b[39m \u001b[33;43;03m        do_raw_data_plotting: Whether to plot raw complex I/Q\u001b[39;49;00m\n\u001b[32m     41\u001b[39m \u001b[33;43;03m        do_plotting_magnitude_phase: Whether to plot magnitude/phase\u001b[39;49;00m\n\u001b[32m     42\u001b[39m \u001b[33;43;03m    \"\"\"\u001b[39;49;00m\n\u001b[32m     44\u001b[39m \u001b[43m    \u001b[49m\u001b[43mdo_raw_data_plotting\u001b[49m\u001b[43m \u001b[49m\u001b[43m=\u001b[49m\u001b[43m \u001b[49m\u001b[43mworkflow\u001b[49m\u001b[43m.\u001b[49m\u001b[43moption_field\u001b[49m\u001b[43m(\u001b[49m\n\u001b[32m     45\u001b[39m \u001b[43m        \u001b[49m\u001b[38;5;28;43;01mTrue\u001b[39;49;00m\u001b[43m,\u001b[49m\u001b[43m \u001b[49m\u001b[43mdescription\u001b[49m\u001b[43m=\u001b[49m\u001b[33;43m\"\u001b[39;49m\u001b[33;43mWhether to plot the raw complex I/Q heatmaps.\u001b[39;49m\u001b[33;43m\"\u001b[39;49m\n\u001b[32m     46\u001b[39m \u001b[43m    \u001b[49m\u001b[43m)\u001b[49m\n",
      "\u001b[36mFile \u001b[39m\u001b[32m~/JSAHN/qubit-experiment/.venv/lib/python3.12/site-packages/laboneq/workflow/opts/options_core.py:80\u001b[39m, in \u001b[36mworkflow_options\u001b[39m\u001b[34m(cls, base_class)\u001b[39m\n\u001b[32m     76\u001b[39m \u001b[38;5;129m@wraps\u001b[39m(\u001b[38;5;28mcls\u001b[39m)\n\u001b[32m     77\u001b[39m \u001b[38;5;28;01mdef\u001b[39;00m\u001b[38;5;250m \u001b[39m\u001b[34mwrapper\u001b[39m(\u001b[38;5;28mcls\u001b[39m):\n\u001b[32m     78\u001b[39m     \u001b[38;5;28;01mreturn\u001b[39;00m options(\u001b[38;5;28mcls\u001b[39m=\u001b[38;5;28mcls\u001b[39m, base_class=base_class)\n\u001b[32m---> \u001b[39m\u001b[32m80\u001b[39m \u001b[38;5;28;01mreturn\u001b[39;00m \u001b[43m_options_decorator\u001b[49m\u001b[43m(\u001b[49m\u001b[38;5;28;43mcls\u001b[39;49m\u001b[43m,\u001b[49m\u001b[43m \u001b[49m\u001b[43mbase_class\u001b[49m\u001b[43m,\u001b[49m\u001b[43m \u001b[49m\u001b[43mWorkflowOptions\u001b[49m\u001b[43m,\u001b[49m\u001b[43m \u001b[49m\u001b[43mwrapper\u001b[49m\u001b[43m)\u001b[49m\n",
      "\u001b[36mFile \u001b[39m\u001b[32m~/JSAHN/qubit-experiment/.venv/lib/python3.12/site-packages/laboneq/workflow/opts/options_base.py:193\u001b[39m, in \u001b[36m_options_decorator\u001b[39m\u001b[34m(cls, base_class, default_base_class, wrapper)\u001b[39m\n\u001b[32m    190\u001b[39m     \u001b[38;5;28;01mreturn\u001b[39;00m wrapper(\u001b[38;5;28mcls\u001b[39m)\n\u001b[32m    192\u001b[39m \u001b[38;5;28;01mif\u001b[39;00m \u001b[38;5;28mcls\u001b[39m \u001b[38;5;129;01mis\u001b[39;00m \u001b[38;5;129;01mnot\u001b[39;00m \u001b[38;5;28;01mNone\u001b[39;00m:\n\u001b[32m--> \u001b[39m\u001b[32m193\u001b[39m     \u001b[38;5;28;01mreturn\u001b[39;00m \u001b[43mdecorator\u001b[49m\u001b[43m(\u001b[49m\u001b[38;5;28;43mcls\u001b[39;49m\u001b[43m)\u001b[49m\n\u001b[32m    195\u001b[39m \u001b[38;5;28;01mreturn\u001b[39;00m decorator\n",
      "\u001b[36mFile \u001b[39m\u001b[32m~/JSAHN/qubit-experiment/.venv/lib/python3.12/site-packages/laboneq/workflow/opts/options_base.py:190\u001b[39m, in \u001b[36m_options_decorator.<locals>.decorator\u001b[39m\u001b[34m(cls)\u001b[39m\n\u001b[32m    189\u001b[39m \u001b[38;5;28;01mdef\u001b[39;00m\u001b[38;5;250m \u001b[39m\u001b[34mdecorator\u001b[39m(\u001b[38;5;28mcls\u001b[39m: Type) -> Type:\n\u001b[32m--> \u001b[39m\u001b[32m190\u001b[39m     \u001b[38;5;28;01mreturn\u001b[39;00m \u001b[43mwrapper\u001b[49m\u001b[43m(\u001b[49m\u001b[38;5;28;43mcls\u001b[39;49m\u001b[43m)\u001b[49m\n",
      "\u001b[36mFile \u001b[39m\u001b[32m~/JSAHN/qubit-experiment/.venv/lib/python3.12/site-packages/laboneq/workflow/opts/options_core.py:78\u001b[39m, in \u001b[36mworkflow_options.<locals>.wrapper\u001b[39m\u001b[34m(cls)\u001b[39m\n\u001b[32m     76\u001b[39m \u001b[38;5;129m@wraps\u001b[39m(\u001b[38;5;28mcls\u001b[39m)\n\u001b[32m     77\u001b[39m \u001b[38;5;28;01mdef\u001b[39;00m\u001b[38;5;250m \u001b[39m\u001b[34mwrapper\u001b[39m(\u001b[38;5;28mcls\u001b[39m):\n\u001b[32m---> \u001b[39m\u001b[32m78\u001b[39m     \u001b[38;5;28;01mreturn\u001b[39;00m \u001b[43moptions\u001b[49m\u001b[43m(\u001b[49m\u001b[38;5;28;43mcls\u001b[39;49m\u001b[43m=\u001b[49m\u001b[38;5;28;43mcls\u001b[39;49m\u001b[43m,\u001b[49m\u001b[43m \u001b[49m\u001b[43mbase_class\u001b[49m\u001b[43m=\u001b[49m\u001b[43mbase_class\u001b[49m\u001b[43m)\u001b[49m\n",
      "\u001b[36mFile \u001b[39m\u001b[32m~/JSAHN/qubit-experiment/.venv/lib/python3.12/site-packages/laboneq/workflow/opts/options_base.py:178\u001b[39m, in \u001b[36moptions\u001b[39m\u001b[34m(cls, base_class)\u001b[39m\n\u001b[32m    175\u001b[39m         \u001b[38;5;28;01mraise\u001b[39;00m \u001b[38;5;167;01mValueError\u001b[39;00m(\u001b[33mf\u001b[39m\u001b[33m\"\u001b[39m\u001b[33mAll fields in \u001b[39m\u001b[38;5;132;01m{\u001b[39;00m\u001b[38;5;28mcls\u001b[39m.\u001b[34m__name__\u001b[39m\u001b[38;5;132;01m}\u001b[39;00m\u001b[33m must have default values.\u001b[39m\u001b[33m\"\u001b[39m)\n\u001b[32m    176\u001b[39m     \u001b[38;5;28;01mreturn\u001b[39;00m \u001b[38;5;28mcls\u001b[39m\n\u001b[32m--> \u001b[39m\u001b[32m178\u001b[39m \u001b[38;5;28;01mreturn\u001b[39;00m \u001b[43m_options_decorator\u001b[49m\u001b[43m(\u001b[49m\u001b[38;5;28;43mcls\u001b[39;49m\u001b[43m,\u001b[49m\u001b[43m \u001b[49m\u001b[43mbase_class\u001b[49m\u001b[43m,\u001b[49m\u001b[43m \u001b[49m\u001b[43mBaseOptions\u001b[49m\u001b[43m,\u001b[49m\u001b[43m \u001b[49m\u001b[43mwrapper\u001b[49m\u001b[43m)\u001b[49m\n",
      "\u001b[36mFile \u001b[39m\u001b[32m~/JSAHN/qubit-experiment/.venv/lib/python3.12/site-packages/laboneq/workflow/opts/options_base.py:193\u001b[39m, in \u001b[36m_options_decorator\u001b[39m\u001b[34m(cls, base_class, default_base_class, wrapper)\u001b[39m\n\u001b[32m    190\u001b[39m     \u001b[38;5;28;01mreturn\u001b[39;00m wrapper(\u001b[38;5;28mcls\u001b[39m)\n\u001b[32m    192\u001b[39m \u001b[38;5;28;01mif\u001b[39;00m \u001b[38;5;28mcls\u001b[39m \u001b[38;5;129;01mis\u001b[39;00m \u001b[38;5;129;01mnot\u001b[39;00m \u001b[38;5;28;01mNone\u001b[39;00m:\n\u001b[32m--> \u001b[39m\u001b[32m193\u001b[39m     \u001b[38;5;28;01mreturn\u001b[39;00m \u001b[43mdecorator\u001b[49m\u001b[43m(\u001b[49m\u001b[38;5;28;43mcls\u001b[39;49m\u001b[43m)\u001b[49m\n\u001b[32m    195\u001b[39m \u001b[38;5;28;01mreturn\u001b[39;00m decorator\n",
      "\u001b[36mFile \u001b[39m\u001b[32m~/JSAHN/qubit-experiment/.venv/lib/python3.12/site-packages/laboneq/workflow/opts/options_base.py:190\u001b[39m, in \u001b[36m_options_decorator.<locals>.decorator\u001b[39m\u001b[34m(cls)\u001b[39m\n\u001b[32m    189\u001b[39m \u001b[38;5;28;01mdef\u001b[39;00m\u001b[38;5;250m \u001b[39m\u001b[34mdecorator\u001b[39m(\u001b[38;5;28mcls\u001b[39m: Type) -> Type:\n\u001b[32m--> \u001b[39m\u001b[32m190\u001b[39m     \u001b[38;5;28;01mreturn\u001b[39;00m \u001b[43mwrapper\u001b[49m\u001b[43m(\u001b[49m\u001b[38;5;28;43mcls\u001b[39;49m\u001b[43m)\u001b[49m\n",
      "\u001b[36mFile \u001b[39m\u001b[32m~/JSAHN/qubit-experiment/.venv/lib/python3.12/site-packages/laboneq/workflow/opts/options_base.py:163\u001b[39m, in \u001b[36moptions.<locals>.wrapper\u001b[39m\u001b[34m(cls)\u001b[39m\n\u001b[32m    161\u001b[39m \u001b[38;5;129m@wraps\u001b[39m(\u001b[38;5;28mcls\u001b[39m)\n\u001b[32m    162\u001b[39m \u001b[38;5;28;01mdef\u001b[39;00m\u001b[38;5;250m \u001b[39m\u001b[34mwrapper\u001b[39m(\u001b[38;5;28mcls\u001b[39m):\n\u001b[32m--> \u001b[39m\u001b[32m163\u001b[39m     \u001b[38;5;28mcls\u001b[39m = \u001b[43mattr\u001b[49m\u001b[43m.\u001b[49m\u001b[43mdefine\u001b[49m\u001b[43m(\u001b[49m\u001b[38;5;28;43mcls\u001b[39;49m\u001b[43m,\u001b[49m\u001b[43m \u001b[49m\u001b[38;5;28;43mrepr\u001b[39;49m\u001b[43m=\u001b[49m\u001b[38;5;28;43;01mFalse\u001b[39;49;00m\u001b[43m,\u001b[49m\u001b[43m \u001b[49m\u001b[43mauto_attribs\u001b[49m\u001b[43m=\u001b[49m\u001b[38;5;28;43;01mTrue\u001b[39;49;00m\u001b[43m,\u001b[49m\u001b[43m \u001b[49m\u001b[43mslots\u001b[49m\u001b[43m=\u001b[49m\u001b[38;5;28;43;01mFalse\u001b[39;49;00m\u001b[43m)\u001b[49m\n\u001b[32m    164\u001b[39m     \u001b[38;5;28;01mif\u001b[39;00m \u001b[38;5;129;01mnot\u001b[39;00m \u001b[38;5;28missubclass\u001b[39m(\u001b[38;5;28mcls\u001b[39m, base_class):\n\u001b[32m    165\u001b[39m         _module = \u001b[38;5;28mcls\u001b[39m.\u001b[34m__module__\u001b[39m\n",
      "\u001b[36mFile \u001b[39m\u001b[32m~/JSAHN/qubit-experiment/.venv/lib/python3.12/site-packages/attr/_next_gen.py:409\u001b[39m, in \u001b[36mdefine\u001b[39m\u001b[34m(maybe_cls, these, repr, unsafe_hash, hash, init, slots, frozen, weakref_slot, str, auto_attribs, kw_only, cache_hash, auto_exc, eq, order, auto_detect, getstate_setstate, on_setattr, field_transformer, match_args)\u001b[39m\n\u001b[32m    406\u001b[39m \u001b[38;5;28;01mif\u001b[39;00m maybe_cls \u001b[38;5;129;01mis\u001b[39;00m \u001b[38;5;28;01mNone\u001b[39;00m:\n\u001b[32m    407\u001b[39m     \u001b[38;5;28;01mreturn\u001b[39;00m wrap\n\u001b[32m--> \u001b[39m\u001b[32m409\u001b[39m \u001b[38;5;28;01mreturn\u001b[39;00m \u001b[43mwrap\u001b[49m\u001b[43m(\u001b[49m\u001b[43mmaybe_cls\u001b[49m\u001b[43m)\u001b[49m\n",
      "\u001b[36mFile \u001b[39m\u001b[32m~/JSAHN/qubit-experiment/.venv/lib/python3.12/site-packages/attr/_next_gen.py:397\u001b[39m, in \u001b[36mdefine.<locals>.wrap\u001b[39m\u001b[34m(cls)\u001b[39m\n\u001b[32m    394\u001b[39m         \u001b[38;5;28;01mbreak\u001b[39;00m\n\u001b[32m    396\u001b[39m \u001b[38;5;28;01mif\u001b[39;00m auto_attribs \u001b[38;5;129;01mis\u001b[39;00m \u001b[38;5;129;01mnot\u001b[39;00m \u001b[38;5;28;01mNone\u001b[39;00m:\n\u001b[32m--> \u001b[39m\u001b[32m397\u001b[39m     \u001b[38;5;28;01mreturn\u001b[39;00m \u001b[43mdo_it\u001b[49m\u001b[43m(\u001b[49m\u001b[38;5;28;43mcls\u001b[39;49m\u001b[43m,\u001b[49m\u001b[43m \u001b[49m\u001b[43mauto_attribs\u001b[49m\u001b[43m)\u001b[49m\n\u001b[32m    399\u001b[39m \u001b[38;5;28;01mtry\u001b[39;00m:\n\u001b[32m    400\u001b[39m     \u001b[38;5;28;01mreturn\u001b[39;00m do_it(\u001b[38;5;28mcls\u001b[39m, \u001b[38;5;28;01mTrue\u001b[39;00m)\n",
      "\u001b[36mFile \u001b[39m\u001b[32m~/JSAHN/qubit-experiment/.venv/lib/python3.12/site-packages/attr/_next_gen.py:346\u001b[39m, in \u001b[36mdefine.<locals>.do_it\u001b[39m\u001b[34m(cls, auto_attribs)\u001b[39m\n\u001b[32m    345\u001b[39m \u001b[38;5;28;01mdef\u001b[39;00m\u001b[38;5;250m \u001b[39m\u001b[34mdo_it\u001b[39m(\u001b[38;5;28mcls\u001b[39m, auto_attribs):\n\u001b[32m--> \u001b[39m\u001b[32m346\u001b[39m     \u001b[38;5;28;01mreturn\u001b[39;00m \u001b[43mattrs\u001b[49m\u001b[43m(\u001b[49m\n\u001b[32m    347\u001b[39m \u001b[43m        \u001b[49m\u001b[43mmaybe_cls\u001b[49m\u001b[43m=\u001b[49m\u001b[38;5;28;43mcls\u001b[39;49m\u001b[43m,\u001b[49m\n\u001b[32m    348\u001b[39m \u001b[43m        \u001b[49m\u001b[43mthese\u001b[49m\u001b[43m=\u001b[49m\u001b[43mthese\u001b[49m\u001b[43m,\u001b[49m\n\u001b[32m    349\u001b[39m \u001b[43m        \u001b[49m\u001b[38;5;28;43mrepr\u001b[39;49m\u001b[43m=\u001b[49m\u001b[38;5;28;43mrepr\u001b[39;49m\u001b[43m,\u001b[49m\n\u001b[32m    350\u001b[39m \u001b[43m        \u001b[49m\u001b[38;5;28;43mhash\u001b[39;49m\u001b[43m=\u001b[49m\u001b[38;5;28;43mhash\u001b[39;49m\u001b[43m,\u001b[49m\n\u001b[32m    351\u001b[39m \u001b[43m        \u001b[49m\u001b[43munsafe_hash\u001b[49m\u001b[43m=\u001b[49m\u001b[43munsafe_hash\u001b[49m\u001b[43m,\u001b[49m\n\u001b[32m    352\u001b[39m \u001b[43m        \u001b[49m\u001b[43minit\u001b[49m\u001b[43m=\u001b[49m\u001b[43minit\u001b[49m\u001b[43m,\u001b[49m\n\u001b[32m    353\u001b[39m \u001b[43m        \u001b[49m\u001b[43mslots\u001b[49m\u001b[43m=\u001b[49m\u001b[43mslots\u001b[49m\u001b[43m,\u001b[49m\n\u001b[32m    354\u001b[39m \u001b[43m        \u001b[49m\u001b[43mfrozen\u001b[49m\u001b[43m=\u001b[49m\u001b[43mfrozen\u001b[49m\u001b[43m,\u001b[49m\n\u001b[32m    355\u001b[39m \u001b[43m        \u001b[49m\u001b[43mweakref_slot\u001b[49m\u001b[43m=\u001b[49m\u001b[43mweakref_slot\u001b[49m\u001b[43m,\u001b[49m\n\u001b[32m    356\u001b[39m \u001b[43m        \u001b[49m\u001b[38;5;28;43mstr\u001b[39;49m\u001b[43m=\u001b[49m\u001b[38;5;28;43mstr\u001b[39;49m\u001b[43m,\u001b[49m\n\u001b[32m    357\u001b[39m \u001b[43m        \u001b[49m\u001b[43mauto_attribs\u001b[49m\u001b[43m=\u001b[49m\u001b[43mauto_attribs\u001b[49m\u001b[43m,\u001b[49m\n\u001b[32m    358\u001b[39m \u001b[43m        \u001b[49m\u001b[43mkw_only\u001b[49m\u001b[43m=\u001b[49m\u001b[43mkw_only\u001b[49m\u001b[43m,\u001b[49m\n\u001b[32m    359\u001b[39m \u001b[43m        \u001b[49m\u001b[43mcache_hash\u001b[49m\u001b[43m=\u001b[49m\u001b[43mcache_hash\u001b[49m\u001b[43m,\u001b[49m\n\u001b[32m    360\u001b[39m \u001b[43m        \u001b[49m\u001b[43mauto_exc\u001b[49m\u001b[43m=\u001b[49m\u001b[43mauto_exc\u001b[49m\u001b[43m,\u001b[49m\n\u001b[32m    361\u001b[39m \u001b[43m        \u001b[49m\u001b[43meq\u001b[49m\u001b[43m=\u001b[49m\u001b[43meq\u001b[49m\u001b[43m,\u001b[49m\n\u001b[32m    362\u001b[39m \u001b[43m        \u001b[49m\u001b[43morder\u001b[49m\u001b[43m=\u001b[49m\u001b[43morder\u001b[49m\u001b[43m,\u001b[49m\n\u001b[32m    363\u001b[39m \u001b[43m        \u001b[49m\u001b[43mauto_detect\u001b[49m\u001b[43m=\u001b[49m\u001b[43mauto_detect\u001b[49m\u001b[43m,\u001b[49m\n\u001b[32m    364\u001b[39m \u001b[43m        \u001b[49m\u001b[43mcollect_by_mro\u001b[49m\u001b[43m=\u001b[49m\u001b[38;5;28;43;01mTrue\u001b[39;49;00m\u001b[43m,\u001b[49m\n\u001b[32m    365\u001b[39m \u001b[43m        \u001b[49m\u001b[43mgetstate_setstate\u001b[49m\u001b[43m=\u001b[49m\u001b[43mgetstate_setstate\u001b[49m\u001b[43m,\u001b[49m\n\u001b[32m    366\u001b[39m \u001b[43m        \u001b[49m\u001b[43mon_setattr\u001b[49m\u001b[43m=\u001b[49m\u001b[43mon_setattr\u001b[49m\u001b[43m,\u001b[49m\n\u001b[32m    367\u001b[39m \u001b[43m        \u001b[49m\u001b[43mfield_transformer\u001b[49m\u001b[43m=\u001b[49m\u001b[43mfield_transformer\u001b[49m\u001b[43m,\u001b[49m\n\u001b[32m    368\u001b[39m \u001b[43m        \u001b[49m\u001b[43mmatch_args\u001b[49m\u001b[43m=\u001b[49m\u001b[43mmatch_args\u001b[49m\u001b[43m,\u001b[49m\n\u001b[32m    369\u001b[39m \u001b[43m    \u001b[49m\u001b[43m)\u001b[49m\n",
      "\u001b[36mFile \u001b[39m\u001b[32m~/JSAHN/qubit-experiment/.venv/lib/python3.12/site-packages/attr/_make.py:1528\u001b[39m, in \u001b[36mattrs\u001b[39m\u001b[34m(maybe_cls, these, repr_ns, repr, cmp, hash, init, slots, frozen, weakref_slot, str, auto_attribs, kw_only, cache_hash, auto_exc, eq, order, auto_detect, collect_by_mro, getstate_setstate, on_setattr, field_transformer, match_args, unsafe_hash)\u001b[39m\n\u001b[32m   1525\u001b[39m \u001b[38;5;28;01mif\u001b[39;00m maybe_cls \u001b[38;5;129;01mis\u001b[39;00m \u001b[38;5;28;01mNone\u001b[39;00m:\n\u001b[32m   1526\u001b[39m     \u001b[38;5;28;01mreturn\u001b[39;00m wrap\n\u001b[32m-> \u001b[39m\u001b[32m1528\u001b[39m \u001b[38;5;28;01mreturn\u001b[39;00m \u001b[43mwrap\u001b[49m\u001b[43m(\u001b[49m\u001b[43mmaybe_cls\u001b[49m\u001b[43m)\u001b[49m\n",
      "\u001b[36mFile \u001b[39m\u001b[32m~/JSAHN/qubit-experiment/.venv/lib/python3.12/site-packages/attr/_make.py:1426\u001b[39m, in \u001b[36mattrs.<locals>.wrap\u001b[39m\u001b[34m(cls)\u001b[39m\n\u001b[32m   1423\u001b[39m     msg = \u001b[33m\"\u001b[39m\u001b[33mCan\u001b[39m\u001b[33m'\u001b[39m\u001b[33mt freeze a class with a custom __setattr__.\u001b[39m\u001b[33m\"\u001b[39m\n\u001b[32m   1424\u001b[39m     \u001b[38;5;28;01mraise\u001b[39;00m \u001b[38;5;167;01mValueError\u001b[39;00m(msg)\n\u001b[32m-> \u001b[39m\u001b[32m1426\u001b[39m builder = \u001b[43m_ClassBuilder\u001b[49m\u001b[43m(\u001b[49m\n\u001b[32m   1427\u001b[39m \u001b[43m    \u001b[49m\u001b[38;5;28;43mcls\u001b[39;49m\u001b[43m,\u001b[49m\n\u001b[32m   1428\u001b[39m \u001b[43m    \u001b[49m\u001b[43mthese\u001b[49m\u001b[43m,\u001b[49m\n\u001b[32m   1429\u001b[39m \u001b[43m    \u001b[49m\u001b[43mslots\u001b[49m\u001b[43m,\u001b[49m\n\u001b[32m   1430\u001b[39m \u001b[43m    \u001b[49m\u001b[43mis_frozen\u001b[49m\u001b[43m,\u001b[49m\n\u001b[32m   1431\u001b[39m \u001b[43m    \u001b[49m\u001b[43mweakref_slot\u001b[49m\u001b[43m,\u001b[49m\n\u001b[32m   1432\u001b[39m \u001b[43m    \u001b[49m\u001b[43m_determine_whether_to_implement\u001b[49m\u001b[43m(\u001b[49m\n\u001b[32m   1433\u001b[39m \u001b[43m        \u001b[49m\u001b[38;5;28;43mcls\u001b[39;49m\u001b[43m,\u001b[49m\n\u001b[32m   1434\u001b[39m \u001b[43m        \u001b[49m\u001b[43mgetstate_setstate\u001b[49m\u001b[43m,\u001b[49m\n\u001b[32m   1435\u001b[39m \u001b[43m        \u001b[49m\u001b[43mauto_detect\u001b[49m\u001b[43m,\u001b[49m\n\u001b[32m   1436\u001b[39m \u001b[43m        \u001b[49m\u001b[43m(\u001b[49m\u001b[33;43m\"\u001b[39;49m\u001b[33;43m__getstate__\u001b[39;49m\u001b[33;43m\"\u001b[39;49m\u001b[43m,\u001b[49m\u001b[43m \u001b[49m\u001b[33;43m\"\u001b[39;49m\u001b[33;43m__setstate__\u001b[39;49m\u001b[33;43m\"\u001b[39;49m\u001b[43m)\u001b[49m\u001b[43m,\u001b[49m\n\u001b[32m   1437\u001b[39m \u001b[43m        \u001b[49m\u001b[43mdefault\u001b[49m\u001b[43m=\u001b[49m\u001b[43mslots\u001b[49m\u001b[43m,\u001b[49m\n\u001b[32m   1438\u001b[39m \u001b[43m    \u001b[49m\u001b[43m)\u001b[49m\u001b[43m,\u001b[49m\n\u001b[32m   1439\u001b[39m \u001b[43m    \u001b[49m\u001b[43mauto_attribs\u001b[49m\u001b[43m,\u001b[49m\n\u001b[32m   1440\u001b[39m \u001b[43m    \u001b[49m\u001b[43mkw_only\u001b[49m\u001b[43m,\u001b[49m\n\u001b[32m   1441\u001b[39m \u001b[43m    \u001b[49m\u001b[43mcache_hash\u001b[49m\u001b[43m,\u001b[49m\n\u001b[32m   1442\u001b[39m \u001b[43m    \u001b[49m\u001b[43mis_exc\u001b[49m\u001b[43m,\u001b[49m\n\u001b[32m   1443\u001b[39m \u001b[43m    \u001b[49m\u001b[43mcollect_by_mro\u001b[49m\u001b[43m,\u001b[49m\n\u001b[32m   1444\u001b[39m \u001b[43m    \u001b[49m\u001b[43mon_setattr\u001b[49m\u001b[43m,\u001b[49m\n\u001b[32m   1445\u001b[39m \u001b[43m    \u001b[49m\u001b[43mhas_own_setattr\u001b[49m\u001b[43m,\u001b[49m\n\u001b[32m   1446\u001b[39m \u001b[43m    \u001b[49m\u001b[43mfield_transformer\u001b[49m\u001b[43m,\u001b[49m\n\u001b[32m   1447\u001b[39m \u001b[43m\u001b[49m\u001b[43m)\u001b[49m\n\u001b[32m   1449\u001b[39m \u001b[38;5;28;01mif\u001b[39;00m _determine_whether_to_implement(\n\u001b[32m   1450\u001b[39m     \u001b[38;5;28mcls\u001b[39m, \u001b[38;5;28mrepr\u001b[39m, auto_detect, (\u001b[33m\"\u001b[39m\u001b[33m__repr__\u001b[39m\u001b[33m\"\u001b[39m,)\n\u001b[32m   1451\u001b[39m ):\n\u001b[32m   1452\u001b[39m     builder.add_repr(repr_ns)\n",
      "\u001b[36mFile \u001b[39m\u001b[32m~/JSAHN/qubit-experiment/.venv/lib/python3.12/site-packages/attr/_make.py:667\u001b[39m, in \u001b[36m_ClassBuilder.__init__\u001b[39m\u001b[34m(self, cls, these, slots, frozen, weakref_slot, getstate_setstate, auto_attribs, kw_only, cache_hash, is_exc, collect_by_mro, on_setattr, has_custom_setattr, field_transformer)\u001b[39m\n\u001b[32m    650\u001b[39m \u001b[38;5;28;01mdef\u001b[39;00m\u001b[38;5;250m \u001b[39m\u001b[34m__init__\u001b[39m(\n\u001b[32m    651\u001b[39m     \u001b[38;5;28mself\u001b[39m,\n\u001b[32m    652\u001b[39m     \u001b[38;5;28mcls\u001b[39m: \u001b[38;5;28mtype\u001b[39m,\n\u001b[32m   (...)\u001b[39m\u001b[32m    665\u001b[39m     field_transformer,\n\u001b[32m    666\u001b[39m ):\n\u001b[32m--> \u001b[39m\u001b[32m667\u001b[39m     attrs, base_attrs, base_map = \u001b[43m_transform_attrs\u001b[49m\u001b[43m(\u001b[49m\n\u001b[32m    668\u001b[39m \u001b[43m        \u001b[49m\u001b[38;5;28;43mcls\u001b[39;49m\u001b[43m,\u001b[49m\n\u001b[32m    669\u001b[39m \u001b[43m        \u001b[49m\u001b[43mthese\u001b[49m\u001b[43m,\u001b[49m\n\u001b[32m    670\u001b[39m \u001b[43m        \u001b[49m\u001b[43mauto_attribs\u001b[49m\u001b[43m,\u001b[49m\n\u001b[32m    671\u001b[39m \u001b[43m        \u001b[49m\u001b[43mkw_only\u001b[49m\u001b[43m,\u001b[49m\n\u001b[32m    672\u001b[39m \u001b[43m        \u001b[49m\u001b[43mcollect_by_mro\u001b[49m\u001b[43m,\u001b[49m\n\u001b[32m    673\u001b[39m \u001b[43m        \u001b[49m\u001b[43mfield_transformer\u001b[49m\u001b[43m,\u001b[49m\n\u001b[32m    674\u001b[39m \u001b[43m    \u001b[49m\u001b[43m)\u001b[49m\n\u001b[32m    676\u001b[39m     \u001b[38;5;28mself\u001b[39m._cls = \u001b[38;5;28mcls\u001b[39m\n\u001b[32m    677\u001b[39m     \u001b[38;5;28mself\u001b[39m._cls_dict = \u001b[38;5;28mdict\u001b[39m(\u001b[38;5;28mcls\u001b[39m.\u001b[34m__dict__\u001b[39m) \u001b[38;5;28;01mif\u001b[39;00m slots \u001b[38;5;28;01melse\u001b[39;00m {}\n",
      "\u001b[36mFile \u001b[39m\u001b[32m~/JSAHN/qubit-experiment/.venv/lib/python3.12/site-packages/attr/_make.py:413\u001b[39m, in \u001b[36m_transform_attrs\u001b[39m\u001b[34m(cls, these, auto_attribs, kw_only, collect_by_mro, field_transformer)\u001b[39m\n\u001b[32m    411\u001b[39m     unannotated = ca_names - annot_names\n\u001b[32m    412\u001b[39m     \u001b[38;5;28;01mif\u001b[39;00m unannotated:\n\u001b[32m--> \u001b[39m\u001b[32m413\u001b[39m         \u001b[38;5;28;01mraise\u001b[39;00m UnannotatedAttributeError(\n\u001b[32m    414\u001b[39m             \u001b[33m\"\u001b[39m\u001b[33mThe following `attr.ib`s lack a type annotation: \u001b[39m\u001b[33m\"\u001b[39m\n\u001b[32m    415\u001b[39m             + \u001b[33m\"\u001b[39m\u001b[33m, \u001b[39m\u001b[33m\"\u001b[39m.join(\n\u001b[32m    416\u001b[39m                 \u001b[38;5;28msorted\u001b[39m(unannotated, key=\u001b[38;5;28;01mlambda\u001b[39;00m n: cd.get(n).counter)\n\u001b[32m    417\u001b[39m             )\n\u001b[32m    418\u001b[39m             + \u001b[33m\"\u001b[39m\u001b[33m.\u001b[39m\u001b[33m\"\u001b[39m\n\u001b[32m    419\u001b[39m         )\n\u001b[32m    420\u001b[39m \u001b[38;5;28;01melse\u001b[39;00m:\n\u001b[32m    421\u001b[39m     ca_list = \u001b[38;5;28msorted\u001b[39m(\n\u001b[32m    422\u001b[39m         (\n\u001b[32m    423\u001b[39m             (name, attr)\n\u001b[32m   (...)\u001b[39m\u001b[32m    427\u001b[39m         key=\u001b[38;5;28;01mlambda\u001b[39;00m e: e[\u001b[32m1\u001b[39m].counter,\n\u001b[32m    428\u001b[39m     )\n",
      "\u001b[31mUnannotatedAttributeError\u001b[39m: The following `attr.ib`s lack a type annotation: do_raw_data_plotting, do_plotting_magnitude_phase."
     ]
    }
   ],
   "source": [
    "from experiments import direct_cr_hamiltonian_tomography\n",
    "\n",
    "\n",
    "\n",
    "\n",
    "options = direct_cr_hamiltonian_tomography.experiment_workflow.options()\n",
    "options.risefall(50e-9)\n",
    "options.do_anlaysis(False)\n",
    "\n",
    "\n",
    "\n",
    "\n",
    "\n",
    "\n",
    "wopt=direct_cr_hamiltonian_tomography.analys\n",
    "\n",
    "\n",
    "hamil_tomo = direct_cr_hamiltonian_tomography.experiment_workflow(\n",
    "    session=session,\n",
    "    qpu = qpu,\n",
    "    ctrl = qubits[2],\n",
    "    targ = qubits[3],\n",
    "    amplitudes = np.array([1.0]) ,\n",
    "    lengths = np.array([0.0]),\n",
    "    #options = options\n",
    ")\n",
    "\n",
    "hamil_tomo_result = hamil_tomo.run()"
   ]
  },
  {
   "cell_type": "code",
   "execution_count": 8,
   "id": "311df10c",
   "metadata": {},
   "outputs": [
    {
     "ename": "NameError",
     "evalue": "name 'hamil_tomo' is not defined",
     "output_type": "error",
     "traceback": [
      "\u001b[31m---------------------------------------------------------------------------\u001b[39m",
      "\u001b[31mNameError\u001b[39m                                 Traceback (most recent call last)",
      "\u001b[36mCell\u001b[39m\u001b[36m \u001b[39m\u001b[32mIn[8]\u001b[39m\u001b[32m, line 1\u001b[39m\n\u001b[32m----> \u001b[39m\u001b[32m1\u001b[39m \u001b[43mhamil_tomo\u001b[49m.graph.tree\n",
      "\u001b[31mNameError\u001b[39m: name 'hamil_tomo' is not defined"
     ]
    }
   ],
   "source": [
    "hamil_tomo.graph.tree"
   ]
  },
  {
   "cell_type": "code",
   "execution_count": null,
   "id": "8226444b",
   "metadata": {},
   "outputs": [],
   "source": [
    "hamil_tomo_result.tasks[\"run_experiment\"].output"
   ]
  },
  {
   "cell_type": "markdown",
   "id": "79821bd0",
   "metadata": {},
   "source": [
    "# Compilation Check!"
   ]
  },
  {
   "cell_type": "code",
   "execution_count": null,
   "id": "3e58ee0f",
   "metadata": {},
   "outputs": [],
   "source": [
    "hamil_tomo_compiled = session.compile(direct_cr_hamiltonian_tomography.create_experiment(\n",
    "    qpu=qpu,\n",
    "    ctrl = qubits[2],\n",
    "    targ = qubits[3],\n",
    "    amplitudes = np.array([0.8]) ,\n",
    "    lengths = np.array([200e-9,300e-9]),))"
   ]
  },
  {
   "cell_type": "code",
   "execution_count": null,
   "id": "4188861c",
   "metadata": {},
   "outputs": [],
   "source": [
    "from laboneq.simple import show_pulse_sheet\n",
    "from laboneq.contrib.example_helpers.plotting.plot_helpers import plot_simulation\n",
    "#show_pulse_sheet(\"first_comp\", hamil_tomo_compiled, interactive=True)\n",
    "plot_simulation(hamil_tomo_compiled, length=2e-6)"
   ]
  },
  {
   "cell_type": "markdown",
   "id": "2d8d7121",
   "metadata": {},
   "source": [
    "# Save Qubit Parameters"
   ]
  },
  {
   "cell_type": "code",
   "execution_count": null,
   "id": "73d4ef18",
   "metadata": {},
   "outputs": [],
   "source": [
    "# from helper import load_qubit_parameters, save_qubit_parameters\n",
    "# save_qubit_parameters(qubits={ qubit.uid : qubit for qubit in qubits}, save_folder=\"./qubit_parameters\", filename=\"kaist\")"
   ]
  },
  {
   "cell_type": "markdown",
   "id": "16005850",
   "metadata": {},
   "source": [
    "# Analysis Workflow"
   ]
  },
  {
   "cell_type": "markdown",
   "id": "d728bfe6",
   "metadata": {},
   "source": []
  }
 ],
 "metadata": {
  "kernelspec": {
   "display_name": ".venv (3.12.9)",
   "language": "python",
   "name": "python3"
  },
  "language_info": {
   "codemirror_mode": {
    "name": "ipython",
    "version": 3
   },
   "file_extension": ".py",
   "mimetype": "text/x-python",
   "name": "python",
   "nbconvert_exporter": "python",
   "pygments_lexer": "ipython3",
   "version": "3.12.9"
  }
 },
 "nbformat": 4,
 "nbformat_minor": 5
}
