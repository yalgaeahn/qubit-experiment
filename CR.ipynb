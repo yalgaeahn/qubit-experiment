{
 "cells": [
  {
   "cell_type": "markdown",
   "id": "829d6566",
   "metadata": {},
   "source": [
    "# Instructions"
   ]
  },
  {
   "cell_type": "markdown",
   "id": "30f9b52f",
   "metadata": {},
   "source": [
    "## 1. Device Setup"
   ]
  },
  {
   "cell_type": "code",
   "execution_count": null,
   "id": "853d15be",
   "metadata": {},
   "outputs": [],
   "source": [
    "from laboneq.simple import SHFQC\n",
    "from laboneq.dsl.device import DeviceSetup, create_connection\n",
    "import numpy as np\n",
    "from copy import deepcopy\n",
    "\n",
    "host = \"10.172.11.217\"\n",
    "#instantiate ad device setup object\n",
    "setup = DeviceSetup(uid=\"test_setup\")\n",
    "\n",
    "#add a dataserver\n",
    "setup.add_dataserver(host=host, port=\"8004\",uid=\"test_server\")\n",
    "\n",
    "setup.add_instruments(SHFQC(uid=\"test_shfqc\",server_uid=\"test_server\", address=\"DEV12576\", device_options=\"SHFQC/PLUS/QC6CH\"))\n",
    "\n",
    "setup.instruments"
   ]
  },
  {
   "cell_type": "code",
   "execution_count": null,
   "id": "03cdd090",
   "metadata": {},
   "outputs": [],
   "source": [
    "for ch_idx, q_idx in enumerate([15,16,17,18,19]):# enumerate 안에 len(list) 강제하고싶음\n",
    "    #QA\n",
    "    setup.add_connections(\n",
    "        \"test_shfqc\",\n",
    "        create_connection(to_signal=f\"q{q_idx}/measure\", ports=\"QACHANNELS/0/OUTPUT\")) #signal_type=\"iq\"\n",
    "    setup.add_connections(\n",
    "        \"test_shfqc\",\n",
    "        create_connection(to_signal=f\"q{q_idx}/acquire\", ports=\"QACHANNELS/0/INPUT\" )) #signal_type=\"acquire\"\n",
    "    #SG\n",
    "    setup.add_connections(\n",
    "        \"test_shfqc\",\n",
    "        create_connection(to_signal=f\"q{q_idx}/drive\", ports=f\"SGCHANNELS/{ch_idx}/OUTPUT\")) #signal_type=\"iq\" only iq allowed for SG??\n",
    "    setup.add_connections(\n",
    "        \"test_shfqc\",\n",
    "        create_connection(to_signal=f\"q{q_idx}/drive_ef\", ports=f\"SGCHANNELS/{ch_idx}/OUTPUT\")) #signal_type=\"iq\" only iq allowed for SG??\n",
    "    setup.add_connections(\n",
    "        \"test_shfqc\",\n",
    "        create_connection(to_signal=f\"q{q_idx}/drive_cr\", ports=f\"SGCHANNELS/{ch_idx}/OUTPUT\"))#signal_type=\"iq\"\n"
   ]
  },
  {
   "cell_type": "code",
   "execution_count": null,
   "id": "b1e5c3d8",
   "metadata": {},
   "outputs": [],
   "source": [
    "from operations import TransmonOperations\n",
    "from qpu_types.transmon import TransmonQubit, TransmonQubitParameters\n",
    "from helper import load_qubit_parameters, save_qubit_parameters\n",
    "\n",
    "\n",
    "from laboneq.dsl.quantum.qpu import QPU, QuantumPlatform\n",
    "from laboneq.dsl.quantum.qpu import QuantumElement\n",
    "\n",
    "\n",
    "_loaded_qubits = load_qubit_parameters(filename=\"latest\") \n",
    "#qubits = TransmonQubit.from_device_setup(setup) # Also can be done with load_qubit_parameters \n",
    "qubits = list(_loaded_qubits.values())\n",
    "################################################################################################\n",
    "qpu = QPU(quantum_elements=qubits, quantum_operations=TransmonOperations())\n",
    "qpu.topology.add_edge(\"bus\", \"q16\", \"q17\")\n",
    "qpu.topology.add_edge(\"bus\", \"q17\", \"q18\")\n",
    "qpu.topology.add_edge(\"bus\", \"q18\", \"q19\")\n",
    "qpu.topology.plot()\n",
    "\n",
    "# Create a demonstration QuantumPlatform for a transmon QPU:\n",
    "quantum_platform = QuantumPlatform(setup=setup, qpu=qpu)\n",
    "\n",
    "\n",
    "from laboneq.simple import workflow\n",
    "from pathlib import Path\n",
    "\n",
    "\n",
    "# Two Types of store in workflow!\n",
    " \n",
    "folder_store = workflow.logbook.FolderStore(\"./experiment_store\") \n",
    "folder_store.activate()\n",
    "#folder_store.deactivate()\n",
    "workflow.logbook.LoggingStore().deactivate()\n",
    "#workflow.logbook.LogbookStore().deactivate()\n"
   ]
  },
  {
   "cell_type": "markdown",
   "id": "89555dd3",
   "metadata": {},
   "source": [
    "### Initial Setting"
   ]
  },
  {
   "cell_type": "code",
   "execution_count": null,
   "id": "c528b637",
   "metadata": {},
   "outputs": [],
   "source": [
    "# for _, qubit in enumerate(qubits):\n",
    "#     ##################LOCAL OSCILLATOR FREQUENCY AND CHANNEL POWER ###################################\n",
    "#     qubit.parameters.drive_lo_frequency = 4.8e9\n",
    "#     qubit.parameters.readout_lo_frequency = 7.0e9\n",
    "#     qubit.parameters.readout_range_in =  0\n",
    "#     qubit.parameters.readout_range_out = -25\n",
    "#     qubit.parameters.drive_range = 0 \n",
    "    \n",
    "    \n",
    "    \n",
    "#     ############READOUT PARAMETERS###################################################################\n",
    "#     qubit.parameters.readout_length - 2.0e-6\n",
    "#     qubit.parameters.readout_pulse['function'] = 'GaussianSquare'\n",
    "#     qubit.parameters.readout_pulse['sigma'] = 0.1\n",
    "#     qubit.parameters.readout_pulse['width'] = None\n",
    "#     qubit.parameters.readout_pulse['risefall_sigma_ratio'] = 3.0\n",
    "#     qubit.parameters.readout_amplitude = 1.0  #WARNING! 이거 SWEEP 할때 오버라이딩이 안되고 여기서 SCALING 됨\n",
    "    \n",
    "#     qubit.parameters.reset_delay_length = 200e-6\n",
    "#     ###########SPECTROSCOPY PARAMETERS###############################################################\n",
    "#     # Pulsed qubit spectroscopy drive ,  \n",
    "#     qubit.parameters.spectroscopy_pulse['function'] = 'GaussianSquare'\n",
    "#     qubit.parameters.spectroscopy_length = 5.0e-6\n",
    "#     qubit.parameters.spectroscopy_pulse['sigma'] = 0.2\n",
    "#     qubit.parameters.spectroscopy_pulse['width'] = None\n",
    "#     qubit.parameters.spectroscopy_pulse['risefall_sigma_ratio'] = 3.0\n",
    "#     qubit.parameters.spectroscopy_amplitude=0.01 \n",
    "    \n",
    "    \n",
    "  \n",
    "\n",
    "# qubits[3].parameters.readout_amplitude = 0.5\n",
    "# qubits[4].parameters.readout_amplitude = 0.5\n",
    "# qubits[2].parameters.readout_amplitude = 0.5\n"
   ]
  },
  {
   "cell_type": "code",
   "execution_count": null,
   "id": "a9807cf8",
   "metadata": {},
   "outputs": [],
   "source": [
    "from laboneq.simple import Session\n",
    "session = Session(setup)\n",
    "session.connect(ignore_version_mismatch=True)"
   ]
  },
  {
   "cell_type": "markdown",
   "id": "4ec4df2a",
   "metadata": {},
   "source": [
    "# Run Experiments\n",
    "BaseExperimentOptions Default setting\n",
    "- `count` 1024\n",
    "- `AveragingMode.CYCLIC`\n",
    "- `AcquisitionType.INTEGRATION`\n",
    "- `RepetitionMode.FASTEST`  \n",
    "\n",
    "`WorkflowOptions` and `TaskOptions`  \n",
    "Here Tuneupworkflowoptio is workflowoption and DirectCR~ is taskoption"
   ]
  },
  {
   "cell_type": "code",
   "execution_count": null,
   "id": "75242ff2",
   "metadata": {},
   "outputs": [],
   "source": [
    "from experiments import direct_cr_hamiltonian_tomography\n",
    "from experiments.direct_cr_hamiltonian_tomography import DirectCRHamiltonianTomographyOptions\n",
    "############################################################\n",
    "options = direct_cr_hamiltonian_tomography.experiment_workflow.options()\n",
    "options.do_analysis(False)\n",
    "options.update(False)\n",
    "options.count(1024)\n",
    "options.do_plotting(False)\n",
    "#print(workflow.show_fields(options))\n",
    "######################################################################\n",
    "hamil_tomo = direct_cr_hamiltonian_tomography.experiment_workflow(\n",
    "    session=session,\n",
    "    qpu = qpu,\n",
    "    ctrl = qubits[2],\n",
    "    targ = qubits[3],\n",
    "    amplitudes = np.asarray([0.1]),\n",
    "    lengths = np.arange(200e-9, 600e-9, 10e-9),\n",
    "    options=options,\n",
    ")\n",
    "hamil_tomo_result = hamil_tomo.run()"
   ]
  },
  {
   "cell_type": "markdown",
   "id": "ca26273b",
   "metadata": {},
   "source": [
    "# Fitting"
   ]
  },
  {
   "cell_type": "code",
   "execution_count": null,
   "id": "64bd6da4",
   "metadata": {},
   "outputs": [],
   "source": [
    "import matplotlib.pyplot as plt\n",
    "plt.plot(fit_results[0.1]['g'].best_fit)\n",
    "plt.plot(fit_results[0.1]['g'].init_fit)"
   ]
  },
  {
   "cell_type": "code",
   "execution_count": null,
   "id": "276de083",
   "metadata": {},
   "outputs": [],
   "source": [
    "fit_results[0.1]['e']\n",
    "\n",
    "\n",
    "pz=fit_results[0.1]['e'].best_values['pz']\n",
    "py=fit_results[0.1]['e'].best_values['py']\n",
    "px=fit_results[0.1]['e'].best_values['px']\n",
    "\n",
    "#omega = np.sqrt(pz**2 + px**2 + py**2)\n",
    "omega = np.average([px,py,pz])\n",
    "\n",
    "np.arcsin(pz/omega)\n"
   ]
  },
  {
   "cell_type": "code",
   "execution_count": null,
   "id": "018c51bb",
   "metadata": {},
   "outputs": [],
   "source": [
    "from analysis.hamiltonian_tomography import fit_data, process_data, plot_trajectory\n",
    "qubit = qubits[3]\n",
    "amplitudes = np.asarray([0.1])\n",
    "lengths = np.arange(200e-9, 600e-9, 10e-9)\n",
    "processed_data_dict = process_data(qubit, hamil_tomo_result.output, lengths, amplitudes)\n",
    "fit_results = fit_data(qubit,processed_data_dict, lengths, amplitudes)\n",
    "figures = plot_trajectory(qubit, processed_data_dict, fit_results, lengths, amplitudes)"
   ]
  },
  {
   "cell_type": "code",
   "execution_count": null,
   "id": "be695255",
   "metadata": {},
   "outputs": [],
   "source": [
    "fit_results[0.1]['e']"
   ]
  },
  {
   "cell_type": "code",
   "execution_count": null,
   "id": "db07cde7",
   "metadata": {},
   "outputs": [],
   "source": [
    "g_val = fit_results[0.1]['g'].best_values\n",
    "e_val = fit_results[0.1]['e'].best_values\n",
    "\n",
    "delta0 = g_val['pz']/(2*np.pi*1e6)\n",
    "omega0_x = g_val['px']/(2*np.pi*1e6)\n",
    "omega0_y = g_val['py']/(2*np.pi*1e6)\n",
    "\n",
    "delta1 = e_val['pz']/(2*np.pi*1e6)\n",
    "omega1_x = e_val['px']/(2*np.pi*1e6)\n",
    "omega1_y = e_val['py']/(2*np.pi*1e6)\n",
    "\n",
    "IX = 0.5 * (omega0_x + omega1_x) \n",
    "IY = 0.5 * (omega0_y + omega1_y)\n",
    "IZ = 0.5 * (delta0 + delta1)\n",
    "\n",
    "ZX = 0.5 * (omega0_x - omega1_x)\n",
    "ZY = 0.5 * (omega0_y - omega1_y)\n",
    "ZZ = 0.5 * (delta0 - delta1)\n",
    "\n",
    "print(IX,IY,IZ,ZX,ZY,ZZ)\n",
    "\n",
    "\n",
    "\n",
    "print(np.sqrt(IX**2 + IY**2))\n",
    "print(np.sqrt(ZX**2+ZY**2))\n",
    "\n",
    "-np.arctan2(IX,IX)"
   ]
  },
  {
   "cell_type": "markdown",
   "id": "a8ee9fb8",
   "metadata": {},
   "source": [
    "# Compilation Check"
   ]
  },
  {
   "cell_type": "code",
   "execution_count": null,
   "id": "66f151e2",
   "metadata": {},
   "outputs": [],
   "source": [
    "options = direct_cr_hamiltonian_tomography.experiment_workflow.options()\n",
    "\n",
    "\n",
    "hamil_tomo_compiled = session.compile(\n",
    "    direct_cr_hamiltonian_tomography.create_experiment(\n",
    "        qpu=qpu,\n",
    "        ctrl=qubits[2],\n",
    "        targ=qubits[3],\n",
    "        amplitudes=np.asarray([0.4]),\n",
    "        lengths=np.asarray([200e-9, 300e-9]),\n",
    "    ))\n",
    "\n",
    "\n",
    "from laboneq.simple import show_pulse_sheet\n",
    "from laboneq.contrib.example_helpers.plotting.plot_helpers import plot_simulation\n",
    "show_pulse_sheet(\"first_comp\", hamil_tomo_compiled, interactive=True)\n",
    "plot_simulation(hamil_tomo_compiled, length=2e-6)"
   ]
  },
  {
   "cell_type": "markdown",
   "id": "2d8d7121",
   "metadata": {},
   "source": [
    "# Save Qubit Parameters"
   ]
  },
  {
   "cell_type": "code",
   "execution_count": null,
   "id": "73d4ef18",
   "metadata": {},
   "outputs": [],
   "source": [
    "# from helper import load_qubit_parameters, save_qubit_parameters\n",
    "# save_qubit_parameters(qubits={ qubit.uid : qubit for qubit in qubits}, save_folder=\"./qubit_parameters\", filename=\"kaist\")"
   ]
  }
 ],
 "metadata": {
  "kernelspec": {
   "display_name": ".venv",
   "language": "python",
   "name": "python3"
  },
  "language_info": {
   "codemirror_mode": {
    "name": "ipython",
    "version": 3
   },
   "file_extension": ".py",
   "mimetype": "text/x-python",
   "name": "python",
   "nbconvert_exporter": "python",
   "pygments_lexer": "ipython3",
   "version": "3.12.3"
  }
 },
 "nbformat": 4,
 "nbformat_minor": 5
}
