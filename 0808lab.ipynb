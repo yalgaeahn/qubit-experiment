{
 "cells": [
  {
   "cell_type": "markdown",
   "id": "829d6566",
   "metadata": {},
   "source": [
    "# Instructions"
   ]
  },
  {
   "cell_type": "markdown",
   "id": "30f9b52f",
   "metadata": {},
   "source": [
    "## 1. Device Setup"
   ]
  },
  {
   "cell_type": "code",
   "execution_count": 1,
   "id": "853d15be",
   "metadata": {},
   "outputs": [
    {
     "data": {
      "text/plain": [
       "[\u001b[1;35mSHFQC\u001b[0m\u001b[1m(\u001b[0m\n",
       "\u001b[2;32m│   \u001b[0m\u001b[33muid\u001b[0m=\u001b[32m'test_shfqc'\u001b[0m,\n",
       "\u001b[2;32m│   \u001b[0m\u001b[33minterface\u001b[0m=\u001b[32m'1GbE'\u001b[0m,\n",
       "\u001b[2;32m│   \u001b[0m\u001b[33mconnections\u001b[0m=\u001b[1m[\u001b[0m\u001b[1m]\u001b[0m,\n",
       "\u001b[2;32m│   \u001b[0m\u001b[33mserver_uid\u001b[0m=\u001b[32m'test_server'\u001b[0m,\n",
       "\u001b[2;32m│   \u001b[0m\u001b[33maddress\u001b[0m=\u001b[32m'DEV12576'\u001b[0m,\n",
       "\u001b[2;32m│   \u001b[0m\u001b[33mdevice_options\u001b[0m=\u001b[32m'SHFQC/PLUS/QC6CH'\u001b[0m,\n",
       "\u001b[2;32m│   \u001b[0m\u001b[33mreference_clock_source\u001b[0m=\u001b[3;35mNone\u001b[0m,\n",
       "\u001b[2;32m│   \u001b[0m\u001b[33mdevice_class\u001b[0m=\u001b[1;36m0\u001b[0m\n",
       "\u001b[1m)\u001b[0m\n",
       "]"
      ]
     },
     "execution_count": 1,
     "metadata": {},
     "output_type": "execute_result"
    }
   ],
   "source": [
    "from laboneq.simple import SHFQC\n",
    "from laboneq.dsl.device import DeviceSetup, create_connection\n",
    "import numpy as np\n",
    "from copy import deepcopy\n",
    "#instantiate ad device setup object\n",
    "setup = DeviceSetup(uid=\"test_setup\")\n",
    "#add a dataserver\n",
    "setup.add_dataserver(host=\"10.172.11.217\", port=\"8004\",uid=\"test_server\")\n",
    "\n",
    "setup.add_instruments(SHFQC(uid=\"test_shfqc\",server_uid=\"test_server\", address=\"DEV12576\", device_options=\"SHFQC/PLUS/QC6CH\"))\n",
    "\n",
    "setup.instruments"
   ]
  },
  {
   "cell_type": "code",
   "execution_count": 2,
   "id": "03cdd090",
   "metadata": {},
   "outputs": [],
   "source": [
    "for ch_idx, q_idx in enumerate([15,16,17,18,19]):# enumerate 안에 len(list) 강제하고싶음\n",
    "    \n",
    "    #QA\n",
    "    setup.add_connections(\n",
    "        \"test_shfqc\",\n",
    "        create_connection(to_signal=f\"q{q_idx}/measure\", ports=\"QACHANNELS/0/OUTPUT\")) #signal_type=\"iq\"\n",
    "    setup.add_connections(\n",
    "        \"test_shfqc\",\n",
    "        create_connection(to_signal=f\"q{q_idx}/acquire\", ports=\"QACHANNELS/0/INPUT\" )) #signal_type=\"acquire\"\n",
    "    #SG\n",
    "    setup.add_connections(\n",
    "        \"test_shfqc\",\n",
    "        create_connection(to_signal=f\"q{q_idx}/drive\", ports=f\"SGCHANNELS/{ch_idx}/OUTPUT\")) #signal_type=\"iq\" only iq allowed for SG??\n",
    "    setup.add_connections(\n",
    "        \"test_shfqc\",\n",
    "        create_connection(to_signal=f\"q{q_idx}/drive_ef\", ports=f\"SGCHANNELS/{ch_idx}/OUTPUT\")) #signal_type=\"iq\" only iq allowed for SG??\n",
    "    setup.add_connections(\n",
    "        \"test_shfqc\",\n",
    "        create_connection(to_signal=f\"q{q_idx}/cr_drive\", ports=f\"SGCHANNELS/{ch_idx}/OUTPUT\"))#signal_type=\"iq\"\n"
   ]
  },
  {
   "cell_type": "code",
   "execution_count": 3,
   "id": "b1e5c3d8",
   "metadata": {},
   "outputs": [
    {
     "data": {
      "image/png": "[encoded data removed]",
      "text/plain": [
       "<Figure size 640x480 with 1 Axes>"
      ]
     },
     "metadata": {},
     "output_type": "display_data"
    }
   ],
   "source": [
    "from krisszi_core.contrib.jsahn.operations import TransmonOperations\n",
    "from krisszi_core.contrib.jsahn.qpu_types.transmon import TransmonQubit, TransmonQubitParameters\n",
    "from krisszi_core.contrib.jsahn.helper import load_qubit_parameters, save_qubit_parameters\n",
    "\n",
    "\n",
    "from laboneq.dsl.quantum.qpu import QPU, QuantumPlatform\n",
    "from laboneq.dsl.quantum.qpu import QuantumElement\n",
    "\n",
    "# # #TODO load_qubit_parameters should return list with TransmonQubit, currently it's a dict \n",
    "_loaded_qubits = load_qubit_parameters(filename=\"latest\") \n",
    "loaded_qubits = list(_loaded_qubits.values())\n",
    "# save_qubit_parameters(qubits={ qubit.uid : qubit for qubit in qubits}, save_folder=\"./qubit_parameters\")\n",
    "#qubits = TransmonQubit.from_device_setup(setup) # Also can be done with load_qubit_parameters \n",
    "qubits = loaded_qubits\n",
    "quantum_operations = TransmonOperations()\n",
    "################################################################################################\n",
    "qpu = QPU(quantum_elements=qubits, quantum_operations=quantum_operations)\n",
    "qpu.topology.add_edge(\"bus\", \"q16\", \"q17\")\n",
    "qpu.topology.add_edge(\"bus\", \"q17\", \"q18\")\n",
    "qpu.topology.add_edge(\"bus\", \"q18\", \"q19\")\n",
    "qpu.topology.plot()\n",
    "\n",
    "# Create a demonstration QuantumPlatform for a transmon QPU:\n",
    "quantum_platform = QuantumPlatform(setup=setup, qpu=qpu)\n",
    "\n",
    "\n",
    "from laboneq.simple import workflow\n",
    "from pathlib import Path\n",
    "\n",
    "folder_store = workflow.logbook.FolderStore(\"c:/Users/KRISS/Documents/KAIST/experiment_store\") \n",
    "folder_store.activate()\n",
    "#folder_store.deactivate()\n"
   ]
  },
  {
   "cell_type": "markdown",
   "id": "89555dd3",
   "metadata": {},
   "source": [
    "### Initial Setting"
   ]
  },
  {
   "cell_type": "code",
   "execution_count": 4,
   "id": "c528b637",
   "metadata": {},
   "outputs": [],
   "source": [
    "for _, qubit in enumerate(qubits):\n",
    "    ##################LOCAL OSCILLATOR FREQUENCY AND CHANNEL POWER ###################################\n",
    "    qubit.parameters.drive_lo_frequency = 4.8e9\n",
    "    qubit.parameters.readout_lo_frequency = 7.0e9\n",
    "    qubit.parameters.readout_range_in =  0\n",
    "    qubit.parameters.readout_range_out = -25\n",
    "    qubit.parameters.drive_range = 0 \n",
    "    \n",
    "    \n",
    "    \n",
    "    ############READOUT PARAMETERS###################################################################\n",
    "    qubit.parameters.readout_length - 2.0e-6\n",
    "    qubit.parameters.readout_pulse['function'] = 'GaussianSquare'\n",
    "    qubit.parameters.readout_pulse['sigma'] = 0.1\n",
    "    qubit.parameters.readout_pulse['width'] = None\n",
    "    qubit.parameters.readout_pulse['risefall_sigma_ratio'] = 3.0\n",
    "    qubit.parameters.readout_amplitude = 1.0  #WARNING! 이거 SWEEP 할때 오버라이딩이 안되고 여기서 SCALING 됨\n",
    "    \n",
    "    \n",
    "    ###########SPECTROSCOPY PARAMETERS###############################################################\n",
    "    # Pulsed qubit spectroscopy drive ,  \n",
    "    qubit.parameters.spectroscopy_pulse['function'] = 'GaussianSquare'\n",
    "    qubit.parameters.spectroscopy_length = 5.0e-6\n",
    "    qubit.parameters.spectroscopy_pulse['sigma'] = 0.2\n",
    "    qubit.parameters.spectroscopy_pulse['width'] = None\n",
    "    qubit.parameters.spectroscopy_pulse['risefall_sigma_ratio'] = 3.0\n",
    "    qubit.parameters.spectroscopy_amplitude=0.01 \n",
    "    \n",
    "    \n",
    "    ###########TRANSITION PARAMETERS#####################################\n",
    "    qubit.parameters.ge_drive_amplitude_pi = 1.0\n",
    "    qubit.parameters.ge_drive_amplitude_pi2 = 0.5\n",
    "    qubit.parameters.ef_drive_amplitude_pi = 1.0\n",
    "    qubit.parameters.ef_drive_amplitude_pi2 = 0.5 # Initialization just to avoid potential scaling problem\n",
    "    \n",
    "\n",
    "qubits[3].parameters.readout_amplitude = 0.5\n",
    "qubits[4].parameters.readout_amplitude = 0.5\n",
    "qubits[2].parameters.readout_amplitude = 0.5\n"
   ]
  },
  {
   "cell_type": "code",
   "execution_count": 5,
   "id": "a9807cf8",
   "metadata": {},
   "outputs": [
    {
     "name": "stdout",
     "output_type": "stream",
     "text": [
      "[2025.08.08 04:38:41.097] INFO    Logging initialized from [Default inline config in laboneq.laboneq_logging] logdir is c:\\Users\\KRISS\\Documents\\KAIST\\krisszi-core\\src\\krisszi_core\\contrib\\jsahn\\laboneq_output\\log\n",
      "[2025.08.08 04:38:41.099] INFO    VERSION: laboneq 2.56.0\n",
      "[2025.08.08 04:38:41.100] INFO    Connecting to data server at 10.172.11.217:8004\n",
      "[2025.08.08 04:38:41.109] INFO    Connected to Zurich Instruments LabOne Data Server version 25.04.1.17 at 10.172.11.217:8004\n",
      "[2025.08.08 04:38:41.139] INFO    Configuring the device setup\n",
      "[2025.08.08 04:38:41.148] INFO    The device setup is configured\n"
     ]
    },
    {
     "data": {
      "text/plain": [
       "<laboneq.dsl.session.ConnectionState at 0x1da595f3a40>"
      ]
     },
     "execution_count": 5,
     "metadata": {},
     "output_type": "execute_result"
    }
   ],
   "source": [
    "from laboneq.simple import Session\n",
    "session = Session(setup)\n",
    "session.connect()"
   ]
  },
  {
   "cell_type": "markdown",
   "id": "4ec4df2a",
   "metadata": {},
   "source": [
    "# Run Experiments"
   ]
  },
  {
   "cell_type": "code",
   "execution_count": 6,
   "id": "75242ff2",
   "metadata": {},
   "outputs": [
    {
     "name": "stdout",
     "output_type": "stream",
     "text": [
      "[2025.08.08 04:38:41.185] INFO    \u001b[1m ────────────────────────────────────────────────────────────────────────────── \u001b[0m\n",
      "[2025.08.08 04:38:41.186] INFO    \u001b[1m \u001b[0m\u001b[1m \u001b[0m\u001b[1mWorkflow 'direct_cr_hamiltonian_tomography': execution started at 2025-08-07\u001b[0m\u001b[1m \u001b[0m\u001b[1m \u001b[0m\n",
      "[2025.08.08 04:38:41.186] INFO    \u001b[1m \u001b[0m\u001b[1m \u001b[0m\u001b[1m19:38:41.185955Z\u001b[0m\u001b[1m                                                            \u001b[0m\u001b[1m \u001b[0m\u001b[1m \u001b[0m\n",
      "[2025.08.08 04:38:41.187] INFO    \u001b[1m ────────────────────────────────────────────────────────────────────────────── \u001b[0m\n",
      "[2025.08.08 04:38:41.206] INFO    \u001b[1mTask 'temporary_qpu': started at 2025-08-07 19:38:41.206959Z\u001b[0m\n",
      "[2025.08.08 04:38:41.207] INFO    \u001b[1mTask 'temporary_qpu': ended at 2025-08-07 19:38:41.207959Z\u001b[0m\n",
      "[2025.08.08 04:38:41.213] INFO    \u001b[1mTask 'create_experiment': started at 2025-08-07 19:38:41.213955Z\u001b[0m\n",
      "\u001b[1;35mCalibration\u001b[0m\u001b[1m(\u001b[0m\n",
      "\u001b[2;32m│   \u001b[0m\u001b[33mcalibration_items\u001b[0m=\u001b[1m{\u001b[0m\u001b[1m}\u001b[0m\n",
      "\u001b[1m)\u001b[0m\n",
      "\n",
      "[2025.08.08 04:38:41.224] ERROR   \u001b[1mTask 'create_experiment': failed at 2025-08-07 19:38:41.224955Z with: \u001b[0m\n"
     ]
    },
    {
     "name": "stderr",
     "output_type": "stream",
     "text": [
      "[2025.08.08 04:38:41.224] ERROR   \u001b[1mTask 'create_experiment': failed at 2025-08-07 19:38:41.224955Z with: \u001b[0m\n"
     ]
    },
    {
     "name": "stdout",
     "output_type": "stream",
     "text": [
      "[2025.08.08 04:38:41.225] ERROR   \u001b[1mLabOneQException(\"Signal with id '/logical_signal_groups/q17/drive' not found in\u001b[0m\n"
     ]
    },
    {
     "name": "stderr",
     "output_type": "stream",
     "text": [
      "[2025.08.08 04:38:41.225] ERROR   \u001b[1mLabOneQException(\"Signal with id '/logical_signal_groups/q17/drive' not found in\u001b[0m\n"
     ]
    },
    {
     "name": "stdout",
     "output_type": "stream",
     "text": [
      "[2025.08.08 04:38:41.225] ERROR   \u001b[1mexperiment: Cannot apply experiment signal calibration.\")\u001b[0m\n"
     ]
    },
    {
     "name": "stderr",
     "output_type": "stream",
     "text": [
      "[2025.08.08 04:38:41.225] ERROR   \u001b[1mexperiment: Cannot apply experiment signal calibration.\")\u001b[0m\n"
     ]
    },
    {
     "name": "stdout",
     "output_type": "stream",
     "text": [
      "[2025.08.08 04:38:41.227] INFO    \u001b[1mTask 'create_experiment': ended at 2025-08-07 19:38:41.226957Z\u001b[0m\n",
      "[2025.08.08 04:38:41.228] INFO    \u001b[1m ────────────────────────────────────────────────────────────────────────────── \u001b[0m\n",
      "[2025.08.08 04:38:41.228] INFO    \u001b[1m \u001b[0m\u001b[1m \u001b[0m\u001b[1mWorkflow 'direct_cr_hamiltonian_tomography': execution ended at 2025-08-07 \u001b[0m\u001b[1m \u001b[0m\u001b[1m \u001b[0m\u001b[1m \u001b[0m\n",
      "[2025.08.08 04:38:41.229] INFO    \u001b[1m \u001b[0m\u001b[1m \u001b[0m\u001b[1m19:38:41.227955Z\u001b[0m\u001b[1m                                                            \u001b[0m\u001b[1m \u001b[0m\u001b[1m \u001b[0m\n",
      "[2025.08.08 04:38:41.229] INFO    \u001b[1m ────────────────────────────────────────────────────────────────────────────── \u001b[0m\n"
     ]
    },
    {
     "ename": "LabOneQException",
     "evalue": "Signal with id '/logical_signal_groups/q17/drive' not found in experiment: Cannot apply experiment signal calibration.",
     "output_type": "error",
     "traceback": [
      "\u001b[31m---------------------------------------------------------------------------\u001b[39m",
      "\u001b[31mLabOneQException\u001b[39m                          Traceback (most recent call last)",
      "\u001b[36mCell\u001b[39m\u001b[36m \u001b[39m\u001b[32mIn[6]\u001b[39m\u001b[32m, line 18\u001b[39m\n\u001b[32m      5\u001b[39m options.update(\u001b[38;5;28;01mFalse\u001b[39;00m)\n\u001b[32m      7\u001b[39m hamil_tomo = direct_cr_hamiltonian_tomography.experiment_workflow(\n\u001b[32m      8\u001b[39m     session=session,\n\u001b[32m      9\u001b[39m     qpu = qpu,\n\u001b[32m   (...)\u001b[39m\u001b[32m     15\u001b[39m \n\u001b[32m     16\u001b[39m )\n\u001b[32m---> \u001b[39m\u001b[32m18\u001b[39m hamil_tomo_result = \u001b[43mhamil_tomo\u001b[49m\u001b[43m.\u001b[49m\u001b[43mrun\u001b[49m\u001b[43m(\u001b[49m\u001b[43m)\u001b[49m\n",
      "\u001b[36mFile \u001b[39m\u001b[32mc:\\Users\\KRISS\\Documents\\KAIST\\applications\\Lib\\site-packages\\laboneq\\workflow\\core.py:218\u001b[39m, in \u001b[36mWorkflow.run\u001b[39m\u001b[34m(self, until)\u001b[39m\n\u001b[32m    214\u001b[39m \u001b[38;5;28;01mfor\u001b[39;00m logstore \u001b[38;5;129;01min\u001b[39;00m \u001b[38;5;28mself\u001b[39m._logstores():\n\u001b[32m    215\u001b[39m     state.add_recorder(\n\u001b[32m    216\u001b[39m         logstore.create_logbook(\u001b[38;5;28mself\u001b[39m, start_time=state.start_time)\n\u001b[32m    217\u001b[39m     )\n\u001b[32m--> \u001b[39m\u001b[32m218\u001b[39m \u001b[38;5;28;01mreturn\u001b[39;00m \u001b[38;5;28;43mself\u001b[39;49m\u001b[43m.\u001b[49m\u001b[43m_execute\u001b[49m\u001b[43m(\u001b[49m\u001b[43mstate\u001b[49m\u001b[43m)\u001b[49m\n",
      "\u001b[36mFile \u001b[39m\u001b[32mc:\\Users\\KRISS\\Documents\\KAIST\\applications\\Lib\\site-packages\\laboneq\\workflow\\core.py:128\u001b[39m, in \u001b[36mWorkflow._execute\u001b[39m\u001b[34m(self, state)\u001b[39m\n\u001b[32m    126\u001b[39m \u001b[38;5;28;01mtry\u001b[39;00m:\n\u001b[32m    127\u001b[39m     \u001b[38;5;28;01mwith\u001b[39;00m executor.ExecutorStateContext.scoped(state):\n\u001b[32m--> \u001b[39m\u001b[32m128\u001b[39m         \u001b[38;5;28;43mself\u001b[39;49m\u001b[43m.\u001b[49m\u001b[43m_root\u001b[49m\u001b[43m.\u001b[49m\u001b[43mexecute\u001b[49m\u001b[43m(\u001b[49m\u001b[43mstate\u001b[49m\u001b[43m)\u001b[49m\n\u001b[32m    129\u001b[39m \u001b[38;5;28;01mexcept\u001b[39;00m \u001b[38;5;167;01mException\u001b[39;00m:\n\u001b[32m    130\u001b[39m     \u001b[38;5;28;01mif\u001b[39;00m \u001b[38;5;28mself\u001b[39m._recovery \u001b[38;5;129;01mis\u001b[39;00m \u001b[38;5;129;01mnot\u001b[39;00m \u001b[38;5;28;01mNone\u001b[39;00m:\n",
      "\u001b[36mFile \u001b[39m\u001b[32mc:\\Users\\KRISS\\Documents\\KAIST\\applications\\Lib\\site-packages\\laboneq\\workflow\\blocks\\workflow_block.py:159\u001b[39m, in \u001b[36mWorkflowBlock.execute\u001b[39m\u001b[34m(self, executor)\u001b[39m\n\u001b[32m    154\u001b[39m     \u001b[38;5;28;01mif\u001b[39;00m executor.get_block_status(block) \u001b[38;5;129;01min\u001b[39;00m (\n\u001b[32m    155\u001b[39m         ExecutionStatus.FINISHED,\n\u001b[32m    156\u001b[39m         ExecutionStatus.SKIPPED,\n\u001b[32m    157\u001b[39m     ):\n\u001b[32m    158\u001b[39m         \u001b[38;5;28;01mcontinue\u001b[39;00m\n\u001b[32m--> \u001b[39m\u001b[32m159\u001b[39m     \u001b[43mblock\u001b[49m\u001b[43m.\u001b[49m\u001b[43mexecute\u001b[49m\u001b[43m(\u001b[49m\u001b[43mexecutor\u001b[49m\u001b[43m)\u001b[49m\n\u001b[32m    160\u001b[39m body_loop_finished = \u001b[38;5;28;01mTrue\u001b[39;00m\n\u001b[32m    161\u001b[39m executor.set_block_status(\u001b[38;5;28mself\u001b[39m, ExecutionStatus.FINISHED)\n",
      "\u001b[36mFile \u001b[39m\u001b[32mc:\\Users\\KRISS\\Documents\\KAIST\\applications\\Lib\\site-packages\\laboneq\\workflow\\blocks\\task_block.py:61\u001b[39m, in \u001b[36mTaskBlock.execute\u001b[39m\u001b[34m(self, executor)\u001b[39m\n\u001b[32m     59\u001b[39m     \u001b[38;5;28mself\u001b[39m._exucute_hidden(executor)\n\u001b[32m     60\u001b[39m \u001b[38;5;28;01melse\u001b[39;00m:\n\u001b[32m---> \u001b[39m\u001b[32m61\u001b[39m     \u001b[38;5;28;43mself\u001b[39;49m\u001b[43m.\u001b[49m\u001b[43m_execute_visible\u001b[49m\u001b[43m(\u001b[49m\u001b[43mexecutor\u001b[49m\u001b[43m)\u001b[49m\n",
      "\u001b[36mFile \u001b[39m\u001b[32mc:\\Users\\KRISS\\Documents\\KAIST\\applications\\Lib\\site-packages\\laboneq\\workflow\\blocks\\task_block.py:91\u001b[39m, in \u001b[36mTaskBlock._execute_visible\u001b[39m\u001b[34m(self, executor)\u001b[39m\n\u001b[32m     89\u001b[39m executor.set_block_status(\u001b[38;5;28mself\u001b[39m, ExecutionStatus.IN_PROGRESS)\n\u001b[32m     90\u001b[39m \u001b[38;5;28;01mtry\u001b[39;00m:\n\u001b[32m---> \u001b[39m\u001b[32m91\u001b[39m     task._output = \u001b[38;5;28;43mself\u001b[39;49m\u001b[43m.\u001b[49m\u001b[43mtask\u001b[49m\u001b[43m.\u001b[49m\u001b[43mfunc\u001b[49m\u001b[43m(\u001b[49m\u001b[43m*\u001b[49m\u001b[43m*\u001b[49m\u001b[43mparams\u001b[49m\u001b[43m)\u001b[49m\n\u001b[32m     92\u001b[39m \u001b[38;5;28;01mexcept\u001b[39;00m \u001b[38;5;167;01mException\u001b[39;00m \u001b[38;5;28;01mas\u001b[39;00m error:\n\u001b[32m     93\u001b[39m     task._end_time = utc_now()\n",
      "\u001b[36mFile \u001b[39m\u001b[32mc:\\Users\\KRISS\\Documents\\KAIST\\applications\\Lib\\site-packages\\laboneq\\dsl\\experiment\\build_experiment.py:201\u001b[39m, in \u001b[36mqubit_experiment.<locals>.build_qubit_experiment\u001b[39m\u001b[34m(*args, **kw)\u001b[39m\n\u001b[32m    199\u001b[39m \u001b[38;5;129m@functools\u001b[39m.wraps(exp_func)\n\u001b[32m    200\u001b[39m \u001b[38;5;28;01mdef\u001b[39;00m\u001b[38;5;250m \u001b[39m\u001b[34mbuild_qubit_experiment\u001b[39m(*args, **kw) -> Experiment:\n\u001b[32m--> \u001b[39m\u001b[32m201\u001b[39m     \u001b[38;5;28;01mreturn\u001b[39;00m \u001b[43mbuilder\u001b[49m\u001b[43m(\u001b[49m\u001b[43m*\u001b[49m\u001b[43margs\u001b[49m\u001b[43m,\u001b[49m\u001b[43m \u001b[49m\u001b[43m*\u001b[49m\u001b[43m*\u001b[49m\u001b[43mkw\u001b[49m\u001b[43m)\u001b[49m\n",
      "\u001b[36mFile \u001b[39m\u001b[32mc:\\Users\\KRISS\\Documents\\KAIST\\applications\\Lib\\site-packages\\laboneq\\dsl\\experiment\\build_experiment.py:126\u001b[39m, in \u001b[36mExperimentBuilder.__call__\u001b[39m\u001b[34m(self, *args, **kw)\u001b[39m\n\u001b[32m    124\u001b[39m     exp_calibration.calibration_items.update(calibration)\n\u001b[32m    125\u001b[39m     \u001b[38;5;28;01mif\u001b[39;00m \u001b[38;5;28mself\u001b[39m.context:\n\u001b[32m--> \u001b[39m\u001b[32m126\u001b[39m         \u001b[38;5;28;43mself\u001b[39;49m\u001b[43m.\u001b[49m\u001b[43mexp_func\u001b[49m\u001b[43m(\u001b[49m\u001b[43m*\u001b[49m\u001b[43margs\u001b[49m\u001b[43m,\u001b[49m\u001b[43m \u001b[49m\u001b[43m*\u001b[49m\u001b[43m*\u001b[49m\u001b[43mkw\u001b[49m\u001b[43m)\u001b[49m\n\u001b[32m    128\u001b[39m \u001b[38;5;28;01mif\u001b[39;00m \u001b[38;5;129;01mnot\u001b[39;00m \u001b[38;5;28mself\u001b[39m.context:\n\u001b[32m    129\u001b[39m     \u001b[38;5;28mself\u001b[39m.exp_func(exp, *args, **kw)\n",
      "\u001b[36mFile \u001b[39m\u001b[32m~\\Documents\\KAIST\\krisszi-core\\src\\krisszi_core\\contrib\\jsahn\\experiments\\direct_cr_hamiltonian_tomography.py:157\u001b[39m, in \u001b[36mexperiment_workflow.<locals>.create_experiment\u001b[39m\u001b[34m(qpu, ctrl, targ, amplitudes, lengths, options)\u001b[39m\n\u001b[32m    155\u001b[39m exp.add(acq_loop)\n\u001b[32m    156\u001b[39m \u001b[38;5;28mprint\u001b[39m(exp.get_calibration())\n\u001b[32m--> \u001b[39m\u001b[32m157\u001b[39m \u001b[43mexp\u001b[49m\u001b[43m.\u001b[49m\u001b[43mset_calibration\u001b[49m\u001b[43m(\u001b[49m\u001b[43mctrl\u001b[49m\u001b[43m.\u001b[49m\u001b[43mcalibration\u001b[49m\u001b[43m(\u001b[49m\u001b[43m)\u001b[49m\u001b[43m)\u001b[49m\n\u001b[32m    158\u001b[39m \u001b[38;5;28;01mreturn\u001b[39;00m exp\n",
      "\u001b[36mFile \u001b[39m\u001b[32mc:\\Users\\KRISS\\Documents\\KAIST\\applications\\Lib\\site-packages\\laboneq\\dsl\\experiment\\experiment.py:303\u001b[39m, in \u001b[36mExperiment.set_calibration\u001b[39m\u001b[34m(self, calibration)\u001b[39m\n\u001b[32m    301\u001b[39m signal = \u001b[38;5;28mself\u001b[39m.signals.get(signal_uid)\n\u001b[32m    302\u001b[39m \u001b[38;5;28;01mif\u001b[39;00m signal \u001b[38;5;129;01mis\u001b[39;00m \u001b[38;5;28;01mNone\u001b[39;00m:\n\u001b[32m--> \u001b[39m\u001b[32m303\u001b[39m     \u001b[38;5;28;43mself\u001b[39;49m\u001b[43m.\u001b[49m\u001b[43m_signal_not_found_error\u001b[49m\u001b[43m(\u001b[49m\n\u001b[32m    304\u001b[39m \u001b[43m        \u001b[49m\u001b[43msignal_uid\u001b[49m\u001b[43m,\u001b[49m\u001b[43m \u001b[49m\u001b[33;43m\"\u001b[39;49m\u001b[33;43mCannot apply experiment signal calibration.\u001b[39;49m\u001b[33;43m\"\u001b[39;49m\n\u001b[32m    305\u001b[39m \u001b[43m    \u001b[49m\u001b[43m)\u001b[49m\n\u001b[32m    306\u001b[39m signal.calibration = calib_item\n",
      "\u001b[36mFile \u001b[39m\u001b[32mc:\\Users\\KRISS\\Documents\\KAIST\\applications\\Lib\\site-packages\\laboneq\\dsl\\experiment\\experiment.py:285\u001b[39m, in \u001b[36mExperiment._signal_not_found_error\u001b[39m\u001b[34m(self, signal_uid, msg)\u001b[39m\n\u001b[32m    283\u001b[39m \u001b[38;5;28;01mif\u001b[39;00m msg \u001b[38;5;129;01mis\u001b[39;00m \u001b[38;5;28;01mNone\u001b[39;00m:\n\u001b[32m    284\u001b[39m     msg = \u001b[33m\"\u001b[39m\u001b[33m\"\u001b[39m\n\u001b[32m--> \u001b[39m\u001b[32m285\u001b[39m \u001b[38;5;28;01mraise\u001b[39;00m LabOneQException(\n\u001b[32m    286\u001b[39m     \u001b[33mf\u001b[39m\u001b[33m\"\u001b[39m\u001b[33mSignal with id \u001b[39m\u001b[33m'\u001b[39m\u001b[38;5;132;01m{\u001b[39;00msignal_uid\u001b[38;5;132;01m}\u001b[39;00m\u001b[33m'\u001b[39m\u001b[33m not found in experiment\u001b[39m\u001b[38;5;132;01m{\u001b[39;00m\u001b[33m'\u001b[39m\u001b[33m: \u001b[39m\u001b[33m'\u001b[39m\u001b[38;5;250m \u001b[39m\u001b[38;5;28;01mif\u001b[39;00m\u001b[38;5;250m \u001b[39mmsg\u001b[38;5;250m \u001b[39m\u001b[38;5;28;01melse\u001b[39;00m\u001b[38;5;250m \u001b[39m\u001b[33m'\u001b[39m\u001b[33m.\u001b[39m\u001b[33m'\u001b[39m\u001b[38;5;132;01m}\u001b[39;00m\u001b[38;5;132;01m{\u001b[39;00mmsg\u001b[38;5;132;01m}\u001b[39;00m\u001b[33m\"\u001b[39m\n\u001b[32m    287\u001b[39m )\n",
      "\u001b[31mLabOneQException\u001b[39m: Signal with id '/logical_signal_groups/q17/drive' not found in experiment: Cannot apply experiment signal calibration."
     ]
    }
   ],
   "source": [
    "from krisszi_core.contrib.jsahn.experiments import direct_cr_hamiltonian_tomography\n",
    "import numpy\n",
    "\n",
    "options = direct_cr_hamiltonian_tomography.experiment_workflow.options()\n",
    "options.update(False)\n",
    "\n",
    "hamil_tomo = direct_cr_hamiltonian_tomography.experiment_workflow(\n",
    "    session=session,\n",
    "    qpu = qpu,\n",
    "    ctrl = qubits[2],\n",
    "    targ = qubits[3],\n",
    "    amplitudes = [np.array([1.0])] ,\n",
    "    lengths = [np.array([0.0])],\n",
    "    options = options\n",
    "  \n",
    ")\n",
    "\n",
    "hamil_tomo_result = hamil_tomo.run()"
   ]
  },
  {
   "cell_type": "code",
   "execution_count": null,
   "id": "a4a09ce8",
   "metadata": {},
   "outputs": [],
   "source": [
    "qubits[2].calibration"
   ]
  },
  {
   "cell_type": "code",
   "execution_count": null,
   "id": "eec7f558",
   "metadata": {},
   "outputs": [],
   "source": [
    "from laboneq_applications.core import validation\n",
    "ctrl = qubits[2]\n",
    "        \n",
    "ctrl, amplitudes = validation.validate_and_convert_qubits_sweeps(qubits=ctrl, sweep_points=np.array([1.0]))\n",
    "amplitudes\n",
    "\n",
    "\n",
    "ctrl[0].calibration"
   ]
  },
  {
   "cell_type": "code",
   "execution_count": null,
   "id": "f7ec1ccd",
   "metadata": {},
   "outputs": [],
   "source": [
    "qubits[2].signals"
   ]
  },
  {
   "cell_type": "code",
   "execution_count": null,
   "id": "bc43d995",
   "metadata": {},
   "outputs": [],
   "source": [
    "aaa.get_calibration()"
   ]
  },
  {
   "cell_type": "markdown",
   "id": "2d8d7121",
   "metadata": {},
   "source": [
    "# Save Qubit Parameters"
   ]
  },
  {
   "cell_type": "code",
   "execution_count": null,
   "id": "73d4ef18",
   "metadata": {},
   "outputs": [],
   "source": [
    "# from krisszi_core.contrib.jsahn.helper import load_qubit_parameters, save_qubit_parameters\n",
    "# save_qubit_parameters(qubits={ qubit.uid : qubit for qubit in qubits}, save_folder=\"./qubit_parameters\", filename=\"sleep\")"
   ]
  }
 ],
 "metadata": {
  "kernelspec": {
   "display_name": "applications",
   "language": "python",
   "name": "python3"
  },
  "language_info": {
   "codemirror_mode": {
    "name": "ipython",
    "version": 3
   },
   "file_extension": ".py",
   "mimetype": "text/x-python",
   "name": "python",
   "nbconvert_exporter": "python",
   "pygments_lexer": "ipython3",
   "version": "3.12.5"
  }
 },
 "nbformat": 4,
 "nbformat_minor": 5
}
