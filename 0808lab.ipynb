{
 "cells": [
  {
   "cell_type": "markdown",
   "id": "829d6566",
   "metadata": {},
   "source": [
    "# Instructions"
   ]
  },
  {
   "cell_type": "markdown",
   "id": "30f9b52f",
   "metadata": {},
   "source": [
    "## 1. Device Setup"
   ]
  },
  {
   "cell_type": "code",
   "execution_count": null,
   "id": "853d15be",
   "metadata": {},
   "outputs": [
    {
     "data": {
      "text/plain": [
       "[\u001b[1;35mSHFQC\u001b[0m\u001b[1m(\u001b[0m\n",
       "\u001b[2;32m│   \u001b[0m\u001b[33muid\u001b[0m=\u001b[32m'test_shfqc'\u001b[0m,\n",
       "\u001b[2;32m│   \u001b[0m\u001b[33minterface\u001b[0m=\u001b[32m'1GbE'\u001b[0m,\n",
       "\u001b[2;32m│   \u001b[0m\u001b[33mconnections\u001b[0m=\u001b[1m[\u001b[0m\u001b[1m]\u001b[0m,\n",
       "\u001b[2;32m│   \u001b[0m\u001b[33mserver_uid\u001b[0m=\u001b[32m'test_server'\u001b[0m,\n",
       "\u001b[2;32m│   \u001b[0m\u001b[33maddress\u001b[0m=\u001b[32m'DEV12576'\u001b[0m,\n",
       "\u001b[2;32m│   \u001b[0m\u001b[33mdevice_options\u001b[0m=\u001b[32m'SHFQC/PLUS/QC6CH'\u001b[0m,\n",
       "\u001b[2;32m│   \u001b[0m\u001b[33mreference_clock_source\u001b[0m=\u001b[3;35mNone\u001b[0m,\n",
       "\u001b[2;32m│   \u001b[0m\u001b[33mdevice_class\u001b[0m=\u001b[1;36m0\u001b[0m\n",
       "\u001b[1m)\u001b[0m\n",
       "]"
      ]
     },
     "execution_count": 2,
     "metadata": {},
     "output_type": "execute_result"
    }
   ],
   "source": [
    "from laboneq.simple import SHFQC\n",
    "from laboneq.dsl.device import DeviceSetup, create_connection\n",
    "import numpy as np\n",
    "from copy import deepcopy\n",
    "\n",
    "\n",
    "\n",
    "#instantiate ad device setup object\n",
    "setup = DeviceSetup(uid=\"test_setup\")\n",
    "#add a dataserver\n",
    "setup.add_dataserver(host=host, port=\"8004\",uid=\"test_server\")\n",
    "\n",
    "setup.add_instruments(SHFQC(uid=\"test_shfqc\",server_uid=\"test_server\", address=\"DEV12576\", device_options=\"SHFQC/PLUS/QC6CH\"))\n",
    "\n",
    "setup.instruments"
   ]
  },
  {
   "cell_type": "code",
   "execution_count": 3,
   "id": "03cdd090",
   "metadata": {},
   "outputs": [],
   "source": [
    "for ch_idx, q_idx in enumerate([15,16,17,18,19]):# enumerate 안에 len(list) 강제하고싶음\n",
    "    \n",
    "    #QA\n",
    "    setup.add_connections(\n",
    "        \"test_shfqc\",\n",
    "        create_connection(to_signal=f\"q{q_idx}/measure\", ports=\"QACHANNELS/0/OUTPUT\")) #signal_type=\"iq\"\n",
    "    setup.add_connections(\n",
    "        \"test_shfqc\",\n",
    "        create_connection(to_signal=f\"q{q_idx}/acquire\", ports=\"QACHANNELS/0/INPUT\" )) #signal_type=\"acquire\"\n",
    "    #SG\n",
    "    setup.add_connections(\n",
    "        \"test_shfqc\",\n",
    "        create_connection(to_signal=f\"q{q_idx}/drive\", ports=f\"SGCHANNELS/{ch_idx}/OUTPUT\")) #signal_type=\"iq\" only iq allowed for SG??\n",
    "    setup.add_connections(\n",
    "        \"test_shfqc\",\n",
    "        create_connection(to_signal=f\"q{q_idx}/drive_ef\", ports=f\"SGCHANNELS/{ch_idx}/OUTPUT\")) #signal_type=\"iq\" only iq allowed for SG??\n",
    "    setup.add_connections(\n",
    "        \"test_shfqc\",\n",
    "        create_connection(to_signal=f\"q{q_idx}/cr_drive\", ports=f\"SGCHANNELS/{ch_idx}/OUTPUT\"))#signal_type=\"iq\"\n"
   ]
  },
  {
   "cell_type": "code",
   "execution_count": 10,
   "id": "b1e5c3d8",
   "metadata": {},
   "outputs": [
    {
     "data": {
      "image/png": "[encoded data removed]",
      "text/plain": [
       "<Figure size 640x480 with 1 Axes>"
      ]
     },
     "metadata": {},
     "output_type": "display_data"
    }
   ],
   "source": [
    "from operations import TransmonOperations\n",
    "from qpu_types.transmon import TransmonQubit, TransmonQubitParameters\n",
    "from helper import load_qubit_parameters, save_qubit_parameters\n",
    "\n",
    "\n",
    "from laboneq.dsl.quantum.qpu import QPU, QuantumPlatform\n",
    "from laboneq.dsl.quantum.qpu import QuantumElement\n",
    "\n",
    "# # #TODO load_qubit_parameters should return list with TransmonQubit, currently it's a dict \n",
    "_loaded_qubits = load_qubit_parameters(filename=\"latest\") \n",
    "loaded_qubits = list(_loaded_qubits.values())\n",
    "# save_qubit_parameters(qubits={ qubit.uid : qubit for qubit in qubits}, save_folder=\"./qubit_parameters\")\n",
    "#qubits = TransmonQubit.from_device_setup(setup) # Also can be done with load_qubit_parameters \n",
    "qubits = loaded_qubits\n",
    "quantum_operations = TransmonOperations()\n",
    "################################################################################################\n",
    "qpu = QPU(quantum_elements=qubits, quantum_operations=quantum_operations)\n",
    "qpu.topology.add_edge(\"bus\", \"q16\", \"q17\")\n",
    "qpu.topology.add_edge(\"bus\", \"q17\", \"q18\")\n",
    "qpu.topology.add_edge(\"bus\", \"q18\", \"q19\")\n",
    "qpu.topology.plot()\n",
    "\n",
    "# Create a demonstration QuantumPlatform for a transmon QPU:\n",
    "quantum_platform = QuantumPlatform(setup=setup, qpu=qpu)\n",
    "\n",
    "\n",
    "from laboneq.simple import workflow\n",
    "from pathlib import Path\n",
    "\n",
    "folder_store = workflow.logbook.FolderStore(\"c:/Users/KRISS/Documents/KAIST/experiment_store\") \n",
    "folder_store.activate()\n",
    "#folder_store.deactivate()\n"
   ]
  },
  {
   "cell_type": "markdown",
   "id": "89555dd3",
   "metadata": {},
   "source": [
    "### Initial Setting"
   ]
  },
  {
   "cell_type": "code",
   "execution_count": 11,
   "id": "c528b637",
   "metadata": {},
   "outputs": [],
   "source": [
    "for _, qubit in enumerate(qubits):\n",
    "    ##################LOCAL OSCILLATOR FREQUENCY AND CHANNEL POWER ###################################\n",
    "    qubit.parameters.drive_lo_frequency = 4.8e9\n",
    "    qubit.parameters.readout_lo_frequency = 7.0e9\n",
    "    qubit.parameters.readout_range_in =  0\n",
    "    qubit.parameters.readout_range_out = -25\n",
    "    qubit.parameters.drive_range = 0 \n",
    "    \n",
    "    \n",
    "    \n",
    "    ############READOUT PARAMETERS###################################################################\n",
    "    qubit.parameters.readout_length - 2.0e-6\n",
    "    qubit.parameters.readout_pulse['function'] = 'GaussianSquare'\n",
    "    qubit.parameters.readout_pulse['sigma'] = 0.1\n",
    "    qubit.parameters.readout_pulse['width'] = None\n",
    "    qubit.parameters.readout_pulse['risefall_sigma_ratio'] = 3.0\n",
    "    qubit.parameters.readout_amplitude = 1.0  #WARNING! 이거 SWEEP 할때 오버라이딩이 안되고 여기서 SCALING 됨\n",
    "    \n",
    "    \n",
    "    ###########SPECTROSCOPY PARAMETERS###############################################################\n",
    "    # Pulsed qubit spectroscopy drive ,  \n",
    "    qubit.parameters.spectroscopy_pulse['function'] = 'GaussianSquare'\n",
    "    qubit.parameters.spectroscopy_length = 5.0e-6\n",
    "    qubit.parameters.spectroscopy_pulse['sigma'] = 0.2\n",
    "    qubit.parameters.spectroscopy_pulse['width'] = None\n",
    "    qubit.parameters.spectroscopy_pulse['risefall_sigma_ratio'] = 3.0\n",
    "    qubit.parameters.spectroscopy_amplitude=0.01 \n",
    "    \n",
    "    \n",
    "    ###########TRANSITION PARAMETERS#####################################\n",
    "    qubit.parameters.ge_drive_amplitude_pi = 1.0\n",
    "    qubit.parameters.ge_drive_amplitude_pi2 = 0.5\n",
    "    qubit.parameters.ef_drive_amplitude_pi = 1.0\n",
    "    qubit.parameters.ef_drive_amplitude_pi2 = 0.5 # Initialization just to avoid potential scaling problem\n",
    "    \n",
    "\n",
    "qubits[3].parameters.readout_amplitude = 0.5\n",
    "qubits[4].parameters.readout_amplitude = 0.5\n",
    "qubits[2].parameters.readout_amplitude = 0.5\n"
   ]
  },
  {
   "cell_type": "code",
   "execution_count": 12,
   "id": "a9807cf8",
   "metadata": {},
   "outputs": [
    {
     "name": "stdout",
     "output_type": "stream",
     "text": [
      "[2025.08.12 11:07:53.119] INFO    Logging initialized from [Default inline config in laboneq.laboneq_logging] logdir is /Users/yalgaeahn/JSAHN/qubit-experiment/laboneq_output/log\n",
      "[2025.08.12 11:07:53.122] INFO    VERSION: laboneq 2.57.0\n",
      "[2025.08.12 11:07:53.123] INFO    Connecting to data server at 10.172.11.217:8004\n",
      "[2025.08.12 11:07:53.125] INFO    Connected to Zurich Instruments LabOne Data Server version 25.07.0.507 at 10.172.11.217:8004\n",
      "[2025.08.12 11:07:53.127] INFO    Configuring the device setup\n",
      "[2025.08.12 11:07:53.129] INFO    The device setup is configured\n"
     ]
    },
    {
     "data": {
      "text/plain": [
       "<laboneq.dsl.session.ConnectionState at 0x13f178e00>"
      ]
     },
     "execution_count": 12,
     "metadata": {},
     "output_type": "execute_result"
    }
   ],
   "source": [
    "from laboneq.simple import Session\n",
    "session = Session(setup)\n",
    "session.connect(do_emulation=True)"
   ]
  },
  {
   "cell_type": "markdown",
   "id": "4ec4df2a",
   "metadata": {},
   "source": [
    "# Run Experiments"
   ]
  },
  {
   "cell_type": "code",
   "execution_count": 17,
   "id": "75242ff2",
   "metadata": {},
   "outputs": [
    {
     "name": "stdout",
     "output_type": "stream",
     "text": [
      "[2025.08.12 11:09:28.553] INFO    \u001b[1m ────────────────────────────────────────────────────────────────────────────── \u001b[0m\n",
      "[2025.08.12 11:09:28.554] INFO    \u001b[1m \u001b[0m\u001b[1m \u001b[0m\u001b[1mWorkflow 'nondsl_direct_cr_hamiltonian_tomography': execution started at \u001b[0m\u001b[1m   \u001b[0m\u001b[1m \u001b[0m\u001b[1m \u001b[0m\n",
      "[2025.08.12 11:09:28.554] INFO    \u001b[1m \u001b[0m\u001b[1m \u001b[0m\u001b[1m2025-08-12 02:09:28.552569Z\u001b[0m\u001b[1m                                                 \u001b[0m\u001b[1m \u001b[0m\u001b[1m \u001b[0m\n",
      "[2025.08.12 11:09:28.554] INFO    \u001b[1m ────────────────────────────────────────────────────────────────────────────── \u001b[0m\n"
     ]
    },
    {
     "name": "stdout",
     "output_type": "stream",
     "text": [
      "[2025.08.12 11:09:28.567] INFO    \u001b[1mTask 'temporary_qpu': started at 2025-08-12 02:09:28.567127Z\u001b[0m\n",
      "[2025.08.12 11:09:28.569] INFO    \u001b[1mTask 'temporary_qpu': ended at 2025-08-12 02:09:28.568759Z\u001b[0m\n",
      "[2025.08.12 11:09:28.571] INFO    \u001b[1mTask 'temporary_quantum_elements_from_qpu': started at 2025-08-12 \u001b[0m\n",
      "[2025.08.12 11:09:28.572] INFO    \u001b[1m02:09:28.571598Z\u001b[0m\n",
      "[2025.08.12 11:09:28.572] INFO    \u001b[1mTask 'temporary_quantum_elements_from_qpu': ended at 2025-08-12 02:09:28.572693Z\u001b[0m\n",
      "[2025.08.12 11:09:28.574] INFO    \u001b[1mTask 'temporary_quantum_elements_from_qpu': started at 2025-08-12 \u001b[0m\n",
      "[2025.08.12 11:09:28.574] INFO    \u001b[1m02:09:28.573965Z\u001b[0m\n",
      "[2025.08.12 11:09:28.574] INFO    \u001b[1mTask 'temporary_quantum_elements_from_qpu': ended at 2025-08-12 02:09:28.574744Z\u001b[0m\n",
      "[2025.08.12 11:09:28.577] INFO    \u001b[1mTask 'create_experiment': started at 2025-08-12 02:09:28.577482Z\u001b[0m\n",
      "[2025.08.12 11:09:28.593] INFO    \u001b[1mTask 'create_experiment': ended at 2025-08-12 02:09:28.593320Z\u001b[0m\n",
      "[2025.08.12 11:09:28.605] INFO    \u001b[1mTask 'compile_experiment': started at 2025-08-12 02:09:28.604967Z\u001b[0m\n",
      "[2025.08.12 11:09:28.618] ERROR   \u001b[1mTask 'compile_experiment': failed at 2025-08-12 02:09:28.617570Z with: \u001b[0m\n"
     ]
    },
    {
     "name": "stderr",
     "output_type": "stream",
     "text": [
      "[2025.08.12 11:09:28.618] ERROR   \u001b[1mTask 'compile_experiment': failed at 2025-08-12 02:09:28.617570Z with: \u001b[0m\n"
     ]
    },
    {
     "name": "stdout",
     "output_type": "stream",
     "text": [
      "[2025.08.12 11:09:28.620] ERROR   \u001b[1mRuntimeError(\"Could not find physical channel for logical signal \u001b[0m\n"
     ]
    },
    {
     "name": "stderr",
     "output_type": "stream",
     "text": [
      "[2025.08.12 11:09:28.620] ERROR   \u001b[1mRuntimeError(\"Could not find physical channel for logical signal \u001b[0m\n"
     ]
    },
    {
     "name": "stdout",
     "output_type": "stream",
     "text": [
      "[2025.08.12 11:09:28.621] ERROR   \u001b[1mLogicalSignal(name='drive_cr', group='q17')\")\u001b[0m\n"
     ]
    },
    {
     "name": "stderr",
     "output_type": "stream",
     "text": [
      "[2025.08.12 11:09:28.621] ERROR   \u001b[1mLogicalSignal(name='drive_cr', group='q17')\")\u001b[0m\n"
     ]
    },
    {
     "name": "stdout",
     "output_type": "stream",
     "text": [
      "[2025.08.12 11:09:28.622] INFO    \u001b[1mTask 'compile_experiment': ended at 2025-08-12 02:09:28.622400Z\u001b[0m\n",
      "[2025.08.12 11:09:28.623] INFO    \u001b[1m ────────────────────────────────────────────────────────────────────────────── \u001b[0m\n",
      "[2025.08.12 11:09:28.623] INFO    \u001b[1m \u001b[0m\u001b[1m \u001b[0m\u001b[1mWorkflow 'nondsl_direct_cr_hamiltonian_tomography': execution ended at \u001b[0m\u001b[1m     \u001b[0m\u001b[1m \u001b[0m\u001b[1m \u001b[0m\n",
      "[2025.08.12 11:09:28.624] INFO    \u001b[1m \u001b[0m\u001b[1m \u001b[0m\u001b[1m2025-08-12 02:09:28.623544Z\u001b[0m\u001b[1m                                                 \u001b[0m\u001b[1m \u001b[0m\u001b[1m \u001b[0m\n",
      "[2025.08.12 11:09:28.624] INFO    \u001b[1m ────────────────────────────────────────────────────────────────────────────── \u001b[0m\n"
     ]
    },
    {
     "ename": "RuntimeError",
     "evalue": "Could not find physical channel for logical signal LogicalSignal(name='drive_cr', group='q17')",
     "output_type": "error",
     "traceback": [
      "\u001b[31m---------------------------------------------------------------------------\u001b[39m",
      "\u001b[31mRuntimeError\u001b[39m                              Traceback (most recent call last)",
      "\u001b[36mCell\u001b[39m\u001b[36m \u001b[39m\u001b[32mIn[17]\u001b[39m\u001b[32m, line 18\u001b[39m\n\u001b[32m      5\u001b[39m options.update(\u001b[38;5;28;01mFalse\u001b[39;00m)\n\u001b[32m      7\u001b[39m hamil_tomo = nondsl_direct_cr_hamiltonian_tomography.experiment_workflow(\n\u001b[32m      8\u001b[39m     session=session,\n\u001b[32m      9\u001b[39m     qpu = qpu,\n\u001b[32m   (...)\u001b[39m\u001b[32m     15\u001b[39m \n\u001b[32m     16\u001b[39m )\n\u001b[32m---> \u001b[39m\u001b[32m18\u001b[39m hamil_tomo_result = \u001b[43mhamil_tomo\u001b[49m\u001b[43m.\u001b[49m\u001b[43mrun\u001b[49m\u001b[43m(\u001b[49m\u001b[43m)\u001b[49m\n",
      "\u001b[36mFile \u001b[39m\u001b[32m~/JSAHN/qubit-experiment/.venv/lib/python3.12/site-packages/laboneq/workflow/core.py:218\u001b[39m, in \u001b[36mWorkflow.run\u001b[39m\u001b[34m(self, until)\u001b[39m\n\u001b[32m    214\u001b[39m \u001b[38;5;28;01mfor\u001b[39;00m logstore \u001b[38;5;129;01min\u001b[39;00m \u001b[38;5;28mself\u001b[39m._logstores():\n\u001b[32m    215\u001b[39m     state.add_recorder(\n\u001b[32m    216\u001b[39m         logstore.create_logbook(\u001b[38;5;28mself\u001b[39m, start_time=state.start_time)\n\u001b[32m    217\u001b[39m     )\n\u001b[32m--> \u001b[39m\u001b[32m218\u001b[39m \u001b[38;5;28;01mreturn\u001b[39;00m \u001b[38;5;28;43mself\u001b[39;49m\u001b[43m.\u001b[49m\u001b[43m_execute\u001b[49m\u001b[43m(\u001b[49m\u001b[43mstate\u001b[49m\u001b[43m)\u001b[49m\n",
      "\u001b[36mFile \u001b[39m\u001b[32m~/JSAHN/qubit-experiment/.venv/lib/python3.12/site-packages/laboneq/workflow/core.py:128\u001b[39m, in \u001b[36mWorkflow._execute\u001b[39m\u001b[34m(self, state)\u001b[39m\n\u001b[32m    126\u001b[39m \u001b[38;5;28;01mtry\u001b[39;00m:\n\u001b[32m    127\u001b[39m     \u001b[38;5;28;01mwith\u001b[39;00m executor.ExecutorStateContext.scoped(state):\n\u001b[32m--> \u001b[39m\u001b[32m128\u001b[39m         \u001b[38;5;28;43mself\u001b[39;49m\u001b[43m.\u001b[49m\u001b[43m_root\u001b[49m\u001b[43m.\u001b[49m\u001b[43mexecute\u001b[49m\u001b[43m(\u001b[49m\u001b[43mstate\u001b[49m\u001b[43m)\u001b[49m\n\u001b[32m    129\u001b[39m \u001b[38;5;28;01mexcept\u001b[39;00m \u001b[38;5;167;01mException\u001b[39;00m:\n\u001b[32m    130\u001b[39m     \u001b[38;5;28;01mif\u001b[39;00m \u001b[38;5;28mself\u001b[39m._recovery \u001b[38;5;129;01mis\u001b[39;00m \u001b[38;5;129;01mnot\u001b[39;00m \u001b[38;5;28;01mNone\u001b[39;00m:\n",
      "\u001b[36mFile \u001b[39m\u001b[32m~/JSAHN/qubit-experiment/.venv/lib/python3.12/site-packages/laboneq/workflow/blocks/workflow_block.py:159\u001b[39m, in \u001b[36mWorkflowBlock.execute\u001b[39m\u001b[34m(self, executor)\u001b[39m\n\u001b[32m    154\u001b[39m     \u001b[38;5;28;01mif\u001b[39;00m executor.get_block_status(block) \u001b[38;5;129;01min\u001b[39;00m (\n\u001b[32m    155\u001b[39m         ExecutionStatus.FINISHED,\n\u001b[32m    156\u001b[39m         ExecutionStatus.SKIPPED,\n\u001b[32m    157\u001b[39m     ):\n\u001b[32m    158\u001b[39m         \u001b[38;5;28;01mcontinue\u001b[39;00m\n\u001b[32m--> \u001b[39m\u001b[32m159\u001b[39m     \u001b[43mblock\u001b[49m\u001b[43m.\u001b[49m\u001b[43mexecute\u001b[49m\u001b[43m(\u001b[49m\u001b[43mexecutor\u001b[49m\u001b[43m)\u001b[49m\n\u001b[32m    160\u001b[39m body_loop_finished = \u001b[38;5;28;01mTrue\u001b[39;00m\n\u001b[32m    161\u001b[39m executor.set_block_status(\u001b[38;5;28mself\u001b[39m, ExecutionStatus.FINISHED)\n",
      "\u001b[36mFile \u001b[39m\u001b[32m~/JSAHN/qubit-experiment/.venv/lib/python3.12/site-packages/laboneq/workflow/blocks/task_block.py:61\u001b[39m, in \u001b[36mTaskBlock.execute\u001b[39m\u001b[34m(self, executor)\u001b[39m\n\u001b[32m     59\u001b[39m     \u001b[38;5;28mself\u001b[39m._exucute_hidden(executor)\n\u001b[32m     60\u001b[39m \u001b[38;5;28;01melse\u001b[39;00m:\n\u001b[32m---> \u001b[39m\u001b[32m61\u001b[39m     \u001b[38;5;28;43mself\u001b[39;49m\u001b[43m.\u001b[49m\u001b[43m_execute_visible\u001b[49m\u001b[43m(\u001b[49m\u001b[43mexecutor\u001b[49m\u001b[43m)\u001b[49m\n",
      "\u001b[36mFile \u001b[39m\u001b[32m~/JSAHN/qubit-experiment/.venv/lib/python3.12/site-packages/laboneq/workflow/blocks/task_block.py:91\u001b[39m, in \u001b[36mTaskBlock._execute_visible\u001b[39m\u001b[34m(self, executor)\u001b[39m\n\u001b[32m     89\u001b[39m executor.set_block_status(\u001b[38;5;28mself\u001b[39m, ExecutionStatus.IN_PROGRESS)\n\u001b[32m     90\u001b[39m \u001b[38;5;28;01mtry\u001b[39;00m:\n\u001b[32m---> \u001b[39m\u001b[32m91\u001b[39m     task._output = \u001b[38;5;28;43mself\u001b[39;49m\u001b[43m.\u001b[49m\u001b[43mtask\u001b[49m\u001b[43m.\u001b[49m\u001b[43mfunc\u001b[49m\u001b[43m(\u001b[49m\u001b[43m*\u001b[49m\u001b[43m*\u001b[49m\u001b[43mparams\u001b[49m\u001b[43m)\u001b[49m\n\u001b[32m     92\u001b[39m \u001b[38;5;28;01mexcept\u001b[39;00m \u001b[38;5;167;01mException\u001b[39;00m \u001b[38;5;28;01mas\u001b[39;00m error:\n\u001b[32m     93\u001b[39m     task._end_time = utc_now()\n",
      "\u001b[36mFile \u001b[39m\u001b[32m~/JSAHN/qubit-experiment/.venv/lib/python3.12/site-packages/laboneq/workflow/tasks/compile_experiment.py:83\u001b[39m, in \u001b[36mcompile_experiment\u001b[39m\u001b[34m(session, experiment, options)\u001b[39m\n\u001b[32m     79\u001b[39m \u001b[38;5;28;01mexcept\u001b[39;00m \u001b[38;5;167;01mValueError\u001b[39;00m \u001b[38;5;28;01mas\u001b[39;00m error:\n\u001b[32m     80\u001b[39m     \u001b[38;5;28;01mraise\u001b[39;00m \u001b[38;5;167;01mValueError\u001b[39;00m(\n\u001b[32m     81\u001b[39m         \u001b[33m\"\u001b[39m\u001b[33mInvalid input. The following issues were detected: \u001b[39m\u001b[33m\"\u001b[39m + \u001b[38;5;28mstr\u001b[39m(error),\n\u001b[32m     82\u001b[39m     ) \u001b[38;5;28;01mfrom\u001b[39;00m\u001b[38;5;250m \u001b[39m\u001b[34;01merror\u001b[39;00m\n\u001b[32m---> \u001b[39m\u001b[32m83\u001b[39m \u001b[38;5;28;01mreturn\u001b[39;00m \u001b[43msession\u001b[49m\u001b[43m.\u001b[49m\u001b[43mcompile\u001b[49m\u001b[43m(\u001b[49m\n\u001b[32m     84\u001b[39m \u001b[43m    \u001b[49m\u001b[43mexperiment\u001b[49m\u001b[43m=\u001b[49m\u001b[43mexperiment\u001b[49m\u001b[43m,\u001b[49m\n\u001b[32m     85\u001b[39m \u001b[43m    \u001b[49m\u001b[43mcompiler_settings\u001b[49m\u001b[43m=\u001b[49m\u001b[43mopts\u001b[49m\u001b[43m.\u001b[49m\u001b[43mcompiler_settings\u001b[49m\u001b[43m,\u001b[49m\n\u001b[32m     86\u001b[39m \u001b[43m\u001b[49m\u001b[43m)\u001b[49m\n",
      "\u001b[36mFile \u001b[39m\u001b[32m~/JSAHN/qubit-experiment/.venv/lib/python3.12/site-packages/laboneq/dsl/session.py:385\u001b[39m, in \u001b[36mSession.compile\u001b[39m\u001b[34m(self, experiment, compiler_settings)\u001b[39m\n\u001b[32m    376\u001b[39m \u001b[38;5;250m\u001b[39m\u001b[33;03m\"\"\"Compiles the specified experiment and stores it in the compiled_experiment property.\u001b[39;00m\n\u001b[32m    377\u001b[39m \n\u001b[32m    378\u001b[39m \u001b[33;03mRequires connected LabOne Q session (`session.connect()`) either with or without emulation mode.\u001b[39;00m\n\u001b[32m   (...)\u001b[39m\u001b[32m    382\u001b[39m \u001b[33;03m    compiler_settings: Extra options passed to the compiler.\u001b[39;00m\n\u001b[32m    383\u001b[39m \u001b[33;03m\"\"\"\u001b[39;00m\n\u001b[32m    384\u001b[39m \u001b[38;5;28mself\u001b[39m._experiment_definition = experiment\n\u001b[32m--> \u001b[39m\u001b[32m385\u001b[39m \u001b[38;5;28mself\u001b[39m._compiled_experiment = \u001b[43mlaboneq_compile\u001b[49m\u001b[43m(\u001b[49m\n\u001b[32m    386\u001b[39m \u001b[43m    \u001b[49m\u001b[43mdevice_setup\u001b[49m\u001b[43m=\u001b[49m\u001b[38;5;28;43mself\u001b[39;49m\u001b[43m.\u001b[49m\u001b[43mdevice_setup\u001b[49m\u001b[43m,\u001b[49m\n\u001b[32m    387\u001b[39m \u001b[43m    \u001b[49m\u001b[43mexperiment\u001b[49m\u001b[43m=\u001b[49m\u001b[38;5;28;43mself\u001b[39;49m\u001b[43m.\u001b[49m\u001b[43mexperiment\u001b[49m\u001b[43m,\u001b[49m\n\u001b[32m    388\u001b[39m \u001b[43m    \u001b[49m\u001b[43mcompiler_settings\u001b[49m\u001b[43m=\u001b[49m\u001b[43m{\u001b[49m\n\u001b[32m    389\u001b[39m \u001b[43m        \u001b[49m\u001b[43m*\u001b[49m\u001b[43m*\u001b[49m\u001b[43m(\u001b[49m\u001b[43mcompiler_settings\u001b[49m\u001b[43m \u001b[49m\u001b[38;5;129;43;01mor\u001b[39;49;00m\u001b[43m \u001b[49m\u001b[43m{\u001b[49m\u001b[43m}\u001b[49m\u001b[43m)\u001b[49m\u001b[43m,\u001b[49m\n\u001b[32m    390\u001b[39m \u001b[43m    \u001b[49m\u001b[43m}\u001b[49m\u001b[43m,\u001b[49m\n\u001b[32m    391\u001b[39m \u001b[43m\u001b[49m\u001b[43m)\u001b[49m\n\u001b[32m    392\u001b[39m \u001b[38;5;28mself\u001b[39m._last_results = \u001b[38;5;28;01mNone\u001b[39;00m\n\u001b[32m    393\u001b[39m \u001b[38;5;28;01mreturn\u001b[39;00m \u001b[38;5;28mself\u001b[39m._compiled_experiment\n",
      "\u001b[36mFile \u001b[39m\u001b[32m~/JSAHN/qubit-experiment/.venv/lib/python3.12/site-packages/laboneq/core/utilities/laboneq_compile.py:33\u001b[39m, in \u001b[36mlaboneq_compile\u001b[39m\u001b[34m(device_setup, experiment, compiler_settings)\u001b[39m\n\u001b[32m     30\u001b[39m signal_mapping = convert_signal_map(experiment)\n\u001b[32m     32\u001b[39m payload_builder = PayloadBuilder()\n\u001b[32m---> \u001b[39m\u001b[32m33\u001b[39m payload = \u001b[43mpayload_builder\u001b[49m\u001b[43m.\u001b[49m\u001b[43mbuild_payload\u001b[49m\u001b[43m(\u001b[49m\n\u001b[32m     34\u001b[39m \u001b[43m    \u001b[49m\u001b[43mnew_setup\u001b[49m\u001b[43m,\u001b[49m\n\u001b[32m     35\u001b[39m \u001b[43m    \u001b[49m\u001b[43mnew_experiment\u001b[49m\u001b[43m,\u001b[49m\n\u001b[32m     36\u001b[39m \u001b[43m    \u001b[49m\u001b[43msignal_mapping\u001b[49m\u001b[43m,\u001b[49m\n\u001b[32m     37\u001b[39m \u001b[43m    \u001b[49m\u001b[43mcompiler_settings\u001b[49m\u001b[43m,\u001b[49m\n\u001b[32m     38\u001b[39m \u001b[43m\u001b[49m\u001b[43m)\u001b[49m\n\u001b[32m     40\u001b[39m compiled_experiment = CompiledExperiment(\n\u001b[32m     41\u001b[39m     device_setup=device_setup,\n\u001b[32m     42\u001b[39m     experiment=experiment,\n\u001b[32m   (...)\u001b[39m\u001b[32m     45\u001b[39m     scheduled_experiment=payload.scheduled_experiment,\n\u001b[32m     46\u001b[39m )\n\u001b[32m     47\u001b[39m \u001b[38;5;28;01mreturn\u001b[39;00m compiled_experiment\n",
      "\u001b[36mFile \u001b[39m\u001b[32m~/JSAHN/qubit-experiment/.venv/lib/python3.12/site-packages/laboneq/implementation/payload_builder/payload_builder.py:42\u001b[39m, in \u001b[36mPayloadBuilder.build_payload\u001b[39m\u001b[34m(self, device_setup, experiment, signal_mappings, compiler_settings)\u001b[39m\n\u001b[32m     32\u001b[39m \u001b[38;5;28;01mdef\u001b[39;00m\u001b[38;5;250m \u001b[39m\u001b[34mbuild_payload\u001b[39m(\n\u001b[32m     33\u001b[39m     \u001b[38;5;28mself\u001b[39m,\n\u001b[32m     34\u001b[39m     device_setup: Setup,\n\u001b[32m   (...)\u001b[39m\u001b[32m     37\u001b[39m     compiler_settings: \u001b[38;5;28mdict\u001b[39m | \u001b[38;5;28;01mNone\u001b[39;00m = \u001b[38;5;28;01mNone\u001b[39;00m,\n\u001b[32m     38\u001b[39m ) -> ExecutionPayload:\n\u001b[32m     39\u001b[39m \u001b[38;5;250m    \u001b[39m\u001b[33;03m\"\"\"\u001b[39;00m\n\u001b[32m     40\u001b[39m \u001b[33;03m    Compose an experiment from a setup descriptor and an experiment descriptor.\u001b[39;00m\n\u001b[32m     41\u001b[39m \u001b[33;03m    \"\"\"\u001b[39;00m\n\u001b[32m---> \u001b[39m\u001b[32m42\u001b[39m     job = \u001b[38;5;28;43mself\u001b[39;49m\u001b[43m.\u001b[49m\u001b[43mcreate_compilation_job\u001b[49m\u001b[43m(\u001b[49m\n\u001b[32m     43\u001b[39m \u001b[43m        \u001b[49m\u001b[43mdevice_setup\u001b[49m\u001b[43m,\u001b[49m\u001b[43m \u001b[49m\u001b[43mexperiment\u001b[49m\u001b[43m,\u001b[49m\u001b[43m \u001b[49m\u001b[43msignal_mappings\u001b[49m\u001b[43m,\u001b[49m\u001b[43m \u001b[49m\u001b[43mcompiler_settings\u001b[49m\n\u001b[32m     44\u001b[39m \u001b[43m    \u001b[49m\u001b[43m)\u001b[49m\n\u001b[32m     45\u001b[39m     scheduled_experiment = _compile(job)\n\u001b[32m     46\u001b[39m     target_setup = TargetSetupGenerator.from_setup(device_setup)\n",
      "\u001b[36mFile \u001b[39m\u001b[32m~/JSAHN/qubit-experiment/.venv/lib/python3.12/site-packages/laboneq/implementation/payload_builder/payload_builder.py:75\u001b[39m, in \u001b[36mPayloadBuilder.create_compilation_job\u001b[39m\u001b[34m(self, device_setup, experiment, signal_mappings, compiler_settings)\u001b[39m\n\u001b[32m     68\u001b[39m \u001b[38;5;28;01mdef\u001b[39;00m\u001b[38;5;250m \u001b[39m\u001b[34mcreate_compilation_job\u001b[39m(\n\u001b[32m     69\u001b[39m     \u001b[38;5;28mself\u001b[39m,\n\u001b[32m     70\u001b[39m     device_setup: Setup,\n\u001b[32m   (...)\u001b[39m\u001b[32m     73\u001b[39m     compiler_settings: \u001b[38;5;28mdict\u001b[39m | \u001b[38;5;28;01mNone\u001b[39;00m = \u001b[38;5;28;01mNone\u001b[39;00m,\n\u001b[32m     74\u001b[39m ):\n\u001b[32m---> \u001b[39m\u001b[32m75\u001b[39m     experiment_info = \u001b[38;5;28;43mself\u001b[39;49m\u001b[43m.\u001b[49m\u001b[43m_extract_experiment_info\u001b[49m\u001b[43m(\u001b[49m\n\u001b[32m     76\u001b[39m \u001b[43m        \u001b[49m\u001b[43mexperiment\u001b[49m\u001b[43m,\u001b[49m\u001b[43m \u001b[49m\u001b[43mdevice_setup\u001b[49m\u001b[43m,\u001b[49m\u001b[43m \u001b[49m\u001b[43msignal_mappings\u001b[49m\n\u001b[32m     77\u001b[39m \u001b[43m    \u001b[49m\u001b[43m)\u001b[49m\n\u001b[32m     78\u001b[39m     execution = ExecutionFactoryFromExperiment().make(experiment)\n\u001b[32m     79\u001b[39m     job = CompilationJob(\n\u001b[32m     80\u001b[39m         experiment_info=experiment_info,\n\u001b[32m     81\u001b[39m         execution=execution,\n\u001b[32m     82\u001b[39m         compiler_settings=compiler_settings,\n\u001b[32m     83\u001b[39m     )\n",
      "\u001b[36mFile \u001b[39m\u001b[32m~/JSAHN/qubit-experiment/.venv/lib/python3.12/site-packages/laboneq/implementation/payload_builder/payload_builder.py:66\u001b[39m, in \u001b[36mPayloadBuilder._extract_experiment_info\u001b[39m\u001b[34m(cls, exp, setup, signal_mappings)\u001b[39m\n\u001b[32m     58\u001b[39m \u001b[38;5;129m@classmethod\u001b[39m\n\u001b[32m     59\u001b[39m \u001b[38;5;28;01mdef\u001b[39;00m\u001b[38;5;250m \u001b[39m\u001b[34m_extract_experiment_info\u001b[39m(\n\u001b[32m     60\u001b[39m     \u001b[38;5;28mcls\u001b[39m,\n\u001b[32m   (...)\u001b[39m\u001b[32m     63\u001b[39m     signal_mappings: \u001b[38;5;28mdict\u001b[39m[\u001b[38;5;28mstr\u001b[39m, \u001b[38;5;28mstr\u001b[39m],\n\u001b[32m     64\u001b[39m ) -> ExperimentInfo:\n\u001b[32m     65\u001b[39m     builder = ExperimentInfoBuilder(exp, setup, signal_mappings)\n\u001b[32m---> \u001b[39m\u001b[32m66\u001b[39m     \u001b[38;5;28;01mreturn\u001b[39;00m \u001b[43mbuilder\u001b[49m\u001b[43m.\u001b[49m\u001b[43mload_experiment\u001b[49m\u001b[43m(\u001b[49m\u001b[43m)\u001b[49m\n",
      "\u001b[36mFile \u001b[39m\u001b[32m~/JSAHN/qubit-experiment/.venv/lib/python3.12/site-packages/laboneq/implementation/payload_builder/experiment_info_builder/experiment_info_builder.py:113\u001b[39m, in \u001b[36mExperimentInfoBuilder.load_experiment\u001b[39m\u001b[34m(self)\u001b[39m\n\u001b[32m    112\u001b[39m \u001b[38;5;28;01mdef\u001b[39;00m\u001b[38;5;250m \u001b[39m\u001b[34mload_experiment\u001b[39m(\u001b[38;5;28mself\u001b[39m) -> ExperimentInfo:\n\u001b[32m--> \u001b[39m\u001b[32m113\u001b[39m     \u001b[38;5;28;43mself\u001b[39;49m\u001b[43m.\u001b[49m\u001b[43m_check_physical_channel_calibration_conflict\u001b[49m\u001b[43m(\u001b[49m\u001b[43m)\u001b[49m\n\u001b[32m    114\u001b[39m     \u001b[38;5;28;01mfor\u001b[39;00m signal \u001b[38;5;129;01min\u001b[39;00m \u001b[38;5;28mself\u001b[39m._experiment.signals:\n\u001b[32m    115\u001b[39m         \u001b[38;5;28mself\u001b[39m._load_signal(signal)\n",
      "\u001b[36mFile \u001b[39m\u001b[32m~/JSAHN/qubit-experiment/.venv/lib/python3.12/site-packages/laboneq/implementation/payload_builder/experiment_info_builder/experiment_info_builder.py:175\u001b[39m, in \u001b[36mExperimentInfoBuilder._check_physical_channel_calibration_conflict\u001b[39m\u001b[34m(self)\u001b[39m\n\u001b[32m    171\u001b[39m     \u001b[38;5;28;01mexcept\u001b[39;00m \u001b[38;5;167;01mKeyError\u001b[39;00m \u001b[38;5;28;01mas\u001b[39;00m e:\n\u001b[32m    172\u001b[39m         \u001b[38;5;28;01mraise\u001b[39;00m LabOneQException(\n\u001b[32m    173\u001b[39m             \u001b[33mf\u001b[39m\u001b[33m\"\u001b[39m\u001b[33mExperiment signal \u001b[39m\u001b[33m'\u001b[39m\u001b[38;5;132;01m{\u001b[39;00msignal.uid\u001b[38;5;132;01m}\u001b[39;00m\u001b[33m'\u001b[39m\u001b[33m has no mapping to a logical signal.\u001b[39m\u001b[33m\"\u001b[39m\n\u001b[32m    174\u001b[39m         ) \u001b[38;5;28;01mfrom\u001b[39;00m\u001b[38;5;250m \u001b[39m\u001b[34;01me\u001b[39;00m\n\u001b[32m--> \u001b[39m\u001b[32m175\u001b[39m     pc = \u001b[38;5;28;43mself\u001b[39;49m\u001b[43m.\u001b[49m\u001b[43m_setup_helper\u001b[49m\u001b[43m.\u001b[49m\u001b[43minstruments\u001b[49m\u001b[43m.\u001b[49m\u001b[43mphysical_channel_by_logical_signal\u001b[49m\u001b[43m(\u001b[49m\n\u001b[32m    176\u001b[39m \u001b[43m        \u001b[49m\u001b[43mmapped_ls_path\u001b[49m\n\u001b[32m    177\u001b[39m \u001b[43m    \u001b[49m\u001b[43m)\u001b[49m\n\u001b[32m    178\u001b[39m     exp_signals_by_pc.setdefault((pc.group, pc.name), []).append(signal)\n\u001b[32m    180\u001b[39m \u001b[38;5;66;03m# Merge the calibration of those ExperimentSignals that touch the same\u001b[39;00m\n\u001b[32m    181\u001b[39m \u001b[38;5;66;03m# PhysicalChannel.\u001b[39;00m\n",
      "\u001b[36mFile \u001b[39m\u001b[32m~/JSAHN/qubit-experiment/.venv/lib/python3.12/site-packages/laboneq/data/setup_description/setup_helper.py:45\u001b[39m, in \u001b[36mInstrumentHelper.physical_channel_by_logical_signal\u001b[39m\u001b[34m(self, logical_signal)\u001b[39m\n\u001b[32m     43\u001b[39m                 \u001b[38;5;28mself\u001b[39m._ls_to_pc[logical_signal] = conn.physical_channel\n\u001b[32m     44\u001b[39m                 \u001b[38;5;28;01mreturn\u001b[39;00m \u001b[38;5;28mself\u001b[39m._ls_to_pc[logical_signal]\n\u001b[32m---> \u001b[39m\u001b[32m45\u001b[39m \u001b[38;5;28;01mraise\u001b[39;00m \u001b[38;5;167;01mRuntimeError\u001b[39;00m(\n\u001b[32m     46\u001b[39m     \u001b[33mf\u001b[39m\u001b[33m\"\u001b[39m\u001b[33mCould not find physical channel for logical signal \u001b[39m\u001b[38;5;132;01m{\u001b[39;00mlogical_signal\u001b[38;5;132;01m}\u001b[39;00m\u001b[33m\"\u001b[39m\n\u001b[32m     47\u001b[39m )\n",
      "\u001b[31mRuntimeError\u001b[39m: Could not find physical channel for logical signal LogicalSignal(name='drive_cr', group='q17')"
     ]
    }
   ],
   "source": [
    "from experiments import nondsl_direct_cr_hamiltonian_tomography\n",
    "import numpy as np\n",
    "\n",
    "options = nondsl_direct_cr_hamiltonian_tomography.experiment_workflow.options()\n",
    "options.update(False)\n",
    "\n",
    "hamil_tomo = nondsl_direct_cr_hamiltonian_tomography.experiment_workflow(\n",
    "    session=session,\n",
    "    qpu = qpu,\n",
    "    ctrl = qubits[2],\n",
    "    targ = qubits[3],\n",
    "    amplitudes = [np.array([1.0])] ,\n",
    "    lengths = [np.array([0.0])],\n",
    "    options = options\n",
    "  \n",
    ")\n",
    "\n",
    "hamil_tomo_result = hamil_tomo.run()"
   ]
  },
  {
   "cell_type": "code",
   "execution_count": null,
   "id": "eec7f558",
   "metadata": {},
   "outputs": [],
   "source": [
    "from laboneq_applications.core import validation\n",
    "ctrl = qubits[2]\n",
    "        \n",
    "ctrl, amplitudes = validation.validate_and_convert_qubits_sweeps(qubits=ctrl, sweep_points=np.array([1.0]))\n",
    "amplitudes\n",
    "\n",
    "\n",
    "ctrl[0].calibration"
   ]
  },
  {
   "cell_type": "code",
   "execution_count": null,
   "id": "f7ec1ccd",
   "metadata": {},
   "outputs": [],
   "source": [
    "qubits[2].signals"
   ]
  },
  {
   "cell_type": "code",
   "execution_count": null,
   "id": "bc43d995",
   "metadata": {},
   "outputs": [],
   "source": [
    "aaa.get_calibration()"
   ]
  },
  {
   "cell_type": "markdown",
   "id": "2d8d7121",
   "metadata": {},
   "source": [
    "# Save Qubit Parameters"
   ]
  },
  {
   "cell_type": "code",
   "execution_count": null,
   "id": "73d4ef18",
   "metadata": {},
   "outputs": [],
   "source": [
    "# from krisszi_core.contrib.jsahn.helper import load_qubit_parameters, save_qubit_parameters\n",
    "# save_qubit_parameters(qubits={ qubit.uid : qubit for qubit in qubits}, save_folder=\"./qubit_parameters\", filename=\"sleep\")"
   ]
  },
  {
   "cell_type": "code",
   "execution_count": null,
   "id": "926515fa",
   "metadata": {},
   "outputs": [],
   "source": []
  }
 ],
 "metadata": {
  "kernelspec": {
   "display_name": ".venv (3.12.9)",
   "language": "python",
   "name": "python3"
  },
  "language_info": {
   "codemirror_mode": {
    "name": "ipython",
    "version": 3
   },
   "file_extension": ".py",
   "mimetype": "text/x-python",
   "name": "python",
   "nbconvert_exporter": "python",
   "pygments_lexer": "ipython3",
   "version": "3.12.9"
  }
 },
 "nbformat": 4,
 "nbformat_minor": 5
}
