{
 "cells": [
  {
   "cell_type": "markdown",
   "id": "4cb307a0",
   "metadata": {},
   "source": [
    "# Applications library + krisszi-core\n",
    "\n",
    "matplotlib  3.10.3 -> 3.9.4\n",
    "\n",
    "device_setup 부분 현재 config/ 안에 laboneq.serializer 이용하여 device_setup.json & instruments.json 형태로 저장 (backend.setup_builder.add_instruments & backend.setup_builder.save_device_setup)  "
   ]
  },
  {
   "cell_type": "code",
   "execution_count": 1,
   "id": "2cc1bf8e",
   "metadata": {},
   "outputs": [],
   "source": [
    "%load_ext autoreload\n",
    "%autoreload 2\n",
    "\n",
    "from krisszi_core.config.qbackend import QuantumBackend\n",
    "from krisszi_core.contrib.chip_template.GINQO_1a import qpu_chip\n",
    "import numpy as np\n",
    "from krisszi_core.handler.result_handler import ResultsHandler\n",
    "from krisszi_core.dsl.options import RunOptions, SaveOptions, AnalysisOptions\n",
    "import matplotlib.pyplot as plt\n",
    "from laboneq.simple import AcquisitionType, AveragingMode\n",
    "import logging\n",
    "\n",
    "\n",
    "\n",
    "%matplotlib inline\n",
    "# %matplotlib qt5\n",
    "\n",
    "from laboneq.contrib.example_helpers.plotting.plot_helpers import *\n",
    "from laboneq.simple import *\n"
   ]
  },
  {
   "cell_type": "code",
   "execution_count": 2,
   "id": "f6134612",
   "metadata": {},
   "outputs": [
    {
     "name": "stdout",
     "output_type": "stream",
     "text": [
      "[2025.07.29 19:34:47.725] INFO    Logging initialized from [Default inline config in laboneq.laboneq_logging] logdir is c:\\Users\\KRISS\\Documents\\KAIST\\krisszi-core\\src\\krisszi_core\\contrib\\jsahn\\laboneq_output\\log\n",
      "[2025.07.29 19:34:47.902] INFO    VERSION: laboneq 2.56.0\n",
      "[2025.07.29 19:34:47.903] INFO    Connecting to data server at 10.172.11.217:8004\n",
      "[2025.07.29 19:34:47.912] INFO    Connected to Zurich Instruments LabOne Data Server version 25.04.1.17 at 10.172.11.217:8004\n",
      "[2025.07.29 19:34:47.940] INFO    Configuring the device setup\n",
      "[2025.07.29 19:34:47.949] INFO    The device setup is configured\n"
     ]
    },
    {
     "data": {
      "text/html": [
       "<div>\n",
       "<style scoped>\n",
       "    .dataframe tbody tr th:only-of-type {\n",
       "        vertical-align: middle;\n",
       "    }\n",
       "\n",
       "    .dataframe tbody tr th {\n",
       "        vertical-align: top;\n",
       "    }\n",
       "\n",
       "    .dataframe thead th {\n",
       "        text-align: right;\n",
       "    }\n",
       "</style>\n",
       "<table border=\"1\" class=\"dataframe\">\n",
       "  <thead>\n",
       "    <tr style=\"text-align: right;\">\n",
       "      <th></th>\n",
       "      <th>fr [GHz]</th>\n",
       "      <th>f01 [GHz]</th>\n",
       "      <th>Δ [GHz]</th>\n",
       "      <th>f12 [GHz]</th>\n",
       "      <th>α [MHz]</th>\n",
       "      <th>χ [MHz]</th>\n",
       "      <th>κ [kHz]</th>\n",
       "      <th>g [MHz]</th>\n",
       "      <th>T2* [μs]</th>\n",
       "      <th>ε10 [%]</th>\n",
       "      <th>ε01 [%]</th>\n",
       "      <th>F_RO [%]</th>\n",
       "      <th>T1 [μs]</th>\n",
       "      <th>T2 [μs]</th>\n",
       "    </tr>\n",
       "  </thead>\n",
       "  <tbody>\n",
       "    <tr>\n",
       "      <th>15</th>\n",
       "      <td>7.07649</td>\n",
       "      <td>4.82658</td>\n",
       "      <td>2.24991</td>\n",
       "      <td>5.27342</td>\n",
       "      <td>-446.8</td>\n",
       "      <td>0.00</td>\n",
       "      <td>987.0</td>\n",
       "      <td>3.2</td>\n",
       "      <td>23.3</td>\n",
       "      <td>23.02</td>\n",
       "      <td>23.17</td>\n",
       "      <td>76.91</td>\n",
       "      <td>NaN</td>\n",
       "      <td>NaN</td>\n",
       "    </tr>\n",
       "    <tr>\n",
       "      <th>16</th>\n",
       "      <td>6.99757</td>\n",
       "      <td>4.80218</td>\n",
       "      <td>2.19538</td>\n",
       "      <td>4.51255</td>\n",
       "      <td>289.6</td>\n",
       "      <td>0.01</td>\n",
       "      <td>908.0</td>\n",
       "      <td>4.9</td>\n",
       "      <td>9.7</td>\n",
       "      <td>25.66</td>\n",
       "      <td>39.75</td>\n",
       "      <td>67.29</td>\n",
       "      <td>29.2</td>\n",
       "      <td>NaN</td>\n",
       "    </tr>\n",
       "    <tr>\n",
       "      <th>17</th>\n",
       "      <td>6.92253</td>\n",
       "      <td>4.71608</td>\n",
       "      <td>2.20645</td>\n",
       "      <td>4.43792</td>\n",
       "      <td>278.2</td>\n",
       "      <td>0.82</td>\n",
       "      <td>1126.0</td>\n",
       "      <td>42.5</td>\n",
       "      <td>17.0</td>\n",
       "      <td>2.95</td>\n",
       "      <td>6.54</td>\n",
       "      <td>95.25</td>\n",
       "      <td>31.4</td>\n",
       "      <td>32.4</td>\n",
       "    </tr>\n",
       "    <tr>\n",
       "      <th>18</th>\n",
       "      <td>6.84328</td>\n",
       "      <td>4.66525</td>\n",
       "      <td>2.17803</td>\n",
       "      <td>4.37635</td>\n",
       "      <td>288.9</td>\n",
       "      <td>0.81</td>\n",
       "      <td>986.0</td>\n",
       "      <td>41.9</td>\n",
       "      <td>44.8</td>\n",
       "      <td>3.39</td>\n",
       "      <td>5.25</td>\n",
       "      <td>95.68</td>\n",
       "      <td>47.7</td>\n",
       "      <td>65.4</td>\n",
       "    </tr>\n",
       "    <tr>\n",
       "      <th>19</th>\n",
       "      <td>6.77385</td>\n",
       "      <td>4.77902</td>\n",
       "      <td>1.99484</td>\n",
       "      <td>4.48273</td>\n",
       "      <td>296.3</td>\n",
       "      <td>0.01</td>\n",
       "      <td>536.0</td>\n",
       "      <td>3.7</td>\n",
       "      <td>19.9</td>\n",
       "      <td>10.13</td>\n",
       "      <td>8.01</td>\n",
       "      <td>90.93</td>\n",
       "      <td>28.0</td>\n",
       "      <td>47.4</td>\n",
       "    </tr>\n",
       "  </tbody>\n",
       "</table>\n",
       "</div>"
      ],
      "text/plain": [
       "    fr [GHz]  f01 [GHz]  Δ [GHz]  f12 [GHz]  α [MHz]  χ [MHz]  κ [kHz]  \\\n",
       "15   7.07649    4.82658  2.24991    5.27342   -446.8     0.00    987.0   \n",
       "16   6.99757    4.80218  2.19538    4.51255    289.6     0.01    908.0   \n",
       "17   6.92253    4.71608  2.20645    4.43792    278.2     0.82   1126.0   \n",
       "18   6.84328    4.66525  2.17803    4.37635    288.9     0.81    986.0   \n",
       "19   6.77385    4.77902  1.99484    4.48273    296.3     0.01    536.0   \n",
       "\n",
       "    g [MHz]  T2* [μs]  ε10 [%]  ε01 [%]  F_RO [%]  T1 [μs]  T2 [μs]  \n",
       "15      3.2      23.3    23.02    23.17     76.91      NaN      NaN  \n",
       "16      4.9       9.7    25.66    39.75     67.29     29.2      NaN  \n",
       "17     42.5      17.0     2.95     6.54     95.25     31.4     32.4  \n",
       "18     41.9      44.8     3.39     5.25     95.68     47.7     65.4  \n",
       "19      3.7      19.9    10.13     8.01     90.93     28.0     47.4  "
      ]
     },
     "execution_count": 2,
     "metadata": {},
     "output_type": "execute_result"
    }
   ],
   "source": [
    "qpu_chip.active_list = [3]\n",
    "parent_path = r\"C:\\Users\\KRISS\\Documents\\KAIST\"\n",
    "# backend = QuantumBackend(\n",
    "#     \"2QPU_BF7\",\n",
    "#     qpu_chip,\n",
    "#     parent_path,\n",
    "#     host=\"10.172.11.217\",\n",
    "#     port = \"8004\",\n",
    "# )\n",
    "\n",
    "backend = QuantumBackend(\n",
    "    \"2QPU_BF7\",\n",
    "    qpu_chip,\n",
    "    parent_path,\n",
    "    host=\"10.172.11.217\",\n",
    "    port = \"8004\"\n",
    ")\n",
    "backend.setup_builder.clear()\n",
    "backend.setup_builder.add_instrument(\n",
    "    3, \"SHFQC\", \"DEV12576\", 3, dev_option=\"/PLUS/QC6CH\"\n",
    ")\n",
    "# backend.setup_builder.add_instrument(\n",
    "#     1, \"SHFQC\", \"DEV12566\", 1, dev_option=\"/PLUS/QC6CH\"\n",
    "# )\n",
    "backend.setup_builder.save_device_setup() #device_setup 없으면 알아서 build 이후 json으로 save\n",
    "backend.session.disconnect()\n",
    "backend.connect(False, log_level=logging.INFO)\n",
    "\n",
    "\n",
    "backend.qpu.to_dataframe(level=1)"
   ]
  },
  {
   "cell_type": "markdown",
   "id": "97427ea1",
   "metadata": {},
   "source": [
    "실험할때 session = Session(setup) 이런식으로 calibration 넣는 부분"
   ]
  },
  {
   "cell_type": "code",
   "execution_count": null,
   "id": "3eea0bc7",
   "metadata": {},
   "outputs": [],
   "source": [
    "#backend.session\n",
    "setup = backend.setup_builder.device_setup \n",
    "print(setup.check_no_rf_multiplexing)\n",
    "from laboneq.serializers import load\n",
    "setup2 = load('c:/Users/KRISS/Documents/KAIST/qc_backend/2QPU_BF7/config/device_setup.json')"
   ]
  },
  {
   "cell_type": "code",
   "execution_count": null,
   "id": "e3098db9",
   "metadata": {},
   "outputs": [],
   "source": [
    "setup.instruments"
   ]
  },
  {
   "cell_type": "code",
   "execution_count": null,
   "id": "5b3f501a",
   "metadata": {},
   "outputs": [],
   "source": [
    "def get_physical_signal_name(quid, signal_name):\n",
    "    logical_signal = setup.logical_signal_groups[quid].logical_signals[signal_name]\n",
    "    return logical_signal.physical_channel.uid\n",
    "\n",
    "\n",
    "qubit_signals = {\n",
    "    quid: list(lsg.logical_signals) for quid, lsg in setup.logical_signal_groups.items()\n",
    "}\n",
    "connections = {\n",
    "    quid: {sig_name: get_physical_signal_name(quid, sig_name) for sig_name in signals}\n",
    "    for quid, signals in qubit_signals.items()\n",
    "}\n",
    "\n",
    "from pprint import pprint\n",
    "\n",
    "pprint(connections)  # noqa: T203"
   ]
  },
  {
   "cell_type": "code",
   "execution_count": null,
   "id": "674f1557",
   "metadata": {},
   "outputs": [],
   "source": [
    "qubit_signals2 = {\n",
    "    quid: list(lsg.logical_signals) for quid, lsg in setup2.logical_signal_groups.items()\n",
    "}\n",
    "connections2 = {\n",
    "    quid: {sig_name: get_physical_signal_name(quid, sig_name) for sig_name in signals}\n",
    "    for quid, signals in qubit_signals2.items()\n",
    "}\n",
    "\n",
    "pprint(connections)  # noqa: T203"
   ]
  },
  {
   "cell_type": "code",
   "execution_count": null,
   "id": "83b8623c",
   "metadata": {},
   "outputs": [],
   "source": [
    "setup.logical_signal_groups['q17']"
   ]
  },
  {
   "cell_type": "markdown",
   "id": "1f803133",
   "metadata": {},
   "source": [
    "Do we need another LogicalSignal just for cr drive? can't it be just 'drive'?\n",
    "\n"
   ]
  },
  {
   "cell_type": "code",
   "execution_count": null,
   "id": "ccb7dbd6",
   "metadata": {},
   "outputs": [],
   "source": [
    "from pathlib import Path\n",
    "Path.cwd()"
   ]
  },
  {
   "cell_type": "code",
   "execution_count": null,
   "id": "9f7df5b9",
   "metadata": {},
   "outputs": [],
   "source": [
    "import numpy as np\n",
    "from laboneq.core.exceptions import LabOneQException\n",
    "from laboneq.simple import *\n",
    "from laboneq.dsl.quantum.qpu import QPU, QuantumPlatform\n",
    "from laboneq.dsl.quantum.qpu import QuantumElement\n",
    "\n",
    "from krisszi_core.contrib.jsahn.operations import TransmonOperations\n",
    "from krisszi_core.contrib.jsahn.helper import load_qubit_parameters\n",
    "\n",
    "\n",
    "\n",
    "\n",
    "\n",
    "loaded_qparams = load_qubit_parameters(filename=\"latest\") #dict with quid as key and TransmonQubit object as value\n",
    "qubits = list(loaded_qparams.values())\n",
    "\n",
    "quantum_operations = TransmonOperations()\n",
    "qpu = QPU(quantum_elements=qubits, quantum_operations=quantum_operations)\n",
    "\n",
    "\n",
    "# Create a demonstration QuantumPlatform for a transmon QPU:\n",
    "\n",
    "quantum_platform = QuantumPlatform(setup=setup, qpu=qpu) "
   ]
  },
  {
   "cell_type": "code",
   "execution_count": null,
   "id": "9b222da8",
   "metadata": {},
   "outputs": [],
   "source": [
    "quantum_platform.setup"
   ]
  },
  {
   "cell_type": "code",
   "execution_count": null,
   "id": "9b86d7b7",
   "metadata": {},
   "outputs": [],
   "source": [
    "from laboneq_applications.experiments import ramsey "
   ]
  },
  {
   "cell_type": "code",
   "execution_count": null,
   "id": "7cfd2f14",
   "metadata": {},
   "outputs": [],
   "source": []
  },
  {
   "cell_type": "code",
   "execution_count": null,
   "id": "1f54068e",
   "metadata": {},
   "outputs": [],
   "source": []
  },
  {
   "cell_type": "code",
   "execution_count": null,
   "id": "30459837",
   "metadata": {},
   "outputs": [],
   "source": []
  },
  {
   "cell_type": "code",
   "execution_count": null,
   "id": "78358a94",
   "metadata": {},
   "outputs": [],
   "source": []
  },
  {
   "cell_type": "code",
   "execution_count": null,
   "id": "2b87e294",
   "metadata": {},
   "outputs": [],
   "source": []
  },
  {
   "cell_type": "code",
   "execution_count": null,
   "id": "40a171d7",
   "metadata": {},
   "outputs": [],
   "source": []
  },
  {
   "cell_type": "code",
   "execution_count": null,
   "id": "2a047c49",
   "metadata": {},
   "outputs": [],
   "source": []
  },
  {
   "cell_type": "code",
   "execution_count": null,
   "id": "b57980c2",
   "metadata": {},
   "outputs": [],
   "source": []
  },
  {
   "cell_type": "code",
   "execution_count": null,
   "id": "45d42d8c",
   "metadata": {},
   "outputs": [],
   "source": []
  },
  {
   "cell_type": "code",
   "execution_count": null,
   "id": "7f7d3f0b",
   "metadata": {},
   "outputs": [],
   "source": []
  },
  {
   "cell_type": "code",
   "execution_count": null,
   "id": "c28e7db9",
   "metadata": {},
   "outputs": [],
   "source": []
  },
  {
   "cell_type": "code",
   "execution_count": null,
   "id": "052ece87",
   "metadata": {},
   "outputs": [],
   "source": []
  }
 ],
 "metadata": {
  "kernelspec": {
   "display_name": "applications",
   "language": "python",
   "name": "python3"
  },
  "language_info": {
   "codemirror_mode": {
    "name": "ipython",
    "version": 3
   },
   "file_extension": ".py",
   "mimetype": "text/x-python",
   "name": "python",
   "nbconvert_exporter": "python",
   "pygments_lexer": "ipython3",
   "version": "3.12.5"
  }
 },
 "nbformat": 4,
 "nbformat_minor": 5
}
