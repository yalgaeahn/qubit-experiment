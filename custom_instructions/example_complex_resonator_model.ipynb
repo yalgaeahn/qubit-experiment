{
  "cells": [
    {
      "cell_type": "markdown",
      "metadata": {},
      "source": [
        "\n",
        "# Complex Resonator Model\n",
        "\n",
        "This notebook shows how to fit the parameters of a complex resonator,\n",
        "using `lmfit.Model` and defining a custom `Model` class.\n",
        "\n",
        "Following Khalil et al. (https://arxiv.org/abs/1108.3117), we can model the\n",
        "forward transmission of a microwave resonator with total quality factor\n",
        "$Q$, coupling quality factor $Q_e$, and resonant frequency\n",
        "$f_0$ using:\n",
        "\n",
        "\\begin{align}S_{21}(f) = 1 - \\frac{Q Q_e^{-1}}{1+2jQ(f-f_0)/f_0}\\end{align}\n",
        "\n",
        "$S_{21}$ is thus a complex function of a real frequency.\n",
        "\n",
        "By allowing $Q_e$ to be complex, this model can take into account\n",
        "mismatches in the input and output transmission impedances.\n"
      ]
    },
    {
      "cell_type": "code",
      "execution_count": 1,
      "metadata": {
        "collapsed": false
      },
      "outputs": [
        {
          "ename": "ModuleNotFoundError",
          "evalue": "No module named 'matplotlib'",
          "output_type": "error",
          "traceback": [
            "\u001b[31m---------------------------------------------------------------------------\u001b[39m",
            "\u001b[31mModuleNotFoundError\u001b[39m                       Traceback (most recent call last)",
            "\u001b[36mCell\u001b[39m\u001b[36m \u001b[39m\u001b[32mIn[1]\u001b[39m\u001b[32m, line 1\u001b[39m\n\u001b[32m----> \u001b[39m\u001b[32m1\u001b[39m \u001b[38;5;28;01mimport\u001b[39;00m\u001b[38;5;250m \u001b[39m\u001b[34;01mmatplotlib\u001b[39;00m\u001b[34;01m.\u001b[39;00m\u001b[34;01mpyplot\u001b[39;00m\u001b[38;5;250m \u001b[39m\u001b[38;5;28;01mas\u001b[39;00m\u001b[38;5;250m \u001b[39m\u001b[34;01mplt\u001b[39;00m\n\u001b[32m      2\u001b[39m \u001b[38;5;28;01mimport\u001b[39;00m\u001b[38;5;250m \u001b[39m\u001b[34;01mnumpy\u001b[39;00m\u001b[38;5;250m \u001b[39m\u001b[38;5;28;01mas\u001b[39;00m\u001b[38;5;250m \u001b[39m\u001b[34;01mnp\u001b[39;00m\n\u001b[32m      4\u001b[39m \u001b[38;5;28;01mimport\u001b[39;00m\u001b[38;5;250m \u001b[39m\u001b[34;01mlmfit\u001b[39;00m\n",
            "\u001b[31mModuleNotFoundError\u001b[39m: No module named 'matplotlib'"
          ]
        }
      ],
      "source": [
        "import matplotlib.pyplot as plt\n",
        "import numpy as np\n",
        "\n",
        "import lmfit"
      ]
    },
    {
      "cell_type": "markdown",
      "metadata": {},
      "source": [
        "Since ``scipy.optimize`` and ``lmfit`` require real parameters, we represent\n",
        "$Q_e$ as ``Q_e_real + 1j*Q_e_imag``.\n",
        "\n"
      ]
    },
    {
      "cell_type": "code",
      "execution_count": null,
      "metadata": {
        "collapsed": false
      },
      "outputs": [],
      "source": [
        "def linear_resonator(f, f_0, Q, Q_e_real, Q_e_imag):\n",
        "    Q_e = Q_e_real + 1j*Q_e_imag\n",
        "    return 1 - (Q * Q_e**-1 / (1 + 2j * Q * (f - f_0) / f_0))"
      ]
    },
    {
      "cell_type": "markdown",
      "metadata": {},
      "source": [
        "The standard practice of defining a ``lmfit`` model is as follows:\n",
        "\n"
      ]
    },
    {
      "cell_type": "code",
      "execution_count": null,
      "metadata": {
        "collapsed": false
      },
      "outputs": [],
      "source": [
        "class ResonatorModel(lmfit.model.Model):\n",
        "    __doc__ = \"resonator model\" + lmfit.models.COMMON_INIT_DOC\n",
        "\n",
        "    def __init__(self, *args, **kwargs):\n",
        "        # pass in the defining equation so the user doesn't have to later\n",
        "        super().__init__(linear_resonator, *args, **kwargs)\n",
        "\n",
        "        self.set_param_hint('Q', min=0)  # enforce Q is positive\n",
        "\n",
        "    def guess(self, data, f=None, **kwargs):\n",
        "        verbose = kwargs.pop('verbose', None)\n",
        "        if f is None:\n",
        "            return\n",
        "        argmin_s21 = np.abs(data).argmin()\n",
        "        fmin = f.min()\n",
        "        fmax = f.max()\n",
        "        f_0_guess = f[argmin_s21]  # guess that the resonance is the lowest point\n",
        "        Q_min = 0.1 * (f_0_guess/(fmax-fmin))  # assume the user isn't trying to fit just a small part of a resonance curve\n",
        "        delta_f = np.diff(f)  # assume f is sorted\n",
        "        min_delta_f = delta_f[delta_f > 0].min()\n",
        "        Q_max = f_0_guess/min_delta_f  # assume data actually samples the resonance reasonably\n",
        "        Q_guess = np.sqrt(Q_min*Q_max)  # geometric mean, why not?\n",
        "        Q_e_real_guess = Q_guess/(1-np.abs(data[argmin_s21]))\n",
        "        if verbose:\n",
        "            print(f\"fmin={fmin}, fmax={fmax}, f_0_guess={f_0_guess}\")\n",
        "            print(f\"Qmin={Q_min}, Q_max={Q_max}, Q_guess={Q_guess}, Q_e_real_guess={Q_e_real_guess}\")\n",
        "        params = self.make_params(Q=Q_guess, Q_e_real=Q_e_real_guess, Q_e_imag=0, f_0=f_0_guess)\n",
        "        params[f'{self.prefix}Q'].set(min=Q_min, max=Q_max)\n",
        "        params[f'{self.prefix}f_0'].set(min=fmin, max=fmax)\n",
        "        return lmfit.models.update_param_vals(params, self.prefix, **kwargs)"
      ]
    },
    {
      "cell_type": "markdown",
      "metadata": {},
      "source": [
        "Now let's use the model to generate some fake data:\n",
        "\n"
      ]
    },
    {
      "cell_type": "code",
      "execution_count": null,
      "metadata": {
        "collapsed": false
      },
      "outputs": [],
      "source": [
        "resonator = ResonatorModel()\n",
        "true_params = resonator.make_params(f_0=100, Q=10000, Q_e_real=9000, Q_e_imag=-9000)\n",
        "\n",
        "f = np.linspace(99.95, 100.05, 100)\n",
        "true_s21 = resonator.eval(params=true_params, f=f)\n",
        "noise_scale = 0.02\n",
        "np.random.seed(123)\n",
        "measured_s21 = true_s21 + noise_scale*(np.random.randn(100) + 1j*np.random.randn(100))\n",
        "\n",
        "plt.plot(f, 20*np.log10(np.abs(measured_s21)))\n",
        "plt.ylabel('|S21| (dB)')\n",
        "plt.xlabel('MHz')\n",
        "plt.title('simulated measurement')"
      ]
    },
    {
      "cell_type": "markdown",
      "metadata": {},
      "source": [
        "Try out the ``guess`` method we added:\n",
        "\n"
      ]
    },
    {
      "cell_type": "code",
      "execution_count": null,
      "metadata": {
        "collapsed": false
      },
      "outputs": [],
      "source": [
        "guess = resonator.guess(measured_s21, f=f, verbose=True)"
      ]
    },
    {
      "cell_type": "markdown",
      "metadata": {},
      "source": [
        "And now fit the data using the ``guess``-ed values as a starting point:\n",
        "\n"
      ]
    },
    {
      "cell_type": "code",
      "execution_count": null,
      "metadata": {
        "collapsed": false
      },
      "outputs": [],
      "source": [
        "result = resonator.fit(measured_s21, params=guess, f=f, verbose=True)\n",
        "\n",
        "print(result.fit_report() + '\\n')\n",
        "result.params.pretty_print()"
      ]
    },
    {
      "cell_type": "markdown",
      "metadata": {},
      "source": [
        "Now we'll make some plots of the data and fit. Define a convenience function\n",
        "for plotting complex quantities:\n",
        "\n"
      ]
    },
    {
      "cell_type": "code",
      "execution_count": null,
      "metadata": {
        "collapsed": false
      },
      "outputs": [],
      "source": [
        "def plot_ri(data, *args, **kwargs):\n",
        "    plt.plot(data.real, data.imag, *args, **kwargs)\n",
        "\n",
        "\n",
        "fit_s21 = resonator.eval(params=result.params, f=f)\n",
        "guess_s21 = resonator.eval(params=guess, f=f)\n",
        "\n",
        "plt.figure()\n",
        "plot_ri(measured_s21, '.')\n",
        "plot_ri(fit_s21, '.-', label='best fit')\n",
        "plot_ri(guess_s21, '--', label='initial fit')\n",
        "plt.legend()\n",
        "plt.xlabel('Re(S21)')\n",
        "plt.ylabel('Im(S21)')\n",
        "\n",
        "plt.figure()\n",
        "plt.plot(f, 20*np.log10(np.abs(measured_s21)), '.')\n",
        "plt.plot(f, 20*np.log10(np.abs(fit_s21)), '.-', label='best fit')\n",
        "plt.plot(f, 20*np.log10(np.abs(guess_s21)), '--', label='initial fit')\n",
        "plt.legend()\n",
        "plt.ylabel('|S21| (dB)')\n",
        "plt.xlabel('MHz')"
      ]
    }
  ],
  "metadata": {
    "kernelspec": {
      "display_name": "Python 3",
      "language": "python",
      "name": "python3"
    },
    "language_info": {
      "codemirror_mode": {
        "name": "ipython",
        "version": 3
      },
      "file_extension": ".py",
      "mimetype": "text/x-python",
      "name": "python",
      "nbconvert_exporter": "python",
      "pygments_lexer": "ipython3",
      "version": "3.12.9"
    }
  },
  "nbformat": 4,
  "nbformat_minor": 0
}
