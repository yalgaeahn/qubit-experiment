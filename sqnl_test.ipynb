{
 "cells": [
  {
   "cell_type": "code",
   "execution_count": 1,
   "id": "e8455fac",
   "metadata": {},
   "outputs": [
    {
     "data": {
      "text/plain": [
       "[\u001b[1;35mSHFQC\u001b[0m\u001b[1m(\u001b[0m\n",
       "\u001b[2;32m│   \u001b[0m\u001b[33muid\u001b[0m=\u001b[32m'kaist_shfqc'\u001b[0m,\n",
       "\u001b[2;32m│   \u001b[0m\u001b[33minterface\u001b[0m=\u001b[32m'1GbE'\u001b[0m,\n",
       "\u001b[2;32m│   \u001b[0m\u001b[33mconnections\u001b[0m=\u001b[1m[\u001b[0m\u001b[1m]\u001b[0m,\n",
       "\u001b[2;32m│   \u001b[0m\u001b[33mserver_uid\u001b[0m=\u001b[32m'kaist_server'\u001b[0m,\n",
       "\u001b[2;32m│   \u001b[0m\u001b[33maddress\u001b[0m=\u001b[32m'DEV12256'\u001b[0m,\n",
       "\u001b[2;32m│   \u001b[0m\u001b[33mdevice_options\u001b[0m=\u001b[32m'SHFQC/PLUS/QC6CH'\u001b[0m,\n",
       "\u001b[2;32m│   \u001b[0m\u001b[33mreference_clock_source\u001b[0m=\u001b[3;35mNone\u001b[0m,\n",
       "\u001b[2;32m│   \u001b[0m\u001b[33mdevice_class\u001b[0m=\u001b[1;36m0\u001b[0m\n",
       "\u001b[1m)\u001b[0m\n",
       "]"
      ]
     },
     "execution_count": 1,
     "metadata": {},
     "output_type": "execute_result"
    }
   ],
   "source": [
    "from laboneq.simple import SHFQC\n",
    "from laboneq.dsl.device import DeviceSetup, create_connection\n",
    "import numpy as np\n",
    "from copy import deepcopy\n",
    "\n",
    "host = \"192.168.0.83\"\n",
    "#instantiate ad device setup object\n",
    "setup = DeviceSetup(uid=\"kaist_setup\")\n",
    "#add a dataserver\n",
    "setup.add_dataserver(host=host, port=\"8004\",uid=\"kaist_server\")\n",
    "\n",
    "setup.add_instruments(SHFQC(uid=\"kaist_shfqc\",server_uid=\"kaist_server\", address=\"DEV12256\", device_options=\"SHFQC/PLUS/QC6CH\"))\n",
    "\n",
    "setup.instruments"
   ]
  },
  {
   "cell_type": "code",
   "execution_count": 2,
   "id": "418418a2",
   "metadata": {},
   "outputs": [],
   "source": [
    "for ch_idx, q_idx in enumerate([1]):# enumerate 안에 len(list) 강제하고싶음\n",
    "    #QA\n",
    "    setup.add_connections(\n",
    "        \"kaist_shfqc\",\n",
    "        create_connection(to_signal=f\"q{q_idx}/measure\", ports=\"QACHANNELS/0/OUTPUT\")) #signal_type=\"iq\"\n",
    "    setup.add_connections(\n",
    "        \"kaist_shfqc\",\n",
    "        create_connection(to_signal=f\"q{q_idx}/acquire\", ports=\"QACHANNELS/0/INPUT\" )) #signal_type=\"acquire\"\n",
    "    #SG\n",
    "    setup.add_connections(\n",
    "        \"kaist_shfqc\",\n",
    "        create_connection(to_signal=f\"q{q_idx}/drive\", ports=f\"SGCHANNELS/{ch_idx}/OUTPUT\")) #signal_type=\"iq\" only iq allowed for SG??\n",
    "    setup.add_connections(\n",
    "        \"kaist_shfqc\",\n",
    "        create_connection(to_signal=f\"q{q_idx}/drive_ef\", ports=f\"SGCHANNELS/{ch_idx}/OUTPUT\")) #signal_type=\"iq\" only iq allowed for SG??\n",
    "    setup.add_connections(\n",
    "        \"kaist_shfqc\",\n",
    "        create_connection(to_signal=f\"q{q_idx}/drive_cr\", ports=f\"SGCHANNELS/{ch_idx}/OUTPUT\"))#signal_type=\"iq\"\n"
   ]
  },
  {
   "cell_type": "code",
   "execution_count": 3,
   "id": "66eefa48",
   "metadata": {},
   "outputs": [],
   "source": [
    "from qpu_types.transmon import TransmonQubit, TransmonQubitParameters\n",
    "from helper import load_qubit_parameters, save_qubit_parameters\n",
    "from operations import TransmonOperations\n",
    "from laboneq.dsl.quantum.qpu import QPU, QuantumPlatform\n",
    "\n",
    "\n",
    "\n",
    "#_loaded_qubits = load_qubit_parameters(filename=\"latest\") \n",
    "qubits = TransmonQubit.from_device_setup(setup) # Also can be done with load_qubit_parameters \n",
    "#qubits = list(_loaded_qubits.values())\n",
    "\n",
    "\n",
    "qpu = QPU(quantum_elements=qubits, quantum_operations=TransmonOperations())\n",
    "#quantum_platform = QuantumPlatform(setup=setup, qpu=qpu)\n",
    "\n",
    "# qpu.topology.add_edge(\"bus\", \"q16\", \"q17\")\n",
    "# qpu.topology.add_edge(\"bus\", \"q17\", \"q18\")\n",
    "# qpu.topology.add_edge(\"bus\", \"q18\", \"q19\")\n",
    "# qpu.topology.plot()\n",
    "\n",
    "\n",
    "\n",
    "\n",
    "from laboneq.simple import workflow\n",
    "folder_store = workflow.logbook.FolderStore(\"./experiment_store\") \n",
    "folder_store.activate()\n",
    "#folder_store.deactivate()\n",
    "workflow.logbook.LoggingStore().activate()\n",
    "#workflow.logbook.LogbookStore().deactivate()\n"
   ]
  },
  {
   "cell_type": "code",
   "execution_count": 4,
   "id": "a881d681",
   "metadata": {},
   "outputs": [
    {
     "name": "stdout",
     "output_type": "stream",
     "text": [
      "[2025.09.02 19:10:37.556] INFO    Logging initialized from [Default inline config in laboneq.laboneq_logging] logdir is /Users/yalgaeahn/JSAHN/qubit-experiment/laboneq_output/log\n",
      "[2025.09.02 19:10:37.558] INFO    VERSION: laboneq 2.58.0\n",
      "[2025.09.02 19:10:37.559] INFO    Connecting to data server at 192.168.0.83:8004\n",
      "[2025.09.02 19:10:37.599] INFO    Connected to Zurich Instruments LabOne Data Server version 25.07.0.507 at 192.168.0.83:8004\n",
      "[2025.09.02 19:10:37.647] INFO    Configuring the device setup\n",
      "[2025.09.02 19:10:37.677] INFO    The device setup is configured\n"
     ]
    },
    {
     "data": {
      "text/plain": [
       "<laboneq.dsl.session.ConnectionState at 0x129033650>"
      ]
     },
     "execution_count": 4,
     "metadata": {},
     "output_type": "execute_result"
    }
   ],
   "source": [
    "from laboneq.simple import Session\n",
    "session = Session(setup)\n",
    "session.connect(ignore_version_mismatch=True)\n",
    "#session.disconnect()"
   ]
  },
  {
   "cell_type": "code",
   "execution_count": 43,
   "id": "e77659fc",
   "metadata": {},
   "outputs": [],
   "source": [
    "qubits[0].parameters.readout_range_out = -5\n",
    "qubits[0].parameters.readout_amplitude = 0.4"
   ]
  },
  {
   "cell_type": "code",
   "execution_count": 44,
   "id": "04c3e96d",
   "metadata": {},
   "outputs": [
    {
     "name": "stdout",
     "output_type": "stream",
     "text": [
      "[2025.09.02 19:32:55.699] INFO    \u001b[1m ────────────────────────────────────────────────────────────────────────────── \u001b[0m\n",
      "[2025.09.02 19:32:55.700] INFO    \u001b[1m \u001b[0m\u001b[1m \u001b[0m\u001b[1mWorkflow 'resonator_spectroscopy': execution started at 2025-09-02 \u001b[0m\u001b[1m         \u001b[0m\u001b[1m \u001b[0m\u001b[1m \u001b[0m\n",
      "[2025.09.02 19:32:55.700] INFO    \u001b[1m \u001b[0m\u001b[1m \u001b[0m\u001b[1m10:32:55.699548Z\u001b[0m\u001b[1m                                                            \u001b[0m\u001b[1m \u001b[0m\u001b[1m \u001b[0m\n",
      "[2025.09.02 19:32:55.701] INFO    \u001b[1m ────────────────────────────────────────────────────────────────────────────── \u001b[0m\n",
      "[2025.09.02 19:32:55.716] INFO    \u001b[1mTask 'temporary_qpu': started at 2025-09-02 10:32:55.714849Z\u001b[0m\n",
      "[2025.09.02 19:32:55.717] INFO    \u001b[1mTask 'temporary_qpu': ended at 2025-09-02 10:32:55.717506Z\u001b[0m\n",
      "[2025.09.02 19:32:55.719] INFO    \u001b[1mTask 'temporary_quantum_elements_from_qpu': started at 2025-09-02 \u001b[0m\n",
      "[2025.09.02 19:32:55.719] INFO    \u001b[1m10:32:55.719138Z\u001b[0m\n",
      "[2025.09.02 19:32:55.720] INFO    \u001b[1mTask 'temporary_quantum_elements_from_qpu': ended at 2025-09-02 10:32:55.720079Z\u001b[0m\n",
      "[2025.09.02 19:32:55.721] INFO    \u001b[1mTask 'create_experiment': started at 2025-09-02 10:32:55.721141Z\u001b[0m\n",
      "[2025.09.02 19:32:55.726] INFO    \u001b[1mTask 'create_experiment': ended at 2025-09-02 10:32:55.726181Z\u001b[0m\n",
      "[2025.09.02 19:32:55.727] INFO    \u001b[1mTask 'compile_experiment': started at 2025-09-02 10:32:55.727505Z\u001b[0m\n",
      "[2025.09.02 19:32:55.729] INFO    Resolved modulation type of oscillator 'q1_drive_ge_osc' on signal 'q1/drive' to HARDWARE\n",
      "[2025.09.02 19:32:55.729] INFO    Starting LabOne Q Compiler run...\n",
      "[2025.09.02 19:32:55.750] INFO    Schedule completed. [0.020 s]\n",
      "[2025.09.02 19:32:55.767] INFO    Code generation completed for all AWGs. [0.016 s]\n",
      "[2025.09.02 19:32:55.767] INFO    Completed compilation step 1 of 1. [0.037 s]\n",
      "[2025.09.02 19:32:55.768] INFO     ──────────────────────────────────────────────────────────────────── \n",
      "[2025.09.02 19:32:55.769] INFO     \u001b[1m \u001b[0m\u001b[1mDevice        \u001b[0m\u001b[1m \u001b[0m \u001b[1m \u001b[0m\u001b[1mAWG\u001b[0m\u001b[1m \u001b[0m \u001b[1m \u001b[0m\u001b[1mSeqC LOC\u001b[0m\u001b[1m \u001b[0m \u001b[1m \u001b[0m\u001b[1mCT entries\u001b[0m\u001b[1m \u001b[0m \u001b[1m \u001b[0m\u001b[1mWaveforms\u001b[0m\u001b[1m \u001b[0m \u001b[1m \u001b[0m\u001b[1mSamples\u001b[0m\u001b[1m \u001b[0m \n",
      "[2025.09.02 19:32:55.769] INFO     ──────────────────────────────────────────────────────────────────── \n",
      "[2025.09.02 19:32:55.769] INFO      kaist_shfqc        0         21            0           1      8000  \n",
      "[2025.09.02 19:32:55.769] INFO      kaist_shfqc_sg     0          9            1           0         0  \n",
      "[2025.09.02 19:32:55.770] INFO     ──────────────────────────────────────────────────────────────────── \n",
      "[2025.09.02 19:32:55.770] INFO     \u001b[1m \u001b[0m\u001b[1mTOTAL         \u001b[0m\u001b[1m \u001b[0m \u001b[1m \u001b[0m\u001b[1m   \u001b[0m\u001b[1m \u001b[0m \u001b[1m \u001b[0m\u001b[1m      30\u001b[0m\u001b[1m \u001b[0m \u001b[1m \u001b[0m\u001b[1m         1\u001b[0m\u001b[1m \u001b[0m \u001b[1m \u001b[0m\u001b[1m         \u001b[0m\u001b[1m \u001b[0m \u001b[1m \u001b[0m\u001b[1m   8000\u001b[0m\u001b[1m \u001b[0m \n",
      "[2025.09.02 19:32:55.770] INFO     ──────────────────────────────────────────────────────────────────── \n",
      "[2025.09.02 19:32:55.773] INFO    Finished LabOne Q Compiler run.\n",
      "[2025.09.02 19:32:55.773] INFO    \u001b[1mTask 'compile_experiment': ended at 2025-09-02 10:32:55.773454Z\u001b[0m\n",
      "[2025.09.02 19:32:55.777] INFO    \u001b[1mTask 'run_experiment': started at 2025-09-02 10:32:55.777404Z\u001b[0m\n",
      "[2025.09.02 19:32:55.778] INFO    Connecting to data server at 192.168.0.83:8004\n",
      "[2025.09.02 19:32:55.810] INFO    Connected to Zurich Instruments LabOne Data Server version 25.07.0.507 at 192.168.0.83:8004\n",
      "[2025.09.02 19:32:55.819] INFO    Configuring the device setup\n",
      "[2025.09.02 19:32:55.856] INFO    The device setup is configured\n",
      "[2025.09.02 19:32:56.338] INFO    Starting near-time execution...\n",
      "[2025.09.02 19:32:57.773] INFO    Finished near-time execution.\n",
      "[2025.09.02 19:32:57.858] INFO    \u001b[1mTask 'run_experiment': ended at 2025-09-02 10:32:57.857975Z\u001b[0m\n",
      "[2025.09.02 19:32:57.860] INFO    \u001b[1m ────────────────────────────────────────────────────────────────────────────── \u001b[0m\n",
      "[2025.09.02 19:32:57.860] INFO    \u001b[1m \u001b[0m\u001b[1m \u001b[0m\u001b[1mWorkflow 'analysis_workflow': execution started at 2025-09-02 \u001b[0m\u001b[1m              \u001b[0m\u001b[1m \u001b[0m\u001b[1m \u001b[0m\n",
      "[2025.09.02 19:32:57.861] INFO    \u001b[1m \u001b[0m\u001b[1m \u001b[0m\u001b[1m10:32:57.860267Z\u001b[0m\u001b[1m                                                            \u001b[0m\u001b[1m \u001b[0m\u001b[1m \u001b[0m\n",
      "[2025.09.02 19:32:57.861] INFO    \u001b[1m ────────────────────────────────────────────────────────────────────────────── \u001b[0m\n",
      "[2025.09.02 19:32:57.864] INFO    \u001b[1mTask 'calculate_signal_magnitude_and_phase': started at 2025-09-02 \u001b[0m\n",
      "[2025.09.02 19:32:57.864] INFO    \u001b[1m10:32:57.864309Z\u001b[0m\n",
      "[2025.09.02 19:32:57.865] INFO    \u001b[1mTask 'calculate_signal_magnitude_and_phase': ended at 2025-09-02 \u001b[0m\n",
      "[2025.09.02 19:32:57.865] INFO    \u001b[1m10:32:57.865296Z\u001b[0m\n",
      "[2025.09.02 19:32:57.866] INFO    \u001b[1mTask 'fit_data': started at 2025-09-02 10:32:57.866681Z\u001b[0m\n",
      "[2025.09.02 19:32:57.867] INFO    \u001b[1mTask 'fit_data': ended at 2025-09-02 10:32:57.867768Z\u001b[0m\n",
      "[2025.09.02 19:32:57.868] INFO    \u001b[1mTask 'extract_qubit_parameters': started at 2025-09-02 10:32:57.868234Z\u001b[0m\n",
      "[2025.09.02 19:32:57.870] INFO    \u001b[1mTask 'extract_qubit_parameters': ended at 2025-09-02 10:32:57.869929Z\u001b[0m\n",
      "[2025.09.02 19:32:57.870] WARNING Type <class 'dict'> has unsupported keys or values. Keys must be strings and values must have one of the following types: [NoneType, int, float, complex, bool, str, dict, list, tuple, integer, ndarray] [name: extract_qubit_parameters.output.new_parameter_values].\n",
      "[2025.09.02 19:32:57.871] INFO    \u001b[1mTask 'plot_raw_complex_data_1d': started at 2025-09-02 10:32:57.871437Z\u001b[0m\n",
      "[2025.09.02 19:32:57.881] INFO    \u001b[1mArtifact: 'Raw_data_q1' of type 'Figure' logged at 2025-09-02 10:32:57.881568Z\u001b[0m\n",
      "[2025.09.02 19:32:57.939] INFO    \u001b[1mTask 'plot_raw_complex_data_1d': ended at 2025-09-02 10:32:57.939638Z\u001b[0m\n",
      "[2025.09.02 19:32:57.940] INFO    \u001b[1mTask 'plot_magnitude_phase': started at 2025-09-02 10:32:57.940433Z\u001b[0m\n",
      "[2025.09.02 19:32:57.940] WARNING Type <class 'dict'> has unsupported keys or values. Keys must be strings and values must have one of the following types: [NoneType, int, float, complex, bool, str, dict, list, tuple, integer, ndarray] [name: plot_magnitude_phase.input.qubit_parameters].\n",
      "[2025.09.02 19:32:57.948] INFO    \u001b[1mArtifact: 'Magnitude_Phase_q1' of type 'Figure' logged at 2025-09-02 \u001b[0m\n",
      "[2025.09.02 19:32:57.948] INFO    \u001b[1m10:32:57.948045Z\u001b[0m\n",
      "[2025.09.02 19:32:58.012] INFO    \u001b[1mTask 'plot_magnitude_phase': ended at 2025-09-02 10:32:58.012509Z\u001b[0m\n",
      "[2025.09.02 19:32:58.013] INFO    \u001b[1mTask 'plot_real_imaginary': started at 2025-09-02 10:32:58.013413Z\u001b[0m\n",
      "[2025.09.02 19:32:58.018] INFO    \u001b[1mArtifact: 'Real_Imaginary_q1' of type 'Figure' logged at 2025-09-02 \u001b[0m\n",
      "[2025.09.02 19:32:58.018] INFO    \u001b[1m10:32:58.017900Z\u001b[0m\n",
      "[2025.09.02 19:32:58.085] INFO    \u001b[1mTask 'plot_real_imaginary': ended at 2025-09-02 10:32:58.085271Z\u001b[0m\n",
      "[2025.09.02 19:32:58.087] INFO    \u001b[1m ────────────────────────────────────────────────────────────────────────────── \u001b[0m\n",
      "[2025.09.02 19:32:58.087] INFO    \u001b[1m \u001b[0m\u001b[1m \u001b[0m\u001b[1mWorkflow 'analysis_workflow': execution ended at 2025-09-02 10:32:58.086892Z\u001b[0m\u001b[1m \u001b[0m\u001b[1m \u001b[0m\n",
      "[2025.09.02 19:32:58.089] INFO    \u001b[1m ────────────────────────────────────────────────────────────────────────────── \u001b[0m\n",
      "[2025.09.02 19:32:58.091] WARNING Type <class 'dict'> has unsupported keys or values. Keys must be strings and values must have one of the following types: [NoneType, int, float, complex, bool, str, dict, list, tuple, integer, ndarray] [name: analysis_workflow.output.new_parameter_values].\n",
      "[2025.09.02 19:32:58.093] INFO    \u001b[1mTask 'update_qubits': started at 2025-09-02 10:32:58.093734Z\u001b[0m\n",
      "[2025.09.02 19:32:58.095] WARNING Type <class 'dict'> has unsupported keys or values. Keys must be strings and values must have one of the following types: [NoneType, int, float, complex, bool, str, dict, list, tuple, integer, ndarray] [name: update_qubits.input.qubit_parameters].\n",
      "[2025.09.02 19:32:58.095] INFO    \u001b[1mTask 'update_qubits': ended at 2025-09-02 10:32:58.095606Z\u001b[0m\n",
      "[2025.09.02 19:32:58.096] INFO    \u001b[1m ────────────────────────────────────────────────────────────────────────────── \u001b[0m\n",
      "[2025.09.02 19:32:58.096] INFO    \u001b[1m \u001b[0m\u001b[1m \u001b[0m\u001b[1mWorkflow 'resonator_spectroscopy': execution ended at 2025-09-02 \u001b[0m\u001b[1m           \u001b[0m\u001b[1m \u001b[0m\u001b[1m \u001b[0m\n",
      "[2025.09.02 19:32:58.096] INFO    \u001b[1m \u001b[0m\u001b[1m \u001b[0m\u001b[1m10:32:58.096181Z\u001b[0m\u001b[1m                                                            \u001b[0m\u001b[1m \u001b[0m\u001b[1m \u001b[0m\n",
      "[2025.09.02 19:32:58.096] INFO    \u001b[1m ────────────────────────────────────────────────────────────────────────────── \u001b[0m\n"
     ]
    }
   ],
   "source": [
    "from laboneq_applications.experiments import resonator_spectroscopy\n",
    "q = qubits[0]\n",
    "\n",
    "###############################################################\n",
    "frequencies = q.parameters.readout_resonator_frequency + np.linspace(-2e6,+2e6,201)\n",
    "################################################################\n",
    "options = resonator_spectroscopy.experiment_workflow.options()\n",
    "options.count(1024*2)\n",
    "options.update(True)\n",
    "#options.fit_complex_resonator(True)\n",
    "\n",
    "#print(workflow.show_fields(options))\n",
    "\n",
    "###################################################################\n",
    "res_spec = resonator_spectroscopy.experiment_workflow(\n",
    "    session=session,\n",
    "    qpu=qpu,\n",
    "    qubit=q,\n",
    "    frequencies=frequencies,\n",
    "    options=options,\n",
    ")\n",
    "\n",
    "res_spec_result = res_spec.run()\n",
    "#print(res_spec_result.tasks['analysis_workflow'].output)"
   ]
  },
  {
   "cell_type": "code",
   "execution_count": 42,
   "id": "9f63dc1f",
   "metadata": {},
   "outputs": [
    {
     "name": "stdout",
     "output_type": "stream",
     "text": [
      "[2025.09.02 19:31:56.651] INFO    \u001b[1m ────────────────────────────────────────────────────────────────────────────── \u001b[0m\n",
      "[2025.09.02 19:31:56.652] INFO    \u001b[1m \u001b[0m\u001b[1m \u001b[0m\u001b[1mWorkflow 'resonator_spectroscopy_amplitude': execution started at 2025-09-02\u001b[0m\u001b[1m \u001b[0m\u001b[1m \u001b[0m\n",
      "[2025.09.02 19:31:56.652] INFO    \u001b[1m \u001b[0m\u001b[1m \u001b[0m\u001b[1m10:31:56.651078Z\u001b[0m\u001b[1m                                                            \u001b[0m\u001b[1m \u001b[0m\u001b[1m \u001b[0m\n",
      "[2025.09.02 19:31:56.653] INFO    \u001b[1m ────────────────────────────────────────────────────────────────────────────── \u001b[0m\n",
      "[2025.09.02 19:31:56.669] INFO    \u001b[1mTask 'temporary_qpu': started at 2025-09-02 10:31:56.669692Z\u001b[0m\n",
      "[2025.09.02 19:31:56.671] INFO    \u001b[1mTask 'temporary_qpu': ended at 2025-09-02 10:31:56.671022Z\u001b[0m\n",
      "[2025.09.02 19:31:56.673] INFO    \u001b[1mTask 'temporary_quantum_elements_from_qpu': started at 2025-09-02 \u001b[0m\n",
      "[2025.09.02 19:31:56.673] INFO    \u001b[1m10:31:56.672756Z\u001b[0m\n",
      "[2025.09.02 19:31:56.674] INFO    \u001b[1mTask 'temporary_quantum_elements_from_qpu': ended at 2025-09-02 10:31:56.673925Z\u001b[0m\n",
      "[2025.09.02 19:31:56.675] INFO    \u001b[1mTask 'create_experiment': started at 2025-09-02 10:31:56.674952Z\u001b[0m\n",
      "[2025.09.02 19:31:56.681] INFO    \u001b[1mTask 'create_experiment': ended at 2025-09-02 10:31:56.681576Z\u001b[0m\n",
      "[2025.09.02 19:31:56.684] INFO    \u001b[1mTask 'compile_experiment': started at 2025-09-02 10:31:56.684125Z\u001b[0m\n",
      "[2025.09.02 19:31:56.686] INFO    Resolved modulation type of oscillator 'q1_drive_ge_osc' on signal 'q1/drive' to HARDWARE\n",
      "[2025.09.02 19:31:56.686] INFO    Starting LabOne Q Compiler run...\n",
      "[2025.09.02 19:31:56.702] INFO    Schedule completed. [0.014 s]\n",
      "[2025.09.02 19:31:56.841] INFO    Code generation completed for all AWGs. [0.138 s]\n",
      "[2025.09.02 19:31:56.841] INFO    Completed compilation step 1 of 21. [0.153 s]\n",
      "[2025.09.02 19:31:56.841] INFO    Skipping compilation for next step(s)...\n",
      "[2025.09.02 19:31:56.843] INFO     ──────────────────────────────────────────────────────────────────── \n",
      "[2025.09.02 19:31:56.843] INFO     \u001b[1m \u001b[0m\u001b[1mDevice        \u001b[0m\u001b[1m \u001b[0m \u001b[1m \u001b[0m\u001b[1mAWG\u001b[0m\u001b[1m \u001b[0m \u001b[1m \u001b[0m\u001b[1mSeqC LOC\u001b[0m\u001b[1m \u001b[0m \u001b[1m \u001b[0m\u001b[1mCT entries\u001b[0m\u001b[1m \u001b[0m \u001b[1m \u001b[0m\u001b[1mWaveforms\u001b[0m\u001b[1m \u001b[0m \u001b[1m \u001b[0m\u001b[1mSamples\u001b[0m\u001b[1m \u001b[0m \n",
      "[2025.09.02 19:31:56.843] INFO     ──────────────────────────────────────────────────────────────────── \n",
      "[2025.09.02 19:31:56.843] INFO      kaist_shfqc        0         21            0           1      8000  \n",
      "[2025.09.02 19:31:56.844] INFO      kaist_shfqc_sg     0          9            1           0         0  \n",
      "[2025.09.02 19:31:56.844] INFO     ──────────────────────────────────────────────────────────────────── \n",
      "[2025.09.02 19:31:56.844] INFO     \u001b[1m \u001b[0m\u001b[1mTOTAL         \u001b[0m\u001b[1m \u001b[0m \u001b[1m \u001b[0m\u001b[1m   \u001b[0m\u001b[1m \u001b[0m \u001b[1m \u001b[0m\u001b[1m      30\u001b[0m\u001b[1m \u001b[0m \u001b[1m \u001b[0m\u001b[1m         1\u001b[0m\u001b[1m \u001b[0m \u001b[1m \u001b[0m\u001b[1m         \u001b[0m\u001b[1m \u001b[0m \u001b[1m \u001b[0m\u001b[1m   8000\u001b[0m\u001b[1m \u001b[0m \n",
      "[2025.09.02 19:31:56.844] INFO     ──────────────────────────────────────────────────────────────────── \n",
      "[2025.09.02 19:31:56.848] INFO    Finished LabOne Q Compiler run.\n",
      "[2025.09.02 19:31:56.848] INFO    \u001b[1mTask 'compile_experiment': ended at 2025-09-02 10:31:56.848877Z\u001b[0m\n",
      "[2025.09.02 19:31:56.853] INFO    \u001b[1mTask 'run_experiment': started at 2025-09-02 10:31:56.853555Z\u001b[0m\n",
      "[2025.09.02 19:31:56.854] INFO    Connecting to data server at 192.168.0.83:8004\n",
      "[2025.09.02 19:31:56.933] INFO    Connected to Zurich Instruments LabOne Data Server version 25.07.0.507 at 192.168.0.83:8004\n",
      "[2025.09.02 19:31:56.942] INFO    Configuring the device setup\n",
      "[2025.09.02 19:31:56.981] INFO    The device setup is configured\n",
      "[2025.09.02 19:31:57.503] INFO    Starting near-time execution...\n",
      "[2025.09.02 19:32:15.068] INFO    Finished near-time execution.\n",
      "[2025.09.02 19:32:15.193] INFO    \u001b[1mTask 'run_experiment': ended at 2025-09-02 10:32:15.193541Z\u001b[0m\n",
      "[2025.09.02 19:32:15.195] INFO    \u001b[1m ────────────────────────────────────────────────────────────────────────────── \u001b[0m\n",
      "[2025.09.02 19:32:15.196] INFO    \u001b[1m \u001b[0m\u001b[1m \u001b[0m\u001b[1mWorkflow 'analysis_workflow': execution started at 2025-09-02 \u001b[0m\u001b[1m              \u001b[0m\u001b[1m \u001b[0m\u001b[1m \u001b[0m\n",
      "[2025.09.02 19:32:15.196] INFO    \u001b[1m \u001b[0m\u001b[1m \u001b[0m\u001b[1m10:32:15.195789Z\u001b[0m\u001b[1m                                                            \u001b[0m\u001b[1m \u001b[0m\u001b[1m \u001b[0m\n",
      "[2025.09.02 19:32:15.196] INFO    \u001b[1m ────────────────────────────────────────────────────────────────────────────── \u001b[0m\n",
      "[2025.09.02 19:32:15.198] INFO    \u001b[1mTask 'plot_raw_complex_data_2d': started at 2025-09-02 10:32:15.198309Z\u001b[0m\n",
      "[2025.09.02 19:32:15.212] INFO    \u001b[1mArtifact: 'Raw_data_q1' of type 'Figure' logged at 2025-09-02 10:32:15.211908Z\u001b[0m\n",
      "[2025.09.02 19:32:15.320] INFO    \u001b[1mTask 'plot_raw_complex_data_2d': ended at 2025-09-02 10:32:15.319945Z\u001b[0m\n",
      "[2025.09.02 19:32:15.320] INFO    \u001b[1mTask 'plot_signal_magnitude_and_phase_2d': started at 2025-09-02 \u001b[0m\n",
      "[2025.09.02 19:32:15.320] INFO    \u001b[1m10:32:15.320620Z\u001b[0m\n",
      "[2025.09.02 19:32:15.333] INFO    \u001b[1mArtifact: 'Magnitude_Phase_q1' of type 'Figure' logged at 2025-09-02 \u001b[0m\n",
      "[2025.09.02 19:32:15.334] INFO    \u001b[1m10:32:15.333657Z\u001b[0m\n",
      "[2025.09.02 19:32:15.440] INFO    \u001b[1mTask 'plot_signal_magnitude_and_phase_2d': ended at 2025-09-02 10:32:15.440685Z\u001b[0m\n",
      "[2025.09.02 19:32:15.441] INFO    \u001b[1m ────────────────────────────────────────────────────────────────────────────── \u001b[0m\n",
      "[2025.09.02 19:32:15.441] INFO    \u001b[1m \u001b[0m\u001b[1m \u001b[0m\u001b[1mWorkflow 'analysis_workflow': execution ended at 2025-09-02 10:32:15.441473Z\u001b[0m\u001b[1m \u001b[0m\u001b[1m \u001b[0m\n",
      "[2025.09.02 19:32:15.442] INFO    \u001b[1m ────────────────────────────────────────────────────────────────────────────── \u001b[0m\n",
      "[2025.09.02 19:32:15.442] INFO    \u001b[1m ────────────────────────────────────────────────────────────────────────────── \u001b[0m\n",
      "[2025.09.02 19:32:15.442] INFO    \u001b[1m \u001b[0m\u001b[1m \u001b[0m\u001b[1mWorkflow 'resonator_spectroscopy_amplitude': execution ended at 2025-09-02 \u001b[0m\u001b[1m \u001b[0m\u001b[1m \u001b[0m\u001b[1m \u001b[0m\n",
      "[2025.09.02 19:32:15.443] INFO    \u001b[1m \u001b[0m\u001b[1m \u001b[0m\u001b[1m10:32:15.442592Z\u001b[0m\u001b[1m                                                            \u001b[0m\u001b[1m \u001b[0m\u001b[1m \u001b[0m\n",
      "[2025.09.02 19:32:15.443] INFO    \u001b[1m ────────────────────────────────────────────────────────────────────────────── \u001b[0m\n"
     ]
    }
   ],
   "source": [
    "from laboneq_applications.experiments import resonator_spectroscopy_amplitude\n",
    "\n",
    "q = qubits[0]\n",
    "\n",
    "###############################################################\n",
    "frequencies = q.parameters.readout_resonator_frequency + np.linspace(-2e6,+2e6,101)\n",
    "################################################################\n",
    "options = resonator_spectroscopy_amplitude.experiment_workflow.options()\n",
    "options.count(1024*2)\n",
    "options.update(True)\n",
    "#options.fit_complex_resonator(True)\n",
    "\n",
    "#print(workflow.show_fields(options))\n",
    "\n",
    "###################################################################\n",
    "res_spec_amp = resonator_spectroscopy_amplitude.experiment_workflow(\n",
    "    session=session,\n",
    "    qpu=qpu,\n",
    "    qubit=q,\n",
    "    frequencies=frequencies,\n",
    "    amplitudes=np.linspace(0,1.0,21),\n",
    "    options=options,\n",
    ")\n",
    "\n",
    "res_spec_amp_result = res_spec_amp.run()\n",
    "#print(res_spec_result.tasks['analysis_workflow'].output)"
   ]
  },
  {
   "cell_type": "code",
   "execution_count": null,
   "id": "0d6cc792",
   "metadata": {},
   "outputs": [],
   "source": [
    "qubits[0].parameters.readout_resonator_frequency"
   ]
  },
  {
   "cell_type": "code",
   "execution_count": null,
   "id": "4a73b624",
   "metadata": {},
   "outputs": [],
   "source": [
    "qubits[0].readout_parameters()"
   ]
  },
  {
   "cell_type": "code",
   "execution_count": null,
   "id": "25b512c0",
   "metadata": {},
   "outputs": [],
   "source": [
    "import matplotlib.pyplot as plt\n",
    "raw_data = res_spec_result.output['q1/result'].data\n",
    "plt.plot(raw_data.imag)"
   ]
  },
  {
   "cell_type": "code",
   "execution_count": null,
   "id": "f8fe85d9",
   "metadata": {},
   "outputs": [],
   "source": [
    "res_spec_result.tasks['analysis_workflow'].tasks['plot_real_imaginary'].output"
   ]
  },
  {
   "cell_type": "code",
   "execution_count": null,
   "id": "2332af42",
   "metadata": {},
   "outputs": [],
   "source": [
    "res_spec_result.tasks['analysis_workflow'].tasks['plot_magnitude_phase'].output"
   ]
  },
  {
   "cell_type": "code",
   "execution_count": null,
   "id": "803d6b62",
   "metadata": {},
   "outputs": [],
   "source": [
    "res_spec_result.tasks['analysis_workflow'].tasks['plot_raw_complex_data_1d'].output['q1']"
   ]
  },
  {
   "cell_type": "code",
   "execution_count": 45,
   "id": "415c75c8",
   "metadata": {},
   "outputs": [],
   "source": [
    "qubits[0].parameters.spectroscopy_amplitude =0.5\n",
    "qubits[0].parameters.spectroscopy_length\n",
    "qubits[0].parameters.resonance_frequency_ge = 4.2846e9\n",
    "qubits[0].parameters.drive_range = 10\n",
    "qubits[0].parameters.readout_range_in = 10\n",
    "qubits[0].parameters.readout_range_out = -5\n",
    "qubits[0].parameters.readout_amplitude = 0.4\n",
    "qubits[0].parameters.ge_drive_length =64e-9\n",
    "qubits[0].parameters.drive_lo_frequency = 4.2e9\n",
    "qubits[0].parameters.readout_lo_frequency = 6.8e9\n",
    "qubits[0].parameters.readout_resonator_frequency = 6.7275e9"
   ]
  },
  {
   "cell_type": "code",
   "execution_count": 38,
   "id": "2a511a94",
   "metadata": {},
   "outputs": [
    {
     "data": {
      "text/plain": [
       "('measure',\n",
       " {'amplitude': 0.4,\n",
       "  'length': 2e-06,\n",
       "  'pulse': {'function': 'GaussianSquare',\n",
       "   'sigma': 0.2,\n",
       "   'risefall_sigma_ratio': 3.0}})"
      ]
     },
     "execution_count": 38,
     "metadata": {},
     "output_type": "execute_result"
    }
   ],
   "source": [
    "qubits[0].readout_parameters()"
   ]
  },
  {
   "cell_type": "code",
   "execution_count": 13,
   "id": "260dd269",
   "metadata": {},
   "outputs": [
    {
     "data": {
      "text/plain": [
       "('drive',\n",
       " {'amplitude': 1.0,\n",
       "  'length': 5e-06,\n",
       "  'pulse': {'function': 'GaussianSquare',\n",
       "   'sigma': 0.2,\n",
       "   'risefall_sigma_ratio': 3.0}})"
      ]
     },
     "execution_count": 13,
     "metadata": {},
     "output_type": "execute_result"
    }
   ],
   "source": [
    "qubits[0].spectroscopy_parameters()"
   ]
  },
  {
   "cell_type": "code",
   "execution_count": 59,
   "id": "ea7ff22b",
   "metadata": {},
   "outputs": [
    {
     "data": {
      "text/plain": [
       "10"
      ]
     },
     "execution_count": 59,
     "metadata": {},
     "output_type": "execute_result"
    }
   ],
   "source": [
    "qubits[0].parameters.drive_range"
   ]
  },
  {
   "cell_type": "markdown",
   "id": "c439d8e7",
   "metadata": {},
   "source": [
    "# Qubit Spectroscopy"
   ]
  },
  {
   "cell_type": "code",
   "execution_count": 56,
   "id": "0e5046a6",
   "metadata": {},
   "outputs": [
    {
     "name": "stdout",
     "output_type": "stream",
     "text": [
      "[2025.09.02 19:38:21.378] INFO    \u001b[1m ────────────────────────────────────────────────────────────────────────────── \u001b[0m\n",
      "[2025.09.02 19:38:21.378] INFO    \u001b[1m \u001b[0m\u001b[1m \u001b[0m\u001b[1mWorkflow 'qubit_spectroscopy': execution started at 2025-09-02 \u001b[0m\u001b[1m             \u001b[0m\u001b[1m \u001b[0m\u001b[1m \u001b[0m\n",
      "[2025.09.02 19:38:21.379] INFO    \u001b[1m \u001b[0m\u001b[1m \u001b[0m\u001b[1m10:38:21.377731Z\u001b[0m\u001b[1m                                                            \u001b[0m\u001b[1m \u001b[0m\u001b[1m \u001b[0m\n",
      "[2025.09.02 19:38:21.379] INFO    \u001b[1m ────────────────────────────────────────────────────────────────────────────── \u001b[0m\n",
      "[2025.09.02 19:38:21.391] INFO    \u001b[1mTask 'temporary_qpu': started at 2025-09-02 10:38:21.391500Z\u001b[0m\n",
      "[2025.09.02 19:38:21.393] INFO    \u001b[1mTask 'temporary_qpu': ended at 2025-09-02 10:38:21.392927Z\u001b[0m\n",
      "[2025.09.02 19:38:21.394] INFO    \u001b[1mTask 'temporary_quantum_elements_from_qpu': started at 2025-09-02 \u001b[0m\n",
      "[2025.09.02 19:38:21.394] INFO    \u001b[1m10:38:21.394453Z\u001b[0m\n",
      "[2025.09.02 19:38:21.395] INFO    \u001b[1mTask 'temporary_quantum_elements_from_qpu': ended at 2025-09-02 10:38:21.395839Z\u001b[0m\n",
      "[2025.09.02 19:38:21.397] INFO    \u001b[1mTask 'create_experiment': started at 2025-09-02 10:38:21.397268Z\u001b[0m\n",
      "[2025.09.02 19:38:21.403] INFO    \u001b[1mTask 'create_experiment': ended at 2025-09-02 10:38:21.403126Z\u001b[0m\n",
      "[2025.09.02 19:38:21.404] INFO    \u001b[1mTask 'compile_experiment': started at 2025-09-02 10:38:21.404708Z\u001b[0m\n",
      "[2025.09.02 19:38:21.406] INFO    Resolved modulation type of oscillator 'q1_readout_acquire_osc' on signal 'q1/acquire' to SOFTWARE\n",
      "[2025.09.02 19:38:21.406] INFO    Resolved modulation type of oscillator 'q1_drive_ge_osc' on signal 'q1/drive' to HARDWARE\n",
      "[2025.09.02 19:38:21.406] INFO    Starting LabOne Q Compiler run...\n",
      "[2025.09.02 19:38:21.433] INFO    Schedule completed. [0.025 s]\n",
      "[2025.09.02 19:38:21.624] INFO    Code generation completed for all AWGs. [0.190 s]\n",
      "[2025.09.02 19:38:21.625] INFO    Completed compilation step 1 of 1. [0.216 s]\n",
      "[2025.09.02 19:38:21.626] INFO     ──────────────────────────────────────────────────────────────────── \n",
      "[2025.09.02 19:38:21.626] INFO     \u001b[1m \u001b[0m\u001b[1mDevice        \u001b[0m\u001b[1m \u001b[0m \u001b[1m \u001b[0m\u001b[1mAWG\u001b[0m\u001b[1m \u001b[0m \u001b[1m \u001b[0m\u001b[1mSeqC LOC\u001b[0m\u001b[1m \u001b[0m \u001b[1m \u001b[0m\u001b[1mCT entries\u001b[0m\u001b[1m \u001b[0m \u001b[1m \u001b[0m\u001b[1mWaveforms\u001b[0m\u001b[1m \u001b[0m \u001b[1m \u001b[0m\u001b[1mSamples\u001b[0m\u001b[1m \u001b[0m \n",
      "[2025.09.02 19:38:21.626] INFO     ──────────────────────────────────────────────────────────────────── \n",
      "[2025.09.02 19:38:21.627] INFO      kaist_shfqc        0         10            0           1      8000  \n",
      "[2025.09.02 19:38:21.627] INFO      kaist_shfqc_sg     0         23            2           1     20000  \n",
      "[2025.09.02 19:38:21.627] INFO     ──────────────────────────────────────────────────────────────────── \n",
      "[2025.09.02 19:38:21.628] INFO     \u001b[1m \u001b[0m\u001b[1mTOTAL         \u001b[0m\u001b[1m \u001b[0m \u001b[1m \u001b[0m\u001b[1m   \u001b[0m\u001b[1m \u001b[0m \u001b[1m \u001b[0m\u001b[1m      33\u001b[0m\u001b[1m \u001b[0m \u001b[1m \u001b[0m\u001b[1m         2\u001b[0m\u001b[1m \u001b[0m \u001b[1m \u001b[0m\u001b[1m         \u001b[0m\u001b[1m \u001b[0m \u001b[1m \u001b[0m\u001b[1m  28000\u001b[0m\u001b[1m \u001b[0m \n",
      "[2025.09.02 19:38:21.628] INFO     ──────────────────────────────────────────────────────────────────── \n",
      "[2025.09.02 19:38:21.631] INFO    Finished LabOne Q Compiler run.\n",
      "[2025.09.02 19:38:21.631] INFO    \u001b[1mTask 'compile_experiment': ended at 2025-09-02 10:38:21.631405Z\u001b[0m\n",
      "[2025.09.02 19:38:21.637] INFO    \u001b[1mTask 'run_experiment': started at 2025-09-02 10:38:21.636983Z\u001b[0m\n",
      "[2025.09.02 19:38:21.638] INFO    Connecting to data server at 192.168.0.83:8004\n",
      "[2025.09.02 19:38:21.671] INFO    Connected to Zurich Instruments LabOne Data Server version 25.07.0.507 at 192.168.0.83:8004\n",
      "[2025.09.02 19:38:21.680] INFO    Configuring the device setup\n",
      "[2025.09.02 19:38:21.706] INFO    The device setup is configured\n",
      "[2025.09.02 19:38:22.198] INFO    Starting near-time execution...\n",
      "[2025.09.02 19:38:22.306] INFO    Estimated RT execution time: 6.66 s.\n",
      "[2025.09.02 19:38:29.142] INFO    Finished near-time execution.\n",
      "[2025.09.02 19:38:29.231] INFO    \u001b[1mTask 'run_experiment': ended at 2025-09-02 10:38:29.231489Z\u001b[0m\n",
      "[2025.09.02 19:38:29.233] INFO    \u001b[1m ────────────────────────────────────────────────────────────────────────────── \u001b[0m\n",
      "[2025.09.02 19:38:29.233] INFO    \u001b[1m \u001b[0m\u001b[1m \u001b[0m\u001b[1mWorkflow 'analysis_workflow': execution started at 2025-09-02 \u001b[0m\u001b[1m              \u001b[0m\u001b[1m \u001b[0m\u001b[1m \u001b[0m\n",
      "[2025.09.02 19:38:29.234] INFO    \u001b[1m \u001b[0m\u001b[1m \u001b[0m\u001b[1m10:38:29.233402Z\u001b[0m\u001b[1m                                                            \u001b[0m\u001b[1m \u001b[0m\u001b[1m \u001b[0m\n",
      "[2025.09.02 19:38:29.234] INFO    \u001b[1m ────────────────────────────────────────────────────────────────────────────── \u001b[0m\n",
      "[2025.09.02 19:38:29.237] INFO    \u001b[1mTask 'calculate_signal_magnitude_and_phase': started at 2025-09-02 \u001b[0m\n",
      "[2025.09.02 19:38:29.237] INFO    \u001b[1m10:38:29.237187Z\u001b[0m\n",
      "[2025.09.02 19:38:29.238] INFO    \u001b[1mTask 'calculate_signal_magnitude_and_phase': ended at 2025-09-02 \u001b[0m\n",
      "[2025.09.02 19:38:29.238] INFO    \u001b[1m10:38:29.238097Z\u001b[0m\n",
      "[2025.09.02 19:38:29.239] INFO    \u001b[1mTask 'fit_data': started at 2025-09-02 10:38:29.239382Z\u001b[0m\n",
      "[2025.09.02 19:38:29.245] INFO    \u001b[1mTask 'fit_data': ended at 2025-09-02 10:38:29.245802Z\u001b[0m\n",
      "[2025.09.02 19:38:29.246] WARNING Type <class 'lmfit.model.ModelResult'> not supported by the serializer [name: fit_data.output.q1].\n",
      "[2025.09.02 19:38:29.247] INFO    \u001b[1mTask 'extract_qubit_parameters': started at 2025-09-02 10:38:29.246891Z\u001b[0m\n",
      "[2025.09.02 19:38:29.247] WARNING Type <class 'dict'> has unsupported keys or values. Keys must be strings and values must have one of the following types: [NoneType, int, float, complex, bool, str, dict, list, tuple, integer, ndarray] [name: extract_qubit_parameters.input.fit_results].\n",
      "[2025.09.02 19:38:29.248] INFO    \u001b[1mTask 'extract_qubit_parameters': ended at 2025-09-02 10:38:29.248411Z\u001b[0m\n",
      "[2025.09.02 19:38:29.248] WARNING Type <class 'dict'> has unsupported keys or values. Keys must be strings and values must have one of the following types: [NoneType, int, float, complex, bool, str, dict, list, tuple, integer, ndarray] [name: extract_qubit_parameters.output.new_parameter_values].\n",
      "[2025.09.02 19:38:29.249] INFO    \u001b[1mTask 'plot_raw_complex_data_1d': started at 2025-09-02 10:38:29.249207Z\u001b[0m\n",
      "[2025.09.02 19:38:29.256] INFO    \u001b[1mArtifact: 'Raw_data_q1' of type 'Figure' logged at 2025-09-02 10:38:29.256432Z\u001b[0m\n",
      "[2025.09.02 19:38:29.313] INFO    \u001b[1mTask 'plot_raw_complex_data_1d': ended at 2025-09-02 10:38:29.313202Z\u001b[0m\n",
      "[2025.09.02 19:38:29.314] INFO    \u001b[1mTask 'plot_qubit_spectroscopy': started at 2025-09-02 10:38:29.313946Z\u001b[0m\n",
      "[2025.09.02 19:38:29.314] WARNING Type <class 'dict'> has unsupported keys or values. Keys must be strings and values must have one of the following types: [NoneType, int, float, complex, bool, str, dict, list, tuple, integer, ndarray] [name: plot_qubit_spectroscopy.input.fit_results].\n",
      "[2025.09.02 19:38:29.314] WARNING Type <class 'dict'> has unsupported keys or values. Keys must be strings and values must have one of the following types: [NoneType, int, float, complex, bool, str, dict, list, tuple, integer, ndarray] [name: plot_qubit_spectroscopy.input.qubit_parameters].\n",
      "[2025.09.02 19:38:29.318] INFO    \u001b[1mArtifact: 'Qubit_Spectroscopy_q1' of type 'Figure' logged at 2025-09-02 \u001b[0m\n",
      "[2025.09.02 19:38:29.319] INFO    \u001b[1m10:38:29.318776Z\u001b[0m\n",
      "[2025.09.02 19:38:29.361] INFO    \u001b[1mTask 'plot_qubit_spectroscopy': ended at 2025-09-02 10:38:29.361341Z\u001b[0m\n",
      "[2025.09.02 19:38:29.362] INFO    \u001b[1m ────────────────────────────────────────────────────────────────────────────── \u001b[0m\n",
      "[2025.09.02 19:38:29.362] INFO    \u001b[1m \u001b[0m\u001b[1m \u001b[0m\u001b[1mWorkflow 'analysis_workflow': execution ended at 2025-09-02 10:38:29.362121Z\u001b[0m\u001b[1m \u001b[0m\u001b[1m \u001b[0m\n",
      "[2025.09.02 19:38:29.362] INFO    \u001b[1m ────────────────────────────────────────────────────────────────────────────── \u001b[0m\n",
      "[2025.09.02 19:38:29.363] WARNING Type <class 'dict'> has unsupported keys or values. Keys must be strings and values must have one of the following types: [NoneType, int, float, complex, bool, str, dict, list, tuple, integer, ndarray] [name: analysis_workflow.output.new_parameter_values].\n",
      "[2025.09.02 19:38:29.363] INFO    \u001b[1mTask 'update_qubits': started at 2025-09-02 10:38:29.363494Z\u001b[0m\n",
      "[2025.09.02 19:38:29.363] WARNING Type <class 'dict'> has unsupported keys or values. Keys must be strings and values must have one of the following types: [NoneType, int, float, complex, bool, str, dict, list, tuple, integer, ndarray] [name: update_qubits.input.qubit_parameters].\n",
      "[2025.09.02 19:38:29.364] INFO    \u001b[1mTask 'update_qubits': ended at 2025-09-02 10:38:29.364244Z\u001b[0m\n",
      "[2025.09.02 19:38:29.364] INFO    \u001b[1m ────────────────────────────────────────────────────────────────────────────── \u001b[0m\n",
      "[2025.09.02 19:38:29.365] INFO    \u001b[1m \u001b[0m\u001b[1m \u001b[0m\u001b[1mWorkflow 'qubit_spectroscopy': execution ended at 2025-09-02 \u001b[0m\u001b[1m               \u001b[0m\u001b[1m \u001b[0m\u001b[1m \u001b[0m\n",
      "[2025.09.02 19:38:29.365] INFO    \u001b[1m \u001b[0m\u001b[1m \u001b[0m\u001b[1m10:38:29.364707Z\u001b[0m\u001b[1m                                                            \u001b[0m\u001b[1m \u001b[0m\u001b[1m \u001b[0m\n",
      "[2025.09.02 19:38:29.365] INFO    \u001b[1m ────────────────────────────────────────────────────────────────────────────── \u001b[0m\n",
      "{'old_parameter_values': {'q1': {'resonance_frequency_ge': 4287782321.580609}}, 'new_parameter_values': {'q1': {'resonance_frequency_ge': 4288256571.2382655+/-225374.10165415946}}}\n"
     ]
    }
   ],
   "source": [
    "from copy import deepcopy\n",
    "from laboneq_applications.experiments import qubit_spectroscopy\n",
    "q = qubits[0]\n",
    "###############################################################\n",
    "\n",
    "frequencies = 4.2846e9 +np.linspace(-5e6,5e6,201)\n",
    "################################################################\n",
    "options = qubit_spectroscopy.experiment_workflow.options()\n",
    "options.update(False)\n",
    "options.count(1024*4)\n",
    "\n",
    "\n",
    "#print(workflow.show_fields(options))\n",
    "\n",
    "###################################################################\n",
    "qubit_spec = qubit_spectroscopy.experiment_workflow(\n",
    "    session=session,\n",
    "    qpu=qpu,\n",
    "    qubits=q,\n",
    "    frequencies=frequencies,\n",
    "    options=options\n",
    ")\n",
    "\n",
    "qubit_spec_result = qubit_spec.run()\n",
    "#qubit_spec_compiled = session.compile(qubit_spectroscopy.create_experiment(qpu=qpu,qubit=q,frequencies=frequencies, options=options))\n",
    "qubit_parameters = qubit_spec_result.tasks['analysis_workflow'].output\n",
    "print(qubit_parameters)"
   ]
  },
  {
   "cell_type": "code",
   "execution_count": 55,
   "id": "7c168df8",
   "metadata": {},
   "outputs": [],
   "source": [
    "qubits[0].parameters.drive_range = 10\n",
    "qubits[0].parameters.spectroscopy_amplitude =1.0"
   ]
  },
  {
   "cell_type": "code",
   "execution_count": 51,
   "id": "b6b7c15c",
   "metadata": {},
   "outputs": [
    {
     "name": "stdout",
     "output_type": "stream",
     "text": [
      "[2025.09.02 19:37:01.343] INFO    \u001b[1m ────────────────────────────────────────────────────────────────────────────── \u001b[0m\n",
      "[2025.09.02 19:37:01.343] INFO    \u001b[1m \u001b[0m\u001b[1m \u001b[0m\u001b[1mWorkflow 'qubit_spectroscopy_amplitude': execution started at 2025-09-02 \u001b[0m\u001b[1m   \u001b[0m\u001b[1m \u001b[0m\u001b[1m \u001b[0m\n",
      "[2025.09.02 19:37:01.344] INFO    \u001b[1m \u001b[0m\u001b[1m \u001b[0m\u001b[1m10:37:01.342690Z\u001b[0m\u001b[1m                                                            \u001b[0m\u001b[1m \u001b[0m\u001b[1m \u001b[0m\n",
      "[2025.09.02 19:37:01.344] INFO    \u001b[1m ────────────────────────────────────────────────────────────────────────────── \u001b[0m\n",
      "[2025.09.02 19:37:01.358] INFO    \u001b[1mTask 'temporary_qpu': started at 2025-09-02 10:37:01.358678Z\u001b[0m\n",
      "[2025.09.02 19:37:01.360] INFO    \u001b[1mTask 'temporary_qpu': ended at 2025-09-02 10:37:01.360062Z\u001b[0m\n",
      "[2025.09.02 19:37:01.362] INFO    \u001b[1mTask 'temporary_quantum_elements_from_qpu': started at 2025-09-02 \u001b[0m\n",
      "[2025.09.02 19:37:01.362] INFO    \u001b[1m10:37:01.362141Z\u001b[0m\n",
      "[2025.09.02 19:37:01.363] INFO    \u001b[1mTask 'temporary_quantum_elements_from_qpu': ended at 2025-09-02 10:37:01.363399Z\u001b[0m\n",
      "[2025.09.02 19:37:01.365] INFO    \u001b[1mTask 'create_experiment': started at 2025-09-02 10:37:01.365072Z\u001b[0m\n",
      "[2025.09.02 19:37:01.371] INFO    \u001b[1mTask 'create_experiment': ended at 2025-09-02 10:37:01.371194Z\u001b[0m\n",
      "[2025.09.02 19:37:01.373] INFO    \u001b[1mTask 'compile_experiment': started at 2025-09-02 10:37:01.372889Z\u001b[0m\n",
      "[2025.09.02 19:37:01.374] INFO    Resolved modulation type of oscillator 'q1_readout_acquire_osc' on signal 'q1/acquire' to SOFTWARE\n",
      "[2025.09.02 19:37:01.374] INFO    Resolved modulation type of oscillator 'q1_drive_ge_osc' on signal 'q1/drive' to HARDWARE\n",
      "[2025.09.02 19:37:01.375] INFO    Starting LabOne Q Compiler run...\n",
      "[2025.09.02 19:37:01.834] INFO    Schedule completed. [0.458 s]\n",
      "[2025.09.02 19:37:02.035] INFO    Code generation completed for all AWGs. [0.200 s]\n",
      "[2025.09.02 19:37:02.035] INFO    Completed compilation step 1 of 1. [0.660 s]\n",
      "[2025.09.02 19:37:02.037] INFO     ──────────────────────────────────────────────────────────────────── \n",
      "[2025.09.02 19:37:02.037] INFO     \u001b[1m \u001b[0m\u001b[1mDevice        \u001b[0m\u001b[1m \u001b[0m \u001b[1m \u001b[0m\u001b[1mAWG\u001b[0m\u001b[1m \u001b[0m \u001b[1m \u001b[0m\u001b[1mSeqC LOC\u001b[0m\u001b[1m \u001b[0m \u001b[1m \u001b[0m\u001b[1mCT entries\u001b[0m\u001b[1m \u001b[0m \u001b[1m \u001b[0m\u001b[1mWaveforms\u001b[0m\u001b[1m \u001b[0m \u001b[1m \u001b[0m\u001b[1mSamples\u001b[0m\u001b[1m \u001b[0m \n",
      "[2025.09.02 19:37:02.037] INFO     ──────────────────────────────────────────────────────────────────── \n",
      "[2025.09.02 19:37:02.037] INFO      kaist_shfqc        0         10            0           1      8000  \n",
      "[2025.09.02 19:37:02.038] INFO      kaist_shfqc_sg     0        246           22           2     40000  \n",
      "[2025.09.02 19:37:02.038] INFO     ──────────────────────────────────────────────────────────────────── \n",
      "[2025.09.02 19:37:02.038] INFO     \u001b[1m \u001b[0m\u001b[1mTOTAL         \u001b[0m\u001b[1m \u001b[0m \u001b[1m \u001b[0m\u001b[1m   \u001b[0m\u001b[1m \u001b[0m \u001b[1m \u001b[0m\u001b[1m     256\u001b[0m\u001b[1m \u001b[0m \u001b[1m \u001b[0m\u001b[1m        22\u001b[0m\u001b[1m \u001b[0m \u001b[1m \u001b[0m\u001b[1m         \u001b[0m\u001b[1m \u001b[0m \u001b[1m \u001b[0m\u001b[1m  48000\u001b[0m\u001b[1m \u001b[0m \n",
      "[2025.09.02 19:37:02.038] INFO     ──────────────────────────────────────────────────────────────────── \n",
      "[2025.09.02 19:37:02.044] INFO    Finished LabOne Q Compiler run.\n",
      "[2025.09.02 19:37:02.044] INFO    \u001b[1mTask 'compile_experiment': ended at 2025-09-02 10:37:02.044836Z\u001b[0m\n",
      "[2025.09.02 19:37:02.051] INFO    \u001b[1mTask 'run_experiment': started at 2025-09-02 10:37:02.051467Z\u001b[0m\n",
      "[2025.09.02 19:37:02.052] INFO    Connecting to data server at 192.168.0.83:8004\n",
      "[2025.09.02 19:37:02.089] INFO    Connected to Zurich Instruments LabOne Data Server version 25.07.0.507 at 192.168.0.83:8004\n",
      "[2025.09.02 19:37:02.097] INFO    Configuring the device setup\n",
      "[2025.09.02 19:37:02.128] INFO    The device setup is configured\n",
      "[2025.09.02 19:37:02.607] INFO    Starting near-time execution...\n",
      "[2025.09.02 19:37:02.713] INFO    Estimated RT execution time: 17.57 s.\n",
      "[2025.09.02 19:37:20.506] INFO    Finished near-time execution.\n",
      "[2025.09.02 19:37:20.589] INFO    \u001b[1mTask 'run_experiment': ended at 2025-09-02 10:37:20.589032Z\u001b[0m\n",
      "[2025.09.02 19:37:20.591] INFO    \u001b[1m ────────────────────────────────────────────────────────────────────────────── \u001b[0m\n",
      "[2025.09.02 19:37:20.591] INFO    \u001b[1m \u001b[0m\u001b[1m \u001b[0m\u001b[1mWorkflow 'analysis_workflow': execution started at 2025-09-02 \u001b[0m\u001b[1m              \u001b[0m\u001b[1m \u001b[0m\u001b[1m \u001b[0m\n",
      "[2025.09.02 19:37:20.591] INFO    \u001b[1m \u001b[0m\u001b[1m \u001b[0m\u001b[1m10:37:20.590901Z\u001b[0m\u001b[1m                                                            \u001b[0m\u001b[1m \u001b[0m\u001b[1m \u001b[0m\n",
      "[2025.09.02 19:37:20.592] INFO    \u001b[1m ────────────────────────────────────────────────────────────────────────────── \u001b[0m\n",
      "[2025.09.02 19:37:20.594] INFO    \u001b[1mTask 'plot_raw_complex_data_2d': started at 2025-09-02 10:37:20.594555Z\u001b[0m\n",
      "[2025.09.02 19:37:20.611] INFO    \u001b[1mArtifact: 'Raw_data_q1' of type 'Figure' logged at 2025-09-02 10:37:20.610855Z\u001b[0m\n",
      "[2025.09.02 19:37:20.707] INFO    \u001b[1mTask 'plot_raw_complex_data_2d': ended at 2025-09-02 10:37:20.707607Z\u001b[0m\n",
      "[2025.09.02 19:37:20.708] INFO    \u001b[1mTask 'plot_signal_magnitude_and_phase_2d': started at 2025-09-02 \u001b[0m\n",
      "[2025.09.02 19:37:20.708] INFO    \u001b[1m10:37:20.708279Z\u001b[0m\n",
      "[2025.09.02 19:37:20.721] INFO    \u001b[1mArtifact: 'Magnitude_Phase_q1' of type 'Figure' logged at 2025-09-02 \u001b[0m\n",
      "[2025.09.02 19:37:20.721] INFO    \u001b[1m10:37:20.721305Z\u001b[0m\n",
      "[2025.09.02 19:37:20.824] INFO    \u001b[1mTask 'plot_signal_magnitude_and_phase_2d': ended at 2025-09-02 10:37:20.824228Z\u001b[0m\n",
      "[2025.09.02 19:37:20.825] INFO    \u001b[1m ────────────────────────────────────────────────────────────────────────────── \u001b[0m\n",
      "[2025.09.02 19:37:20.825] INFO    \u001b[1m \u001b[0m\u001b[1m \u001b[0m\u001b[1mWorkflow 'analysis_workflow': execution ended at 2025-09-02 10:37:20.824938Z\u001b[0m\u001b[1m \u001b[0m\u001b[1m \u001b[0m\n",
      "[2025.09.02 19:37:20.825] INFO    \u001b[1m ────────────────────────────────────────────────────────────────────────────── \u001b[0m\n",
      "[2025.09.02 19:37:20.826] INFO    \u001b[1m ────────────────────────────────────────────────────────────────────────────── \u001b[0m\n",
      "[2025.09.02 19:37:20.826] INFO    \u001b[1m \u001b[0m\u001b[1m \u001b[0m\u001b[1mWorkflow 'qubit_spectroscopy_amplitude': execution ended at 2025-09-02 \u001b[0m\u001b[1m     \u001b[0m\u001b[1m \u001b[0m\u001b[1m \u001b[0m\n",
      "[2025.09.02 19:37:20.826] INFO    \u001b[1m \u001b[0m\u001b[1m \u001b[0m\u001b[1m10:37:20.826073Z\u001b[0m\u001b[1m                                                            \u001b[0m\u001b[1m \u001b[0m\u001b[1m \u001b[0m\n",
      "[2025.09.02 19:37:20.826] INFO    \u001b[1m ────────────────────────────────────────────────────────────────────────────── \u001b[0m\n",
      "{'old_parameter_values': {'q1': {'resonance_frequency_ge': 4284600000.0}}, 'new_parameter_values': {'q1': {'resonance_frequency_ge': 4287782321.580609+/-141635.6560565459}}}\n"
     ]
    }
   ],
   "source": [
    "from copy import deepcopy\n",
    "from laboneq_applications.experiments import qubit_spectroscopy_amplitude\n",
    "q = qubits[0]\n",
    "###############################################################\n",
    "frequencies = q.parameters.resonance_frequency_ge +np.linspace(-5e6,5e6,101)\n",
    "################################################################\n",
    "options = qubit_spectroscopy_amplitude.experiment_workflow.options()\n",
    "options.update(False)\n",
    "\n",
    "\n",
    "\n",
    "#print(workflow.show_fields(options))\n",
    "\n",
    "###################################################################\n",
    "qubit_spec_amp = qubit_spectroscopy_amplitude.experiment_workflow(\n",
    "    session=session,\n",
    "    qpu=qpu,\n",
    "    qubits=q,\n",
    "    frequencies=frequencies,\n",
    "    amplitudes=np.linspace(0,1.0,21),\n",
    "    options=options\n",
    ")\n",
    "\n",
    "qubit_spec_amp_result = qubit_spec_amp.run()\n",
    "#qubit_spec_compiled = session.compile(qubit_spectroscopy.create_experiment(qpu=qpu,qubit=q,frequencies=frequencies, options=options))\n",
    "qubit_parameters = qubit_spec_result.tasks['analysis_workflow'].output\n",
    "print(qubit_parameters)"
   ]
  },
  {
   "cell_type": "code",
   "execution_count": null,
   "id": "d069f506",
   "metadata": {},
   "outputs": [],
   "source": [
    "qubits[0].parameters.ge_drive_length =64e9"
   ]
  },
  {
   "cell_type": "markdown",
   "id": "a3566148",
   "metadata": {},
   "source": [
    "# Rabi amplitude"
   ]
  },
  {
   "cell_type": "code",
   "execution_count": null,
   "id": "9f30459c",
   "metadata": {},
   "outputs": [],
   "source": [
    "from laboneq_applications.experiments import amplitude_rabi\n",
    "q = qubits[0]\n",
    "\n",
    "#######################################################################\n",
    "amplitudes = np.linspace(0,1.0,21)\n",
    "#######################################################################\n",
    "options = amplitude_rabi.experiment_workflow.options()\n",
    "options.update(False)\n",
    "options.count(1024*2)\n",
    "options.use_cal_traces(True)\n",
    "#print(workflow.show_fields(options))\n",
    "\n",
    "###################################################################\n",
    "rabi_amp = amplitude_rabi.experiment_workflow(\n",
    "    session=session,\n",
    "    qpu=qpu,\n",
    "    qubits=q,\n",
    "    amplitudes=amplitudes,\n",
    "    #options=options\n",
    ")\n",
    "\n",
    "rabi_amp_result = rabi_amp.run()\n",
    "#qubit_spec_compiled = session.compile(amplitude_rabi.create_experiment(qpu=qpu,qubit=q,amplitudes=amplitudes, options=options))\n",
    "#print(rabi_amp_result.tasks['analysis_workflow'].output)"
   ]
  },
  {
   "cell_type": "markdown",
   "id": "43b6a1fe",
   "metadata": {},
   "source": [
    "# Ramsey"
   ]
  },
  {
   "cell_type": "code",
   "execution_count": null,
   "id": "9ca60a21",
   "metadata": {},
   "outputs": [],
   "source": [
    "from laboneq_applications.experiments import ramsey\n",
    "q = qubits[0]\n",
    "temporary_parameters = q.parameters.copy()\n",
    "#######################################################################\n",
    "delays = np.linspace(0,1e-6,10)\n",
    "detunings = 0.2e6\n",
    "#######################################################################\n",
    "# options = ramsey.experiment_workflow.options()\n",
    "# options.transition(\"ge\")\n",
    "# options.cal_states(\"ge\")\n",
    "# options.update(True)\n",
    "#print(workflow.show_fields(options))\n",
    "\n",
    "###################################################################\n",
    "ramsey_freq = ramsey.experiment_workflow(\n",
    "    session=session,\n",
    "    qpu=qpu,\n",
    "    qubits=q,\n",
    "    delays=delays,\n",
    "    detunings=detunings,\n",
    "    #temporary_parameters={q.uid : temporary_parameters},\n",
    "    #options=options\n",
    ")\n",
    "\n",
    "ramsey_freq_result = ramsey_freq.run()\n",
    "#ramsey_compiled = session.compile(ramsey.create_experiment(qpu=qpu,qubit=q,delays=delays,detunings=detunings, options=options))\n",
    "print(ramsey_freq_result.tasks['analysis_workflow'].output)"
   ]
  },
  {
   "cell_type": "markdown",
   "id": "7d1780bf",
   "metadata": {},
   "source": [
    "# Error Amplification"
   ]
  },
  {
   "cell_type": "code",
   "execution_count": null,
   "id": "7b3bc937",
   "metadata": {},
   "outputs": [],
   "source": [
    "from laboneq_applications.experiments import amplitude_fine\n",
    "q = qubits[3]\n",
    "temporary_parameters = q.parameters.copy()\n",
    "\n",
    "#######################################################################\n",
    "repetitions =np.arange(1,50)\n",
    "#######################################################################\n",
    "options = amplitude_fine.experiment_workflow_x180.options()\n",
    "options.update(True)\n",
    "options.use_cal_traces(True)\n",
    "#print(workflow.show_fields(options))\n",
    "\n",
    "###################################################################\n",
    "error_amp = amplitude_fine.experiment_workflow_x180(\n",
    "    session=session,\n",
    "    qpu=qpu,\n",
    "    qubits=q,\n",
    "    repetitions=repetitions,\n",
    "    temporary_parameters={q.uid : temporary_parameters},\n",
    "    options=options\n",
    ")\n",
    "\n",
    "error_amp_result = error_amp.run()\n",
    "#qubit_spec_compiled = session.compile(amplitude_rabi.create_experiment(qpu=qpu,qubit=q,amplitudes=amplitudes, options=options))\n",
    "print(error_amp_result.tasks['analysis_workflow'].output)"
   ]
  },
  {
   "cell_type": "code",
   "execution_count": null,
   "id": "163e5275",
   "metadata": {},
   "outputs": [],
   "source": [
    "from laboneq_applications.experiments import amplitude_fine\n",
    "q = qubits[3]\n",
    "temporary_parameters = q.parameters.copy()\n",
    "\n",
    "#######################################################################\n",
    "repetitions =np.arange(1,50)\n",
    "#######################################################################\n",
    "options = amplitude_fine.experiment_workflow_x90.options()\n",
    "options.update(True)\n",
    "options.use_cal_traces(True)\n",
    "#print(workflow.show_fields(options))\n",
    "\n",
    "###################################################################\n",
    "error_amp_half = amplitude_fine.experiment_workflow_x90(\n",
    "    session=session,\n",
    "    qpu=qpu,\n",
    "    qubits=q,\n",
    "    repetitions=repetitions,\n",
    "    temporary_parameters={q.uid : temporary_parameters},\n",
    "    options=options\n",
    ")\n",
    "\n",
    "error_amp_half_result = error_amp_half.run()\n",
    "#qubit_spec_compiled = session.compile(amplitude_rabi.create_experiment(qpu=qpu,qubit=q,amplitudes=amplitudes, options=options))\n",
    "print(error_amp_half_result.tasks['analysis_workflow'].output)"
   ]
  },
  {
   "cell_type": "markdown",
   "id": "778d02dc",
   "metadata": {},
   "source": [
    "# Dispersive Shift"
   ]
  },
  {
   "cell_type": "code",
   "execution_count": null,
   "id": "0bbb4f6d",
   "metadata": {},
   "outputs": [],
   "source": [
    "from laboneq_applications.experiments import dispersive_shift\n",
    "q = qubits[3]\n",
    "temporary_parameters = q.parameters.copy()\n",
    "\n",
    "#######################################################################\n",
    "frequencies=q.parameters.readout_resonator_frequency + np.linspace(-5e6,+5e6,101)\n",
    "states=[\"g\",\"e\"]\n",
    "\n",
    "#######################################################################\n",
    "options = dispersive_shift.experiment_workflow.options()\n",
    "options.update(True)\n",
    "#options.use_cal_traces(True)\n",
    "#print(workflow.show_fields(options))\n",
    "\n",
    "###################################################################\n",
    "dispersive = dispersive_shift.experiment_workflow(\n",
    "    session=session,\n",
    "    qpu=qpu,\n",
    "    qubit=q,\n",
    "    frequencies=frequencies,\n",
    "    states=states,\n",
    "    temporary_parameters={q.uid : temporary_parameters},\n",
    "    options=options\n",
    ")\n",
    "\n",
    "dispersive_result = dispersive.run()\n",
    "#qubit_spec_compiled = session.compile(amplitude_rabi.create_experiment(qpu=qpu,qubit=q,amplitudes=amplitudes, options=options))\n",
    "print(dispersive_result.tasks['analysis_workflow'].output)"
   ]
  },
  {
   "cell_type": "markdown",
   "id": "8ad3181e",
   "metadata": {},
   "source": [
    "# IQ blob"
   ]
  },
  {
   "cell_type": "code",
   "execution_count": null,
   "id": "826f3679",
   "metadata": {},
   "outputs": [],
   "source": [
    "from laboneq_applications.experiments import iq_blobs\n",
    "q = qubits[2]\n",
    "#temporary_parameters = q.parameters.copy()\n",
    "\n",
    "#######################################################################\n",
    "\n",
    "states=[\"g\",\"e\"]\n",
    "\n",
    "#######################################################################\n",
    "options = iq_blobs.experiment_workflow.options()\n",
    "#options.update(False)\n",
    "#options.use_cal_traces(True)\n",
    "#print(workflow.show_fields(options))\n",
    "\n",
    "###################################################################\n",
    "iq = iq_blobs.experiment_workflow(\n",
    "    session=session,\n",
    "    qpu=qpu,\n",
    "    qubits=q,\n",
    "    states=states,\n",
    "    temporary_parameters={q.uid : temporary_parameters},\n",
    "    options=options\n",
    ")\n",
    "\n",
    "iq_result = iq.run()\n",
    "#qubit_spec_compiled = session.compile(amplitude_rabi.create_experiment(qpu=qpu,qubit=q,amplitudes=amplitudes, options=options))\n"
   ]
  },
  {
   "cell_type": "markdown",
   "id": "32b10fee",
   "metadata": {},
   "source": [
    "# T1"
   ]
  },
  {
   "cell_type": "code",
   "execution_count": null,
   "id": "5948c892",
   "metadata": {},
   "outputs": [],
   "source": [
    "from laboneq_applications.experiments import lifetime_measurement\n",
    "\n",
    "options = lifetime_measurement.experiment_workflow.options()\n",
    "q=qubits[0]\n",
    "t1 = lifetime_measurement.experiment_workflow(\n",
    "    session=session,\n",
    "    qpu=qpu,\n",
    "    qubits=q,\n",
    "    delays=np.linspace(0,40e-6,201)\n",
    "    )"
   ]
  },
  {
   "cell_type": "markdown",
   "id": "c12b6729",
   "metadata": {},
   "source": [
    "# Save Qubit Parameters"
   ]
  },
  {
   "cell_type": "code",
   "execution_count": null,
   "id": "b85ba419",
   "metadata": {},
   "outputs": [],
   "source": [
    "\n",
    "from helper import load_qubit_parameters, save_qubit_parameters\n",
    "save_qubit_parameters(qubits={ qubit.uid : qubit for qubit in qubits}, save_folder=\"./qubit_parameters\", filename=\"kaist_mj\")"
   ]
  },
  {
   "cell_type": "code",
   "execution_count": null,
   "id": "a07b46f1",
   "metadata": {},
   "outputs": [],
   "source": []
  }
 ],
 "metadata": {
  "kernelspec": {
   "display_name": "Python 3",
   "language": "python",
   "name": "python3"
  },
  "language_info": {
   "codemirror_mode": {
    "name": "ipython",
    "version": 3
   },
   "file_extension": ".py",
   "mimetype": "text/x-python",
   "name": "python",
   "nbconvert_exporter": "python",
   "pygments_lexer": "ipython3",
   "version": "3.12.9"
  }
 },
 "nbformat": 4,
 "nbformat_minor": 5
}
