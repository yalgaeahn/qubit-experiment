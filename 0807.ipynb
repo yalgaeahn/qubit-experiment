{
 "cells": [
  {
   "cell_type": "markdown",
   "id": "01028011",
   "metadata": {},
   "source": [
    "# Test on  QPU"
   ]
  },
  {
   "cell_type": "code",
   "execution_count": 1,
   "id": "c1742387",
   "metadata": {},
   "outputs": [
    {
     "data": {
      "text/plain": [
       "[\u001b[1;35mSHFQC\u001b[0m\u001b[1m(\u001b[0m\n",
       "\u001b[2;32m│   \u001b[0m\u001b[33muid\u001b[0m=\u001b[32m'test_shfqc'\u001b[0m,\n",
       "\u001b[2;32m│   \u001b[0m\u001b[33minterface\u001b[0m=\u001b[32m'1GbE'\u001b[0m,\n",
       "\u001b[2;32m│   \u001b[0m\u001b[33mconnections\u001b[0m=\u001b[1m[\u001b[0m\u001b[1m]\u001b[0m,\n",
       "\u001b[2;32m│   \u001b[0m\u001b[33mserver_uid\u001b[0m=\u001b[32m'test_server'\u001b[0m,\n",
       "\u001b[2;32m│   \u001b[0m\u001b[33maddress\u001b[0m=\u001b[32m'DEV12576'\u001b[0m,\n",
       "\u001b[2;32m│   \u001b[0m\u001b[33mdevice_options\u001b[0m=\u001b[32m'SHFQC/PLUS/QC6CH'\u001b[0m,\n",
       "\u001b[2;32m│   \u001b[0m\u001b[33mreference_clock_source\u001b[0m=\u001b[3;35mNone\u001b[0m,\n",
       "\u001b[2;32m│   \u001b[0m\u001b[33mdevice_class\u001b[0m=\u001b[1;36m0\u001b[0m\n",
       "\u001b[1m)\u001b[0m\n",
       "]"
      ]
     },
     "execution_count": 1,
     "metadata": {},
     "output_type": "execute_result"
    }
   ],
   "source": [
    "from laboneq.simple import SHFQC\n",
    "from laboneq.dsl.device import DeviceSetup, create_connection\n",
    "import numpy as np\n",
    "from copy import deepcopy\n",
    "#instantiate ad device setup object\n",
    "setup = DeviceSetup(uid=\"test_setup\")\n",
    "#add a dataserver\n",
    "setup.add_dataserver(host=\"10.172.11.217\", port=\"8004\",uid=\"test_server\")\n",
    "\n",
    "setup.add_instruments(SHFQC(uid=\"test_shfqc\",server_uid=\"test_server\", address=\"DEV12576\", device_options=\"SHFQC/PLUS/QC6CH\"))\n",
    "\n",
    "setup.instruments"
   ]
  },
  {
   "cell_type": "code",
   "execution_count": 2,
   "id": "d0e50e77",
   "metadata": {},
   "outputs": [],
   "source": [
    "for ch_idx, q_idx in enumerate([15,16,17,18,19]):# enumerate 안에 len(list) 강제하고싶음\n",
    "    \n",
    "    #QA\n",
    "    setup.add_connections(\n",
    "        \"test_shfqc\",\n",
    "        create_connection(to_signal=f\"q{q_idx}/measure\", ports=\"QACHANNELS/0/OUTPUT\")) #signal_type=\"iq\"\n",
    "    setup.add_connections(\n",
    "        \"test_shfqc\",\n",
    "        create_connection(to_signal=f\"q{q_idx}/acquire\", ports=\"QACHANNELS/0/INPUT\" )) #signal_type=\"acquire\"\n",
    "    #SG\n",
    "    setup.add_connections(\n",
    "        \"test_shfqc\",\n",
    "        create_connection(to_signal=f\"q{q_idx}/drive\", ports=f\"SGCHANNELS/{ch_idx}/OUTPUT\")) #signal_type=\"iq\" only iq allowed for SG??\n",
    "    setup.add_connections(\n",
    "        \"test_shfqc\",\n",
    "        create_connection(to_signal=f\"q{q_idx}/drive_ef\", ports=f\"SGCHANNELS/{ch_idx}/OUTPUT\")) #signal_type=\"iq\" only iq allowed for SG??\n",
    "    setup.add_connections(\n",
    "        \"test_shfqc\",\n",
    "        create_connection(to_signal=f\"q{q_idx}/drive_cr\", ports=f\"SGCHANNELS/{ch_idx}/OUTPUT\"))#signal_type=\"iq\"\n"
   ]
  },
  {
   "cell_type": "code",
   "execution_count": 3,
   "id": "15f28d98",
   "metadata": {},
   "outputs": [],
   "source": [
    "from laboneq.dsl.quantum.qpu import QPU, QuantumPlatform\n",
    "from laboneq.dsl.quantum.qpu import QuantumElement\n",
    "\n",
    "from krisszi_core.contrib.jsahn.operations import TransmonOperations\n",
    "from krisszi_core.contrib.jsahn.transmon import TransmonQubit, TransmonQubitParameters\n",
    "from krisszi_core.contrib.jsahn.helper import load_qubit_parameters, save_qubit_parameters\n",
    "\n",
    "# # #TODO load_qubit_parameters should return list with TransmonQubit, currently it's a dict \n",
    "_loaded_qubits = load_qubit_parameters(filename=\"latest\") \n",
    "loaded_qubits = list(_loaded_qubits.values())\n",
    "# save_qubit_parameters(qubits={ qubit.uid : qubit for qubit in qubits}, save_folder=\"./qubit_parameters\")\n",
    "#qubits = TransmonQubit.from_device_setup(setup) # Also can be done with load_qubit_parameters \n",
    "qubits = loaded_qubits\n",
    "quantum_operations = TransmonOperations()\n",
    "qpu = QPU(quantum_elements=qubits, quantum_operations=quantum_operations)\n",
    "\n",
    "# Create a demonstration QuantumPlatform for a transmon QPU:\n",
    "quantum_platform = QuantumPlatform(setup=setup, qpu=qpu)\n",
    "\n",
    "\n",
    "from laboneq.simple import workflow\n",
    "from pathlib import Path\n",
    "\n",
    "folder_store = workflow.logbook.FolderStore(\"c:/Users/KRISS/Documents/KAIST/experiment_store\")\n",
    "folder_store.activate()\n",
    "#folder_store.deactivate()\n"
   ]
  },
  {
   "cell_type": "code",
   "execution_count": 4,
   "id": "503e26ad",
   "metadata": {},
   "outputs": [
    {
     "data": {
      "text/plain": [
       "\u001b[1;35mQPU\u001b[0m\u001b[1m(\u001b[0m\n",
       "\u001b[2;32m│   \u001b[0m\u001b[33mquantum_elements\u001b[0m=\u001b[1m[\u001b[0m\n",
       "\u001b[2;32m│   │   \u001b[0m\u001b[32m'q15'\u001b[0m,\n",
       "\u001b[2;32m│   │   \u001b[0m\u001b[32m'q16'\u001b[0m,\n",
       "\u001b[2;32m│   │   \u001b[0m\u001b[32m'q17'\u001b[0m,\n",
       "\u001b[2;32m│   │   \u001b[0m\u001b[32m'q18'\u001b[0m,\n",
       "\u001b[2;32m│   │   \u001b[0m\u001b[32m'q19'\u001b[0m\n",
       "\u001b[2;32m│   \u001b[0m\u001b[1m]\u001b[0m,\n",
       "\u001b[2;32m│   \u001b[0m\u001b[33mquantum_operations\u001b[0m=\u001b[32m'TransmonOperations'\u001b[0m,\n",
       "\u001b[2;32m│   \u001b[0m\u001b[33mtopology\u001b[0m=\u001b[1;35mQPUTopology\u001b[0m\u001b[1m(\u001b[0m\n",
       "\u001b[2;32m│   │   \u001b[0m\u001b[33medge_counts\u001b[0m=\u001b[1m{\u001b[0m\u001b[1m}\u001b[0m\n",
       "\u001b[2;32m│   \u001b[0m\u001b[1m)\u001b[0m\n",
       "\u001b[1m)\u001b[0m\n"
      ]
     },
     "execution_count": 4,
     "metadata": {},
     "output_type": "execute_result"
    }
   ],
   "source": [
    "qpu"
   ]
  },
  {
   "cell_type": "code",
   "execution_count": 5,
   "id": "e5c0c3c7",
   "metadata": {},
   "outputs": [],
   "source": [
    "for _, qubit in enumerate(qubits):\n",
    "    \n",
    "    \n",
    "    ##################LOCAL OSCILLATOR FREQUENCY AND CHANNEL POWER ###################################\n",
    "    qubit.parameters.drive_lo_frequency = 4.8e9\n",
    "    qubit.parameters.readout_lo_frequency = 7.0e9\n",
    "    qubit.parameters.readout_range_in =  0\n",
    "    qubit.parameters.readout_range_out = -25\n",
    "    qubit.parameters.drive_range = 0 \n",
    "    \n",
    "    \n",
    "    \n",
    "    ############READOUT PARAMETERS###################################################################\n",
    "    qubit.parameters.readout_length - 2.0e-6\n",
    "    qubit.parameters.readout_pulse['function'] = 'GaussianSquare'\n",
    "    qubit.parameters.readout_pulse['sigma'] = 0.1\n",
    "    qubit.parameters.readout_pulse['width'] = None\n",
    "    qubit.parameters.readout_pulse['risefall_sigma_ratio'] = 3.0\n",
    "    qubit.parameters.readout_amplitude = 1.0  #WARNING! 이거 SWEEP 할때 오버라이딩이 안되고 여기서 SCALING 됨\n",
    "    \n",
    "    \n",
    "    ###########SPECTROSCOPY PARAMETERS###############################################################\n",
    "    # Pulsed qubit spectroscopy drive ,  \n",
    "    qubit.parameters.spectroscopy_pulse['function'] = 'GaussianSquare'\n",
    "    qubit.parameters.spectroscopy_length = 5.0e-6\n",
    "    qubit.parameters.spectroscopy_pulse['sigma'] = 0.2\n",
    "    qubit.parameters.spectroscopy_pulse['width'] = None\n",
    "    qubit.parameters.spectroscopy_pulse['risefall_sigma_ratio'] = 3.0\n",
    "    qubit.parameters.spectroscopy_amplitude=0.01 \n",
    "    \n",
    "    \n",
    "    ###########TRANSITION PARAMETERS#####################################\n",
    "    qubit.parameters.ge_drive_amplitude_pi = 1.0\n",
    "    qubit.parameters.ge_drive_amplitude_pi2 = 0.5\n",
    "    qubit.parameters.ef_drive_amplitude_pi = 1.0\n",
    "    qubit.parameters.ef_drive_amplitude_pi2 = 0.5 # Initialization just to avoid potential scaling problem\n",
    "    \n",
    "\n",
    "qubits[3].parameters.readout_amplitude = 0.5\n",
    "qubits[4].parameters.readout_amplitude = 0.5\n",
    "qubits[2].parameters.readout_amplitude = 0.5\n"
   ]
  },
  {
   "cell_type": "code",
   "execution_count": 6,
   "id": "a7371dcc",
   "metadata": {},
   "outputs": [
    {
     "name": "stdout",
     "output_type": "stream",
     "text": [
      "[2025.08.07 20:29:11.710] INFO    Logging initialized from [Default inline config in laboneq.laboneq_logging] logdir is c:\\Users\\KRISS\\Documents\\KAIST\\krisszi-core\\src\\krisszi_core\\contrib\\jsahn\\laboneq_output\\log\n",
      "[2025.08.07 20:29:11.713] INFO    VERSION: laboneq 2.56.0\n",
      "[2025.08.07 20:29:11.714] INFO    Connecting to data server at 10.172.11.217:8004\n",
      "[2025.08.07 20:29:11.721] INFO    Connected to Zurich Instruments LabOne Data Server version 25.04.1.17 at 10.172.11.217:8004\n",
      "[2025.08.07 20:29:11.733] INFO    Configuring the device setup\n",
      "[2025.08.07 20:29:11.742] INFO    The device setup is configured\n"
     ]
    },
    {
     "data": {
      "text/plain": [
       "<laboneq.dsl.session.ConnectionState at 0x2614c0db6e0>"
      ]
     },
     "execution_count": 6,
     "metadata": {},
     "output_type": "execute_result"
    }
   ],
   "source": [
    "\n",
    "\n",
    "from laboneq.simple import Session\n",
    "session = Session(setup)\n",
    "session.connect()"
   ]
  },
  {
   "cell_type": "code",
   "execution_count": 7,
   "id": "b3c7bb6d",
   "metadata": {},
   "outputs": [
    {
     "data": {
      "text/plain": [
       "{'drive': '/logical_signal_groups/q17/drive',\n",
       " 'drive_ef': '/logical_signal_groups/q17/drive_ef',\n",
       " 'drive_cr': '/logical_signal_groups/q17/drive_cr',\n",
       " 'measure': '/logical_signal_groups/q17/measure',\n",
       " 'acquire': '/logical_signal_groups/q17/acquire'}"
      ]
     },
     "execution_count": 7,
     "metadata": {},
     "output_type": "execute_result"
    }
   ],
   "source": [
    "qubits[2].signals"
   ]
  },
  {
   "cell_type": "code",
   "execution_count": 8,
   "id": "3c029caf",
   "metadata": {},
   "outputs": [
    {
     "data": {
      "text/plain": [
       "{'q15': \u001b[1;35mLogicalSignalGroup\u001b[0m\u001b[1m(\u001b[0m\n",
       "\u001b[2;32m│   \u001b[0m\u001b[33muid\u001b[0m=\u001b[32m'q15'\u001b[0m,\n",
       "\u001b[2;32m│   \u001b[0m\u001b[33mlogical_signals\u001b[0m=\u001b[1m{\u001b[0m\n",
       "\u001b[2;32m│   │   \u001b[0m\u001b[32m'measure'\u001b[0m: \u001b[1;35mLogicalSignal\u001b[0m\u001b[1m(\u001b[0m\n",
       "\u001b[2;32m│   │   │   \u001b[0m\u001b[33muid\u001b[0m=\u001b[32m'q15/measure'\u001b[0m,\n",
       "\u001b[2;32m│   │   │   \u001b[0m\u001b[33mdirection\u001b[0m=\u001b[35mIODirection\u001b[0m.OUT,\n",
       "\u001b[2;32m│   │   │   \u001b[0m\u001b[33mname\u001b[0m=\u001b[32m'measure'\u001b[0m,\n",
       "\u001b[2;32m│   │   │   \u001b[0m\u001b[33mcalibration\u001b[0m=\u001b[3;35mNone\u001b[0m,\n",
       "\u001b[2;32m│   │   │   \u001b[0m\u001b[33mpath\u001b[0m=\u001b[32m'/logical_signal_groups/q15/measure'\u001b[0m,\n",
       "\u001b[2;32m│   │   │   \u001b[0m\u001b[33mphysical_channel\u001b[0m=\u001b[1;35mPhysicalChannel\u001b[0m\u001b[1m(\u001b[0m\n",
       "\u001b[2;32m│   │   │   │   \u001b[0m\u001b[33muid\u001b[0m=\u001b[32m'test_shfqc/qachannels_0_output'\u001b[0m,\n",
       "\u001b[2;32m│   │   │   │   \u001b[0m\u001b[33mname\u001b[0m=\u001b[32m'qachannels_0_output'\u001b[0m,\n",
       "\u001b[2;32m│   │   │   │   \u001b[0m\u001b[33mtype\u001b[0m=\u001b[1m<\u001b[0m\u001b[1;95mPhysicalChannelType.IQ_CHANNEL:\u001b[0m\u001b[39m \u001b[0m\u001b[32m'iq_channel'\u001b[0m\u001b[39m>,\u001b[0m\n",
       "\u001b[2;32m│   │   │   │   \u001b[0m\u001b[33mpath\u001b[0m\u001b[39m=\u001b[0m\u001b[32m'/physical_channel_groups/test_shfqc/qachannels_0_output'\u001b[0m\u001b[39m,\u001b[0m\n",
       "\u001b[2;32m│   │   │   │   \u001b[0m\u001b[33mcalibration\u001b[0m\u001b[39m=\u001b[0m\u001b[3;35mNone\u001b[0m\n",
       "\u001b[2;32m│   │   │   \u001b[0m\u001b[1;39m)\u001b[0m\n",
       "\u001b[2;32m│   │   \u001b[0m\u001b[1;39m)\u001b[0m\u001b[39m,\u001b[0m\n",
       "\u001b[2;32m│   │   \u001b[0m\u001b[32m'acquire'\u001b[0m\u001b[39m: \u001b[0m\u001b[1;35mLogicalSignal\u001b[0m\u001b[1;39m(\u001b[0m\n",
       "\u001b[2;32m│   │   │   \u001b[0m\u001b[33muid\u001b[0m\u001b[39m=\u001b[0m\u001b[32m'q15/acquire'\u001b[0m\u001b[39m,\u001b[0m\n",
       "\u001b[2;32m│   │   │   \u001b[0m\u001b[33mdirection\u001b[0m\u001b[39m=\u001b[0m\u001b[35mIODirection\u001b[0m\u001b[39m.IN,\u001b[0m\n",
       "\u001b[2;32m│   │   │   \u001b[0m\u001b[33mname\u001b[0m\u001b[39m=\u001b[0m\u001b[32m'acquire'\u001b[0m\u001b[39m,\u001b[0m\n",
       "\u001b[2;32m│   │   │   \u001b[0m\u001b[33mcalibration\u001b[0m\u001b[39m=\u001b[0m\u001b[3;35mNone\u001b[0m\u001b[39m,\u001b[0m\n",
       "\u001b[2;32m│   │   │   \u001b[0m\u001b[33mpath\u001b[0m\u001b[39m=\u001b[0m\u001b[32m'/logical_signal_groups/q15/acquire'\u001b[0m\u001b[39m,\u001b[0m\n",
       "\u001b[2;32m│   │   │   \u001b[0m\u001b[33mphysical_channel\u001b[0m\u001b[39m=\u001b[0m\u001b[1;35mPhysicalChannel\u001b[0m\u001b[1;39m(\u001b[0m\n",
       "\u001b[2;32m│   │   │   │   \u001b[0m\u001b[33muid\u001b[0m\u001b[39m=\u001b[0m\u001b[32m'test_shfqc/qachannels_0_input'\u001b[0m\u001b[39m,\u001b[0m\n",
       "\u001b[2;32m│   │   │   │   \u001b[0m\u001b[33mname\u001b[0m\u001b[39m=\u001b[0m\u001b[32m'qachannels_0_input'\u001b[0m\u001b[39m,\u001b[0m\n",
       "\u001b[2;32m│   │   │   │   \u001b[0m\u001b[33mtype\u001b[0m\u001b[39m=<PhysicalChannelType.IQ_CHANNEL: \u001b[0m\u001b[32m'iq_channel'\u001b[0m\u001b[39m>,\u001b[0m\n",
       "\u001b[2;32m│   │   │   │   \u001b[0m\u001b[33mpath\u001b[0m\u001b[39m=\u001b[0m\u001b[32m'/physical_channel_groups/test_shfqc/qachannels_0_input'\u001b[0m\u001b[39m,\u001b[0m\n",
       "\u001b[2;32m│   │   │   │   \u001b[0m\u001b[33mcalibration\u001b[0m\u001b[39m=\u001b[0m\u001b[3;35mNone\u001b[0m\n",
       "\u001b[2;32m│   │   │   \u001b[0m\u001b[1;39m)\u001b[0m\n",
       "\u001b[2;32m│   │   \u001b[0m\u001b[1;39m)\u001b[0m\u001b[39m,\u001b[0m\n",
       "\u001b[2;32m│   │   \u001b[0m\u001b[32m'drive'\u001b[0m\u001b[39m: \u001b[0m\u001b[1;35mLogicalSignal\u001b[0m\u001b[1;39m(\u001b[0m\n",
       "\u001b[2;32m│   │   │   \u001b[0m\u001b[33muid\u001b[0m\u001b[39m=\u001b[0m\u001b[32m'q15/drive'\u001b[0m\u001b[39m,\u001b[0m\n",
       "\u001b[2;32m│   │   │   \u001b[0m\u001b[33mdirection\u001b[0m\u001b[39m=\u001b[0m\u001b[35mIODirection\u001b[0m\u001b[39m.OUT,\u001b[0m\n",
       "\u001b[2;32m│   │   │   \u001b[0m\u001b[33mname\u001b[0m\u001b[39m=\u001b[0m\u001b[32m'drive'\u001b[0m\u001b[39m,\u001b[0m\n",
       "\u001b[2;32m│   │   │   \u001b[0m\u001b[33mcalibration\u001b[0m\u001b[39m=\u001b[0m\u001b[3;35mNone\u001b[0m\u001b[39m,\u001b[0m\n",
       "\u001b[2;32m│   │   │   \u001b[0m\u001b[33mpath\u001b[0m\u001b[39m=\u001b[0m\u001b[32m'/logical_signal_groups/q15/drive'\u001b[0m\u001b[39m,\u001b[0m\n",
       "\u001b[2;32m│   │   │   \u001b[0m\u001b[33mphysical_channel\u001b[0m\u001b[39m=\u001b[0m\u001b[1;35mPhysicalChannel\u001b[0m\u001b[1;39m(\u001b[0m\n",
       "\u001b[2;32m│   │   │   │   \u001b[0m\u001b[33muid\u001b[0m\u001b[39m=\u001b[0m\u001b[32m'test_shfqc/sgchannels_0_output'\u001b[0m\u001b[39m,\u001b[0m\n",
       "\u001b[2;32m│   │   │   │   \u001b[0m\u001b[33mname\u001b[0m\u001b[39m=\u001b[0m\u001b[32m'sgchannels_0_output'\u001b[0m\u001b[39m,\u001b[0m\n",
       "\u001b[2;32m│   │   │   │   \u001b[0m\u001b[33mtype\u001b[0m\u001b[39m=<PhysicalChannelType.IQ_CHANNEL: \u001b[0m\u001b[32m'iq_channel'\u001b[0m\u001b[39m>,\u001b[0m\n",
       "\u001b[2;32m│   │   │   │   \u001b[0m\u001b[33mpath\u001b[0m\u001b[39m=\u001b[0m\u001b[32m'/physical_channel_groups/test_shfqc/sgchannels_0_output'\u001b[0m\u001b[39m,\u001b[0m\n",
       "\u001b[2;32m│   │   │   │   \u001b[0m\u001b[33mcalibration\u001b[0m\u001b[39m=\u001b[0m\u001b[3;35mNone\u001b[0m\n",
       "\u001b[2;32m│   │   │   \u001b[0m\u001b[1;39m)\u001b[0m\n",
       "\u001b[2;32m│   │   \u001b[0m\u001b[1;39m)\u001b[0m\u001b[39m,\u001b[0m\n",
       "\u001b[2;32m│   │   \u001b[0m\u001b[32m'drive_ef'\u001b[0m\u001b[39m: \u001b[0m\u001b[1;35mLogicalSignal\u001b[0m\u001b[1;39m(\u001b[0m\n",
       "\u001b[2;32m│   │   │   \u001b[0m\u001b[33muid\u001b[0m\u001b[39m=\u001b[0m\u001b[32m'q15/drive_ef'\u001b[0m\u001b[39m,\u001b[0m\n",
       "\u001b[2;32m│   │   │   \u001b[0m\u001b[33mdirection\u001b[0m\u001b[39m=\u001b[0m\u001b[35mIODirection\u001b[0m\u001b[39m.OUT,\u001b[0m\n",
       "\u001b[2;32m│   │   │   \u001b[0m\u001b[33mname\u001b[0m\u001b[39m=\u001b[0m\u001b[32m'drive_ef'\u001b[0m\u001b[39m,\u001b[0m\n",
       "\u001b[2;32m│   │   │   \u001b[0m\u001b[33mcalibration\u001b[0m\u001b[39m=\u001b[0m\u001b[3;35mNone\u001b[0m\u001b[39m,\u001b[0m\n",
       "\u001b[2;32m│   │   │   \u001b[0m\u001b[33mpath\u001b[0m\u001b[39m=\u001b[0m\u001b[32m'/logical_signal_groups/q15/drive_ef'\u001b[0m\u001b[39m,\u001b[0m\n",
       "\u001b[2;32m│   │   │   \u001b[0m\u001b[33mphysical_channel\u001b[0m\u001b[39m=\u001b[0m\u001b[1;35mPhysicalChannel\u001b[0m\u001b[1;39m(\u001b[0m\n",
       "\u001b[2;32m│   │   │   │   \u001b[0m\u001b[33muid\u001b[0m\u001b[39m=\u001b[0m\u001b[32m'test_shfqc/sgchannels_0_output'\u001b[0m\u001b[39m,\u001b[0m\n",
       "\u001b[2;32m│   │   │   │   \u001b[0m\u001b[33mname\u001b[0m\u001b[39m=\u001b[0m\u001b[32m'sgchannels_0_output'\u001b[0m\u001b[39m,\u001b[0m\n",
       "\u001b[2;32m│   │   │   │   \u001b[0m\u001b[33mtype\u001b[0m\u001b[39m=<PhysicalChannelType.IQ_CHANNEL: \u001b[0m\u001b[32m'iq_channel'\u001b[0m\u001b[39m>,\u001b[0m\n",
       "\u001b[2;32m│   │   │   │   \u001b[0m\u001b[33mpath\u001b[0m\u001b[39m=\u001b[0m\u001b[32m'/physical_channel_groups/test_shfqc/sgchannels_0_output'\u001b[0m\u001b[39m,\u001b[0m\n",
       "\u001b[2;32m│   │   │   │   \u001b[0m\u001b[33mcalibration\u001b[0m\u001b[39m=\u001b[0m\u001b[3;35mNone\u001b[0m\n",
       "\u001b[2;32m│   │   │   \u001b[0m\u001b[1;39m)\u001b[0m\n",
       "\u001b[2;32m│   │   \u001b[0m\u001b[1;39m)\u001b[0m\u001b[39m,\u001b[0m\n",
       "\u001b[2;32m│   │   \u001b[0m\u001b[32m'drive_cr'\u001b[0m\u001b[39m: \u001b[0m\u001b[1;35mLogicalSignal\u001b[0m\u001b[1;39m(\u001b[0m\n",
       "\u001b[2;32m│   │   │   \u001b[0m\u001b[33muid\u001b[0m\u001b[39m=\u001b[0m\u001b[32m'q15/drive_cr'\u001b[0m\u001b[39m,\u001b[0m\n",
       "\u001b[2;32m│   │   │   \u001b[0m\u001b[33mdirection\u001b[0m\u001b[39m=\u001b[0m\u001b[35mIODirection\u001b[0m\u001b[39m.OUT,\u001b[0m\n",
       "\u001b[2;32m│   │   │   \u001b[0m\u001b[33mname\u001b[0m\u001b[39m=\u001b[0m\u001b[32m'drive_cr'\u001b[0m\u001b[39m,\u001b[0m\n",
       "\u001b[2;32m│   │   │   \u001b[0m\u001b[33mcalibration\u001b[0m\u001b[39m=\u001b[0m\u001b[3;35mNone\u001b[0m\u001b[39m,\u001b[0m\n",
       "\u001b[2;32m│   │   │   \u001b[0m\u001b[33mpath\u001b[0m\u001b[39m=\u001b[0m\u001b[32m'/logical_signal_groups/q15/drive_cr'\u001b[0m\u001b[39m,\u001b[0m\n",
       "\u001b[2;32m│   │   │   \u001b[0m\u001b[33mphysical_channel\u001b[0m\u001b[39m=\u001b[0m\u001b[1;35mPhysicalChannel\u001b[0m\u001b[1;39m(\u001b[0m\n",
       "\u001b[2;32m│   │   │   │   \u001b[0m\u001b[33muid\u001b[0m\u001b[39m=\u001b[0m\u001b[32m'test_shfqc/sgchannels_0_output'\u001b[0m\u001b[39m,\u001b[0m\n",
       "\u001b[2;32m│   │   │   │   \u001b[0m\u001b[33mname\u001b[0m\u001b[39m=\u001b[0m\u001b[32m'sgchannels_0_output'\u001b[0m\u001b[39m,\u001b[0m\n",
       "\u001b[2;32m│   │   │   │   \u001b[0m\u001b[33mtype\u001b[0m\u001b[39m=<PhysicalChannelType.IQ_CHANNEL: \u001b[0m\u001b[32m'iq_channel'\u001b[0m\u001b[1m>\u001b[0m,\n",
       "\u001b[2;32m│   │   │   │   \u001b[0m\u001b[33mpath\u001b[0m=\u001b[32m'/physical_channel_groups/test_shfqc/sgchannels_0_output'\u001b[0m,\n",
       "\u001b[2;32m│   │   │   │   \u001b[0m\u001b[33mcalibration\u001b[0m=\u001b[3;35mNone\u001b[0m\n",
       "\u001b[2;32m│   │   │   \u001b[0m\u001b[1m)\u001b[0m\n",
       "\u001b[2;32m│   │   \u001b[0m\u001b[1m)\u001b[0m\n",
       "\u001b[2;32m│   \u001b[0m\u001b[1m}\u001b[0m\n",
       "\u001b[1m)\u001b[0m\n",
       ",\n",
       " 'q16': \u001b[1;35mLogicalSignalGroup\u001b[0m\u001b[1m(\u001b[0m\n",
       "\u001b[2;32m│   \u001b[0m\u001b[33muid\u001b[0m=\u001b[32m'q16'\u001b[0m,\n",
       "\u001b[2;32m│   \u001b[0m\u001b[33mlogical_signals\u001b[0m=\u001b[1m{\u001b[0m\n",
       "\u001b[2;32m│   │   \u001b[0m\u001b[32m'measure'\u001b[0m: \u001b[1;35mLogicalSignal\u001b[0m\u001b[1m(\u001b[0m\n",
       "\u001b[2;32m│   │   │   \u001b[0m\u001b[33muid\u001b[0m=\u001b[32m'q16/measure'\u001b[0m,\n",
       "\u001b[2;32m│   │   │   \u001b[0m\u001b[33mdirection\u001b[0m=\u001b[35mIODirection\u001b[0m.OUT,\n",
       "\u001b[2;32m│   │   │   \u001b[0m\u001b[33mname\u001b[0m=\u001b[32m'measure'\u001b[0m,\n",
       "\u001b[2;32m│   │   │   \u001b[0m\u001b[33mcalibration\u001b[0m=\u001b[3;35mNone\u001b[0m,\n",
       "\u001b[2;32m│   │   │   \u001b[0m\u001b[33mpath\u001b[0m=\u001b[32m'/logical_signal_groups/q16/measure'\u001b[0m,\n",
       "\u001b[2;32m│   │   │   \u001b[0m\u001b[33mphysical_channel\u001b[0m=\u001b[1;35mPhysicalChannel\u001b[0m\u001b[1m(\u001b[0m\n",
       "\u001b[2;32m│   │   │   │   \u001b[0m\u001b[33muid\u001b[0m=\u001b[32m'test_shfqc/qachannels_0_output'\u001b[0m,\n",
       "\u001b[2;32m│   │   │   │   \u001b[0m\u001b[33mname\u001b[0m=\u001b[32m'qachannels_0_output'\u001b[0m,\n",
       "\u001b[2;32m│   │   │   │   \u001b[0m\u001b[33mtype\u001b[0m=\u001b[1m<\u001b[0m\u001b[1;95mPhysicalChannelType.IQ_CHANNEL:\u001b[0m\u001b[39m \u001b[0m\u001b[32m'iq_channel'\u001b[0m\u001b[39m>,\u001b[0m\n",
       "\u001b[2;32m│   │   │   │   \u001b[0m\u001b[33mpath\u001b[0m\u001b[39m=\u001b[0m\u001b[32m'/physical_channel_groups/test_shfqc/qachannels_0_output'\u001b[0m\u001b[39m,\u001b[0m\n",
       "\u001b[2;32m│   │   │   │   \u001b[0m\u001b[33mcalibration\u001b[0m\u001b[39m=\u001b[0m\u001b[3;35mNone\u001b[0m\n",
       "\u001b[2;32m│   │   │   \u001b[0m\u001b[1;39m)\u001b[0m\n",
       "\u001b[2;32m│   │   \u001b[0m\u001b[1;39m)\u001b[0m\u001b[39m,\u001b[0m\n",
       "\u001b[2;32m│   │   \u001b[0m\u001b[32m'acquire'\u001b[0m\u001b[39m: \u001b[0m\u001b[1;35mLogicalSignal\u001b[0m\u001b[1;39m(\u001b[0m\n",
       "\u001b[2;32m│   │   │   \u001b[0m\u001b[33muid\u001b[0m\u001b[39m=\u001b[0m\u001b[32m'q16/acquire'\u001b[0m\u001b[39m,\u001b[0m\n",
       "\u001b[2;32m│   │   │   \u001b[0m\u001b[33mdirection\u001b[0m\u001b[39m=\u001b[0m\u001b[35mIODirection\u001b[0m\u001b[39m.IN,\u001b[0m\n",
       "\u001b[2;32m│   │   │   \u001b[0m\u001b[33mname\u001b[0m\u001b[39m=\u001b[0m\u001b[32m'acquire'\u001b[0m\u001b[39m,\u001b[0m\n",
       "\u001b[2;32m│   │   │   \u001b[0m\u001b[33mcalibration\u001b[0m\u001b[39m=\u001b[0m\u001b[3;35mNone\u001b[0m\u001b[39m,\u001b[0m\n",
       "\u001b[2;32m│   │   │   \u001b[0m\u001b[33mpath\u001b[0m\u001b[39m=\u001b[0m\u001b[32m'/logical_signal_groups/q16/acquire'\u001b[0m\u001b[39m,\u001b[0m\n",
       "\u001b[2;32m│   │   │   \u001b[0m\u001b[33mphysical_channel\u001b[0m\u001b[39m=\u001b[0m\u001b[1;35mPhysicalChannel\u001b[0m\u001b[1;39m(\u001b[0m\n",
       "\u001b[2;32m│   │   │   │   \u001b[0m\u001b[33muid\u001b[0m\u001b[39m=\u001b[0m\u001b[32m'test_shfqc/qachannels_0_input'\u001b[0m\u001b[39m,\u001b[0m\n",
       "\u001b[2;32m│   │   │   │   \u001b[0m\u001b[33mname\u001b[0m\u001b[39m=\u001b[0m\u001b[32m'qachannels_0_input'\u001b[0m\u001b[39m,\u001b[0m\n",
       "\u001b[2;32m│   │   │   │   \u001b[0m\u001b[33mtype\u001b[0m\u001b[39m=<PhysicalChannelType.IQ_CHANNEL: \u001b[0m\u001b[32m'iq_channel'\u001b[0m\u001b[39m>,\u001b[0m\n",
       "\u001b[2;32m│   │   │   │   \u001b[0m\u001b[33mpath\u001b[0m\u001b[39m=\u001b[0m\u001b[32m'/physical_channel_groups/test_shfqc/qachannels_0_input'\u001b[0m\u001b[39m,\u001b[0m\n",
       "\u001b[2;32m│   │   │   │   \u001b[0m\u001b[33mcalibration\u001b[0m\u001b[39m=\u001b[0m\u001b[3;35mNone\u001b[0m\n",
       "\u001b[2;32m│   │   │   \u001b[0m\u001b[1;39m)\u001b[0m\n",
       "\u001b[2;32m│   │   \u001b[0m\u001b[1;39m)\u001b[0m\u001b[39m,\u001b[0m\n",
       "\u001b[2;32m│   │   \u001b[0m\u001b[32m'drive'\u001b[0m\u001b[39m: \u001b[0m\u001b[1;35mLogicalSignal\u001b[0m\u001b[1;39m(\u001b[0m\n",
       "\u001b[2;32m│   │   │   \u001b[0m\u001b[33muid\u001b[0m\u001b[39m=\u001b[0m\u001b[32m'q16/drive'\u001b[0m\u001b[39m,\u001b[0m\n",
       "\u001b[2;32m│   │   │   \u001b[0m\u001b[33mdirection\u001b[0m\u001b[39m=\u001b[0m\u001b[35mIODirection\u001b[0m\u001b[39m.OUT,\u001b[0m\n",
       "\u001b[2;32m│   │   │   \u001b[0m\u001b[33mname\u001b[0m\u001b[39m=\u001b[0m\u001b[32m'drive'\u001b[0m\u001b[39m,\u001b[0m\n",
       "\u001b[2;32m│   │   │   \u001b[0m\u001b[33mcalibration\u001b[0m\u001b[39m=\u001b[0m\u001b[3;35mNone\u001b[0m\u001b[39m,\u001b[0m\n",
       "\u001b[2;32m│   │   │   \u001b[0m\u001b[33mpath\u001b[0m\u001b[39m=\u001b[0m\u001b[32m'/logical_signal_groups/q16/drive'\u001b[0m\u001b[39m,\u001b[0m\n",
       "\u001b[2;32m│   │   │   \u001b[0m\u001b[33mphysical_channel\u001b[0m\u001b[39m=\u001b[0m\u001b[1;35mPhysicalChannel\u001b[0m\u001b[1;39m(\u001b[0m\n",
       "\u001b[2;32m│   │   │   │   \u001b[0m\u001b[33muid\u001b[0m\u001b[39m=\u001b[0m\u001b[32m'test_shfqc/sgchannels_1_output'\u001b[0m\u001b[39m,\u001b[0m\n",
       "\u001b[2;32m│   │   │   │   \u001b[0m\u001b[33mname\u001b[0m\u001b[39m=\u001b[0m\u001b[32m'sgchannels_1_output'\u001b[0m\u001b[39m,\u001b[0m\n",
       "\u001b[2;32m│   │   │   │   \u001b[0m\u001b[33mtype\u001b[0m\u001b[39m=<PhysicalChannelType.IQ_CHANNEL: \u001b[0m\u001b[32m'iq_channel'\u001b[0m\u001b[39m>,\u001b[0m\n",
       "\u001b[2;32m│   │   │   │   \u001b[0m\u001b[33mpath\u001b[0m\u001b[39m=\u001b[0m\u001b[32m'/physical_channel_groups/test_shfqc/sgchannels_1_output'\u001b[0m\u001b[39m,\u001b[0m\n",
       "\u001b[2;32m│   │   │   │   \u001b[0m\u001b[33mcalibration\u001b[0m\u001b[39m=\u001b[0m\u001b[3;35mNone\u001b[0m\n",
       "\u001b[2;32m│   │   │   \u001b[0m\u001b[1;39m)\u001b[0m\n",
       "\u001b[2;32m│   │   \u001b[0m\u001b[1;39m)\u001b[0m\u001b[39m,\u001b[0m\n",
       "\u001b[2;32m│   │   \u001b[0m\u001b[32m'drive_ef'\u001b[0m\u001b[39m: \u001b[0m\u001b[1;35mLogicalSignal\u001b[0m\u001b[1;39m(\u001b[0m\n",
       "\u001b[2;32m│   │   │   \u001b[0m\u001b[33muid\u001b[0m\u001b[39m=\u001b[0m\u001b[32m'q16/drive_ef'\u001b[0m\u001b[39m,\u001b[0m\n",
       "\u001b[2;32m│   │   │   \u001b[0m\u001b[33mdirection\u001b[0m\u001b[39m=\u001b[0m\u001b[35mIODirection\u001b[0m\u001b[39m.OUT,\u001b[0m\n",
       "\u001b[2;32m│   │   │   \u001b[0m\u001b[33mname\u001b[0m\u001b[39m=\u001b[0m\u001b[32m'drive_ef'\u001b[0m\u001b[39m,\u001b[0m\n",
       "\u001b[2;32m│   │   │   \u001b[0m\u001b[33mcalibration\u001b[0m\u001b[39m=\u001b[0m\u001b[3;35mNone\u001b[0m\u001b[39m,\u001b[0m\n",
       "\u001b[2;32m│   │   │   \u001b[0m\u001b[33mpath\u001b[0m\u001b[39m=\u001b[0m\u001b[32m'/logical_signal_groups/q16/drive_ef'\u001b[0m\u001b[39m,\u001b[0m\n",
       "\u001b[2;32m│   │   │   \u001b[0m\u001b[33mphysical_channel\u001b[0m\u001b[39m=\u001b[0m\u001b[1;35mPhysicalChannel\u001b[0m\u001b[1;39m(\u001b[0m\n",
       "\u001b[2;32m│   │   │   │   \u001b[0m\u001b[33muid\u001b[0m\u001b[39m=\u001b[0m\u001b[32m'test_shfqc/sgchannels_1_output'\u001b[0m\u001b[39m,\u001b[0m\n",
       "\u001b[2;32m│   │   │   │   \u001b[0m\u001b[33mname\u001b[0m\u001b[39m=\u001b[0m\u001b[32m'sgchannels_1_output'\u001b[0m\u001b[39m,\u001b[0m\n",
       "\u001b[2;32m│   │   │   │   \u001b[0m\u001b[33mtype\u001b[0m\u001b[39m=<PhysicalChannelType.IQ_CHANNEL: \u001b[0m\u001b[32m'iq_channel'\u001b[0m\u001b[39m>,\u001b[0m\n",
       "\u001b[2;32m│   │   │   │   \u001b[0m\u001b[33mpath\u001b[0m\u001b[39m=\u001b[0m\u001b[32m'/physical_channel_groups/test_shfqc/sgchannels_1_output'\u001b[0m\u001b[39m,\u001b[0m\n",
       "\u001b[2;32m│   │   │   │   \u001b[0m\u001b[33mcalibration\u001b[0m\u001b[39m=\u001b[0m\u001b[3;35mNone\u001b[0m\n",
       "\u001b[2;32m│   │   │   \u001b[0m\u001b[1;39m)\u001b[0m\n",
       "\u001b[2;32m│   │   \u001b[0m\u001b[1;39m)\u001b[0m\u001b[39m,\u001b[0m\n",
       "\u001b[2;32m│   │   \u001b[0m\u001b[32m'drive_cr'\u001b[0m\u001b[39m: \u001b[0m\u001b[1;35mLogicalSignal\u001b[0m\u001b[1;39m(\u001b[0m\n",
       "\u001b[2;32m│   │   │   \u001b[0m\u001b[33muid\u001b[0m\u001b[39m=\u001b[0m\u001b[32m'q16/drive_cr'\u001b[0m\u001b[39m,\u001b[0m\n",
       "\u001b[2;32m│   │   │   \u001b[0m\u001b[33mdirection\u001b[0m\u001b[39m=\u001b[0m\u001b[35mIODirection\u001b[0m\u001b[39m.OUT,\u001b[0m\n",
       "\u001b[2;32m│   │   │   \u001b[0m\u001b[33mname\u001b[0m\u001b[39m=\u001b[0m\u001b[32m'drive_cr'\u001b[0m\u001b[39m,\u001b[0m\n",
       "\u001b[2;32m│   │   │   \u001b[0m\u001b[33mcalibration\u001b[0m\u001b[39m=\u001b[0m\u001b[3;35mNone\u001b[0m\u001b[39m,\u001b[0m\n",
       "\u001b[2;32m│   │   │   \u001b[0m\u001b[33mpath\u001b[0m\u001b[39m=\u001b[0m\u001b[32m'/logical_signal_groups/q16/drive_cr'\u001b[0m\u001b[39m,\u001b[0m\n",
       "\u001b[2;32m│   │   │   \u001b[0m\u001b[33mphysical_channel\u001b[0m\u001b[39m=\u001b[0m\u001b[1;35mPhysicalChannel\u001b[0m\u001b[1;39m(\u001b[0m\n",
       "\u001b[2;32m│   │   │   │   \u001b[0m\u001b[33muid\u001b[0m\u001b[39m=\u001b[0m\u001b[32m'test_shfqc/sgchannels_1_output'\u001b[0m\u001b[39m,\u001b[0m\n",
       "\u001b[2;32m│   │   │   │   \u001b[0m\u001b[33mname\u001b[0m\u001b[39m=\u001b[0m\u001b[32m'sgchannels_1_output'\u001b[0m\u001b[39m,\u001b[0m\n",
       "\u001b[2;32m│   │   │   │   \u001b[0m\u001b[33mtype\u001b[0m\u001b[39m=<PhysicalChannelType.IQ_CHANNEL: \u001b[0m\u001b[32m'iq_channel'\u001b[0m\u001b[1m>\u001b[0m,\n",
       "\u001b[2;32m│   │   │   │   \u001b[0m\u001b[33mpath\u001b[0m=\u001b[32m'/physical_channel_groups/test_shfqc/sgchannels_1_output'\u001b[0m,\n",
       "\u001b[2;32m│   │   │   │   \u001b[0m\u001b[33mcalibration\u001b[0m=\u001b[3;35mNone\u001b[0m\n",
       "\u001b[2;32m│   │   │   \u001b[0m\u001b[1m)\u001b[0m\n",
       "\u001b[2;32m│   │   \u001b[0m\u001b[1m)\u001b[0m\n",
       "\u001b[2;32m│   \u001b[0m\u001b[1m}\u001b[0m\n",
       "\u001b[1m)\u001b[0m\n",
       ",\n",
       " 'q17': \u001b[1;35mLogicalSignalGroup\u001b[0m\u001b[1m(\u001b[0m\n",
       "\u001b[2;32m│   \u001b[0m\u001b[33muid\u001b[0m=\u001b[32m'q17'\u001b[0m,\n",
       "\u001b[2;32m│   \u001b[0m\u001b[33mlogical_signals\u001b[0m=\u001b[1m{\u001b[0m\n",
       "\u001b[2;32m│   │   \u001b[0m\u001b[32m'measure'\u001b[0m: \u001b[1;35mLogicalSignal\u001b[0m\u001b[1m(\u001b[0m\n",
       "\u001b[2;32m│   │   │   \u001b[0m\u001b[33muid\u001b[0m=\u001b[32m'q17/measure'\u001b[0m,\n",
       "\u001b[2;32m│   │   │   \u001b[0m\u001b[33mdirection\u001b[0m=\u001b[35mIODirection\u001b[0m.OUT,\n",
       "\u001b[2;32m│   │   │   \u001b[0m\u001b[33mname\u001b[0m=\u001b[32m'measure'\u001b[0m,\n",
       "\u001b[2;32m│   │   │   \u001b[0m\u001b[33mcalibration\u001b[0m=\u001b[3;35mNone\u001b[0m,\n",
       "\u001b[2;32m│   │   │   \u001b[0m\u001b[33mpath\u001b[0m=\u001b[32m'/logical_signal_groups/q17/measure'\u001b[0m,\n",
       "\u001b[2;32m│   │   │   \u001b[0m\u001b[33mphysical_channel\u001b[0m=\u001b[1;35mPhysicalChannel\u001b[0m\u001b[1m(\u001b[0m\n",
       "\u001b[2;32m│   │   │   │   \u001b[0m\u001b[33muid\u001b[0m=\u001b[32m'test_shfqc/qachannels_0_output'\u001b[0m,\n",
       "\u001b[2;32m│   │   │   │   \u001b[0m\u001b[33mname\u001b[0m=\u001b[32m'qachannels_0_output'\u001b[0m,\n",
       "\u001b[2;32m│   │   │   │   \u001b[0m\u001b[33mtype\u001b[0m=\u001b[1m<\u001b[0m\u001b[1;95mPhysicalChannelType.IQ_CHANNEL:\u001b[0m\u001b[39m \u001b[0m\u001b[32m'iq_channel'\u001b[0m\u001b[39m>,\u001b[0m\n",
       "\u001b[2;32m│   │   │   │   \u001b[0m\u001b[33mpath\u001b[0m\u001b[39m=\u001b[0m\u001b[32m'/physical_channel_groups/test_shfqc/qachannels_0_output'\u001b[0m\u001b[39m,\u001b[0m\n",
       "\u001b[2;32m│   │   │   │   \u001b[0m\u001b[33mcalibration\u001b[0m\u001b[39m=\u001b[0m\u001b[3;35mNone\u001b[0m\n",
       "\u001b[2;32m│   │   │   \u001b[0m\u001b[1;39m)\u001b[0m\n",
       "\u001b[2;32m│   │   \u001b[0m\u001b[1;39m)\u001b[0m\u001b[39m,\u001b[0m\n",
       "\u001b[2;32m│   │   \u001b[0m\u001b[32m'acquire'\u001b[0m\u001b[39m: \u001b[0m\u001b[1;35mLogicalSignal\u001b[0m\u001b[1;39m(\u001b[0m\n",
       "\u001b[2;32m│   │   │   \u001b[0m\u001b[33muid\u001b[0m\u001b[39m=\u001b[0m\u001b[32m'q17/acquire'\u001b[0m\u001b[39m,\u001b[0m\n",
       "\u001b[2;32m│   │   │   \u001b[0m\u001b[33mdirection\u001b[0m\u001b[39m=\u001b[0m\u001b[35mIODirection\u001b[0m\u001b[39m.IN,\u001b[0m\n",
       "\u001b[2;32m│   │   │   \u001b[0m\u001b[33mname\u001b[0m\u001b[39m=\u001b[0m\u001b[32m'acquire'\u001b[0m\u001b[39m,\u001b[0m\n",
       "\u001b[2;32m│   │   │   \u001b[0m\u001b[33mcalibration\u001b[0m\u001b[39m=\u001b[0m\u001b[3;35mNone\u001b[0m\u001b[39m,\u001b[0m\n",
       "\u001b[2;32m│   │   │   \u001b[0m\u001b[33mpath\u001b[0m\u001b[39m=\u001b[0m\u001b[32m'/logical_signal_groups/q17/acquire'\u001b[0m\u001b[39m,\u001b[0m\n",
       "\u001b[2;32m│   │   │   \u001b[0m\u001b[33mphysical_channel\u001b[0m\u001b[39m=\u001b[0m\u001b[1;35mPhysicalChannel\u001b[0m\u001b[1;39m(\u001b[0m\n",
       "\u001b[2;32m│   │   │   │   \u001b[0m\u001b[33muid\u001b[0m\u001b[39m=\u001b[0m\u001b[32m'test_shfqc/qachannels_0_input'\u001b[0m\u001b[39m,\u001b[0m\n",
       "\u001b[2;32m│   │   │   │   \u001b[0m\u001b[33mname\u001b[0m\u001b[39m=\u001b[0m\u001b[32m'qachannels_0_input'\u001b[0m\u001b[39m,\u001b[0m\n",
       "\u001b[2;32m│   │   │   │   \u001b[0m\u001b[33mtype\u001b[0m\u001b[39m=<PhysicalChannelType.IQ_CHANNEL: \u001b[0m\u001b[32m'iq_channel'\u001b[0m\u001b[39m>,\u001b[0m\n",
       "\u001b[2;32m│   │   │   │   \u001b[0m\u001b[33mpath\u001b[0m\u001b[39m=\u001b[0m\u001b[32m'/physical_channel_groups/test_shfqc/qachannels_0_input'\u001b[0m\u001b[39m,\u001b[0m\n",
       "\u001b[2;32m│   │   │   │   \u001b[0m\u001b[33mcalibration\u001b[0m\u001b[39m=\u001b[0m\u001b[3;35mNone\u001b[0m\n",
       "\u001b[2;32m│   │   │   \u001b[0m\u001b[1;39m)\u001b[0m\n",
       "\u001b[2;32m│   │   \u001b[0m\u001b[1;39m)\u001b[0m\u001b[39m,\u001b[0m\n",
       "\u001b[2;32m│   │   \u001b[0m\u001b[32m'drive'\u001b[0m\u001b[39m: \u001b[0m\u001b[1;35mLogicalSignal\u001b[0m\u001b[1;39m(\u001b[0m\n",
       "\u001b[2;32m│   │   │   \u001b[0m\u001b[33muid\u001b[0m\u001b[39m=\u001b[0m\u001b[32m'q17/drive'\u001b[0m\u001b[39m,\u001b[0m\n",
       "\u001b[2;32m│   │   │   \u001b[0m\u001b[33mdirection\u001b[0m\u001b[39m=\u001b[0m\u001b[35mIODirection\u001b[0m\u001b[39m.OUT,\u001b[0m\n",
       "\u001b[2;32m│   │   │   \u001b[0m\u001b[33mname\u001b[0m\u001b[39m=\u001b[0m\u001b[32m'drive'\u001b[0m\u001b[39m,\u001b[0m\n",
       "\u001b[2;32m│   │   │   \u001b[0m\u001b[33mcalibration\u001b[0m\u001b[39m=\u001b[0m\u001b[3;35mNone\u001b[0m\u001b[39m,\u001b[0m\n",
       "\u001b[2;32m│   │   │   \u001b[0m\u001b[33mpath\u001b[0m\u001b[39m=\u001b[0m\u001b[32m'/logical_signal_groups/q17/drive'\u001b[0m\u001b[39m,\u001b[0m\n",
       "\u001b[2;32m│   │   │   \u001b[0m\u001b[33mphysical_channel\u001b[0m\u001b[39m=\u001b[0m\u001b[1;35mPhysicalChannel\u001b[0m\u001b[1;39m(\u001b[0m\n",
       "\u001b[2;32m│   │   │   │   \u001b[0m\u001b[33muid\u001b[0m\u001b[39m=\u001b[0m\u001b[32m'test_shfqc/sgchannels_2_output'\u001b[0m\u001b[39m,\u001b[0m\n",
       "\u001b[2;32m│   │   │   │   \u001b[0m\u001b[33mname\u001b[0m\u001b[39m=\u001b[0m\u001b[32m'sgchannels_2_output'\u001b[0m\u001b[39m,\u001b[0m\n",
       "\u001b[2;32m│   │   │   │   \u001b[0m\u001b[33mtype\u001b[0m\u001b[39m=<PhysicalChannelType.IQ_CHANNEL: \u001b[0m\u001b[32m'iq_channel'\u001b[0m\u001b[39m>,\u001b[0m\n",
       "\u001b[2;32m│   │   │   │   \u001b[0m\u001b[33mpath\u001b[0m\u001b[39m=\u001b[0m\u001b[32m'/physical_channel_groups/test_shfqc/sgchannels_2_output'\u001b[0m\u001b[39m,\u001b[0m\n",
       "\u001b[2;32m│   │   │   │   \u001b[0m\u001b[33mcalibration\u001b[0m\u001b[39m=\u001b[0m\u001b[3;35mNone\u001b[0m\n",
       "\u001b[2;32m│   │   │   \u001b[0m\u001b[1;39m)\u001b[0m\n",
       "\u001b[2;32m│   │   \u001b[0m\u001b[1;39m)\u001b[0m\u001b[39m,\u001b[0m\n",
       "\u001b[2;32m│   │   \u001b[0m\u001b[32m'drive_ef'\u001b[0m\u001b[39m: \u001b[0m\u001b[1;35mLogicalSignal\u001b[0m\u001b[1;39m(\u001b[0m\n",
       "\u001b[2;32m│   │   │   \u001b[0m\u001b[33muid\u001b[0m\u001b[39m=\u001b[0m\u001b[32m'q17/drive_ef'\u001b[0m\u001b[39m,\u001b[0m\n",
       "\u001b[2;32m│   │   │   \u001b[0m\u001b[33mdirection\u001b[0m\u001b[39m=\u001b[0m\u001b[35mIODirection\u001b[0m\u001b[39m.OUT,\u001b[0m\n",
       "\u001b[2;32m│   │   │   \u001b[0m\u001b[33mname\u001b[0m\u001b[39m=\u001b[0m\u001b[32m'drive_ef'\u001b[0m\u001b[39m,\u001b[0m\n",
       "\u001b[2;32m│   │   │   \u001b[0m\u001b[33mcalibration\u001b[0m\u001b[39m=\u001b[0m\u001b[3;35mNone\u001b[0m\u001b[39m,\u001b[0m\n",
       "\u001b[2;32m│   │   │   \u001b[0m\u001b[33mpath\u001b[0m\u001b[39m=\u001b[0m\u001b[32m'/logical_signal_groups/q17/drive_ef'\u001b[0m\u001b[39m,\u001b[0m\n",
       "\u001b[2;32m│   │   │   \u001b[0m\u001b[33mphysical_channel\u001b[0m\u001b[39m=\u001b[0m\u001b[1;35mPhysicalChannel\u001b[0m\u001b[1;39m(\u001b[0m\n",
       "\u001b[2;32m│   │   │   │   \u001b[0m\u001b[33muid\u001b[0m\u001b[39m=\u001b[0m\u001b[32m'test_shfqc/sgchannels_2_output'\u001b[0m\u001b[39m,\u001b[0m\n",
       "\u001b[2;32m│   │   │   │   \u001b[0m\u001b[33mname\u001b[0m\u001b[39m=\u001b[0m\u001b[32m'sgchannels_2_output'\u001b[0m\u001b[39m,\u001b[0m\n",
       "\u001b[2;32m│   │   │   │   \u001b[0m\u001b[33mtype\u001b[0m\u001b[39m=<PhysicalChannelType.IQ_CHANNEL: \u001b[0m\u001b[32m'iq_channel'\u001b[0m\u001b[39m>,\u001b[0m\n",
       "\u001b[2;32m│   │   │   │   \u001b[0m\u001b[33mpath\u001b[0m\u001b[39m=\u001b[0m\u001b[32m'/physical_channel_groups/test_shfqc/sgchannels_2_output'\u001b[0m\u001b[39m,\u001b[0m\n",
       "\u001b[2;32m│   │   │   │   \u001b[0m\u001b[33mcalibration\u001b[0m\u001b[39m=\u001b[0m\u001b[3;35mNone\u001b[0m\n",
       "\u001b[2;32m│   │   │   \u001b[0m\u001b[1;39m)\u001b[0m\n",
       "\u001b[2;32m│   │   \u001b[0m\u001b[1;39m)\u001b[0m\u001b[39m,\u001b[0m\n",
       "\u001b[2;32m│   │   \u001b[0m\u001b[32m'drive_cr'\u001b[0m\u001b[39m: \u001b[0m\u001b[1;35mLogicalSignal\u001b[0m\u001b[1;39m(\u001b[0m\n",
       "\u001b[2;32m│   │   │   \u001b[0m\u001b[33muid\u001b[0m\u001b[39m=\u001b[0m\u001b[32m'q17/drive_cr'\u001b[0m\u001b[39m,\u001b[0m\n",
       "\u001b[2;32m│   │   │   \u001b[0m\u001b[33mdirection\u001b[0m\u001b[39m=\u001b[0m\u001b[35mIODirection\u001b[0m\u001b[39m.OUT,\u001b[0m\n",
       "\u001b[2;32m│   │   │   \u001b[0m\u001b[33mname\u001b[0m\u001b[39m=\u001b[0m\u001b[32m'drive_cr'\u001b[0m\u001b[39m,\u001b[0m\n",
       "\u001b[2;32m│   │   │   \u001b[0m\u001b[33mcalibration\u001b[0m\u001b[39m=\u001b[0m\u001b[3;35mNone\u001b[0m\u001b[39m,\u001b[0m\n",
       "\u001b[2;32m│   │   │   \u001b[0m\u001b[33mpath\u001b[0m\u001b[39m=\u001b[0m\u001b[32m'/logical_signal_groups/q17/drive_cr'\u001b[0m\u001b[39m,\u001b[0m\n",
       "\u001b[2;32m│   │   │   \u001b[0m\u001b[33mphysical_channel\u001b[0m\u001b[39m=\u001b[0m\u001b[1;35mPhysicalChannel\u001b[0m\u001b[1;39m(\u001b[0m\n",
       "\u001b[2;32m│   │   │   │   \u001b[0m\u001b[33muid\u001b[0m\u001b[39m=\u001b[0m\u001b[32m'test_shfqc/sgchannels_2_output'\u001b[0m\u001b[39m,\u001b[0m\n",
       "\u001b[2;32m│   │   │   │   \u001b[0m\u001b[33mname\u001b[0m\u001b[39m=\u001b[0m\u001b[32m'sgchannels_2_output'\u001b[0m\u001b[39m,\u001b[0m\n",
       "\u001b[2;32m│   │   │   │   \u001b[0m\u001b[33mtype\u001b[0m\u001b[39m=<PhysicalChannelType.IQ_CHANNEL: \u001b[0m\u001b[32m'iq_channel'\u001b[0m\u001b[1m>\u001b[0m,\n",
       "\u001b[2;32m│   │   │   │   \u001b[0m\u001b[33mpath\u001b[0m=\u001b[32m'/physical_channel_groups/test_shfqc/sgchannels_2_output'\u001b[0m,\n",
       "\u001b[2;32m│   │   │   │   \u001b[0m\u001b[33mcalibration\u001b[0m=\u001b[3;35mNone\u001b[0m\n",
       "\u001b[2;32m│   │   │   \u001b[0m\u001b[1m)\u001b[0m\n",
       "\u001b[2;32m│   │   \u001b[0m\u001b[1m)\u001b[0m\n",
       "\u001b[2;32m│   \u001b[0m\u001b[1m}\u001b[0m\n",
       "\u001b[1m)\u001b[0m\n",
       ",\n",
       " 'q18': \u001b[1;35mLogicalSignalGroup\u001b[0m\u001b[1m(\u001b[0m\n",
       "\u001b[2;32m│   \u001b[0m\u001b[33muid\u001b[0m=\u001b[32m'q18'\u001b[0m,\n",
       "\u001b[2;32m│   \u001b[0m\u001b[33mlogical_signals\u001b[0m=\u001b[1m{\u001b[0m\n",
       "\u001b[2;32m│   │   \u001b[0m\u001b[32m'measure'\u001b[0m: \u001b[1;35mLogicalSignal\u001b[0m\u001b[1m(\u001b[0m\n",
       "\u001b[2;32m│   │   │   \u001b[0m\u001b[33muid\u001b[0m=\u001b[32m'q18/measure'\u001b[0m,\n",
       "\u001b[2;32m│   │   │   \u001b[0m\u001b[33mdirection\u001b[0m=\u001b[35mIODirection\u001b[0m.OUT,\n",
       "\u001b[2;32m│   │   │   \u001b[0m\u001b[33mname\u001b[0m=\u001b[32m'measure'\u001b[0m,\n",
       "\u001b[2;32m│   │   │   \u001b[0m\u001b[33mcalibration\u001b[0m=\u001b[3;35mNone\u001b[0m,\n",
       "\u001b[2;32m│   │   │   \u001b[0m\u001b[33mpath\u001b[0m=\u001b[32m'/logical_signal_groups/q18/measure'\u001b[0m,\n",
       "\u001b[2;32m│   │   │   \u001b[0m\u001b[33mphysical_channel\u001b[0m=\u001b[1;35mPhysicalChannel\u001b[0m\u001b[1m(\u001b[0m\n",
       "\u001b[2;32m│   │   │   │   \u001b[0m\u001b[33muid\u001b[0m=\u001b[32m'test_shfqc/qachannels_0_output'\u001b[0m,\n",
       "\u001b[2;32m│   │   │   │   \u001b[0m\u001b[33mname\u001b[0m=\u001b[32m'qachannels_0_output'\u001b[0m,\n",
       "\u001b[2;32m│   │   │   │   \u001b[0m\u001b[33mtype\u001b[0m=\u001b[1m<\u001b[0m\u001b[1;95mPhysicalChannelType.IQ_CHANNEL:\u001b[0m\u001b[39m \u001b[0m\u001b[32m'iq_channel'\u001b[0m\u001b[39m>,\u001b[0m\n",
       "\u001b[2;32m│   │   │   │   \u001b[0m\u001b[33mpath\u001b[0m\u001b[39m=\u001b[0m\u001b[32m'/physical_channel_groups/test_shfqc/qachannels_0_output'\u001b[0m\u001b[39m,\u001b[0m\n",
       "\u001b[2;32m│   │   │   │   \u001b[0m\u001b[33mcalibration\u001b[0m\u001b[39m=\u001b[0m\u001b[3;35mNone\u001b[0m\n",
       "\u001b[2;32m│   │   │   \u001b[0m\u001b[1;39m)\u001b[0m\n",
       "\u001b[2;32m│   │   \u001b[0m\u001b[1;39m)\u001b[0m\u001b[39m,\u001b[0m\n",
       "\u001b[2;32m│   │   \u001b[0m\u001b[32m'acquire'\u001b[0m\u001b[39m: \u001b[0m\u001b[1;35mLogicalSignal\u001b[0m\u001b[1;39m(\u001b[0m\n",
       "\u001b[2;32m│   │   │   \u001b[0m\u001b[33muid\u001b[0m\u001b[39m=\u001b[0m\u001b[32m'q18/acquire'\u001b[0m\u001b[39m,\u001b[0m\n",
       "\u001b[2;32m│   │   │   \u001b[0m\u001b[33mdirection\u001b[0m\u001b[39m=\u001b[0m\u001b[35mIODirection\u001b[0m\u001b[39m.IN,\u001b[0m\n",
       "\u001b[2;32m│   │   │   \u001b[0m\u001b[33mname\u001b[0m\u001b[39m=\u001b[0m\u001b[32m'acquire'\u001b[0m\u001b[39m,\u001b[0m\n",
       "\u001b[2;32m│   │   │   \u001b[0m\u001b[33mcalibration\u001b[0m\u001b[39m=\u001b[0m\u001b[3;35mNone\u001b[0m\u001b[39m,\u001b[0m\n",
       "\u001b[2;32m│   │   │   \u001b[0m\u001b[33mpath\u001b[0m\u001b[39m=\u001b[0m\u001b[32m'/logical_signal_groups/q18/acquire'\u001b[0m\u001b[39m,\u001b[0m\n",
       "\u001b[2;32m│   │   │   \u001b[0m\u001b[33mphysical_channel\u001b[0m\u001b[39m=\u001b[0m\u001b[1;35mPhysicalChannel\u001b[0m\u001b[1;39m(\u001b[0m\n",
       "\u001b[2;32m│   │   │   │   \u001b[0m\u001b[33muid\u001b[0m\u001b[39m=\u001b[0m\u001b[32m'test_shfqc/qachannels_0_input'\u001b[0m\u001b[39m,\u001b[0m\n",
       "\u001b[2;32m│   │   │   │   \u001b[0m\u001b[33mname\u001b[0m\u001b[39m=\u001b[0m\u001b[32m'qachannels_0_input'\u001b[0m\u001b[39m,\u001b[0m\n",
       "\u001b[2;32m│   │   │   │   \u001b[0m\u001b[33mtype\u001b[0m\u001b[39m=<PhysicalChannelType.IQ_CHANNEL: \u001b[0m\u001b[32m'iq_channel'\u001b[0m\u001b[39m>,\u001b[0m\n",
       "\u001b[2;32m│   │   │   │   \u001b[0m\u001b[33mpath\u001b[0m\u001b[39m=\u001b[0m\u001b[32m'/physical_channel_groups/test_shfqc/qachannels_0_input'\u001b[0m\u001b[39m,\u001b[0m\n",
       "\u001b[2;32m│   │   │   │   \u001b[0m\u001b[33mcalibration\u001b[0m\u001b[39m=\u001b[0m\u001b[3;35mNone\u001b[0m\n",
       "\u001b[2;32m│   │   │   \u001b[0m\u001b[1;39m)\u001b[0m\n",
       "\u001b[2;32m│   │   \u001b[0m\u001b[1;39m)\u001b[0m\u001b[39m,\u001b[0m\n",
       "\u001b[2;32m│   │   \u001b[0m\u001b[32m'drive'\u001b[0m\u001b[39m: \u001b[0m\u001b[1;35mLogicalSignal\u001b[0m\u001b[1;39m(\u001b[0m\n",
       "\u001b[2;32m│   │   │   \u001b[0m\u001b[33muid\u001b[0m\u001b[39m=\u001b[0m\u001b[32m'q18/drive'\u001b[0m\u001b[39m,\u001b[0m\n",
       "\u001b[2;32m│   │   │   \u001b[0m\u001b[33mdirection\u001b[0m\u001b[39m=\u001b[0m\u001b[35mIODirection\u001b[0m\u001b[39m.OUT,\u001b[0m\n",
       "\u001b[2;32m│   │   │   \u001b[0m\u001b[33mname\u001b[0m\u001b[39m=\u001b[0m\u001b[32m'drive'\u001b[0m\u001b[39m,\u001b[0m\n",
       "\u001b[2;32m│   │   │   \u001b[0m\u001b[33mcalibration\u001b[0m\u001b[39m=\u001b[0m\u001b[3;35mNone\u001b[0m\u001b[39m,\u001b[0m\n",
       "\u001b[2;32m│   │   │   \u001b[0m\u001b[33mpath\u001b[0m\u001b[39m=\u001b[0m\u001b[32m'/logical_signal_groups/q18/drive'\u001b[0m\u001b[39m,\u001b[0m\n",
       "\u001b[2;32m│   │   │   \u001b[0m\u001b[33mphysical_channel\u001b[0m\u001b[39m=\u001b[0m\u001b[1;35mPhysicalChannel\u001b[0m\u001b[1;39m(\u001b[0m\n",
       "\u001b[2;32m│   │   │   │   \u001b[0m\u001b[33muid\u001b[0m\u001b[39m=\u001b[0m\u001b[32m'test_shfqc/sgchannels_3_output'\u001b[0m\u001b[39m,\u001b[0m\n",
       "\u001b[2;32m│   │   │   │   \u001b[0m\u001b[33mname\u001b[0m\u001b[39m=\u001b[0m\u001b[32m'sgchannels_3_output'\u001b[0m\u001b[39m,\u001b[0m\n",
       "\u001b[2;32m│   │   │   │   \u001b[0m\u001b[33mtype\u001b[0m\u001b[39m=<PhysicalChannelType.IQ_CHANNEL: \u001b[0m\u001b[32m'iq_channel'\u001b[0m\u001b[39m>,\u001b[0m\n",
       "\u001b[2;32m│   │   │   │   \u001b[0m\u001b[33mpath\u001b[0m\u001b[39m=\u001b[0m\u001b[32m'/physical_channel_groups/test_shfqc/sgchannels_3_output'\u001b[0m\u001b[39m,\u001b[0m\n",
       "\u001b[2;32m│   │   │   │   \u001b[0m\u001b[33mcalibration\u001b[0m\u001b[39m=\u001b[0m\u001b[3;35mNone\u001b[0m\n",
       "\u001b[2;32m│   │   │   \u001b[0m\u001b[1;39m)\u001b[0m\n",
       "\u001b[2;32m│   │   \u001b[0m\u001b[1;39m)\u001b[0m\u001b[39m,\u001b[0m\n",
       "\u001b[2;32m│   │   \u001b[0m\u001b[32m'drive_ef'\u001b[0m\u001b[39m: \u001b[0m\u001b[1;35mLogicalSignal\u001b[0m\u001b[1;39m(\u001b[0m\n",
       "\u001b[2;32m│   │   │   \u001b[0m\u001b[33muid\u001b[0m\u001b[39m=\u001b[0m\u001b[32m'q18/drive_ef'\u001b[0m\u001b[39m,\u001b[0m\n",
       "\u001b[2;32m│   │   │   \u001b[0m\u001b[33mdirection\u001b[0m\u001b[39m=\u001b[0m\u001b[35mIODirection\u001b[0m\u001b[39m.OUT,\u001b[0m\n",
       "\u001b[2;32m│   │   │   \u001b[0m\u001b[33mname\u001b[0m\u001b[39m=\u001b[0m\u001b[32m'drive_ef'\u001b[0m\u001b[39m,\u001b[0m\n",
       "\u001b[2;32m│   │   │   \u001b[0m\u001b[33mcalibration\u001b[0m\u001b[39m=\u001b[0m\u001b[3;35mNone\u001b[0m\u001b[39m,\u001b[0m\n",
       "\u001b[2;32m│   │   │   \u001b[0m\u001b[33mpath\u001b[0m\u001b[39m=\u001b[0m\u001b[32m'/logical_signal_groups/q18/drive_ef'\u001b[0m\u001b[39m,\u001b[0m\n",
       "\u001b[2;32m│   │   │   \u001b[0m\u001b[33mphysical_channel\u001b[0m\u001b[39m=\u001b[0m\u001b[1;35mPhysicalChannel\u001b[0m\u001b[1;39m(\u001b[0m\n",
       "\u001b[2;32m│   │   │   │   \u001b[0m\u001b[33muid\u001b[0m\u001b[39m=\u001b[0m\u001b[32m'test_shfqc/sgchannels_3_output'\u001b[0m\u001b[39m,\u001b[0m\n",
       "\u001b[2;32m│   │   │   │   \u001b[0m\u001b[33mname\u001b[0m\u001b[39m=\u001b[0m\u001b[32m'sgchannels_3_output'\u001b[0m\u001b[39m,\u001b[0m\n",
       "\u001b[2;32m│   │   │   │   \u001b[0m\u001b[33mtype\u001b[0m\u001b[39m=<PhysicalChannelType.IQ_CHANNEL: \u001b[0m\u001b[32m'iq_channel'\u001b[0m\u001b[39m>,\u001b[0m\n",
       "\u001b[2;32m│   │   │   │   \u001b[0m\u001b[33mpath\u001b[0m\u001b[39m=\u001b[0m\u001b[32m'/physical_channel_groups/test_shfqc/sgchannels_3_output'\u001b[0m\u001b[39m,\u001b[0m\n",
       "\u001b[2;32m│   │   │   │   \u001b[0m\u001b[33mcalibration\u001b[0m\u001b[39m=\u001b[0m\u001b[3;35mNone\u001b[0m\n",
       "\u001b[2;32m│   │   │   \u001b[0m\u001b[1;39m)\u001b[0m\n",
       "\u001b[2;32m│   │   \u001b[0m\u001b[1;39m)\u001b[0m\u001b[39m,\u001b[0m\n",
       "\u001b[2;32m│   │   \u001b[0m\u001b[32m'drive_cr'\u001b[0m\u001b[39m: \u001b[0m\u001b[1;35mLogicalSignal\u001b[0m\u001b[1;39m(\u001b[0m\n",
       "\u001b[2;32m│   │   │   \u001b[0m\u001b[33muid\u001b[0m\u001b[39m=\u001b[0m\u001b[32m'q18/drive_cr'\u001b[0m\u001b[39m,\u001b[0m\n",
       "\u001b[2;32m│   │   │   \u001b[0m\u001b[33mdirection\u001b[0m\u001b[39m=\u001b[0m\u001b[35mIODirection\u001b[0m\u001b[39m.OUT,\u001b[0m\n",
       "\u001b[2;32m│   │   │   \u001b[0m\u001b[33mname\u001b[0m\u001b[39m=\u001b[0m\u001b[32m'drive_cr'\u001b[0m\u001b[39m,\u001b[0m\n",
       "\u001b[2;32m│   │   │   \u001b[0m\u001b[33mcalibration\u001b[0m\u001b[39m=\u001b[0m\u001b[3;35mNone\u001b[0m\u001b[39m,\u001b[0m\n",
       "\u001b[2;32m│   │   │   \u001b[0m\u001b[33mpath\u001b[0m\u001b[39m=\u001b[0m\u001b[32m'/logical_signal_groups/q18/drive_cr'\u001b[0m\u001b[39m,\u001b[0m\n",
       "\u001b[2;32m│   │   │   \u001b[0m\u001b[33mphysical_channel\u001b[0m\u001b[39m=\u001b[0m\u001b[1;35mPhysicalChannel\u001b[0m\u001b[1;39m(\u001b[0m\n",
       "\u001b[2;32m│   │   │   │   \u001b[0m\u001b[33muid\u001b[0m\u001b[39m=\u001b[0m\u001b[32m'test_shfqc/sgchannels_3_output'\u001b[0m\u001b[39m,\u001b[0m\n",
       "\u001b[2;32m│   │   │   │   \u001b[0m\u001b[33mname\u001b[0m\u001b[39m=\u001b[0m\u001b[32m'sgchannels_3_output'\u001b[0m\u001b[39m,\u001b[0m\n",
       "\u001b[2;32m│   │   │   │   \u001b[0m\u001b[33mtype\u001b[0m\u001b[39m=<PhysicalChannelType.IQ_CHANNEL: \u001b[0m\u001b[32m'iq_channel'\u001b[0m\u001b[1m>\u001b[0m,\n",
       "\u001b[2;32m│   │   │   │   \u001b[0m\u001b[33mpath\u001b[0m=\u001b[32m'/physical_channel_groups/test_shfqc/sgchannels_3_output'\u001b[0m,\n",
       "\u001b[2;32m│   │   │   │   \u001b[0m\u001b[33mcalibration\u001b[0m=\u001b[3;35mNone\u001b[0m\n",
       "\u001b[2;32m│   │   │   \u001b[0m\u001b[1m)\u001b[0m\n",
       "\u001b[2;32m│   │   \u001b[0m\u001b[1m)\u001b[0m\n",
       "\u001b[2;32m│   \u001b[0m\u001b[1m}\u001b[0m\n",
       "\u001b[1m)\u001b[0m\n",
       ",\n",
       " 'q19': \u001b[1;35mLogicalSignalGroup\u001b[0m\u001b[1m(\u001b[0m\n",
       "\u001b[2;32m│   \u001b[0m\u001b[33muid\u001b[0m=\u001b[32m'q19'\u001b[0m,\n",
       "\u001b[2;32m│   \u001b[0m\u001b[33mlogical_signals\u001b[0m=\u001b[1m{\u001b[0m\n",
       "\u001b[2;32m│   │   \u001b[0m\u001b[32m'measure'\u001b[0m: \u001b[1;35mLogicalSignal\u001b[0m\u001b[1m(\u001b[0m\n",
       "\u001b[2;32m│   │   │   \u001b[0m\u001b[33muid\u001b[0m=\u001b[32m'q19/measure'\u001b[0m,\n",
       "\u001b[2;32m│   │   │   \u001b[0m\u001b[33mdirection\u001b[0m=\u001b[35mIODirection\u001b[0m.OUT,\n",
       "\u001b[2;32m│   │   │   \u001b[0m\u001b[33mname\u001b[0m=\u001b[32m'measure'\u001b[0m,\n",
       "\u001b[2;32m│   │   │   \u001b[0m\u001b[33mcalibration\u001b[0m=\u001b[3;35mNone\u001b[0m,\n",
       "\u001b[2;32m│   │   │   \u001b[0m\u001b[33mpath\u001b[0m=\u001b[32m'/logical_signal_groups/q19/measure'\u001b[0m,\n",
       "\u001b[2;32m│   │   │   \u001b[0m\u001b[33mphysical_channel\u001b[0m=\u001b[1;35mPhysicalChannel\u001b[0m\u001b[1m(\u001b[0m\n",
       "\u001b[2;32m│   │   │   │   \u001b[0m\u001b[33muid\u001b[0m=\u001b[32m'test_shfqc/qachannels_0_output'\u001b[0m,\n",
       "\u001b[2;32m│   │   │   │   \u001b[0m\u001b[33mname\u001b[0m=\u001b[32m'qachannels_0_output'\u001b[0m,\n",
       "\u001b[2;32m│   │   │   │   \u001b[0m\u001b[33mtype\u001b[0m=\u001b[1m<\u001b[0m\u001b[1;95mPhysicalChannelType.IQ_CHANNEL:\u001b[0m\u001b[39m \u001b[0m\u001b[32m'iq_channel'\u001b[0m\u001b[39m>,\u001b[0m\n",
       "\u001b[2;32m│   │   │   │   \u001b[0m\u001b[33mpath\u001b[0m\u001b[39m=\u001b[0m\u001b[32m'/physical_channel_groups/test_shfqc/qachannels_0_output'\u001b[0m\u001b[39m,\u001b[0m\n",
       "\u001b[2;32m│   │   │   │   \u001b[0m\u001b[33mcalibration\u001b[0m\u001b[39m=\u001b[0m\u001b[3;35mNone\u001b[0m\n",
       "\u001b[2;32m│   │   │   \u001b[0m\u001b[1;39m)\u001b[0m\n",
       "\u001b[2;32m│   │   \u001b[0m\u001b[1;39m)\u001b[0m\u001b[39m,\u001b[0m\n",
       "\u001b[2;32m│   │   \u001b[0m\u001b[32m'acquire'\u001b[0m\u001b[39m: \u001b[0m\u001b[1;35mLogicalSignal\u001b[0m\u001b[1;39m(\u001b[0m\n",
       "\u001b[2;32m│   │   │   \u001b[0m\u001b[33muid\u001b[0m\u001b[39m=\u001b[0m\u001b[32m'q19/acquire'\u001b[0m\u001b[39m,\u001b[0m\n",
       "\u001b[2;32m│   │   │   \u001b[0m\u001b[33mdirection\u001b[0m\u001b[39m=\u001b[0m\u001b[35mIODirection\u001b[0m\u001b[39m.IN,\u001b[0m\n",
       "\u001b[2;32m│   │   │   \u001b[0m\u001b[33mname\u001b[0m\u001b[39m=\u001b[0m\u001b[32m'acquire'\u001b[0m\u001b[39m,\u001b[0m\n",
       "\u001b[2;32m│   │   │   \u001b[0m\u001b[33mcalibration\u001b[0m\u001b[39m=\u001b[0m\u001b[3;35mNone\u001b[0m\u001b[39m,\u001b[0m\n",
       "\u001b[2;32m│   │   │   \u001b[0m\u001b[33mpath\u001b[0m\u001b[39m=\u001b[0m\u001b[32m'/logical_signal_groups/q19/acquire'\u001b[0m\u001b[39m,\u001b[0m\n",
       "\u001b[2;32m│   │   │   \u001b[0m\u001b[33mphysical_channel\u001b[0m\u001b[39m=\u001b[0m\u001b[1;35mPhysicalChannel\u001b[0m\u001b[1;39m(\u001b[0m\n",
       "\u001b[2;32m│   │   │   │   \u001b[0m\u001b[33muid\u001b[0m\u001b[39m=\u001b[0m\u001b[32m'test_shfqc/qachannels_0_input'\u001b[0m\u001b[39m,\u001b[0m\n",
       "\u001b[2;32m│   │   │   │   \u001b[0m\u001b[33mname\u001b[0m\u001b[39m=\u001b[0m\u001b[32m'qachannels_0_input'\u001b[0m\u001b[39m,\u001b[0m\n",
       "\u001b[2;32m│   │   │   │   \u001b[0m\u001b[33mtype\u001b[0m\u001b[39m=<PhysicalChannelType.IQ_CHANNEL: \u001b[0m\u001b[32m'iq_channel'\u001b[0m\u001b[39m>,\u001b[0m\n",
       "\u001b[2;32m│   │   │   │   \u001b[0m\u001b[33mpath\u001b[0m\u001b[39m=\u001b[0m\u001b[32m'/physical_channel_groups/test_shfqc/qachannels_0_input'\u001b[0m\u001b[39m,\u001b[0m\n",
       "\u001b[2;32m│   │   │   │   \u001b[0m\u001b[33mcalibration\u001b[0m\u001b[39m=\u001b[0m\u001b[3;35mNone\u001b[0m\n",
       "\u001b[2;32m│   │   │   \u001b[0m\u001b[1;39m)\u001b[0m\n",
       "\u001b[2;32m│   │   \u001b[0m\u001b[1;39m)\u001b[0m\u001b[39m,\u001b[0m\n",
       "\u001b[2;32m│   │   \u001b[0m\u001b[32m'drive'\u001b[0m\u001b[39m: \u001b[0m\u001b[1;35mLogicalSignal\u001b[0m\u001b[1;39m(\u001b[0m\n",
       "\u001b[2;32m│   │   │   \u001b[0m\u001b[33muid\u001b[0m\u001b[39m=\u001b[0m\u001b[32m'q19/drive'\u001b[0m\u001b[39m,\u001b[0m\n",
       "\u001b[2;32m│   │   │   \u001b[0m\u001b[33mdirection\u001b[0m\u001b[39m=\u001b[0m\u001b[35mIODirection\u001b[0m\u001b[39m.OUT,\u001b[0m\n",
       "\u001b[2;32m│   │   │   \u001b[0m\u001b[33mname\u001b[0m\u001b[39m=\u001b[0m\u001b[32m'drive'\u001b[0m\u001b[39m,\u001b[0m\n",
       "\u001b[2;32m│   │   │   \u001b[0m\u001b[33mcalibration\u001b[0m\u001b[39m=\u001b[0m\u001b[3;35mNone\u001b[0m\u001b[39m,\u001b[0m\n",
       "\u001b[2;32m│   │   │   \u001b[0m\u001b[33mpath\u001b[0m\u001b[39m=\u001b[0m\u001b[32m'/logical_signal_groups/q19/drive'\u001b[0m\u001b[39m,\u001b[0m\n",
       "\u001b[2;32m│   │   │   \u001b[0m\u001b[33mphysical_channel\u001b[0m\u001b[39m=\u001b[0m\u001b[1;35mPhysicalChannel\u001b[0m\u001b[1;39m(\u001b[0m\n",
       "\u001b[2;32m│   │   │   │   \u001b[0m\u001b[33muid\u001b[0m\u001b[39m=\u001b[0m\u001b[32m'test_shfqc/sgchannels_4_output'\u001b[0m\u001b[39m,\u001b[0m\n",
       "\u001b[2;32m│   │   │   │   \u001b[0m\u001b[33mname\u001b[0m\u001b[39m=\u001b[0m\u001b[32m'sgchannels_4_output'\u001b[0m\u001b[39m,\u001b[0m\n",
       "\u001b[2;32m│   │   │   │   \u001b[0m\u001b[33mtype\u001b[0m\u001b[39m=<PhysicalChannelType.IQ_CHANNEL: \u001b[0m\u001b[32m'iq_channel'\u001b[0m\u001b[39m>,\u001b[0m\n",
       "\u001b[2;32m│   │   │   │   \u001b[0m\u001b[33mpath\u001b[0m\u001b[39m=\u001b[0m\u001b[32m'/physical_channel_groups/test_shfqc/sgchannels_4_output'\u001b[0m\u001b[39m,\u001b[0m\n",
       "\u001b[2;32m│   │   │   │   \u001b[0m\u001b[33mcalibration\u001b[0m\u001b[39m=\u001b[0m\u001b[3;35mNone\u001b[0m\n",
       "\u001b[2;32m│   │   │   \u001b[0m\u001b[1;39m)\u001b[0m\n",
       "\u001b[2;32m│   │   \u001b[0m\u001b[1;39m)\u001b[0m\u001b[39m,\u001b[0m\n",
       "\u001b[2;32m│   │   \u001b[0m\u001b[32m'drive_ef'\u001b[0m\u001b[39m: \u001b[0m\u001b[1;35mLogicalSignal\u001b[0m\u001b[1;39m(\u001b[0m\n",
       "\u001b[2;32m│   │   │   \u001b[0m\u001b[33muid\u001b[0m\u001b[39m=\u001b[0m\u001b[32m'q19/drive_ef'\u001b[0m\u001b[39m,\u001b[0m\n",
       "\u001b[2;32m│   │   │   \u001b[0m\u001b[33mdirection\u001b[0m\u001b[39m=\u001b[0m\u001b[35mIODirection\u001b[0m\u001b[39m.OUT,\u001b[0m\n",
       "\u001b[2;32m│   │   │   \u001b[0m\u001b[33mname\u001b[0m\u001b[39m=\u001b[0m\u001b[32m'drive_ef'\u001b[0m\u001b[39m,\u001b[0m\n",
       "\u001b[2;32m│   │   │   \u001b[0m\u001b[33mcalibration\u001b[0m\u001b[39m=\u001b[0m\u001b[3;35mNone\u001b[0m\u001b[39m,\u001b[0m\n",
       "\u001b[2;32m│   │   │   \u001b[0m\u001b[33mpath\u001b[0m\u001b[39m=\u001b[0m\u001b[32m'/logical_signal_groups/q19/drive_ef'\u001b[0m\u001b[39m,\u001b[0m\n",
       "\u001b[2;32m│   │   │   \u001b[0m\u001b[33mphysical_channel\u001b[0m\u001b[39m=\u001b[0m\u001b[1;35mPhysicalChannel\u001b[0m\u001b[1;39m(\u001b[0m\n",
       "\u001b[2;32m│   │   │   │   \u001b[0m\u001b[33muid\u001b[0m\u001b[39m=\u001b[0m\u001b[32m'test_shfqc/sgchannels_4_output'\u001b[0m\u001b[39m,\u001b[0m\n",
       "\u001b[2;32m│   │   │   │   \u001b[0m\u001b[33mname\u001b[0m\u001b[39m=\u001b[0m\u001b[32m'sgchannels_4_output'\u001b[0m\u001b[39m,\u001b[0m\n",
       "\u001b[2;32m│   │   │   │   \u001b[0m\u001b[33mtype\u001b[0m\u001b[39m=<PhysicalChannelType.IQ_CHANNEL: \u001b[0m\u001b[32m'iq_channel'\u001b[0m\u001b[39m>,\u001b[0m\n",
       "\u001b[2;32m│   │   │   │   \u001b[0m\u001b[33mpath\u001b[0m\u001b[39m=\u001b[0m\u001b[32m'/physical_channel_groups/test_shfqc/sgchannels_4_output'\u001b[0m\u001b[39m,\u001b[0m\n",
       "\u001b[2;32m│   │   │   │   \u001b[0m\u001b[33mcalibration\u001b[0m\u001b[39m=\u001b[0m\u001b[3;35mNone\u001b[0m\n",
       "\u001b[2;32m│   │   │   \u001b[0m\u001b[1;39m)\u001b[0m\n",
       "\u001b[2;32m│   │   \u001b[0m\u001b[1;39m)\u001b[0m\u001b[39m,\u001b[0m\n",
       "\u001b[2;32m│   │   \u001b[0m\u001b[32m'drive_cr'\u001b[0m\u001b[39m: \u001b[0m\u001b[1;35mLogicalSignal\u001b[0m\u001b[1;39m(\u001b[0m\n",
       "\u001b[2;32m│   │   │   \u001b[0m\u001b[33muid\u001b[0m\u001b[39m=\u001b[0m\u001b[32m'q19/drive_cr'\u001b[0m\u001b[39m,\u001b[0m\n",
       "\u001b[2;32m│   │   │   \u001b[0m\u001b[33mdirection\u001b[0m\u001b[39m=\u001b[0m\u001b[35mIODirection\u001b[0m\u001b[39m.OUT,\u001b[0m\n",
       "\u001b[2;32m│   │   │   \u001b[0m\u001b[33mname\u001b[0m\u001b[39m=\u001b[0m\u001b[32m'drive_cr'\u001b[0m\u001b[39m,\u001b[0m\n",
       "\u001b[2;32m│   │   │   \u001b[0m\u001b[33mcalibration\u001b[0m\u001b[39m=\u001b[0m\u001b[3;35mNone\u001b[0m\u001b[39m,\u001b[0m\n",
       "\u001b[2;32m│   │   │   \u001b[0m\u001b[33mpath\u001b[0m\u001b[39m=\u001b[0m\u001b[32m'/logical_signal_groups/q19/drive_cr'\u001b[0m\u001b[39m,\u001b[0m\n",
       "\u001b[2;32m│   │   │   \u001b[0m\u001b[33mphysical_channel\u001b[0m\u001b[39m=\u001b[0m\u001b[1;35mPhysicalChannel\u001b[0m\u001b[1;39m(\u001b[0m\n",
       "\u001b[2;32m│   │   │   │   \u001b[0m\u001b[33muid\u001b[0m\u001b[39m=\u001b[0m\u001b[32m'test_shfqc/sgchannels_4_output'\u001b[0m\u001b[39m,\u001b[0m\n",
       "\u001b[2;32m│   │   │   │   \u001b[0m\u001b[33mname\u001b[0m\u001b[39m=\u001b[0m\u001b[32m'sgchannels_4_output'\u001b[0m\u001b[39m,\u001b[0m\n",
       "\u001b[2;32m│   │   │   │   \u001b[0m\u001b[33mtype\u001b[0m\u001b[39m=<PhysicalChannelType.IQ_CHANNEL: \u001b[0m\u001b[32m'iq_channel'\u001b[0m\u001b[1m>\u001b[0m,\n",
       "\u001b[2;32m│   │   │   │   \u001b[0m\u001b[33mpath\u001b[0m=\u001b[32m'/physical_channel_groups/test_shfqc/sgchannels_4_output'\u001b[0m,\n",
       "\u001b[2;32m│   │   │   │   \u001b[0m\u001b[33mcalibration\u001b[0m=\u001b[3;35mNone\u001b[0m\n",
       "\u001b[2;32m│   │   │   \u001b[0m\u001b[1m)\u001b[0m\n",
       "\u001b[2;32m│   │   \u001b[0m\u001b[1m)\u001b[0m\n",
       "\u001b[2;32m│   \u001b[0m\u001b[1m}\u001b[0m\n",
       "\u001b[1m)\u001b[0m\n",
       "}"
      ]
     },
     "execution_count": 8,
     "metadata": {},
     "output_type": "execute_result"
    }
   ],
   "source": [
    "setup.logical_signal_groups"
   ]
  },
  {
   "cell_type": "code",
   "execution_count": 9,
   "id": "00c30610",
   "metadata": {},
   "outputs": [
    {
     "data": {
      "image/png": "[encoded data removed]",
      "text/plain": [
       "<Figure size 640x480 with 1 Axes>"
      ]
     },
     "metadata": {},
     "output_type": "display_data"
    }
   ],
   "source": [
    "qpu.topology.add_edge(\"bus\", \"q16\", \"q17\")\n",
    "qpu.topology.add_edge(\"bus\", \"q17\", \"q18\")\n",
    "qpu.topology.add_edge(\"bus\", \"q18\", \"q19\")\n",
    "qpu.topology.plot()"
   ]
  },
  {
   "cell_type": "code",
   "execution_count": 10,
   "id": "d7ec37e1",
   "metadata": {},
   "outputs": [
    {
     "name": "stdout",
     "output_type": "stream",
     "text": [
      "\u001b[1;35mTopologyEdge\u001b[0m\u001b[1m(\u001b[0m\n",
      "\u001b[2;32m│   \u001b[0m\u001b[33mtag\u001b[0m=\u001b[32m'bus'\u001b[0m,\n",
      "\u001b[2;32m│   \u001b[0m\u001b[33msource_node\u001b[0m=\u001b[32m'q16'\u001b[0m,\n",
      "\u001b[2;32m│   \u001b[0m\u001b[33mtarget_node\u001b[0m=\u001b[32m'q17'\u001b[0m,\n",
      "\u001b[2;32m│   \u001b[0m\u001b[33mparameters\u001b[0m=\u001b[3;35mNone\u001b[0m,\n",
      "\u001b[2;32m│   \u001b[0m\u001b[33mquantum_element\u001b[0m=\u001b[3;35mNone\u001b[0m\n",
      "\u001b[1m)\u001b[0m\n",
      "\n",
      "\u001b[1;35mTopologyEdge\u001b[0m\u001b[1m(\u001b[0m\n",
      "\u001b[2;32m│   \u001b[0m\u001b[33mtag\u001b[0m=\u001b[32m'bus'\u001b[0m,\n",
      "\u001b[2;32m│   \u001b[0m\u001b[33msource_node\u001b[0m=\u001b[32m'q17'\u001b[0m,\n",
      "\u001b[2;32m│   \u001b[0m\u001b[33mtarget_node\u001b[0m=\u001b[32m'q18'\u001b[0m,\n",
      "\u001b[2;32m│   \u001b[0m\u001b[33mparameters\u001b[0m=\u001b[3;35mNone\u001b[0m,\n",
      "\u001b[2;32m│   \u001b[0m\u001b[33mquantum_element\u001b[0m=\u001b[3;35mNone\u001b[0m\n",
      "\u001b[1m)\u001b[0m\n",
      "\n",
      "\u001b[1;35mTopologyEdge\u001b[0m\u001b[1m(\u001b[0m\n",
      "\u001b[2;32m│   \u001b[0m\u001b[33mtag\u001b[0m=\u001b[32m'bus'\u001b[0m,\n",
      "\u001b[2;32m│   \u001b[0m\u001b[33msource_node\u001b[0m=\u001b[32m'q18'\u001b[0m,\n",
      "\u001b[2;32m│   \u001b[0m\u001b[33mtarget_node\u001b[0m=\u001b[32m'q19'\u001b[0m,\n",
      "\u001b[2;32m│   \u001b[0m\u001b[33mparameters\u001b[0m=\u001b[3;35mNone\u001b[0m,\n",
      "\u001b[2;32m│   \u001b[0m\u001b[33mquantum_element\u001b[0m=\u001b[3;35mNone\u001b[0m\n",
      "\u001b[1m)\u001b[0m\n",
      "\n",
      "('bus', 'q16', 'q17')\n",
      "('bus', 'q17', 'q18')\n",
      "('bus', 'q18', 'q19')\n"
     ]
    }
   ],
   "source": [
    "for edges in qpu.topology.edges():\n",
    "    print(edges)\n",
    "for edges in qpu.topology.edge_keys():\n",
    "    print(edges)"
   ]
  },
  {
   "cell_type": "code",
   "execution_count": 11,
   "id": "225d556b",
   "metadata": {},
   "outputs": [
    {
     "data": {
      "text/plain": [
       "('drive_cr',\n",
       " {'amplitude': None,\n",
       "  'length': None,\n",
       "  'pulse': {'function': 'GaussianSquareDRAG',\n",
       "   'sigma': 0.1,\n",
       "   'risefall_sigma_ratio': 3.0,\n",
       "   'beta0': 0.0,\n",
       "   'beta1': 0.0}})"
      ]
     },
     "execution_count": 11,
     "metadata": {},
     "output_type": "execute_result"
    }
   ],
   "source": [
    "qubits[2].cr_parameters()"
   ]
  },
  {
   "cell_type": "code",
   "execution_count": 12,
   "id": "0009c675",
   "metadata": {},
   "outputs": [
    {
     "data": {
      "text/plain": [
       "('drive',\n",
       " {'amplitude_pi': 1.0,\n",
       "  'amplitude_pi2': 0.5,\n",
       "  'length': 3.2e-08,\n",
       "  'pulse': {'function': 'drag', 'beta': 0, 'sigma': 0.3}})"
      ]
     },
     "execution_count": 12,
     "metadata": {},
     "output_type": "execute_result"
    }
   ],
   "source": [
    "qubits[2].transition_parameters()"
   ]
  },
  {
   "cell_type": "code",
   "execution_count": 13,
   "id": "4d5c8716",
   "metadata": {},
   "outputs": [
    {
     "data": {
      "text/plain": [
       "('drive_cr',\n",
       " {'amplitude': None,\n",
       "  'length': None,\n",
       "  'pulse': {'function': 'GaussianSquareDRAG',\n",
       "   'sigma': 0.1,\n",
       "   'risefall_sigma_ratio': 3.0,\n",
       "   'beta0': 0.0,\n",
       "   'beta1': 0.0}})"
      ]
     },
     "execution_count": 13,
     "metadata": {},
     "output_type": "execute_result"
    }
   ],
   "source": [
    "qubits[3].cr_parameters()"
   ]
  },
  {
   "cell_type": "code",
   "execution_count": 25,
   "id": "bc316b8e",
   "metadata": {},
   "outputs": [
    {
     "ename": "LabOneQException",
     "evalue": "Not in an experiment context",
     "output_type": "error",
     "traceback": [
      "\u001b[31m---------------------------------------------------------------------------\u001b[39m",
      "\u001b[31mLabOneQException\u001b[39m                          Traceback (most recent call last)",
      "\u001b[36mCell\u001b[39m\u001b[36m \u001b[39m\u001b[32mIn[25]\u001b[39m\u001b[32m, line 1\u001b[39m\n\u001b[32m----> \u001b[39m\u001b[32m1\u001b[39m \u001b[43mqpu\u001b[49m\u001b[43m.\u001b[49m\u001b[43mquantum_operations\u001b[49m\u001b[43m.\u001b[49m\u001b[43mset_frequency\u001b[49m\u001b[43m(\u001b[49m\u001b[43mq\u001b[49m\u001b[43m=\u001b[49m\u001b[43mqubits\u001b[49m\u001b[43m[\u001b[49m\u001b[32;43m3\u001b[39;49m\u001b[43m]\u001b[49m\u001b[43m,\u001b[49m\u001b[43m \u001b[49m\u001b[43mfrequency\u001b[49m\u001b[43m \u001b[49m\u001b[43m=\u001b[49m\u001b[43m \u001b[49m\u001b[32;43m2e6\u001b[39;49m\u001b[43m)\u001b[49m\n",
      "\u001b[36mFile \u001b[39m\u001b[32mc:\\Users\\KRISS\\Documents\\KAIST\\applications\\Lib\\site-packages\\laboneq\\dsl\\quantum\\quantum_operations.py:436\u001b[39m, in \u001b[36mOperation.__call__\u001b[39m\u001b[34m(self, *args, **kw)\u001b[39m\n\u001b[32m    412\u001b[39m \u001b[38;5;28;01mdef\u001b[39;00m\u001b[38;5;250m \u001b[39m\u001b[34m__call__\u001b[39m(\u001b[38;5;28mself\u001b[39m, *args, **kw) -> Section | \u001b[38;5;28mlist\u001b[39m[Section]:\n\u001b[32m    413\u001b[39m \u001b[38;5;250m    \u001b[39m\u001b[33;03m\"\"\"Build a section using the operation.\u001b[39;00m\n\u001b[32m    414\u001b[39m \n\u001b[32m    415\u001b[39m \u001b[33;03m    The operation is called in the context of a pre-built\u001b[39;00m\n\u001b[32m   (...)\u001b[39m\u001b[32m    434\u001b[39m \u001b[33;03m        LabOne Q sections if the operation is broadcast.\u001b[39;00m\n\u001b[32m    435\u001b[39m \u001b[33;03m    \"\"\"\u001b[39;00m\n\u001b[32m--> \u001b[39m\u001b[32m436\u001b[39m     \u001b[38;5;28;01mreturn\u001b[39;00m \u001b[38;5;28;43mself\u001b[39;49m\u001b[43m.\u001b[49m\u001b[43m_call\u001b[49m\u001b[43m(\u001b[49m\u001b[43margs\u001b[49m\u001b[43m,\u001b[49m\u001b[43m \u001b[49m\u001b[43mkw\u001b[49m\u001b[43m)\u001b[49m\n",
      "\u001b[36mFile \u001b[39m\u001b[32mc:\\Users\\KRISS\\Documents\\KAIST\\applications\\Lib\\site-packages\\laboneq\\dsl\\quantum\\quantum_operations.py:731\u001b[39m, in \u001b[36mOperation._call\u001b[39m\u001b[34m(self, args, kw, omit_section, omit_reserves)\u001b[39m\n\u001b[32m    724\u001b[39m \u001b[38;5;28;01mif\u001b[39;00m \u001b[38;5;28mself\u001b[39m._op_marker.broadcast \u001b[38;5;129;01mand\u001b[39;00m \u001b[38;5;28many\u001b[39m(\n\u001b[32m    725\u001b[39m     \u001b[38;5;28misinstance\u001b[39m(arg, (\u001b[38;5;28mlist\u001b[39m, \u001b[38;5;28mtuple\u001b[39m)) \u001b[38;5;28;01mfor\u001b[39;00m arg \u001b[38;5;129;01min\u001b[39;00m args\n\u001b[32m    726\u001b[39m ):\n\u001b[32m    727\u001b[39m     \u001b[38;5;28;01mreturn\u001b[39;00m \u001b[38;5;28mself\u001b[39m._broadcast_call(\n\u001b[32m    728\u001b[39m         args, kw, omit_section=omit_section, omit_reserves=omit_reserves\n\u001b[32m    729\u001b[39m     )\n\u001b[32m--> \u001b[39m\u001b[32m731\u001b[39m \u001b[38;5;28;01mreturn\u001b[39;00m \u001b[38;5;28;43mself\u001b[39;49m\u001b[43m.\u001b[49m\u001b[43m_single_call\u001b[49m\u001b[43m(\u001b[49m\n\u001b[32m    732\u001b[39m \u001b[43m    \u001b[49m\u001b[43margs\u001b[49m\u001b[43m,\u001b[49m\u001b[43m \u001b[49m\u001b[43mkw\u001b[49m\u001b[43m,\u001b[49m\u001b[43m \u001b[49m\u001b[43momit_section\u001b[49m\u001b[43m=\u001b[49m\u001b[43momit_section\u001b[49m\u001b[43m,\u001b[49m\u001b[43m \u001b[49m\u001b[43momit_reserves\u001b[49m\u001b[43m=\u001b[49m\u001b[43momit_reserves\u001b[49m\n\u001b[32m    733\u001b[39m \u001b[43m\u001b[49m\u001b[43m)\u001b[49m\n",
      "\u001b[36mFile \u001b[39m\u001b[32mc:\\Users\\KRISS\\Documents\\KAIST\\applications\\Lib\\site-packages\\laboneq\\dsl\\quantum\\quantum_operations.py:686\u001b[39m, in \u001b[36mOperation._single_call\u001b[39m\u001b[34m(self, args, kw, omit_section, omit_reserves)\u001b[39m\n\u001b[32m    684\u001b[39m     \u001b[38;5;28;01mif\u001b[39;00m reserve_signals:\n\u001b[32m    685\u001b[39m         \u001b[38;5;28mself\u001b[39m._reserve_signals(qubits)\n\u001b[32m--> \u001b[39m\u001b[32m686\u001b[39m     \u001b[38;5;28;43mself\u001b[39;49m\u001b[43m.\u001b[49m\u001b[43m_op\u001b[49m\u001b[43m(\u001b[49m\u001b[38;5;28;43mself\u001b[39;49m\u001b[43m.\u001b[49m\u001b[43m_quantum_ops\u001b[49m\u001b[43m,\u001b[49m\u001b[43m \u001b[49m\u001b[43m*\u001b[49m\u001b[43margs\u001b[49m\u001b[43m,\u001b[49m\u001b[43m \u001b[49m\u001b[43m*\u001b[49m\u001b[43m*\u001b[49m\u001b[43mkw\u001b[49m\u001b[43m)\u001b[49m\n\u001b[32m    688\u001b[39m \u001b[38;5;28;01mreturn\u001b[39;00m op_section\n",
      "\u001b[36mFile \u001b[39m\u001b[32m~\\Documents\\KAIST\\krisszi-core\\src\\krisszi_core\\contrib\\jsahn\\operations.py:144\u001b[39m, in \u001b[36mTransmonOperations.set_frequency\u001b[39m\u001b[34m(self, q, frequency, transition, readout, rf, calibration)\u001b[39m\n\u001b[32m    141\u001b[39m     frequency -= lo_frequency\n\u001b[32m    143\u001b[39m \u001b[38;5;28;01mif\u001b[39;00m calibration \u001b[38;5;129;01mis\u001b[39;00m \u001b[38;5;28;01mNone\u001b[39;00m:\n\u001b[32m--> \u001b[39m\u001b[32m144\u001b[39m     calibration = \u001b[43mdsl\u001b[49m\u001b[43m.\u001b[49m\u001b[43mexperiment_calibration\u001b[49m\u001b[43m(\u001b[49m\u001b[43m)\u001b[49m\n\u001b[32m    145\u001b[39m signal_calibration = calibration[q.signals[signal_line]]\n\u001b[32m    146\u001b[39m oscillator = signal_calibration.oscillator\n",
      "\u001b[36mFile \u001b[39m\u001b[32mc:\\Users\\KRISS\\Documents\\KAIST\\applications\\Lib\\site-packages\\laboneq\\dsl\\experiment\\builtins.py:737\u001b[39m, in \u001b[36mexperiment_calibration\u001b[39m\u001b[34m()\u001b[39m\n\u001b[32m    735\u001b[39m context = current_experiment_context()\n\u001b[32m    736\u001b[39m \u001b[38;5;28;01mif\u001b[39;00m context \u001b[38;5;129;01mis\u001b[39;00m \u001b[38;5;28;01mNone\u001b[39;00m:\n\u001b[32m--> \u001b[39m\u001b[32m737\u001b[39m     \u001b[38;5;28;01mraise\u001b[39;00m LabOneQException(\u001b[33m\"\u001b[39m\u001b[33mNot in an experiment context\u001b[39m\u001b[33m\"\u001b[39m)\n\u001b[32m    738\u001b[39m context.calibration = context.calibration \u001b[38;5;129;01mor\u001b[39;00m Calibration()\n\u001b[32m    739\u001b[39m \u001b[38;5;28;01mreturn\u001b[39;00m context.calibration\n",
      "\u001b[31mLabOneQException\u001b[39m: Not in an experiment context"
     ]
    }
   ],
   "source": [
    "qpu.quantum_operations.set_frequency(q=qubits[3], frequency = 2e6)"
   ]
  },
  {
   "cell_type": "code",
   "execution_count": 23,
   "id": "b18275a0",
   "metadata": {},
   "outputs": [
    {
     "data": {
      "text/plain": [
       "\u001b[1;35mSection\u001b[0m\u001b[1m(\u001b[0m\n",
       "\u001b[2;32m│   \u001b[0m\u001b[33muid\u001b[0m=\u001b[32m'__direct_cr_0'\u001b[0m,\n",
       "\u001b[2;32m│   \u001b[0m\u001b[33mname\u001b[0m=\u001b[32m'direct_cr'\u001b[0m,\n",
       "\u001b[2;32m│   \u001b[0m\u001b[33malignment\u001b[0m=\u001b[35mSectionAlignment\u001b[0m.LEFT,\n",
       "\u001b[2;32m│   \u001b[0m\u001b[33mexecution_type\u001b[0m=\u001b[3;35mNone\u001b[0m,\n",
       "\u001b[2;32m│   \u001b[0m\u001b[33mlength\u001b[0m=\u001b[3;35mNone\u001b[0m,\n",
       "\u001b[2;32m│   \u001b[0m\u001b[33mplay_after\u001b[0m=\u001b[3;35mNone\u001b[0m,\n",
       "\u001b[2;32m│   \u001b[0m\u001b[33mchildren\u001b[0m=\u001b[1m[\u001b[0m\n",
       "\u001b[2;32m│   │   \u001b[0m\u001b[1;35mSection\u001b[0m\u001b[1m(\u001b[0m\n",
       "\u001b[2;32m│   │   │   \u001b[0m\u001b[33muid\u001b[0m=\u001b[32m'__cr_q18c_q18t_0'\u001b[0m,\n",
       "\u001b[2;32m│   │   │   \u001b[0m\u001b[33mname\u001b[0m=\u001b[32m'cr_q18c_q18t'\u001b[0m,\n",
       "\u001b[2;32m│   │   │   \u001b[0m\u001b[33malignment\u001b[0m=\u001b[35mSectionAlignment\u001b[0m.LEFT,\n",
       "\u001b[2;32m│   │   │   \u001b[0m\u001b[33mexecution_type\u001b[0m=\u001b[3;35mNone\u001b[0m,\n",
       "\u001b[2;32m│   │   │   \u001b[0m\u001b[33mlength\u001b[0m=\u001b[3;35mNone\u001b[0m,\n",
       "\u001b[2;32m│   │   │   \u001b[0m\u001b[33mplay_after\u001b[0m=\u001b[3;35mNone\u001b[0m,\n",
       "\u001b[2;32m│   │   │   \u001b[0m\u001b[33mchildren\u001b[0m=\u001b[1m[\u001b[0m\n",
       "\u001b[2;32m│   │   │   │   \u001b[0m\u001b[1;35mPlayPulse\u001b[0m\u001b[1m(\u001b[0m\n",
       "\u001b[2;32m│   │   │   │   │   \u001b[0m\u001b[33msignal\u001b[0m=\u001b[32m'/logical_signal_groups/q18/drive_cr'\u001b[0m,\n",
       "\u001b[2;32m│   │   │   │   │   \u001b[0m\u001b[33mpulse\u001b[0m=\u001b[1;35mPulseFunctional\u001b[0m\u001b[1m(\u001b[0m\n",
       "\u001b[2;32m│   │   │   │   │   │   \u001b[0m\u001b[33mfunction\u001b[0m=\u001b[32m'GaussianSquareDRAG'\u001b[0m,\n",
       "\u001b[2;32m│   │   │   │   │   │   \u001b[0m\u001b[33muid\u001b[0m=\u001b[32m'__cr_pulse_0'\u001b[0m,\n",
       "\u001b[2;32m│   │   │   │   │   │   \u001b[0m\u001b[33mamplitude\u001b[0m=\u001b[1;36m1\u001b[0m\u001b[1;36m.0\u001b[0m,\n",
       "\u001b[2;32m│   │   │   │   │   │   \u001b[0m\u001b[33mlength\u001b[0m=\u001b[1;36m1e\u001b[0m\u001b[1;36m-07\u001b[0m,\n",
       "\u001b[2;32m│   │   │   │   │   │   \u001b[0m\u001b[33mcan_compress\u001b[0m=\u001b[3;91mFalse\u001b[0m,\n",
       "\u001b[2;32m│   │   │   │   │   │   \u001b[0m\u001b[33mpulse_parameters\u001b[0m=\u001b[1m{\u001b[0m\n",
       "\u001b[2;32m│   │   │   │   │   │   │   \u001b[0m\u001b[32m'sigma'\u001b[0m: \u001b[1;36m0.1\u001b[0m,\n",
       "\u001b[2;32m│   │   │   │   │   │   │   \u001b[0m\u001b[32m'risefall_sigma_ratio'\u001b[0m: \u001b[1;36m3.0\u001b[0m,\n",
       "\u001b[2;32m│   │   │   │   │   │   │   \u001b[0m\u001b[32m'beta0'\u001b[0m: \u001b[1;36m0.0\u001b[0m,\n",
       "\u001b[2;32m│   │   │   │   │   │   │   \u001b[0m\u001b[32m'beta1'\u001b[0m: \u001b[1;36m0.0\u001b[0m\n",
       "\u001b[2;32m│   │   │   │   │   │   \u001b[0m\u001b[1m}\u001b[0m\n",
       "\u001b[2;32m│   │   │   │   │   \u001b[0m\u001b[1m)\u001b[0m,\n",
       "\u001b[2;32m│   │   │   │   │   \u001b[0m\u001b[33mamplitude\u001b[0m=\u001b[3;35mNone\u001b[0m,\n",
       "\u001b[2;32m│   │   │   │   │   \u001b[0m\u001b[33mincrement_oscillator_phase\u001b[0m=\u001b[3;35mNone\u001b[0m,\n",
       "\u001b[2;32m│   │   │   │   │   \u001b[0m\u001b[33mphase\u001b[0m=\u001b[3;35mNone\u001b[0m,\n",
       "\u001b[2;32m│   │   │   │   │   \u001b[0m\u001b[33mset_oscillator_phase\u001b[0m=\u001b[3;35mNone\u001b[0m,\n",
       "\u001b[2;32m│   │   │   │   │   \u001b[0m\u001b[33mlength\u001b[0m=\u001b[3;35mNone\u001b[0m,\n",
       "\u001b[2;32m│   │   │   │   │   \u001b[0m\u001b[33mpulse_parameters\u001b[0m=\u001b[3;35mNone\u001b[0m,\n",
       "\u001b[2;32m│   │   │   │   │   \u001b[0m\u001b[33mprecompensation_clear\u001b[0m=\u001b[3;35mNone\u001b[0m,\n",
       "\u001b[2;32m│   │   │   │   │   \u001b[0m\u001b[33mmarker\u001b[0m=\u001b[3;35mNone\u001b[0m\n",
       "\u001b[2;32m│   │   │   │   \u001b[0m\u001b[1m)\u001b[0m\n",
       "\u001b[2;32m│   │   │   \u001b[0m\u001b[1m]\u001b[0m,\n",
       "\u001b[2;32m│   │   │   \u001b[0m\u001b[33mtrigger\u001b[0m=\u001b[1m{\u001b[0m\u001b[1m}\u001b[0m,\n",
       "\u001b[2;32m│   │   │   \u001b[0m\u001b[33mon_system_grid\u001b[0m=\u001b[3;92mTrue\u001b[0m\n",
       "\u001b[2;32m│   │   \u001b[0m\u001b[1m)\u001b[0m\n",
       "\u001b[2;32m│   \u001b[0m\u001b[1m]\u001b[0m,\n",
       "\u001b[2;32m│   \u001b[0m\u001b[33mtrigger\u001b[0m=\u001b[1m{\u001b[0m\u001b[1m}\u001b[0m,\n",
       "\u001b[2;32m│   \u001b[0m\u001b[33mon_system_grid\u001b[0m=\u001b[3;91mFalse\u001b[0m\n",
       "\u001b[1m)\u001b[0m\n"
      ]
     },
     "execution_count": 23,
     "metadata": {},
     "output_type": "execute_result"
    }
   ],
   "source": [
    "\n",
    "qpu.quantum_operations.direct_cr(ctrl=qubits[3], targ=qubits[3])\n"
   ]
  },
  {
   "cell_type": "code",
   "execution_count": null,
   "id": "36d8ac80",
   "metadata": {},
   "outputs": [],
   "source": [
    "qpu.quantum_operations.prepare_state(q=qubits[2], state=\"e\")"
   ]
  },
  {
   "cell_type": "code",
   "execution_count": null,
   "id": "0d2e7169",
   "metadata": {},
   "outputs": [],
   "source": [
    "\n",
    "qpu.quantum_operations.cr(ctrl=qubits[3], targ=qubits[3], length=300e-9)"
   ]
  },
  {
   "cell_type": "code",
   "execution_count": null,
   "id": "9540b998",
   "metadata": {},
   "outputs": [],
   "source": [
    "qubits[2].parameters.ge_drive_length"
   ]
  },
  {
   "cell_type": "code",
   "execution_count": null,
   "id": "ed654a7b",
   "metadata": {},
   "outputs": [],
   "source": [
    "import numpy as np\n",
    "qpu.quantum_operations.ry(q=qubits[2], angle=np.pi/2)"
   ]
  },
  {
   "cell_type": "code",
   "execution_count": null,
   "id": "a56730b0",
   "metadata": {},
   "outputs": [],
   "source": [
    "qpu.quantum_operations.prepare_state.omit_section(qubits[2],\"e\")"
   ]
  },
  {
   "cell_type": "code",
   "execution_count": null,
   "id": "41cf02f4",
   "metadata": {},
   "outputs": [],
   "source": [
    "qpu.quantum_operations.prepare_state(q=qubits[2])"
   ]
  },
  {
   "cell_type": "code",
   "execution_count": null,
   "id": "da8c08f0",
   "metadata": {},
   "outputs": [],
   "source": [
    "ctrl, targ = zip(s)"
   ]
  },
  {
   "cell_type": "code",
   "execution_count": null,
   "id": "7bfa823f",
   "metadata": {},
   "outputs": [],
   "source": [
    "ctr"
   ]
  },
  {
   "cell_type": "code",
   "execution_count": null,
   "id": "4a8afd6b",
   "metadata": {},
   "outputs": [
    {
     "ename": "TypeError",
     "evalue": "'TransmonOperations' object is not callable",
     "output_type": "error",
     "traceback": [
      "\u001b[31m---------------------------------------------------------------------------\u001b[39m",
      "\u001b[31mTypeError\u001b[39m                                 Traceback (most recent call last)",
      "\u001b[36mCell\u001b[39m\u001b[36m \u001b[39m\u001b[32mIn[18]\u001b[39m\u001b[32m, line 1\u001b[39m\n\u001b[32m----> \u001b[39m\u001b[32m1\u001b[39m \u001b[43mqpu\u001b[49m\u001b[43m.\u001b[49m\u001b[43mquantum_operations\u001b[49m\u001b[43m(\u001b[49m\u001b[43m)\u001b[49m\n",
      "\u001b[31mTypeError\u001b[39m: 'TransmonOperations' object is not callable"
     ]
    }
   ],
   "source": [
    "qpu.quantum_operations.create"
   ]
  },
  {
   "cell_type": "code",
   "execution_count": null,
   "id": "36a6a885",
   "metadata": {},
   "outputs": [
    {
     "ename": "SyntaxError",
     "evalue": "invalid syntax (684593813.py, line 1)",
     "output_type": "error",
     "traceback": [
      "  \u001b[36mCell\u001b[39m\u001b[36m \u001b[39m\u001b[32mIn[19]\u001b[39m\u001b[32m, line 1\u001b[39m\n\u001b[31m    \u001b[39m\u001b[31mimport laboneq.simple *\u001b[39m\n                          ^\n\u001b[31mSyntaxError\u001b[39m\u001b[31m:\u001b[39m invalid syntax\n"
     ]
    }
   ],
   "source": [
    "from laboneq.simple import *\n",
    "create"
   ]
  },
  {
   "cell_type": "code",
   "execution_count": 22,
   "id": "e8c95f5e",
   "metadata": {},
   "outputs": [],
   "source": [
    "from krisszi_core.contrib.jsahn.operations import create_pulse"
   ]
  },
  {
   "cell_type": "code",
   "execution_count": null,
   "id": "c77a21ba",
   "metadata": {},
   "outputs": [],
   "source": []
  }
 ],
 "metadata": {
  "kernelspec": {
   "display_name": "applications",
   "language": "python",
   "name": "python3"
  },
  "language_info": {
   "codemirror_mode": {
    "name": "ipython",
    "version": 3
   },
   "file_extension": ".py",
   "mimetype": "text/x-python",
   "name": "python",
   "nbconvert_exporter": "python",
   "pygments_lexer": "ipython3",
   "version": "3.12.5"
  }
 },
 "nbformat": 4,
 "nbformat_minor": 5
}
