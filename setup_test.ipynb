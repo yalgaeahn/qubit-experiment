{
 "cells": [
  {
   "cell_type": "markdown",
   "id": "4867011b",
   "metadata": {},
   "source": []
  },
  {
   "cell_type": "markdown",
   "id": "73487c67",
   "metadata": {},
   "source": [
    "# Setting"
   ]
  },
  {
   "cell_type": "code",
   "execution_count": 10,
   "id": "4df1c54a",
   "metadata": {},
   "outputs": [
    {
     "data": {
      "text/plain": [
       "[\u001b[1;35mSHFQC\u001b[0m\u001b[1m(\u001b[0m\n",
       "\u001b[2;32m│   \u001b[0m\u001b[33muid\u001b[0m=\u001b[32m'test_shfqc'\u001b[0m,\n",
       "\u001b[2;32m│   \u001b[0m\u001b[33minterface\u001b[0m=\u001b[32m'1GbE'\u001b[0m,\n",
       "\u001b[2;32m│   \u001b[0m\u001b[33mconnections\u001b[0m=\u001b[1m[\u001b[0m\u001b[1m]\u001b[0m,\n",
       "\u001b[2;32m│   \u001b[0m\u001b[33mserver_uid\u001b[0m=\u001b[32m'test_server'\u001b[0m,\n",
       "\u001b[2;32m│   \u001b[0m\u001b[33maddress\u001b[0m=\u001b[32m'DEV12576'\u001b[0m,\n",
       "\u001b[2;32m│   \u001b[0m\u001b[33mdevice_options\u001b[0m=\u001b[32m'SHFQC/PLUS/QC6CH'\u001b[0m,\n",
       "\u001b[2;32m│   \u001b[0m\u001b[33mreference_clock_source\u001b[0m=\u001b[3;35mNone\u001b[0m,\n",
       "\u001b[2;32m│   \u001b[0m\u001b[33mdevice_class\u001b[0m=\u001b[1;36m0\u001b[0m\n",
       "\u001b[1m)\u001b[0m\n",
       "]"
      ]
     },
     "execution_count": 10,
     "metadata": {},
     "output_type": "execute_result"
    }
   ],
   "source": [
    "from laboneq.simple import SHFQC\n",
    "from laboneq.dsl.device import DeviceSetup, create_connection\n",
    "import numpy as np\n",
    "from copy import deepcopy\n",
    "#instantiate ad device setup object\n",
    "setup = DeviceSetup(uid=\"test_setup\")\n",
    "#add a dataserver\n",
    "setup.add_dataserver(host=\"10.172.11.217\", port=\"8004\",uid=\"test_server\")\n",
    "\n",
    "setup.add_instruments(SHFQC(uid=\"test_shfqc\",server_uid=\"test_server\", address=\"DEV12576\", device_options=\"SHFQC/PLUS/QC6CH\"))\n",
    "\n",
    "setup.instruments"
   ]
  },
  {
   "cell_type": "code",
   "execution_count": 11,
   "id": "cc79f0c8",
   "metadata": {},
   "outputs": [],
   "source": [
    "#SHFQC(uid=\"test_shfqc\",server_uid=\"test_server\", address=\"DEV12576\", device_options=\"SHFQC/PLUS/QC6CH\").ports"
   ]
  },
  {
   "cell_type": "code",
   "execution_count": null,
   "id": "52ad4fdd",
   "metadata": {},
   "outputs": [],
   "source": []
  },
  {
   "cell_type": "markdown",
   "id": "bdba551b",
   "metadata": {},
   "source": [
    "^(1)[https://docs.zhinst.com/labone_q_user_manual/core/functionality_and_concepts/02_logical_signals/concepts/01_signal_types.html]"
   ]
  },
  {
   "cell_type": "code",
   "execution_count": 12,
   "id": "2488a6dc",
   "metadata": {},
   "outputs": [],
   "source": [
    "for ch_idx, q_idx in enumerate([15,16,17,18,19]):# enumerate 안에 len(list) 강제하고싶음\n",
    "    \n",
    "    #QA\n",
    "    setup.add_connections(\n",
    "        \"test_shfqc\",\n",
    "        create_connection(to_signal=f\"q{q_idx}/measure\", ports=\"QACHANNELS/0/OUTPUT\")) #signal_type=\"iq\"\n",
    "    setup.add_connections(\n",
    "        \"test_shfqc\",\n",
    "        create_connection(to_signal=f\"q{q_idx}/acquire\", ports=\"QACHANNELS/0/INPUT\" )) #signal_type=\"acquire\"\n",
    "    #SG\n",
    "    setup.add_connections(\n",
    "        \"test_shfqc\",\n",
    "        create_connection(to_signal=f\"q{q_idx}/drive\", ports=f\"SGCHANNELS/{ch_idx}/OUTPUT\")) #signal_type=\"iq\" only iq allowed for SG??\n",
    "    setup.add_connections(\n",
    "        \"test_shfqc\",\n",
    "        create_connection(to_signal=f\"q{q_idx}/drive_ef\", ports=f\"SGCHANNELS/{ch_idx}/OUTPUT\")) #signal_type=\"iq\" only iq allowed for SG??\n",
    "    setup.add_connections(\n",
    "        \"test_shfqc\",\n",
    "        create_connection(to_signal=f\"q{q_idx}/cr_drive\", ports=f\"SGCHANNELS/{ch_idx}/OUTPUT\"))#signal_type=\"iq\"\n"
   ]
  },
  {
   "cell_type": "markdown",
   "id": "f16922d6",
   "metadata": {},
   "source": [
    "# Savequbit"
   ]
  },
  {
   "cell_type": "code",
   "execution_count": 13,
   "id": "dc984aff",
   "metadata": {},
   "outputs": [],
   "source": [
    "# from krisszi_core.contrib.jsahn.helper import load_qubit_parameters, save_qubit_parameters\n",
    "# save_qubit_parameters(qubits={ qubit.uid : qubit for qubit in qubits}, save_folder=\"./qubit_parameters\", filename=\"sleep\")"
   ]
  },
  {
   "cell_type": "markdown",
   "id": "7cb5419b",
   "metadata": {},
   "source": [
    "# Qubits and Quantum Operations"
   ]
  },
  {
   "cell_type": "code",
   "execution_count": null,
   "id": "6f05342f",
   "metadata": {},
   "outputs": [
    {
     "data": {
      "image/png": "[encoded data removed]",
      "text/plain": [
       "<Figure size 640x480 with 1 Axes>"
      ]
     },
     "metadata": {},
     "output_type": "display_data"
    }
   ],
   "source": [
    "from laboneq.dsl.quantum.qpu import QPU, QuantumPlatform\n",
    "from laboneq.dsl.quantum.qpu import QuantumElement\n",
    "\n",
    "from krisszi_core.contrib.jsahn.operations import TransmonOperations\n",
    "from krisszi_core.contrib.jsahn.qpu_types.transmon import TransmonQubit, TransmonQubitParameters\n",
    "from krisszi_core.contrib.jsahn.helper import load_qubit_parameters, save_qubit_parameters\n",
    "\n",
    "# # #TODO load_qubit_parameters should return list with TransmonQubit, currently it's a dict \n",
    "_loaded_qubits = load_qubit_parameters(filename=\"latest\") \n",
    "loaded_qubits = list(_loaded_qubits.values())\n",
    "# save_qubit_parameters(qubits={ qubit.uid : qubit for qubit in qubits}, save_folder=\"./qubit_parameters\")\n",
    "#qubits = TransmonQubit.from_device_setup(setup) # Also can be done with load_qubit_parameters \n",
    "qubits = loaded_qubits\n",
    "\n",
    "quantum_operations = TransmonOperations()\n",
    "################################################################################################\n",
    "qpu = QPU(quantum_elements=qubits, quantum_operations=quantum_operations)\n",
    "qpu.topology.add_edge(\"bus\", \"q16\", \"q17\")\n",
    "qpu.topology.add_edge(\"bus\", \"q17\", \"q18\")\n",
    "qpu.topology.add_edge(\"bus\", \"q18\", \"q19\")\n",
    "qpu.topology.plot()\n",
    "\n",
    "# Create a demonstration QuantumPlatform for a transmon QPU:\n",
    "quantum_platform = QuantumPlatform(setup=setup, qpu=qpu)\n",
    "\n",
    "\n",
    "from laboneq.simple import workflow\n",
    "from pathlib import Path\n",
    "\n",
    "folder_store = workflow.logbook.FolderStore(\"c:/Users/KRISS/Documents/KAIST/experiment_store\")\n",
    "folder_store.activate()\n",
    "#folder_store.deactivate()\n"
   ]
  },
  {
   "cell_type": "markdown",
   "id": "78dc5c6b",
   "metadata": {},
   "source": [
    "`TransmonQubit` 의 parameters  외부에서 접근 하는법  \n",
    "형식은 `TransmonQubitParameters`에서 만들어 놓았고 분류된 parameter 쉽게 확인가능하다. \n",
    "\n",
    "- transition_parameters(\"ge\")  \n",
    "- transition_parameters(\"ef\")  \n",
    "- readout_parameters()  \n",
    "- readout_integration_parameters()\n",
    "\n",
    "parameter 수정은 만든 QuantumElements.parameters. (TransmonQubit.parameters)\n",
    "\n",
    "\n",
    "from laboneq.simple import Transmon 이거는 **deprecated**\n",
    "QuantumElements.save 도 **deprecated**"
   ]
  },
  {
   "cell_type": "code",
   "execution_count": 5,
   "id": "76350685",
   "metadata": {},
   "outputs": [
    {
     "ename": "NameError",
     "evalue": "name 'qubits' is not defined",
     "output_type": "error",
     "traceback": [
      "\u001b[31m---------------------------------------------------------------------------\u001b[39m",
      "\u001b[31mNameError\u001b[39m                                 Traceback (most recent call last)",
      "\u001b[36mCell\u001b[39m\u001b[36m \u001b[39m\u001b[32mIn[5]\u001b[39m\u001b[32m, line 1\u001b[39m\n\u001b[32m----> \u001b[39m\u001b[32m1\u001b[39m \u001b[38;5;28;01mfor\u001b[39;00m _, qubit \u001b[38;5;129;01min\u001b[39;00m \u001b[38;5;28menumerate\u001b[39m(\u001b[43mqubits\u001b[49m):\n\u001b[32m      2\u001b[39m \n\u001b[32m      3\u001b[39m \n\u001b[32m      4\u001b[39m     \u001b[38;5;66;03m##################LOCAL OSCILLATOR FREQUENCY AND CHANNEL POWER ###################################\u001b[39;00m\n\u001b[32m      5\u001b[39m     qubit.parameters.drive_lo_frequency = \u001b[32m4.8e9\u001b[39m\n\u001b[32m      6\u001b[39m     qubit.parameters.readout_lo_frequency = \u001b[32m7.0e9\u001b[39m\n",
      "\u001b[31mNameError\u001b[39m: name 'qubits' is not defined"
     ]
    }
   ],
   "source": [
    "for _, qubit in enumerate(qubits):\n",
    "    \n",
    "    \n",
    "    ##################LOCAL OSCILLATOR FREQUENCY AND CHANNEL POWER ###################################\n",
    "    qubit.parameters.drive_lo_frequency = 4.8e9\n",
    "    qubit.parameters.readout_lo_frequency = 7.0e9\n",
    "    qubit.parameters.readout_range_in =  0\n",
    "    qubit.parameters.readout_range_out = -25\n",
    "    qubit.parameters.drive_range = 0 \n",
    "    \n",
    "    \n",
    "    \n",
    "    ############READOUT PARAMETERS###################################################################\n",
    "    qubit.parameters.readout_length - 2.0e-6\n",
    "    qubit.parameters.readout_pulse['function'] = 'GaussianSquare'\n",
    "    qubit.parameters.readout_pulse['sigma'] = 0.1\n",
    "    qubit.parameters.readout_pulse['width'] = None\n",
    "    qubit.parameters.readout_pulse['risefall_sigma_ratio'] = 3.0\n",
    "    qubit.parameters.readout_amplitude = 1.0  #WARNING! 이거 SWEEP 할때 오버라이딩이 안되고 여기서 SCALING 됨\n",
    "    \n",
    "    \n",
    "    ###########SPECTROSCOPY PARAMETERS###############################################################\n",
    "    # Pulsed qubit spectroscopy drive ,  \n",
    "    qubit.parameters.spectroscopy_pulse['function'] = 'GaussianSquare'\n",
    "    qubit.parameters.spectroscopy_length = 5.0e-6\n",
    "    qubit.parameters.spectroscopy_pulse['sigma'] = 0.2\n",
    "    qubit.parameters.spectroscopy_pulse['width'] = None\n",
    "    qubit.parameters.spectroscopy_pulse['risefall_sigma_ratio'] = 3.0\n",
    "    qubit.parameters.spectroscopy_amplitude=0.01 \n",
    "    \n",
    "    \n",
    "    ###########TRANSITION PARAMETERS#####################################\n",
    "    qubit.parameters.ge_drive_amplitude_pi = 1.0\n",
    "    qubit.parameters.ge_drive_amplitude_pi2 = 0.5\n",
    "    qubit.parameters.ef_drive_amplitude_pi = 1.0\n",
    "    qubit.parameters.ef_drive_amplitude_pi2 = 0.5 # Initialization just to avoid potential scaling problem\n",
    "    \n",
    "\n",
    "qubits[3].parameters.readout_amplitude = 0.5\n",
    "qubits[4].parameters.readout_amplitude = 0.5\n",
    "qubits[2].parameters.readout_amplitude = 0.5\n"
   ]
  },
  {
   "cell_type": "code",
   "execution_count": null,
   "id": "3d0d08a3",
   "metadata": {},
   "outputs": [],
   "source": [
    "# from laboneq.simple import *\n",
    "# measure_line, ro_params =  qubits[3].readout_parameters()\n",
    "# print(measure_line)\n",
    "# print(ro_params)\n",
    "# ro_pulse = dsl.create_pulse(ro_params[\"pulse\"])"
   ]
  },
  {
   "attachments": {
    "image.png": {
     "image/png": "[encoded data removed]"
    }
   },
   "cell_type": "markdown",
   "id": "5fe2b4cd",
   "metadata": {},
   "source": [
    "(`Calibratable` , `CalibrationItem`)  \n",
    "\n",
    "\n",
    "\n",
    "#### Baseline cal : Calibrate from `DeviceSetup`\n",
    "\n",
    "(`LogicalSignal`, `SignalCalibration`)  \n",
    "\n",
    "\n",
    "#### Calibrate from `Experiment`\n",
    "\n",
    "(`ExperimentSignal`, `SignalCalibration`)\n",
    "Overriding is possible  \n",
    "\n",
    "![image.png](attachment:image.png)\n"
   ]
  },
  {
   "cell_type": "code",
   "execution_count": null,
   "id": "d8598da8",
   "metadata": {},
   "outputs": [],
   "source": [
    "#setup"
   ]
  },
  {
   "cell_type": "code",
   "execution_count": null,
   "id": "c1e4046b",
   "metadata": {},
   "outputs": [],
   "source": [
    "#quantum_platform.qpu.quantum_elements[0]"
   ]
  },
  {
   "cell_type": "code",
   "execution_count": null,
   "id": "1f97acc7",
   "metadata": {},
   "outputs": [],
   "source": [
    " # Hooray I just imported ramsey workflow! \n",
    "#ramsey.experiment_workflow.src \n",
    "\n",
    "from laboneq.simple import Session\n",
    "session = Session(setup)\n",
    "session.connect()"
   ]
  },
  {
   "attachments": {
    "image.png": {
     "image/png": "[encoded data removed]"
    }
   },
   "cell_type": "markdown",
   "id": "45fe2341",
   "metadata": {},
   "source": [
    "\n",
    "`Workflow` object is a collection of connected `Tasks` or other `Workflows` whoes inputs and outputs depend on each other.  \n",
    "The parent `Workflow` automatically distributes **options**(`WorkflowOptions`) to all its `Tasks`\n",
    "\n",
    "![image.png](attachment:image.png)"
   ]
  },
  {
   "cell_type": "markdown",
   "id": "a6825dac",
   "metadata": {},
   "source": [
    "# 1 spectroscopy"
   ]
  },
  {
   "cell_type": "markdown",
   "id": "bd9b16e4",
   "metadata": {},
   "source": [
    "## 1.2 Resonator Spectroscopy Amplitude"
   ]
  },
  {
   "cell_type": "code",
   "execution_count": null,
   "id": "b03e566e",
   "metadata": {},
   "outputs": [],
   "source": [
    "from laboneq_applications.experiments import resonator_spectroscopy_amplitude \n",
    "from laboneq_applications.experiments.options import ResonatorSpectroscopyExperimentOptions\n",
    "options = resonator_spectroscopy_amplitude.experiment_workflow.options()\n",
    "options.update(False)  # updates the qubit parameter \"readout_resonator_frequency\"\n",
    "options.use_cw(False)\n",
    "# The resonator spectroscopy can only be done on one qubit at a time\n",
    "qubit_to_measure = qubits[2]\n",
    "q= qubit_to_measure\n",
    "temporary_parameters = {}\n",
    "\n",
    "temp_pars = deepcopy(q.parameters)\n",
    "temp_pars.readout_amplitude = 1.0\n",
    "temporary_parameters[q.uid] = temp_pars\n",
    "\n",
    "print(q.readout_parameters())\n",
    "print(q.parameters.readout_range_out)\n",
    "frequencies = q.parameters.readout_resonator_frequency + np.linspace(-2e6, 2e6, 51)\n",
    "amplitudes = np.linspace(0.0,1.0,101)\n",
    "\n",
    "exp_workflow = resonator_spectroscopy_amplitude.experiment_workflow(\n",
    "    session=session,\n",
    "    qpu=qpu,\n",
    "    qubit=qubit_to_measure,\n",
    "    frequencies=frequencies,\n",
    "    amplitudes=amplitudes,\n",
    "    options=options,\n",
    "    temporary_parameters=temporary_parameters\n",
    ")\n",
    "workflow_result = exp_workflow.run()"
   ]
  },
  {
   "cell_type": "markdown",
   "id": "08e2b228",
   "metadata": {},
   "source": [
    "## 1.1 Resonator Spectroscopy\n",
    "\n",
    "- Qubit/Resonator Spectroscopy Workflow uses `AcquisitionType.SPECTROSCOPY`   \n",
    "Note that actual frequency of a hardware oscillator is being sweeped  \n",
    "- CW spectroscopy / Pulsed spectroscopy can be specified from options"
   ]
  },
  {
   "cell_type": "code",
   "execution_count": null,
   "id": "b4bb3a81",
   "metadata": {},
   "outputs": [],
   "source": [
    "qubits[3].readout_parameters()"
   ]
  },
  {
   "cell_type": "code",
   "execution_count": null,
   "id": "63cd0803",
   "metadata": {},
   "outputs": [],
   "source": [
    "from laboneq_applications.experiments import resonator_spectroscopy\n",
    "#from laboneq_applications.experiments.options import ResonatorSpectroscopyExperimentOptions\n",
    "\n",
    "\n",
    "qubits[3].readout_parameters()\n",
    "qubits[3].parameters.readout_range_out"
   ]
  },
  {
   "cell_type": "code",
   "execution_count": null,
   "id": "0c97043d",
   "metadata": {},
   "outputs": [],
   "source": [
    "from laboneq_applications.experiments import resonator_spectroscopy\n",
    "options = resonator_spectroscopy.experiment_workflow.options()\n",
    "options.update(True)  # updates the qubit parameter \"readout_resonator_frequency\"\n",
    "options.count(4096)\n",
    "options.use_cw(False)\n",
    "\n",
    "# The resonator spectroscopy can only be done on one qubit at a time\n",
    "qubit_to_measure = qubits[2]\n",
    "q= qubit_to_measure\n",
    "temporary_parameters = {}\n",
    "\n",
    "temp_pars = deepcopy(q.parameters)\n",
    "temporary_parameters[q.uid] = temp_pars\n",
    "print(q.readout_parameters())\n",
    "frequencies = q.parameters.readout_resonator_frequency + np.linspace(-10e6, 10e6, 501) #qubit_to_measure.parameters.readout_resonator_frequency \n",
    "exp_workflow = resonator_spectroscopy.experiment_workflow(\n",
    "    session=session,\n",
    "    qpu=qpu,\n",
    "    qubit=qubit_to_measure,\n",
    "    frequencies=frequencies,\n",
    "    temporary_parameters=temporary_parameters,\n",
    "    options=options\n",
    ")\n",
    "workflow_result = exp_workflow.run()"
   ]
  },
  {
   "cell_type": "code",
   "execution_count": null,
   "id": "e82ae014",
   "metadata": {},
   "outputs": [],
   "source": [
    "workflow_result.output"
   ]
  },
  {
   "cell_type": "markdown",
   "id": "9d1c3f1b",
   "metadata": {},
   "source": [
    "## 1.4 Qubit Spectroscopy Amplitude\n",
    "\n",
    "Uses spectroscopy pulses as a drive"
   ]
  },
  {
   "cell_type": "code",
   "execution_count": null,
   "id": "bcb711d4",
   "metadata": {},
   "outputs": [],
   "source": [
    "qubits[3]"
   ]
  },
  {
   "cell_type": "code",
   "execution_count": null,
   "id": "c22d0531",
   "metadata": {},
   "outputs": [],
   "source": [
    "from laboneq_applications.experiments import qubit_spectroscopy_amplitude \n",
    "options = qubit_spectroscopy_amplitude.experiment_workflow.options()\n",
    "options.count(4096)\n",
    "options.update(False)  # updates the qubit parameter \"resonance_frequency_ge\"\n",
    "options.use_cw = False\n",
    "\n",
    " \n",
    "qubits_to_measure = [qubits[2]] #multiple qubits ->  parallel\n",
    "\n",
    "temporary_parameters = {}\n",
    "for q in qubits_to_measure:\n",
    "    temp_pars = deepcopy(q.parameters)\n",
    "    temporary_parameters[q.uid] = temp_pars\n",
    "    print(q.parameters.resonance_frequency_ge)\n",
    "frequencies = [\n",
    "    q.parameters.resonance_frequency_ge + np.linspace(-2e6, 2e6, 51) \n",
    "    for q in qubits_to_measure\n",
    "] #\n",
    "\n",
    "amplitudes = [\n",
    "np.linspace(0,0.5,51)\n",
    "] #\n",
    "exp_workflow = qubit_spectroscopy_amplitude.experiment_workflow(\n",
    "    session=session,\n",
    "    qpu=qpu,\n",
    "    qubits=qubits_to_measure,\n",
    "    temporary_parameters=temporary_parameters,\n",
    "    frequencies=frequencies,\n",
    "    amplitudes=amplitudes,\n",
    "    options=options\n",
    ")\n",
    "workflow_result = exp_workflow.run()"
   ]
  },
  {
   "cell_type": "markdown",
   "id": "6db4466c",
   "metadata": {},
   "source": [
    "## 1.3 Qubit Spectroscopy\n",
    "\n",
    ".spectroscopy_drive"
   ]
  },
  {
   "cell_type": "code",
   "execution_count": null,
   "id": "1059036e",
   "metadata": {},
   "outputs": [],
   "source": [
    "qubits[2].parameters.drive_range = 0"
   ]
  },
  {
   "cell_type": "code",
   "execution_count": null,
   "id": "45576a0c",
   "metadata": {},
   "outputs": [],
   "source": [
    "qubits[2].parameters.spectroscopy_amplitude =0.01"
   ]
  },
  {
   "cell_type": "code",
   "execution_count": null,
   "id": "7e531e9f",
   "metadata": {},
   "outputs": [],
   "source": [
    "from laboneq_applications.experiments import qubit_spectroscopy \n",
    "import numpy as np\n",
    "from copy import deepcopy\n",
    "options = qubit_spectroscopy.experiment_workflow.options()\n",
    "options.count(4096)\n",
    "options.update(True)  # updates the qubit parameter \"resonance_frequency_ge\"\n",
    "\n",
    "\n",
    "qubits_to_measure = [qubits[4]]\n",
    "\n",
    "temporary_parameters = {}\n",
    "for q in qubits_to_measure:\n",
    "    temp_pars = deepcopy(q.parameters)\n",
    "    temporary_parameters[q.uid] = temp_pars\n",
    "    print(q.parameters.resonance_frequency_ge)\n",
    "    print(q.spectroscopy_parameters())\n",
    "frequencies = [\n",
    "    q.parameters.resonance_frequency_ge + np.linspace(-20e6, 20e6, 501)  # q.parameters.resonance_frequency_ge\n",
    "    for q in qubits_to_measure\n",
    "] #\n",
    "exp_workflow = qubit_spectroscopy.experiment_workflow(\n",
    "    session=session,\n",
    "    qpu=qpu,\n",
    "    qubits=qubits_to_measure[0],\n",
    "    temporary_parameters=temporary_parameters,\n",
    "    frequencies=frequencies[0],\n",
    "    options=options\n",
    ")\n",
    "workflow_result = exp_workflow.run()"
   ]
  },
  {
   "cell_type": "code",
   "execution_count": null,
   "id": "3545c697",
   "metadata": {},
   "outputs": [],
   "source": [
    "workflow_result.tasks"
   ]
  },
  {
   "cell_type": "code",
   "execution_count": null,
   "id": "1a3f8da9",
   "metadata": {},
   "outputs": [],
   "source": [
    "#save_qubit_parameters(qubits={ qubit.uid : qubit for qubit in qubits}, save_folder=\"./qubit_parameters\", filename=\"1st\")"
   ]
  },
  {
   "cell_type": "markdown",
   "id": "d531fe37",
   "metadata": {},
   "source": [
    "# 2. Rabi Amplitude\n",
    "\n",
    "Uses predefined x180 from quantum operations\n",
    "\n",
    "\n",
    "options acqusition type innitially "
   ]
  },
  {
   "cell_type": "code",
   "execution_count": null,
   "id": "0ccd0fc2",
   "metadata": {},
   "outputs": [],
   "source": [
    "qubits[2].transition_parameters()"
   ]
  },
  {
   "cell_type": "code",
   "execution_count": null,
   "id": "a275099a",
   "metadata": {},
   "outputs": [],
   "source": [
    "from laboneq_applications.experiments import amplitude_rabi\n",
    "from laboneq.simple import AcquisitionType\n",
    "\n",
    "options = amplitude_rabi.experiment_workflow.options()\n",
    "options.update(True)\n",
    "options.active_reset(False)\n",
    "options.acquisition_type(AcquisitionType.INTEGRATION) \n",
    "#options.count\n",
    "\n",
    "transition_to_calibrate = \"ge\"\n",
    "options.transition(transition_to_calibrate)\n",
    "options.cal_states(transition_to_calibrate)\n",
    "\n",
    "qubits_to_measure = [qubits[2]]\n",
    "\n",
    "exp_workflow = amplitude_rabi.experiment_workflow(\n",
    "    session=session,\n",
    "    qpu=qpu,\n",
    "    qubits=qubits_to_measure,\n",
    "    amplitudes=[np.linspace(0, 1.0, 21) for q in qubits_to_measure],\n",
    "    options=options\n",
    ")\n",
    "workflow_result = exp_workflow.run()\n"
   ]
  },
  {
   "cell_type": "markdown",
   "id": "ef9e73df",
   "metadata": {},
   "source": [
    "# 3. Ramsey"
   ]
  },
  {
   "cell_type": "code",
   "execution_count": null,
   "id": "2ed83f9f",
   "metadata": {},
   "outputs": [],
   "source": [
    "from laboneq_applications.experiments import ramsey,\n",
    "options = ramsey.experiment_workflow.options()\n",
    "# updates the qubit parameters \"resonance_frequency_ge\" and ge_T2_star\n",
    "options.update(True)\n",
    "\n",
    "transition_to_calibrate = \"ge\"\n",
    "options.transition(transition_to_calibrate)\n",
    "options.cal_states(transition_to_calibrate)\n",
    "\n",
    "# Note: if neighbouring qubits are physically coupled by a resonator,\n",
    "# you usually don't want to run Ramsey in parallel on them because\n",
    "# your result will be skewed by strong residual-ZZ coupling.\n",
    "# Next-nearest neighbours is typically okay.\n",
    "qubits_to_measure = [qubits[2]]\n",
    "\n",
    "delays = [\n",
    "    np.linspace(0, 1e-6, 101)\n",
    "    if transition_to_calibrate == \"ef\"\n",
    "    else np.linspace(0, 20e-6, 101)\n",
    "    for q in qubits_to_measure\n",
    "]\n",
    "detunings = [\n",
    "    11.76e6 if transition_to_calibrate == \"ef\"\n",
    "    else 0.2e6 for q in qubits_to_measure]\n",
    "\n",
    "exp_workflow = ramsey.experiment_workflow(\n",
    "    session=session,\n",
    "    qpu=qpu,\n",
    "    qubits=qubits_to_measure,\n",
    "    delays=delays,\n",
    "    detunings=detunings,\n",
    "    options=options\n",
    ")\n",
    "\n",
    "workflow_result = exp_workflow.run()"
   ]
  },
  {
   "cell_type": "markdown",
   "id": "9c4eee19",
   "metadata": {},
   "source": [
    "# 4. DRAG CAL\n",
    "여기까지하고ㅓ"
   ]
  },
  {
   "cell_type": "code",
   "execution_count": 1,
   "id": "d77e3e3a",
   "metadata": {},
   "outputs": [
    {
     "ename": "NameError",
     "evalue": "name 'session' is not defined",
     "output_type": "error",
     "traceback": [
      "\u001b[31m---------------------------------------------------------------------------\u001b[39m",
      "\u001b[31mNameError\u001b[39m                                 Traceback (most recent call last)",
      "\u001b[36mCell\u001b[39m\u001b[36m \u001b[39m\u001b[32mIn[1]\u001b[39m\u001b[32m, line 7\u001b[39m\n\u001b[32m      2\u001b[39m options = drag_q_scaling.experiment_workflow.options()\n\u001b[32m      3\u001b[39m options.update(\u001b[38;5;28;01mTrue\u001b[39;00m)\n\u001b[32m      6\u001b[39m drag = drag_q_scaling.experiment_workflow(\n\u001b[32m----> \u001b[39m\u001b[32m7\u001b[39m     session=\u001b[43msession\u001b[49m,\n\u001b[32m      8\u001b[39m     qpu=qpu,\n\u001b[32m      9\u001b[39m     qubits=[qubits[\u001b[32m2\u001b[39m]],\n\u001b[32m     10\u001b[39m     q_scalings=[np.linspace(-\u001b[32m0.01\u001b[39m,\u001b[32m0.02\u001b[39m,\u001b[32m51\u001b[39m)],\n\u001b[32m     11\u001b[39m     options=options\n\u001b[32m     12\u001b[39m )\n\u001b[32m     14\u001b[39m drag_result = drag.run()\n",
      "\u001b[31mNameError\u001b[39m: name 'session' is not defined"
     ]
    }
   ],
   "source": [
    "from laboneq_applications.experiments import drag_q_scaling\n",
    "options = drag_q_scaling.experiment_workflow.options()\n",
    "options.update(True)\n",
    "\n",
    "\n",
    "drag = drag_q_scaling.experiment_workflow(\n",
    "    session=session,\n",
    "    qpu=qpu,\n",
    "    qubits=[qubits[2]],\n",
    "    q_scalings=[np.linspace(-0.01,0.02,51)],\n",
    "    options=options\n",
    ")\n",
    "\n",
    "drag_result = drag.run()"
   ]
  },
  {
   "cell_type": "code",
   "execution_count": null,
   "id": "f1651e96",
   "metadata": {},
   "outputs": [],
   "source": [
    "drag.graph.tree"
   ]
  },
  {
   "cell_type": "code",
   "execution_count": null,
   "id": "fa476085",
   "metadata": {},
   "outputs": [],
   "source": [
    "qubits[2].parameters.ge_drive_pulse"
   ]
  },
  {
   "cell_type": "code",
   "execution_count": null,
   "id": "ed75ff3d",
   "metadata": {},
   "outputs": [],
   "source": [
    "from laboneq_applications.tasks.parameter_updating import update_qubits\n",
    "#Manually Updating the Qubit Parameters\n",
    "update_qubits(qpu=qpu, qubit_parameters=drag_result.tasks[\"analysis_workflow\"].output['new_parameter_values'])"
   ]
  },
  {
   "cell_type": "code",
   "execution_count": null,
   "id": "112966c9",
   "metadata": {},
   "outputs": [],
   "source": []
  },
  {
   "cell_type": "markdown",
   "id": "7e726467",
   "metadata": {},
   "source": [
    "# Error Amplification"
   ]
  },
  {
   "cell_type": "code",
   "execution_count": null,
   "id": "60e39018",
   "metadata": {},
   "outputs": [],
   "source": [
    "session"
   ]
  },
  {
   "cell_type": "code",
   "execution_count": null,
   "id": "478ceb01",
   "metadata": {},
   "outputs": [],
   "source": [
    "from laboneq_applications.experiments import amplitude_fine\n",
    "\n",
    "options = amplitude_fine.experiment_workflow_x180.options()\n",
    "options.update(False)\n",
    "options.acquisition_type()\n",
    "\n",
    "error_amp = amplitude_fine.experiment_workflow_x180(\n",
    "    session=session,\n",
    "    qpu=qpu,\n",
    "    qubits=[qubits[2]],\n",
    "    repetitions=[[1,2,3,4]],\n",
    "    options=options\n",
    ")\n",
    "\n",
    "error_amp_result = error_amp.run()\n"
   ]
  },
  {
   "cell_type": "markdown",
   "id": "ce2db747",
   "metadata": {},
   "source": [
    "# IQ Blobs\n",
    "TuneupExperimentOption 상속"
   ]
  },
  {
   "cell_type": "code",
   "execution_count": null,
   "id": "d464bc36",
   "metadata": {},
   "outputs": [],
   "source": [
    "from laboneq_applications.experiments import iq_blobs\n",
    "options = iq_blobs.experiment_workflow.options()\n",
    "#options.update(False)\n",
    "options.transition = \"ge\"\n",
    "options.count(4096)\n",
    "#options.use_cal_traces = True\n",
    "\n",
    "\n",
    "qubits_to_measure = [qubits[2]]\n",
    "\n",
    "\n",
    "exp_workflow = iq_blobs.experiment_workflow(\n",
    "    session=session,\n",
    "    qpu=qpu,\n",
    "    qubits=qubits_to_measure,\n",
    "    states =\"ge\",\n",
    "    options=options,\n",
    ")\n",
    "\n",
    "workflow_result = exp_workflow.run()"
   ]
  },
  {
   "cell_type": "code",
   "execution_count": null,
   "id": "0f5ce846",
   "metadata": {},
   "outputs": [],
   "source": [
    "qubits[2].parameters.readout_resonator_frequency"
   ]
  },
  {
   "cell_type": "code",
   "execution_count": null,
   "id": "9a78b89f",
   "metadata": {},
   "outputs": [],
   "source": [
    "from laboneq_applications.experiments import dispersive_shift\n",
    "\n",
    "options = dispersive_shift.experiment_workflow.options()\n",
    "options.update(False)\n",
    "\n",
    "#options.use_cal_traces = True\n",
    "\n",
    "q = qubits[2]\n",
    "\n",
    "\n",
    "dispersive = dispersive_shift.experiment_workflow(\n",
    "    session=session,\n",
    "    qpu=qpu,\n",
    "    qubit=q,\n",
    "    frequencies= q.parameters.readout_resonator_frequency +np.linspace(-5e6, +5e6, 101), \n",
    "    states =\"ge\",\n",
    "    options=options,\n",
    ")\n",
    "\n",
    "dispersive_result = dispersive.run()"
   ]
  },
  {
   "cell_type": "markdown",
   "id": "83804348",
   "metadata": {},
   "source": [
    "# 5. T1"
   ]
  },
  {
   "cell_type": "markdown",
   "id": "5d59c954",
   "metadata": {},
   "source": [
    "# 6. Echo"
   ]
  },
  {
   "cell_type": "code",
   "execution_count": null,
   "id": "3233fb0a",
   "metadata": {},
   "outputs": [],
   "source": [
    "from laboneq_applications.experiments import time_traces"
   ]
  }
 ],
 "metadata": {
  "kernelspec": {
   "display_name": "applications",
   "language": "python",
   "name": "python3"
  },
  "language_info": {
   "codemirror_mode": {
    "name": "ipython",
    "version": 3
   },
   "file_extension": ".py",
   "mimetype": "text/x-python",
   "name": "python",
   "nbconvert_exporter": "python",
   "pygments_lexer": "ipython3",
   "version": "3.12.5"
  }
 },
 "nbformat": 4,
 "nbformat_minor": 5
}
